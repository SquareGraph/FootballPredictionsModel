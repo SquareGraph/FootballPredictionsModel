{
  "nbformat": 4,
  "nbformat_minor": 0,
  "metadata": {
    "colab": {
      "provenance": [],
      "collapsed_sections": [],
      "authorship_tag": "ABX9TyMxC/a7KSxWWoCPVys/p7q7",
      "include_colab_link": true
    },
    "kernelspec": {
      "name": "python3",
      "display_name": "Python 3"
    },
    "language_info": {
      "name": "python"
    }
  },
  "cells": [
    {
      "cell_type": "markdown",
      "metadata": {
        "id": "view-in-github",
        "colab_type": "text"
      },
      "source": [
        "<a href=\"https://colab.research.google.com/github/SquareGraph/FootballPredictionsModel/blob/main/BaselineModels_Football_Predictions_55_60_version_to_publish.ipynb\" target=\"_parent\"><img src=\"https://colab.research.google.com/assets/colab-badge.svg\" alt=\"Open In Colab\"/></a>"
      ]
    },
    {
      "cell_type": "markdown",
      "source": [
        "# This is the model comparsion notebook. \n",
        "We will cover a bunch of models with a baseline data from a English Premier League, to distingiush potential and next steps.\n",
        "\n",
        "The main reasoning behind this research is to create the algobetting robot. Whilst mode odds on home wins and distribution are around 1,16(distribution: ~43%), away wins 1,78(dist: ~34%) and draws 3,38(dist: ~23%), it means that:\n",
        "(1,16*0,43+1,78*0,34+3,38*0,23) * accuracy of prediction should set a baseline for a ROI of this robot.\n",
        "\n",
        "And math is very clear here: "
      ],
      "metadata": {
        "id": "zDKCLpfq4vw2"
      }
    },
    {
      "cell_type": "code",
      "source": [
        "sum_of_odds = 1.16*0.43+1.78*0.34+3.38*0.23\n",
        "print(f\"The sum of odds in one season, if we type everything correct is: {round(sum_of_odds, 3)}\")\n",
        "print(f\"So to have non negative ROI (not counting any commisions on money transfer), our algorithms accuracy must be accurate {round(1/sum_of_odds*100, 4)}% times.\")\n",
        "\n",
        "## data based on EPL season of 2021"
      ],
      "metadata": {
        "colab": {
          "base_uri": "https://localhost:8080/"
        },
        "id": "kPyuK3BT9oFy",
        "outputId": "35c9ff87-afbd-47c6-de68-068d401b0353"
      },
      "execution_count": 37,
      "outputs": [
        {
          "output_type": "stream",
          "name": "stdout",
          "text": [
            "The sum of odds in one season, if we type everything correct is: 1.881\n",
            "So to have non negative ROI (not counting any commisions on money transfer), our algorithms accuracy must be accurate 53.1519% times.\n"
          ]
        }
      ]
    },
    {
      "cell_type": "markdown",
      "source": [
        "## So we'll be covering following algorithms:\n",
        "\n",
        "1. SKlearn RandomForestClassifier (no need of explanation)\n",
        "2. XGBoost Classifier (no need of explanation)\n",
        "3. PyTorch TabNet implementationby Dreamquark-ai:\n",
        "  <br>  a) https://github.com/dreamquark-ai/tabnet - official docs of PyTorch implementation of the original algorithm\n",
        "  <br>  b) https://arxiv.org/abs/1908.07442 - official research papers of TabNet\n",
        "<br> c) https://www.geeksforgeeks.org/tabnet/ - a quick guide over the TabNet\n",
        "\n",
        "4. DeepInisght with DeppInsight like architecture:\n",
        "  <br>  a) DeepInsight paper: https://www.nature.com/articles/s41598-019-47765-6 - a methodology of converting tabular data to Images, article in Nature with some data\n",
        " <br>   b) https://github.com/nicomignoni/tab2img - a documentation of the implemenation of DeepInsight in a python library \n",
        "<br>    c) Disclaimer: this is a baseline approach, so I decided just to implement the one leg of proposed net. "
      ],
      "metadata": {
        "id": "0Zko6mWV2NEz"
      }
    },
    {
      "cell_type": "code",
      "execution_count": 38,
      "metadata": {
        "colab": {
          "base_uri": "https://localhost:8080/"
        },
        "id": "1OZY18-Dxf-n",
        "outputId": "2042221f-51ce-4ecf-cfbd-ec42eec60531"
      },
      "outputs": [
        {
          "output_type": "stream",
          "name": "stdout",
          "text": [
            "Drive already mounted at /content/drive; to attempt to forcibly remount, call drive.mount(\"/content/drive\", force_remount=True).\n"
          ]
        }
      ],
      "source": [
        "# Let's start from importing and mounting drive, cause we'll be working on a dataset prepared before in a following notebook:\n",
        "# Notebook for Data Gathering https://github.com/SquareGraph/FootballPredictionsModel/blob/main/DataGathering_from_Soccerdata.ipynb\n",
        "from IPython.utils.text import Path\n",
        "from google.colab import drive \n",
        "drive.mount('/content/drive')\n",
        "import os"
      ]
    },
    {
      "cell_type": "code",
      "source": [
        "# Paths declaration\n",
        "path = Path('/content/drive/MyDrive/Github/FootballPredictionsModel')\n",
        "data = 'data'"
      ],
      "metadata": {
        "id": "N3-66_OYxsmj"
      },
      "execution_count": 39,
      "outputs": []
    },
    {
      "cell_type": "code",
      "source": [
        "#Some standard imports\n",
        "import pandas as pd\n",
        "import numpy as np"
      ],
      "metadata": {
        "id": "xalMDBvdy8i9"
      },
      "execution_count": 40,
      "outputs": []
    },
    {
      "cell_type": "code",
      "source": [
        "main = pd.read_csv(path/data/\"with_fifa_raw.csv\") ; print(main.shape) # We have a lot of features here, 141!\n",
        "main.head()"
      ],
      "metadata": {
        "colab": {
          "base_uri": "https://localhost:8080/",
          "height": 253
        },
        "id": "fHkRL1dEzVOm",
        "outputId": "8d784f67-b694-4c13-f0e4-181e70f0191f"
      },
      "execution_count": 41,
      "outputs": [
        {
          "output_type": "stream",
          "name": "stdout",
          "text": [
            "(380, 141)\n"
          ]
        },
        {
          "output_type": "execute_result",
          "data": {
            "text/plain": [
              "   Unnamed: 0               date_x       home_team                away_team  \\\n",
              "0           0  2021-08-13 00:00:00       Brentford                  Arsenal   \n",
              "1           1  2021-08-14 00:00:00         Burnley   Brighton & Hove Albion   \n",
              "2           2  2021-08-14 00:00:00         Chelsea           Crystal Palace   \n",
              "3           3  2021-08-14 00:00:00         Everton              Southampton   \n",
              "4           4  2021-08-14 00:00:00  Leicester City  Wolverhampton Wanderers   \n",
              "\n",
              "    game_id    Goal_x  Off Target_x  Saved_x  Woodwork_x  <10_x  ...  \\\n",
              "0  3adf2aa7  1.500000           2.8     1.00         0.0    3.6  ...   \n",
              "1  4eb36e37  1.000000           2.6     2.00         0.0    2.2  ...   \n",
              "2  6f454493  1.400000           4.0     4.25         0.0    3.8  ...   \n",
              "3  c99ebbf5  1.666667           4.0     2.00         0.0    3.0  ...   \n",
              "4  0b346a62  1.000000           3.6     2.50         0.0    3.0  ...   \n",
              "\n",
              "         33        34        35        36        37        38        39  \\\n",
              "0 -2.757576  0.393939 -0.333333 -3.060606 -1.636364 -2.242424 -2.060606   \n",
              "1  1.060606  2.666667  0.212121  0.181818 -0.030303  0.333333  0.212121   \n",
              "2  5.939394  3.787879  4.636363  5.151515  0.000000  1.484849  1.454546   \n",
              "3  6.636363  3.484849  1.878788  1.636364  0.181818  0.848485  0.363636   \n",
              "4  3.939394  3.545454  4.060606  3.151515  4.393940  3.545454  4.121212   \n",
              "\n",
              "         40        41        42  \n",
              "0 -1.484849 -0.545455 -1.424242  \n",
              "1  0.484849 -0.454545  0.363636  \n",
              "2  0.151515 -0.636364 -1.666667  \n",
              "3  0.484849  0.424242  0.515151  \n",
              "4  3.454546  4.878788  2.636364  \n",
              "\n",
              "[5 rows x 141 columns]"
            ],
            "text/html": [
              "\n",
              "  <div id=\"df-55feb825-7c49-4b5a-9624-dbbb75b894d6\">\n",
              "    <div class=\"colab-df-container\">\n",
              "      <div>\n",
              "<style scoped>\n",
              "    .dataframe tbody tr th:only-of-type {\n",
              "        vertical-align: middle;\n",
              "    }\n",
              "\n",
              "    .dataframe tbody tr th {\n",
              "        vertical-align: top;\n",
              "    }\n",
              "\n",
              "    .dataframe thead th {\n",
              "        text-align: right;\n",
              "    }\n",
              "</style>\n",
              "<table border=\"1\" class=\"dataframe\">\n",
              "  <thead>\n",
              "    <tr style=\"text-align: right;\">\n",
              "      <th></th>\n",
              "      <th>Unnamed: 0</th>\n",
              "      <th>date_x</th>\n",
              "      <th>home_team</th>\n",
              "      <th>away_team</th>\n",
              "      <th>game_id</th>\n",
              "      <th>Goal_x</th>\n",
              "      <th>Off Target_x</th>\n",
              "      <th>Saved_x</th>\n",
              "      <th>Woodwork_x</th>\n",
              "      <th>&lt;10_x</th>\n",
              "      <th>...</th>\n",
              "      <th>33</th>\n",
              "      <th>34</th>\n",
              "      <th>35</th>\n",
              "      <th>36</th>\n",
              "      <th>37</th>\n",
              "      <th>38</th>\n",
              "      <th>39</th>\n",
              "      <th>40</th>\n",
              "      <th>41</th>\n",
              "      <th>42</th>\n",
              "    </tr>\n",
              "  </thead>\n",
              "  <tbody>\n",
              "    <tr>\n",
              "      <th>0</th>\n",
              "      <td>0</td>\n",
              "      <td>2021-08-13 00:00:00</td>\n",
              "      <td>Brentford</td>\n",
              "      <td>Arsenal</td>\n",
              "      <td>3adf2aa7</td>\n",
              "      <td>1.500000</td>\n",
              "      <td>2.8</td>\n",
              "      <td>1.00</td>\n",
              "      <td>0.0</td>\n",
              "      <td>3.6</td>\n",
              "      <td>...</td>\n",
              "      <td>-2.757576</td>\n",
              "      <td>0.393939</td>\n",
              "      <td>-0.333333</td>\n",
              "      <td>-3.060606</td>\n",
              "      <td>-1.636364</td>\n",
              "      <td>-2.242424</td>\n",
              "      <td>-2.060606</td>\n",
              "      <td>-1.484849</td>\n",
              "      <td>-0.545455</td>\n",
              "      <td>-1.424242</td>\n",
              "    </tr>\n",
              "    <tr>\n",
              "      <th>1</th>\n",
              "      <td>1</td>\n",
              "      <td>2021-08-14 00:00:00</td>\n",
              "      <td>Burnley</td>\n",
              "      <td>Brighton &amp; Hove Albion</td>\n",
              "      <td>4eb36e37</td>\n",
              "      <td>1.000000</td>\n",
              "      <td>2.6</td>\n",
              "      <td>2.00</td>\n",
              "      <td>0.0</td>\n",
              "      <td>2.2</td>\n",
              "      <td>...</td>\n",
              "      <td>1.060606</td>\n",
              "      <td>2.666667</td>\n",
              "      <td>0.212121</td>\n",
              "      <td>0.181818</td>\n",
              "      <td>-0.030303</td>\n",
              "      <td>0.333333</td>\n",
              "      <td>0.212121</td>\n",
              "      <td>0.484849</td>\n",
              "      <td>-0.454545</td>\n",
              "      <td>0.363636</td>\n",
              "    </tr>\n",
              "    <tr>\n",
              "      <th>2</th>\n",
              "      <td>2</td>\n",
              "      <td>2021-08-14 00:00:00</td>\n",
              "      <td>Chelsea</td>\n",
              "      <td>Crystal Palace</td>\n",
              "      <td>6f454493</td>\n",
              "      <td>1.400000</td>\n",
              "      <td>4.0</td>\n",
              "      <td>4.25</td>\n",
              "      <td>0.0</td>\n",
              "      <td>3.8</td>\n",
              "      <td>...</td>\n",
              "      <td>5.939394</td>\n",
              "      <td>3.787879</td>\n",
              "      <td>4.636363</td>\n",
              "      <td>5.151515</td>\n",
              "      <td>0.000000</td>\n",
              "      <td>1.484849</td>\n",
              "      <td>1.454546</td>\n",
              "      <td>0.151515</td>\n",
              "      <td>-0.636364</td>\n",
              "      <td>-1.666667</td>\n",
              "    </tr>\n",
              "    <tr>\n",
              "      <th>3</th>\n",
              "      <td>3</td>\n",
              "      <td>2021-08-14 00:00:00</td>\n",
              "      <td>Everton</td>\n",
              "      <td>Southampton</td>\n",
              "      <td>c99ebbf5</td>\n",
              "      <td>1.666667</td>\n",
              "      <td>4.0</td>\n",
              "      <td>2.00</td>\n",
              "      <td>0.0</td>\n",
              "      <td>3.0</td>\n",
              "      <td>...</td>\n",
              "      <td>6.636363</td>\n",
              "      <td>3.484849</td>\n",
              "      <td>1.878788</td>\n",
              "      <td>1.636364</td>\n",
              "      <td>0.181818</td>\n",
              "      <td>0.848485</td>\n",
              "      <td>0.363636</td>\n",
              "      <td>0.484849</td>\n",
              "      <td>0.424242</td>\n",
              "      <td>0.515151</td>\n",
              "    </tr>\n",
              "    <tr>\n",
              "      <th>4</th>\n",
              "      <td>4</td>\n",
              "      <td>2021-08-14 00:00:00</td>\n",
              "      <td>Leicester City</td>\n",
              "      <td>Wolverhampton Wanderers</td>\n",
              "      <td>0b346a62</td>\n",
              "      <td>1.000000</td>\n",
              "      <td>3.6</td>\n",
              "      <td>2.50</td>\n",
              "      <td>0.0</td>\n",
              "      <td>3.0</td>\n",
              "      <td>...</td>\n",
              "      <td>3.939394</td>\n",
              "      <td>3.545454</td>\n",
              "      <td>4.060606</td>\n",
              "      <td>3.151515</td>\n",
              "      <td>4.393940</td>\n",
              "      <td>3.545454</td>\n",
              "      <td>4.121212</td>\n",
              "      <td>3.454546</td>\n",
              "      <td>4.878788</td>\n",
              "      <td>2.636364</td>\n",
              "    </tr>\n",
              "  </tbody>\n",
              "</table>\n",
              "<p>5 rows × 141 columns</p>\n",
              "</div>\n",
              "      <button class=\"colab-df-convert\" onclick=\"convertToInteractive('df-55feb825-7c49-4b5a-9624-dbbb75b894d6')\"\n",
              "              title=\"Convert this dataframe to an interactive table.\"\n",
              "              style=\"display:none;\">\n",
              "        \n",
              "  <svg xmlns=\"http://www.w3.org/2000/svg\" height=\"24px\"viewBox=\"0 0 24 24\"\n",
              "       width=\"24px\">\n",
              "    <path d=\"M0 0h24v24H0V0z\" fill=\"none\"/>\n",
              "    <path d=\"M18.56 5.44l.94 2.06.94-2.06 2.06-.94-2.06-.94-.94-2.06-.94 2.06-2.06.94zm-11 1L8.5 8.5l.94-2.06 2.06-.94-2.06-.94L8.5 2.5l-.94 2.06-2.06.94zm10 10l.94 2.06.94-2.06 2.06-.94-2.06-.94-.94-2.06-.94 2.06-2.06.94z\"/><path d=\"M17.41 7.96l-1.37-1.37c-.4-.4-.92-.59-1.43-.59-.52 0-1.04.2-1.43.59L10.3 9.45l-7.72 7.72c-.78.78-.78 2.05 0 2.83L4 21.41c.39.39.9.59 1.41.59.51 0 1.02-.2 1.41-.59l7.78-7.78 2.81-2.81c.8-.78.8-2.07 0-2.86zM5.41 20L4 18.59l7.72-7.72 1.47 1.35L5.41 20z\"/>\n",
              "  </svg>\n",
              "      </button>\n",
              "      \n",
              "  <style>\n",
              "    .colab-df-container {\n",
              "      display:flex;\n",
              "      flex-wrap:wrap;\n",
              "      gap: 12px;\n",
              "    }\n",
              "\n",
              "    .colab-df-convert {\n",
              "      background-color: #E8F0FE;\n",
              "      border: none;\n",
              "      border-radius: 50%;\n",
              "      cursor: pointer;\n",
              "      display: none;\n",
              "      fill: #1967D2;\n",
              "      height: 32px;\n",
              "      padding: 0 0 0 0;\n",
              "      width: 32px;\n",
              "    }\n",
              "\n",
              "    .colab-df-convert:hover {\n",
              "      background-color: #E2EBFA;\n",
              "      box-shadow: 0px 1px 2px rgba(60, 64, 67, 0.3), 0px 1px 3px 1px rgba(60, 64, 67, 0.15);\n",
              "      fill: #174EA6;\n",
              "    }\n",
              "\n",
              "    [theme=dark] .colab-df-convert {\n",
              "      background-color: #3B4455;\n",
              "      fill: #D2E3FC;\n",
              "    }\n",
              "\n",
              "    [theme=dark] .colab-df-convert:hover {\n",
              "      background-color: #434B5C;\n",
              "      box-shadow: 0px 1px 3px 1px rgba(0, 0, 0, 0.15);\n",
              "      filter: drop-shadow(0px 1px 2px rgba(0, 0, 0, 0.3));\n",
              "      fill: #FFFFFF;\n",
              "    }\n",
              "  </style>\n",
              "\n",
              "      <script>\n",
              "        const buttonEl =\n",
              "          document.querySelector('#df-55feb825-7c49-4b5a-9624-dbbb75b894d6 button.colab-df-convert');\n",
              "        buttonEl.style.display =\n",
              "          google.colab.kernel.accessAllowed ? 'block' : 'none';\n",
              "\n",
              "        async function convertToInteractive(key) {\n",
              "          const element = document.querySelector('#df-55feb825-7c49-4b5a-9624-dbbb75b894d6');\n",
              "          const dataTable =\n",
              "            await google.colab.kernel.invokeFunction('convertToInteractive',\n",
              "                                                     [key], {});\n",
              "          if (!dataTable) return;\n",
              "\n",
              "          const docLinkHtml = 'Like what you see? Visit the ' +\n",
              "            '<a target=\"_blank\" href=https://colab.research.google.com/notebooks/data_table.ipynb>data table notebook</a>'\n",
              "            + ' to learn more about interactive tables.';\n",
              "          element.innerHTML = '';\n",
              "          dataTable['output_type'] = 'display_data';\n",
              "          await google.colab.output.renderOutput(dataTable, element);\n",
              "          const docLink = document.createElement('div');\n",
              "          docLink.innerHTML = docLinkHtml;\n",
              "          element.appendChild(docLink);\n",
              "        }\n",
              "      </script>\n",
              "    </div>\n",
              "  </div>\n",
              "  "
            ]
          },
          "metadata": {},
          "execution_count": 41
        }
      ]
    },
    {
      "cell_type": "code",
      "source": [
        "# list(main.columns)"
      ],
      "metadata": {
        "id": "H2g19SNWDJcs"
      },
      "execution_count": 42,
      "outputs": []
    },
    {
      "cell_type": "code",
      "source": [
        "main.dtypes[main.dtypes == \"object\"] # And here all non-numerical categories. "
      ],
      "metadata": {
        "colab": {
          "base_uri": "https://localhost:8080/"
        },
        "id": "FcljOL5ATiLc",
        "outputId": "5f058012-e4c0-4e8e-80e7-c58169b91ed3"
      },
      "execution_count": 43,
      "outputs": [
        {
          "output_type": "execute_result",
          "data": {
            "text/plain": [
              "date_x       object\n",
              "home_team    object\n",
              "away_team    object\n",
              "game_id      object\n",
              "date_y       object\n",
              "dtype: object"
            ]
          },
          "metadata": {},
          "execution_count": 43
        }
      ]
    },
    {
      "cell_type": "markdown",
      "source": [
        "# What to do with those features.\n",
        "A Quick explanation:\n",
        "\n",
        "1. Object data types:\n",
        "   <br>a) We want to drop date_x and date_y features (as it seems not relevant to the game performance, without an information about additional games from other competition, and potential fatigue). From domain knowledge, raw date of a game it's a rubbish data I strongly believe.\n",
        "    <br> b) Home_team and away_team - assign each team a number, and treat them like every other numerical data. There's some logic behind this reasoning. Explain further in the document.\n",
        "    <br> c) game_id - absolutely unnecessary.\n",
        "\n",
        "2.  Numerical data types to drop from the features:\n",
        "\n",
        "    a) FTR - those are our Y values. We want to drop them before assining to the X values.\n",
        "   <br> b) D_HT, home_point,draw_points,away_points - A lost remains of some computation did during that processing. Absolutely to drop.\n",
        "  <br>  c) Unnamed: 0 - index like, probably effect of merging without droping index params. Drop.\n",
        "\n",
        "3. Numerical data types - Legend\n",
        "   <br> a) Columns named from 0 to 42: it's a SoFifa mean params, substracted between home and away.\n",
        "  <br>  b) home_rank, away_rank - ELO Rank at the day of a game\n",
        "  <br> c) all duplicated columns - rolling average (5 games window) for each team performance\n",
        "\n",
        "\n",
        "\n",
        "\n"
      ],
      "metadata": {
        "id": "ZnvDhN32DSTu"
      }
    },
    {
      "cell_type": "markdown",
      "source": [
        "# Team name transofmration\n",
        "\n",
        "Probably the team name may also affect the game result. For example if you are playing against strong rival your mental approach may vary from challenging the weaker one. So let's translate team names into integer values from 1 to 20."
      ],
      "metadata": {
        "id": "vxXgMVyHdlWK"
      }
    },
    {
      "cell_type": "code",
      "source": [
        "team_integers = dict(zip(np.unique(main.home_team.to_numpy()),np.arange(1,21))) #dict from zip from unique team names labeled by the np arange.\n",
        "main.replace(team_integers, inplace=True) #replace all through dictionary method."
      ],
      "metadata": {
        "id": "ibtNhBF9eEct"
      },
      "execution_count": 44,
      "outputs": []
    },
    {
      "cell_type": "markdown",
      "source": [
        "# Prepare Raw, unnormalized data for initial baseline training.\n",
        "\n",
        "We want to start with a baseline models just from the raw data.\n",
        "But let's also check if time series character vary training or not. So we will build two different datasets. One that will be randomly splited, and the second one that takes first 80% of games for a training dataset and predict on the last 20%. Let's call them X_ts,y_ts for timeserieswise variation, and X_rand, y_rand for randomly splitted."
      ],
      "metadata": {
        "id": "quOjyOqmdZD7"
      }
    },
    {
      "cell_type": "code",
      "source": [
        "main_dropped = main.drop([\"date_x\",\"date_y\",\"game_id\",\"Unnamed: 0\",\"D_HT\",\"home_point\",\"draw_points\",\"away_points\"],axis=1) # we are dropping all columns mentioned above"
      ],
      "metadata": {
        "id": "KcDtBEu1zys1"
      },
      "execution_count": 45,
      "outputs": []
    },
    {
      "cell_type": "code",
      "source": [
        "y = main_dropped.FTR.to_numpy() #labels\n",
        "X = main_dropped.drop([\"FTR\"],axis=1).fillna(0).to_numpy() ## all nan comes from the effect of calculating rolling average (division by 0 at some point) or no records, so filling with 0 is not a bad idea."
      ],
      "metadata": {
        "id": "cl_r0j2-TtuD"
      },
      "execution_count": 46,
      "outputs": []
    },
    {
      "cell_type": "code",
      "source": [
        "X_downscale = main_dropped.drop([\"FTR\"],axis=1).apply(lambda x: x/x.max()).fillna(0).to_numpy()  # downscale to numbers ranging from 0 to 1 (in some cases to -1)"
      ],
      "metadata": {
        "id": "vwlopIE8yJz0"
      },
      "execution_count": 47,
      "outputs": []
    },
    {
      "cell_type": "code",
      "source": [
        "## We will use our own train test split, because want to keep chronological order as those are time series data.\n",
        "\n",
        "def train_test_split_ts(features, targets, train_size=0.8):\n",
        "\n",
        "    \"\"\"Returns two tuples of Train and test sests, in X,y order.\"\"\"\n",
        "\n",
        "    TRAIN_SIZE = int(features.shape[0]*train_size)\n",
        "    X_ts_train, y_ts_train = features[:TRAIN_SIZE], targets[:TRAIN_SIZE]\n",
        "    X_ts_test, y_ts_test = features[TRAIN_SIZE:], targets[TRAIN_SIZE:]\n",
        "\n",
        "\n",
        "\n",
        "    return (X_ts_train, y_ts_train), (X_ts_test, y_ts_test)"
      ],
      "metadata": {
        "id": "TVtby4-ST7jW"
      },
      "execution_count": 48,
      "outputs": []
    },
    {
      "cell_type": "code",
      "source": [
        "train_ts, test_ts = train_test_split_ts(X,y) # split into tuples"
      ],
      "metadata": {
        "id": "1l1Q5C-qUeBu"
      },
      "execution_count": 49,
      "outputs": []
    },
    {
      "cell_type": "code",
      "source": [
        "#unpack tuples for all other models\n",
        "X_train_ts, y_train_ts = train_ts \n",
        "X_test_ts, y_test_ts = test_ts"
      ],
      "metadata": {
        "id": "5SH-TL7RbjXp"
      },
      "execution_count": 50,
      "outputs": []
    },
    {
      "cell_type": "markdown",
      "source": [
        "# First model RandomForestClassifier from sklearn\n",
        "We starts with a RandomForest for our absolute baseline."
      ],
      "metadata": {
        "id": "hMAQ-3bEjZzv"
      }
    },
    {
      "cell_type": "code",
      "source": [
        "from sklearn.ensemble import RandomForestClassifier\n",
        "from sklearn.metrics import accuracy_score"
      ],
      "metadata": {
        "id": "-teZvf9NjhHc"
      },
      "execution_count": 51,
      "outputs": []
    },
    {
      "cell_type": "code",
      "source": [
        "rf = RandomForestClassifier(n_estimators=50, min_samples_split=10, random_state=1)"
      ],
      "metadata": {
        "id": "fVdmG5QajqGe"
      },
      "execution_count": 52,
      "outputs": []
    },
    {
      "cell_type": "code",
      "source": [
        "rf.fit(X_train_ts, y_train_ts) # train the baseline model"
      ],
      "metadata": {
        "colab": {
          "base_uri": "https://localhost:8080/"
        },
        "id": "bsLAWK01j271",
        "outputId": "7d27f19e-c797-4709-f2e2-155e0a656171"
      },
      "execution_count": 53,
      "outputs": [
        {
          "output_type": "execute_result",
          "data": {
            "text/plain": [
              "RandomForestClassifier(min_samples_split=10, n_estimators=50, random_state=1)"
            ]
          },
          "metadata": {},
          "execution_count": 53
        }
      ]
    },
    {
      "cell_type": "code",
      "source": [
        "rf_preds = np.argmax(rf.predict_proba(X_test_ts), axis=1) # make prediction and call the argmax to have an index of the highest probability"
      ],
      "metadata": {
        "id": "PwHHWFSspvO0"
      },
      "execution_count": 54,
      "outputs": []
    },
    {
      "cell_type": "code",
      "source": [
        "rf_acc = accuracy_score(y_test_ts, rf_preds) ; rf_acc#np.sum((preds == y_test_ts).astype(float))/preds.shape[0] ; accuracy # calculate the model accuracy."
      ],
      "metadata": {
        "colab": {
          "base_uri": "https://localhost:8080/"
        },
        "id": "LCtdNQRbp8Ic",
        "outputId": "bc59794f-bc5c-4a58-dec3-0a8f68cb1612"
      },
      "execution_count": 55,
      "outputs": [
        {
          "output_type": "execute_result",
          "data": {
            "text/plain": [
              "0.5394736842105263"
            ]
          },
          "metadata": {},
          "execution_count": 55
        }
      ]
    },
    {
      "cell_type": "code",
      "source": [
        "def check_odds(x):\n",
        "\n",
        "    \"\"\"helper function to collect Avg odds per our prediction. To apply on a DataFrame\"\"\"\n",
        "\n",
        "    if x.FTR == 0:\n",
        "        return x.AvgH\n",
        "    elif x.FTR == 1:\n",
        "        return x.AvgA\n",
        "    elif x.FTR == 2:\n",
        "        return x.AvgD"
      ],
      "metadata": {
        "id": "skHM2S_xsckh"
      },
      "execution_count": 56,
      "outputs": []
    },
    {
      "cell_type": "code",
      "source": [
        "## check the bookmakers odds score\n",
        "\n",
        "def check_score(main_df: pd.core.frame.DataFrame, predictions: np.array):\n",
        "    \n",
        "    \"\"\"A simple function that returns the DataFrame of correct results and a score\"\"\"\n",
        "\n",
        "    main_df[\"predictions\"] = 0\n",
        "    main_df.predictions[304:] = predictions\n",
        "\n",
        "    comparsion_of_predictions = main_df[[\"FTR\",\"predictions\",\"AvgH\",\"AvgA\",\"AvgD\"]][304:]\n",
        "    filter = comparsion_of_predictions.FTR == comparsion_of_predictions.predictions\n",
        "\n",
        "    filtered = comparsion_of_predictions[filter] \n",
        "    filtered[\"score_odds\"] = filtered.apply(lambda x: check_odds(x), axis=1)\n",
        "    score = filtered.sum(axis=0)[\"score_odds\"]\n",
        "\n",
        "    return filtered, score\n",
        "\n",
        "\n",
        "    \n"
      ],
      "metadata": {
        "id": "ApyJrwBQtM35"
      },
      "execution_count": 57,
      "outputs": []
    },
    {
      "cell_type": "code",
      "source": [
        "compare_rf, score_rf = check_score(main, rf_preds) ; score_rf"
      ],
      "metadata": {
        "colab": {
          "base_uri": "https://localhost:8080/"
        },
        "id": "2prYupCwxLHY",
        "outputId": "ff3afbb5-c876-415a-ae7b-f263076766d8"
      },
      "execution_count": 58,
      "outputs": [
        {
          "output_type": "stream",
          "name": "stderr",
          "text": [
            "/usr/local/lib/python3.7/dist-packages/ipykernel_launcher.py:8: SettingWithCopyWarning: \n",
            "A value is trying to be set on a copy of a slice from a DataFrame\n",
            "\n",
            "See the caveats in the documentation: https://pandas.pydata.org/pandas-docs/stable/user_guide/indexing.html#returning-a-view-versus-a-copy\n",
            "  \n",
            "/usr/local/lib/python3.7/dist-packages/ipykernel_launcher.py:14: SettingWithCopyWarning: \n",
            "A value is trying to be set on a copy of a slice from a DataFrame.\n",
            "Try using .loc[row_indexer,col_indexer] = value instead\n",
            "\n",
            "See the caveats in the documentation: https://pandas.pydata.org/pandas-docs/stable/user_guide/indexing.html#returning-a-view-versus-a-copy\n",
            "  \n"
          ]
        },
        {
          "output_type": "execute_result",
          "data": {
            "text/plain": [
              "73.39999999999999"
            ]
          },
          "metadata": {},
          "execution_count": 58
        }
      ]
    },
    {
      "cell_type": "code",
      "source": [
        "avg_odds_per_bet_rf = compare_rf.describe().loc[\"mean\"][\"score_odds\"] ; avg_odds_per_bet_rf"
      ],
      "metadata": {
        "colab": {
          "base_uri": "https://localhost:8080/"
        },
        "id": "itjoFKyP2pWO",
        "outputId": "5937185a-b2f6-49ff-c44b-20d7541e71b0"
      },
      "execution_count": 59,
      "outputs": [
        {
          "output_type": "execute_result",
          "data": {
            "text/plain": [
              "1.7902439024390242"
            ]
          },
          "metadata": {},
          "execution_count": 59
        }
      ]
    },
    {
      "cell_type": "markdown",
      "source": [
        "# RandomForestClassifier\n",
        "\n",
        "So our accuracy is over the target (nearly 54%) but it looks like investing 1 dollar per each game of the last 76 game wouldn't be the best idea in the world, cause our return was 73,4 dollars. But still better then random, as we have only 33% chances of good bet!"
      ],
      "metadata": {
        "id": "dWrVxUpuL9Uk"
      }
    },
    {
      "cell_type": "markdown",
      "source": [
        "# XGBoost - Baseline model 2"
      ],
      "metadata": {
        "id": "SdxWeFiB_bcH"
      }
    },
    {
      "cell_type": "code",
      "source": [
        "import xgboost as xgb"
      ],
      "metadata": {
        "id": "Fdv8BCK7xWGx"
      },
      "execution_count": 60,
      "outputs": []
    },
    {
      "cell_type": "code",
      "source": [
        "model_xgb_ = xgb.XGBClassifier(learning_rate=0.1,\n",
        "                              max_depth=5,\n",
        "                              n_estimators=100,\n",
        "                              subsample=0.5,\n",
        "                              colsample_bytree=0.5,\n",
        "                              eval_metric='mlogloss',\n",
        "                              verbosity=1) #Hyperparams\n",
        "\n",
        "\n",
        "\n",
        "model_xgb_.fit(X_train_ts, y_train_ts, early_stopping_rounds=100, eval_set=[(X_test_ts, y_test_ts)], verbose=True) #train the model"
      ],
      "metadata": {
        "colab": {
          "base_uri": "https://localhost:8080/"
        },
        "id": "CrCNyagmza8d",
        "outputId": "3df2d6d9-ef18-425e-977b-34384d20fe5c"
      },
      "execution_count": 61,
      "outputs": [
        {
          "output_type": "stream",
          "name": "stdout",
          "text": [
            "[0]\tvalidation_0-mlogloss:1.07159\n",
            "Will train until validation_0-mlogloss hasn't improved in 100 rounds.\n",
            "[1]\tvalidation_0-mlogloss:1.05318\n",
            "[2]\tvalidation_0-mlogloss:1.04096\n",
            "[3]\tvalidation_0-mlogloss:1.01734\n",
            "[4]\tvalidation_0-mlogloss:1.00851\n",
            "[5]\tvalidation_0-mlogloss:0.993597\n",
            "[6]\tvalidation_0-mlogloss:0.988864\n",
            "[7]\tvalidation_0-mlogloss:0.981035\n",
            "[8]\tvalidation_0-mlogloss:0.980294\n",
            "[9]\tvalidation_0-mlogloss:0.975226\n",
            "[10]\tvalidation_0-mlogloss:0.973907\n",
            "[11]\tvalidation_0-mlogloss:0.969354\n",
            "[12]\tvalidation_0-mlogloss:0.971531\n",
            "[13]\tvalidation_0-mlogloss:0.96034\n",
            "[14]\tvalidation_0-mlogloss:0.951886\n",
            "[15]\tvalidation_0-mlogloss:0.949096\n",
            "[16]\tvalidation_0-mlogloss:0.942552\n",
            "[17]\tvalidation_0-mlogloss:0.944439\n",
            "[18]\tvalidation_0-mlogloss:0.945999\n",
            "[19]\tvalidation_0-mlogloss:0.941998\n",
            "[20]\tvalidation_0-mlogloss:0.950489\n",
            "[21]\tvalidation_0-mlogloss:0.95129\n",
            "[22]\tvalidation_0-mlogloss:0.956154\n",
            "[23]\tvalidation_0-mlogloss:0.955074\n",
            "[24]\tvalidation_0-mlogloss:0.954337\n",
            "[25]\tvalidation_0-mlogloss:0.951503\n",
            "[26]\tvalidation_0-mlogloss:0.951399\n",
            "[27]\tvalidation_0-mlogloss:0.953565\n",
            "[28]\tvalidation_0-mlogloss:0.953836\n",
            "[29]\tvalidation_0-mlogloss:0.955758\n",
            "[30]\tvalidation_0-mlogloss:0.957268\n",
            "[31]\tvalidation_0-mlogloss:0.958729\n",
            "[32]\tvalidation_0-mlogloss:0.961163\n",
            "[33]\tvalidation_0-mlogloss:0.968318\n",
            "[34]\tvalidation_0-mlogloss:0.967337\n",
            "[35]\tvalidation_0-mlogloss:0.967885\n",
            "[36]\tvalidation_0-mlogloss:0.967632\n",
            "[37]\tvalidation_0-mlogloss:0.965485\n",
            "[38]\tvalidation_0-mlogloss:0.964648\n",
            "[39]\tvalidation_0-mlogloss:0.967449\n",
            "[40]\tvalidation_0-mlogloss:0.967415\n",
            "[41]\tvalidation_0-mlogloss:0.960743\n",
            "[42]\tvalidation_0-mlogloss:0.964174\n",
            "[43]\tvalidation_0-mlogloss:0.964877\n",
            "[44]\tvalidation_0-mlogloss:0.960568\n",
            "[45]\tvalidation_0-mlogloss:0.960386\n",
            "[46]\tvalidation_0-mlogloss:0.962454\n",
            "[47]\tvalidation_0-mlogloss:0.960242\n",
            "[48]\tvalidation_0-mlogloss:0.963387\n",
            "[49]\tvalidation_0-mlogloss:0.96631\n",
            "[50]\tvalidation_0-mlogloss:0.962835\n",
            "[51]\tvalidation_0-mlogloss:0.962967\n",
            "[52]\tvalidation_0-mlogloss:0.968378\n",
            "[53]\tvalidation_0-mlogloss:0.972458\n",
            "[54]\tvalidation_0-mlogloss:0.977171\n",
            "[55]\tvalidation_0-mlogloss:0.977215\n",
            "[56]\tvalidation_0-mlogloss:0.980546\n",
            "[57]\tvalidation_0-mlogloss:0.978686\n",
            "[58]\tvalidation_0-mlogloss:0.976557\n",
            "[59]\tvalidation_0-mlogloss:0.980073\n",
            "[60]\tvalidation_0-mlogloss:0.976401\n",
            "[61]\tvalidation_0-mlogloss:0.976926\n",
            "[62]\tvalidation_0-mlogloss:0.97766\n",
            "[63]\tvalidation_0-mlogloss:0.985175\n",
            "[64]\tvalidation_0-mlogloss:0.989387\n",
            "[65]\tvalidation_0-mlogloss:0.987432\n",
            "[66]\tvalidation_0-mlogloss:0.993763\n",
            "[67]\tvalidation_0-mlogloss:0.995341\n",
            "[68]\tvalidation_0-mlogloss:0.998175\n",
            "[69]\tvalidation_0-mlogloss:0.994441\n",
            "[70]\tvalidation_0-mlogloss:1.00185\n",
            "[71]\tvalidation_0-mlogloss:1.00021\n",
            "[72]\tvalidation_0-mlogloss:1.00225\n",
            "[73]\tvalidation_0-mlogloss:1.00303\n",
            "[74]\tvalidation_0-mlogloss:1.00775\n",
            "[75]\tvalidation_0-mlogloss:1.00905\n",
            "[76]\tvalidation_0-mlogloss:1.01022\n",
            "[77]\tvalidation_0-mlogloss:1.00849\n",
            "[78]\tvalidation_0-mlogloss:1.00927\n",
            "[79]\tvalidation_0-mlogloss:1.01142\n",
            "[80]\tvalidation_0-mlogloss:1.00988\n",
            "[81]\tvalidation_0-mlogloss:1.01127\n",
            "[82]\tvalidation_0-mlogloss:1.0127\n",
            "[83]\tvalidation_0-mlogloss:1.01314\n",
            "[84]\tvalidation_0-mlogloss:1.01395\n",
            "[85]\tvalidation_0-mlogloss:1.01459\n",
            "[86]\tvalidation_0-mlogloss:1.01366\n",
            "[87]\tvalidation_0-mlogloss:1.02059\n",
            "[88]\tvalidation_0-mlogloss:1.02038\n",
            "[89]\tvalidation_0-mlogloss:1.02407\n",
            "[90]\tvalidation_0-mlogloss:1.02263\n",
            "[91]\tvalidation_0-mlogloss:1.02386\n",
            "[92]\tvalidation_0-mlogloss:1.02389\n",
            "[93]\tvalidation_0-mlogloss:1.02764\n",
            "[94]\tvalidation_0-mlogloss:1.03189\n",
            "[95]\tvalidation_0-mlogloss:1.02937\n",
            "[96]\tvalidation_0-mlogloss:1.032\n",
            "[97]\tvalidation_0-mlogloss:1.0304\n",
            "[98]\tvalidation_0-mlogloss:1.03258\n",
            "[99]\tvalidation_0-mlogloss:1.03035\n"
          ]
        },
        {
          "output_type": "execute_result",
          "data": {
            "text/plain": [
              "XGBClassifier(colsample_bytree=0.5, eval_metric='mlogloss', max_depth=5,\n",
              "              objective='multi:softprob', subsample=0.5)"
            ]
          },
          "metadata": {},
          "execution_count": 61
        }
      ]
    },
    {
      "cell_type": "code",
      "source": [
        "xgboost_test_preds = model_xgb_.predict_proba(X_test_ts).argmax(axis=1) # make predictions and find the index of the max predictions by row"
      ],
      "metadata": {
        "id": "8_ZSzURg_1IV"
      },
      "execution_count": 62,
      "outputs": []
    },
    {
      "cell_type": "code",
      "source": [
        "xgboost_acc_test = accuracy_score(y_test_ts, xgboost_test_preds) ; xgboost_acc_test # calculate Accuracy"
      ],
      "metadata": {
        "colab": {
          "base_uri": "https://localhost:8080/"
        },
        "id": "cMiN1TP2AJaN",
        "outputId": "ecac56fc-c57e-4d22-9e10-ac60e808b1e7"
      },
      "execution_count": 63,
      "outputs": [
        {
          "output_type": "execute_result",
          "data": {
            "text/plain": [
              "0.5526315789473685"
            ]
          },
          "metadata": {},
          "execution_count": 63
        }
      ]
    },
    {
      "cell_type": "code",
      "source": [
        "compare_xgb, score_xgb = check_score(main, xgboost_test_preds) # calculate bookmakers "
      ],
      "metadata": {
        "colab": {
          "base_uri": "https://localhost:8080/"
        },
        "id": "Zevz8s5b_17Z",
        "outputId": "9be3c257-ebdb-4b8e-c60b-1ae0f8fb55b9"
      },
      "execution_count": 64,
      "outputs": [
        {
          "output_type": "stream",
          "name": "stderr",
          "text": [
            "/usr/local/lib/python3.7/dist-packages/ipykernel_launcher.py:8: SettingWithCopyWarning: \n",
            "A value is trying to be set on a copy of a slice from a DataFrame\n",
            "\n",
            "See the caveats in the documentation: https://pandas.pydata.org/pandas-docs/stable/user_guide/indexing.html#returning-a-view-versus-a-copy\n",
            "  \n",
            "/usr/local/lib/python3.7/dist-packages/ipykernel_launcher.py:14: SettingWithCopyWarning: \n",
            "A value is trying to be set on a copy of a slice from a DataFrame.\n",
            "Try using .loc[row_indexer,col_indexer] = value instead\n",
            "\n",
            "See the caveats in the documentation: https://pandas.pydata.org/pandas-docs/stable/user_guide/indexing.html#returning-a-view-versus-a-copy\n",
            "  \n"
          ]
        }
      ]
    },
    {
      "cell_type": "code",
      "source": [
        "score_xgb # And still we are below our initial investment."
      ],
      "metadata": {
        "colab": {
          "base_uri": "https://localhost:8080/"
        },
        "id": "1bsCZ8-VA9Re",
        "outputId": "1dc42c5f-d013-49c7-8367-b6959ab3ce0a"
      },
      "execution_count": 65,
      "outputs": [
        {
          "output_type": "execute_result",
          "data": {
            "text/plain": [
              "75.53"
            ]
          },
          "metadata": {},
          "execution_count": 65
        }
      ]
    },
    {
      "cell_type": "code",
      "source": [
        "avg_odds_per_bet_xgb = compare_xgb.describe().loc[\"mean\"][\"score_odds\"] ; avg_odds_per_bet_xgb"
      ],
      "metadata": {
        "colab": {
          "base_uri": "https://localhost:8080/"
        },
        "id": "o8vGByqW2cVA",
        "outputId": "cf84cd9f-d3c9-44af-fbca-3bc826879514"
      },
      "execution_count": 66,
      "outputs": [
        {
          "output_type": "execute_result",
          "data": {
            "text/plain": [
              "1.7983333333333333"
            ]
          },
          "metadata": {},
          "execution_count": 66
        }
      ]
    },
    {
      "cell_type": "markdown",
      "source": [
        "# XGBoost baseline performance\n",
        "It was slightly better then RandomForrest, but we are still underperforming. From the other hand, we are at the level of the bookmakers accuracy, so not bad for the second shot."
      ],
      "metadata": {
        "id": "8F43viU2WrVh"
      }
    },
    {
      "cell_type": "markdown",
      "source": [
        "# TabNet Baseline"
      ],
      "metadata": {
        "id": "LySU1djKE67r"
      }
    },
    {
      "cell_type": "code",
      "source": [
        "!pip install pytorch_tabnet==3.1.1 # You have to install tabnet, colab doesn't come with this one included"
      ],
      "metadata": {
        "colab": {
          "base_uri": "https://localhost:8080/"
        },
        "id": "GEnU-ZheE81G",
        "outputId": "3e50565c-78d7-41c1-e2c1-0f46b80ae143"
      },
      "execution_count": 67,
      "outputs": [
        {
          "output_type": "stream",
          "name": "stdout",
          "text": [
            "Looking in indexes: https://pypi.org/simple, https://us-python.pkg.dev/colab-wheels/public/simple/\n",
            "Requirement already satisfied: pytorch_tabnet==3.1.1 in /usr/local/lib/python3.7/dist-packages (3.1.1)\n",
            "Requirement already satisfied: tqdm<5.0,>=4.36 in /usr/local/lib/python3.7/dist-packages (from pytorch_tabnet==3.1.1) (4.64.1)\n",
            "Requirement already satisfied: torch<2.0,>=1.2 in /usr/local/lib/python3.7/dist-packages (from pytorch_tabnet==3.1.1) (1.12.1+cu113)\n",
            "Requirement already satisfied: scikit_learn>0.21 in /usr/local/lib/python3.7/dist-packages (from pytorch_tabnet==3.1.1) (1.0.2)\n",
            "Requirement already satisfied: scipy>1.4 in /usr/local/lib/python3.7/dist-packages (from pytorch_tabnet==3.1.1) (1.7.3)\n",
            "Requirement already satisfied: numpy<2.0,>=1.17 in /usr/local/lib/python3.7/dist-packages (from pytorch_tabnet==3.1.1) (1.21.6)\n",
            "Requirement already satisfied: threadpoolctl>=2.0.0 in /usr/local/lib/python3.7/dist-packages (from scikit_learn>0.21->pytorch_tabnet==3.1.1) (3.1.0)\n",
            "Requirement already satisfied: joblib>=0.11 in /usr/local/lib/python3.7/dist-packages (from scikit_learn>0.21->pytorch_tabnet==3.1.1) (1.1.0)\n",
            "Requirement already satisfied: typing-extensions in /usr/local/lib/python3.7/dist-packages (from torch<2.0,>=1.2->pytorch_tabnet==3.1.1) (4.1.1)\n"
          ]
        }
      ]
    },
    {
      "cell_type": "code",
      "source": [
        "from pytorch_tabnet.tab_model import TabNetClassifier #this is the class will be using\n",
        "import torch #this one is for the optimizer"
      ],
      "metadata": {
        "id": "AJ6W28bNFc2j"
      },
      "execution_count": 68,
      "outputs": []
    },
    {
      "cell_type": "code",
      "source": [
        "model_tabnet = TabNetClassifier(n_d=64, n_a=64, n_steps=10,\n",
        "    gamma=0, n_independent=2, n_shared=2,\n",
        "    lambda_sparse=1e-5, momentum=1, clip_value=2.,\n",
        "    optimizer_fn=torch.optim.Adam,\n",
        "    optimizer_params=dict(lr=0.01),\n",
        "    scheduler_params = {\"gamma\": 0.5,\n",
        "                     \"step_size\": 50},\n",
        "    scheduler_fn=torch.optim.lr_scheduler.StepLR, epsilon=1e-15\n",
        ") #hyperparams of the model"
      ],
      "metadata": {
        "colab": {
          "base_uri": "https://localhost:8080/"
        },
        "id": "KJmOcIWBFjDW",
        "outputId": "ef9d872c-6a55-4ff6-b4c6-89ec44b773be"
      },
      "execution_count": 69,
      "outputs": [
        {
          "output_type": "stream",
          "name": "stdout",
          "text": [
            "Device used : cpu\n"
          ]
        }
      ]
    },
    {
      "cell_type": "code",
      "source": [
        "max_epochs = 500 "
      ],
      "metadata": {
        "id": "OhzKvjOPF0uD"
      },
      "execution_count": 70,
      "outputs": []
    },
    {
      "cell_type": "code",
      "source": [
        "model_tabnet.fit(X_train=X_train_ts, \n",
        "                 y_train=y_train_ts, \n",
        "                 eval_set=[(X_train_ts, y_train_ts), (X_test_ts, y_test_ts)],\n",
        "                 eval_name=['train','valid'],\n",
        "                 max_epochs=max_epochs, patience=100,) #train the model"
      ],
      "metadata": {
        "colab": {
          "base_uri": "https://localhost:8080/"
        },
        "id": "NjVQgD-eF4K4",
        "outputId": "d487a2d5-7767-4722-a089-4ef89220cfce"
      },
      "execution_count": 71,
      "outputs": [
        {
          "output_type": "stream",
          "name": "stdout",
          "text": [
            "epoch 0  | loss: 4.8647  | train_accuracy: 0.41447 | valid_accuracy: 0.46053 |  0:00:00s\n",
            "epoch 1  | loss: 1.8315  | train_accuracy: 0.48026 | valid_accuracy: 0.40789 |  0:00:00s\n",
            "epoch 2  | loss: 1.41701 | train_accuracy: 0.47697 | valid_accuracy: 0.44737 |  0:00:01s\n",
            "epoch 3  | loss: 1.06546 | train_accuracy: 0.5     | valid_accuracy: 0.5     |  0:00:01s\n",
            "epoch 4  | loss: 0.78156 | train_accuracy: 0.50658 | valid_accuracy: 0.5     |  0:00:01s\n",
            "epoch 5  | loss: 0.53857 | train_accuracy: 0.46711 | valid_accuracy: 0.51316 |  0:00:02s\n",
            "epoch 6  | loss: 0.4296  | train_accuracy: 0.44079 | valid_accuracy: 0.42105 |  0:00:02s\n",
            "epoch 7  | loss: 0.30506 | train_accuracy: 0.47368 | valid_accuracy: 0.43421 |  0:00:02s\n",
            "epoch 8  | loss: 0.67466 | train_accuracy: 0.40461 | valid_accuracy: 0.34211 |  0:00:03s\n",
            "epoch 9  | loss: 0.35327 | train_accuracy: 0.44408 | valid_accuracy: 0.48684 |  0:00:03s\n",
            "epoch 10 | loss: 0.34979 | train_accuracy: 0.44408 | valid_accuracy: 0.46053 |  0:00:03s\n",
            "epoch 11 | loss: 0.22378 | train_accuracy: 0.50329 | valid_accuracy: 0.51316 |  0:00:04s\n",
            "epoch 12 | loss: 0.30249 | train_accuracy: 0.47697 | valid_accuracy: 0.52632 |  0:00:04s\n",
            "epoch 13 | loss: 0.2824  | train_accuracy: 0.44079 | valid_accuracy: 0.46053 |  0:00:05s\n",
            "epoch 14 | loss: 0.1866  | train_accuracy: 0.49342 | valid_accuracy: 0.48684 |  0:00:05s\n",
            "epoch 15 | loss: 0.20383 | train_accuracy: 0.52632 | valid_accuracy: 0.53947 |  0:00:06s\n",
            "epoch 16 | loss: 0.16175 | train_accuracy: 0.47368 | valid_accuracy: 0.44737 |  0:00:06s\n",
            "epoch 17 | loss: 0.16238 | train_accuracy: 0.48355 | valid_accuracy: 0.47368 |  0:00:07s\n",
            "epoch 18 | loss: 0.11255 | train_accuracy: 0.47697 | valid_accuracy: 0.53947 |  0:00:07s\n",
            "epoch 19 | loss: 0.09625 | train_accuracy: 0.45066 | valid_accuracy: 0.47368 |  0:00:08s\n",
            "epoch 20 | loss: 0.18762 | train_accuracy: 0.45395 | valid_accuracy: 0.51316 |  0:00:09s\n",
            "epoch 21 | loss: 0.27809 | train_accuracy: 0.45724 | valid_accuracy: 0.47368 |  0:00:09s\n",
            "epoch 22 | loss: 0.05811 | train_accuracy: 0.4375  | valid_accuracy: 0.47368 |  0:00:10s\n",
            "epoch 23 | loss: 0.19854 | train_accuracy: 0.44408 | valid_accuracy: 0.5     |  0:00:11s\n",
            "epoch 24 | loss: 0.12317 | train_accuracy: 0.47697 | valid_accuracy: 0.51316 |  0:00:11s\n",
            "epoch 25 | loss: 0.08241 | train_accuracy: 0.42105 | valid_accuracy: 0.47368 |  0:00:12s\n",
            "epoch 26 | loss: 0.05726 | train_accuracy: 0.51645 | valid_accuracy: 0.5     |  0:00:12s\n",
            "epoch 27 | loss: 0.06405 | train_accuracy: 0.51316 | valid_accuracy: 0.5     |  0:00:13s\n",
            "epoch 28 | loss: 0.0857  | train_accuracy: 0.49342 | valid_accuracy: 0.56579 |  0:00:14s\n",
            "epoch 29 | loss: 0.11812 | train_accuracy: 0.46053 | valid_accuracy: 0.5     |  0:00:15s\n",
            "epoch 30 | loss: 0.02968 | train_accuracy: 0.46382 | valid_accuracy: 0.48684 |  0:00:15s\n",
            "epoch 31 | loss: 0.01984 | train_accuracy: 0.48026 | valid_accuracy: 0.52632 |  0:00:16s\n",
            "epoch 32 | loss: 0.01339 | train_accuracy: 0.45395 | valid_accuracy: 0.47368 |  0:00:16s\n",
            "epoch 33 | loss: 0.04103 | train_accuracy: 0.44079 | valid_accuracy: 0.48684 |  0:00:17s\n",
            "epoch 34 | loss: 0.04392 | train_accuracy: 0.46053 | valid_accuracy: 0.48684 |  0:00:18s\n",
            "epoch 35 | loss: 0.03345 | train_accuracy: 0.44079 | valid_accuracy: 0.47368 |  0:00:19s\n",
            "epoch 36 | loss: 0.01162 | train_accuracy: 0.47039 | valid_accuracy: 0.53947 |  0:00:19s\n",
            "epoch 37 | loss: 0.06016 | train_accuracy: 0.44408 | valid_accuracy: 0.5     |  0:00:20s\n",
            "epoch 38 | loss: 0.03445 | train_accuracy: 0.47368 | valid_accuracy: 0.53947 |  0:00:21s\n",
            "epoch 39 | loss: 0.01636 | train_accuracy: 0.46382 | valid_accuracy: 0.51316 |  0:00:21s\n",
            "epoch 40 | loss: 0.04535 | train_accuracy: 0.4375  | valid_accuracy: 0.5     |  0:00:22s\n",
            "epoch 41 | loss: 0.02587 | train_accuracy: 0.45724 | valid_accuracy: 0.5     |  0:00:22s\n",
            "epoch 42 | loss: 0.04671 | train_accuracy: 0.45724 | valid_accuracy: 0.5     |  0:00:22s\n",
            "epoch 43 | loss: 0.0396  | train_accuracy: 0.45724 | valid_accuracy: 0.48684 |  0:00:23s\n",
            "epoch 44 | loss: 0.07072 | train_accuracy: 0.48026 | valid_accuracy: 0.52632 |  0:00:23s\n",
            "epoch 45 | loss: 0.09952 | train_accuracy: 0.46382 | valid_accuracy: 0.52632 |  0:00:23s\n",
            "epoch 46 | loss: 0.06102 | train_accuracy: 0.45724 | valid_accuracy: 0.51316 |  0:00:24s\n",
            "epoch 47 | loss: 0.01678 | train_accuracy: 0.46053 | valid_accuracy: 0.5     |  0:00:24s\n",
            "epoch 48 | loss: 0.10999 | train_accuracy: 0.48026 | valid_accuracy: 0.46053 |  0:00:24s\n",
            "epoch 49 | loss: 0.01448 | train_accuracy: 0.44737 | valid_accuracy: 0.52632 |  0:00:24s\n",
            "epoch 50 | loss: 0.019   | train_accuracy: 0.47368 | valid_accuracy: 0.42105 |  0:00:25s\n",
            "epoch 51 | loss: 0.0556  | train_accuracy: 0.47039 | valid_accuracy: 0.51316 |  0:00:25s\n",
            "epoch 52 | loss: 0.01511 | train_accuracy: 0.53947 | valid_accuracy: 0.5     |  0:00:25s\n",
            "epoch 53 | loss: 0.01291 | train_accuracy: 0.47697 | valid_accuracy: 0.42105 |  0:00:26s\n",
            "epoch 54 | loss: 0.01809 | train_accuracy: 0.49013 | valid_accuracy: 0.55263 |  0:00:26s\n",
            "epoch 55 | loss: 0.00813 | train_accuracy: 0.46382 | valid_accuracy: 0.51316 |  0:00:26s\n",
            "epoch 56 | loss: 0.01045 | train_accuracy: 0.51645 | valid_accuracy: 0.51316 |  0:00:27s\n",
            "epoch 57 | loss: 0.00942 | train_accuracy: 0.49342 | valid_accuracy: 0.42105 |  0:00:27s\n",
            "epoch 58 | loss: 0.01412 | train_accuracy: 0.49342 | valid_accuracy: 0.47368 |  0:00:27s\n",
            "epoch 59 | loss: 0.01366 | train_accuracy: 0.47039 | valid_accuracy: 0.5     |  0:00:27s\n",
            "epoch 60 | loss: 0.00663 | train_accuracy: 0.46711 | valid_accuracy: 0.51316 |  0:00:28s\n",
            "epoch 61 | loss: 0.00533 | train_accuracy: 0.52303 | valid_accuracy: 0.51316 |  0:00:28s\n",
            "epoch 62 | loss: 0.00561 | train_accuracy: 0.51645 | valid_accuracy: 0.52632 |  0:00:28s\n",
            "epoch 63 | loss: 0.00848 | train_accuracy: 0.50658 | valid_accuracy: 0.46053 |  0:00:29s\n",
            "epoch 64 | loss: 0.00561 | train_accuracy: 0.49013 | valid_accuracy: 0.53947 |  0:00:29s\n",
            "epoch 65 | loss: 0.00524 | train_accuracy: 0.51645 | valid_accuracy: 0.48684 |  0:00:29s\n",
            "epoch 66 | loss: 0.0065  | train_accuracy: 0.48355 | valid_accuracy: 0.53947 |  0:00:30s\n",
            "epoch 67 | loss: 0.00877 | train_accuracy: 0.50658 | valid_accuracy: 0.5     |  0:00:30s\n",
            "epoch 68 | loss: 0.00507 | train_accuracy: 0.48026 | valid_accuracy: 0.53947 |  0:00:30s\n",
            "epoch 69 | loss: 0.00551 | train_accuracy: 0.50329 | valid_accuracy: 0.5     |  0:00:31s\n",
            "epoch 70 | loss: 0.00402 | train_accuracy: 0.51316 | valid_accuracy: 0.51316 |  0:00:31s\n",
            "epoch 71 | loss: 0.00435 | train_accuracy: 0.51645 | valid_accuracy: 0.51316 |  0:00:31s\n",
            "epoch 72 | loss: 0.00401 | train_accuracy: 0.51316 | valid_accuracy: 0.51316 |  0:00:31s\n",
            "epoch 73 | loss: 0.00353 | train_accuracy: 0.50329 | valid_accuracy: 0.52632 |  0:00:32s\n",
            "epoch 74 | loss: 0.00722 | train_accuracy: 0.46711 | valid_accuracy: 0.52632 |  0:00:32s\n",
            "epoch 75 | loss: 0.00318 | train_accuracy: 0.52961 | valid_accuracy: 0.55263 |  0:00:32s\n",
            "epoch 76 | loss: 0.00407 | train_accuracy: 0.52961 | valid_accuracy: 0.52632 |  0:00:33s\n",
            "epoch 77 | loss: 0.00301 | train_accuracy: 0.50329 | valid_accuracy: 0.5     |  0:00:33s\n",
            "epoch 78 | loss: 0.00293 | train_accuracy: 0.52303 | valid_accuracy: 0.53947 |  0:00:33s\n",
            "epoch 79 | loss: 0.00261 | train_accuracy: 0.51974 | valid_accuracy: 0.53947 |  0:00:34s\n",
            "epoch 80 | loss: 0.00275 | train_accuracy: 0.50987 | valid_accuracy: 0.51316 |  0:00:34s\n",
            "epoch 81 | loss: 0.0033  | train_accuracy: 0.52632 | valid_accuracy: 0.51316 |  0:00:34s\n",
            "epoch 82 | loss: 0.00353 | train_accuracy: 0.51645 | valid_accuracy: 0.46053 |  0:00:34s\n",
            "epoch 83 | loss: 0.00241 | train_accuracy: 0.52303 | valid_accuracy: 0.5     |  0:00:35s\n",
            "epoch 84 | loss: 0.00216 | train_accuracy: 0.52961 | valid_accuracy: 0.52632 |  0:00:35s\n",
            "epoch 85 | loss: 0.00281 | train_accuracy: 0.52632 | valid_accuracy: 0.51316 |  0:00:35s\n",
            "epoch 86 | loss: 0.00238 | train_accuracy: 0.50329 | valid_accuracy: 0.51316 |  0:00:36s\n",
            "epoch 87 | loss: 0.0025  | train_accuracy: 0.51316 | valid_accuracy: 0.56579 |  0:00:36s\n",
            "epoch 88 | loss: 0.00242 | train_accuracy: 0.52961 | valid_accuracy: 0.52632 |  0:00:36s\n",
            "epoch 89 | loss: 0.00307 | train_accuracy: 0.52632 | valid_accuracy: 0.5     |  0:00:37s\n",
            "epoch 90 | loss: 0.00229 | train_accuracy: 0.48684 | valid_accuracy: 0.48684 |  0:00:37s\n",
            "epoch 91 | loss: 0.0018  | train_accuracy: 0.53289 | valid_accuracy: 0.47368 |  0:00:37s\n",
            "epoch 92 | loss: 0.00234 | train_accuracy: 0.52632 | valid_accuracy: 0.47368 |  0:00:37s\n",
            "epoch 93 | loss: 0.00177 | train_accuracy: 0.54605 | valid_accuracy: 0.51316 |  0:00:38s\n",
            "epoch 94 | loss: 0.00218 | train_accuracy: 0.50658 | valid_accuracy: 0.47368 |  0:00:38s\n",
            "epoch 95 | loss: 0.00658 | train_accuracy: 0.49013 | valid_accuracy: 0.47368 |  0:00:38s\n",
            "epoch 96 | loss: 0.0022  | train_accuracy: 0.51316 | valid_accuracy: 0.48684 |  0:00:39s\n",
            "epoch 97 | loss: 0.0019  | train_accuracy: 0.52632 | valid_accuracy: 0.48684 |  0:00:39s\n",
            "epoch 98 | loss: 0.00179 | train_accuracy: 0.52303 | valid_accuracy: 0.55263 |  0:00:39s\n",
            "epoch 99 | loss: 0.0015  | train_accuracy: 0.54605 | valid_accuracy: 0.51316 |  0:00:40s\n",
            "epoch 100| loss: 0.00154 | train_accuracy: 0.52632 | valid_accuracy: 0.52632 |  0:00:40s\n",
            "epoch 101| loss: 0.00141 | train_accuracy: 0.53947 | valid_accuracy: 0.51316 |  0:00:40s\n",
            "epoch 102| loss: 0.0016  | train_accuracy: 0.51974 | valid_accuracy: 0.44737 |  0:00:40s\n",
            "epoch 103| loss: 0.00163 | train_accuracy: 0.52632 | valid_accuracy: 0.5     |  0:00:41s\n",
            "epoch 104| loss: 0.00142 | train_accuracy: 0.50658 | valid_accuracy: 0.55263 |  0:00:41s\n",
            "epoch 105| loss: 0.00178 | train_accuracy: 0.51645 | valid_accuracy: 0.52632 |  0:00:41s\n",
            "epoch 106| loss: 0.00169 | train_accuracy: 0.50987 | valid_accuracy: 0.46053 |  0:00:42s\n",
            "epoch 107| loss: 0.00157 | train_accuracy: 0.53289 | valid_accuracy: 0.47368 |  0:00:42s\n",
            "epoch 108| loss: 0.00165 | train_accuracy: 0.51645 | valid_accuracy: 0.46053 |  0:00:42s\n",
            "epoch 109| loss: 0.00149 | train_accuracy: 0.53947 | valid_accuracy: 0.46053 |  0:00:43s\n",
            "epoch 110| loss: 0.00174 | train_accuracy: 0.55263 | valid_accuracy: 0.52632 |  0:00:43s\n",
            "epoch 111| loss: 0.00164 | train_accuracy: 0.52303 | valid_accuracy: 0.53947 |  0:00:43s\n",
            "epoch 112| loss: 0.00149 | train_accuracy: 0.53289 | valid_accuracy: 0.44737 |  0:00:43s\n",
            "epoch 113| loss: 0.0016  | train_accuracy: 0.52303 | valid_accuracy: 0.51316 |  0:00:44s\n",
            "epoch 114| loss: 0.00134 | train_accuracy: 0.55921 | valid_accuracy: 0.46053 |  0:00:44s\n",
            "epoch 115| loss: 0.00144 | train_accuracy: 0.55592 | valid_accuracy: 0.53947 |  0:00:44s\n",
            "epoch 116| loss: 0.0019  | train_accuracy: 0.51645 | valid_accuracy: 0.44737 |  0:00:45s\n",
            "epoch 117| loss: 0.00154 | train_accuracy: 0.50987 | valid_accuracy: 0.46053 |  0:00:45s\n",
            "epoch 118| loss: 0.00172 | train_accuracy: 0.54605 | valid_accuracy: 0.52632 |  0:00:45s\n",
            "epoch 119| loss: 0.00124 | train_accuracy: 0.55921 | valid_accuracy: 0.52632 |  0:00:46s\n",
            "epoch 120| loss: 0.00177 | train_accuracy: 0.52303 | valid_accuracy: 0.43421 |  0:00:46s\n",
            "epoch 121| loss: 0.00148 | train_accuracy: 0.53947 | valid_accuracy: 0.53947 |  0:00:46s\n",
            "epoch 122| loss: 0.00144 | train_accuracy: 0.53618 | valid_accuracy: 0.48684 |  0:00:46s\n",
            "epoch 123| loss: 0.0015  | train_accuracy: 0.54934 | valid_accuracy: 0.57895 |  0:00:47s\n",
            "epoch 124| loss: 0.00139 | train_accuracy: 0.55592 | valid_accuracy: 0.44737 |  0:00:47s\n",
            "epoch 125| loss: 0.00207 | train_accuracy: 0.51974 | valid_accuracy: 0.46053 |  0:00:47s\n",
            "epoch 126| loss: 0.00137 | train_accuracy: 0.52303 | valid_accuracy: 0.5     |  0:00:48s\n",
            "epoch 127| loss: 0.00116 | train_accuracy: 0.55921 | valid_accuracy: 0.47368 |  0:00:48s\n",
            "epoch 128| loss: 0.0013  | train_accuracy: 0.59211 | valid_accuracy: 0.59211 |  0:00:48s\n",
            "epoch 129| loss: 0.00149 | train_accuracy: 0.52632 | valid_accuracy: 0.48684 |  0:00:49s\n",
            "epoch 130| loss: 0.00156 | train_accuracy: 0.52303 | valid_accuracy: 0.51316 |  0:00:49s\n",
            "epoch 131| loss: 0.0014  | train_accuracy: 0.55263 | valid_accuracy: 0.5     |  0:00:49s\n",
            "epoch 132| loss: 0.00108 | train_accuracy: 0.57895 | valid_accuracy: 0.51316 |  0:00:49s\n",
            "epoch 133| loss: 0.0012  | train_accuracy: 0.58553 | valid_accuracy: 0.53947 |  0:00:50s\n",
            "epoch 134| loss: 0.00118 | train_accuracy: 0.58553 | valid_accuracy: 0.5     |  0:00:50s\n",
            "epoch 135| loss: 0.001   | train_accuracy: 0.56579 | valid_accuracy: 0.53947 |  0:00:50s\n",
            "epoch 136| loss: 0.00148 | train_accuracy: 0.55921 | valid_accuracy: 0.48684 |  0:00:51s\n",
            "epoch 137| loss: 0.0015  | train_accuracy: 0.55592 | valid_accuracy: 0.48684 |  0:00:51s\n",
            "epoch 138| loss: 0.00117 | train_accuracy: 0.55921 | valid_accuracy: 0.5     |  0:00:51s\n",
            "epoch 139| loss: 0.00105 | train_accuracy: 0.57237 | valid_accuracy: 0.51316 |  0:00:52s\n",
            "epoch 140| loss: 0.00109 | train_accuracy: 0.61513 | valid_accuracy: 0.57895 |  0:00:52s\n",
            "epoch 141| loss: 0.00087 | train_accuracy: 0.58882 | valid_accuracy: 0.55263 |  0:00:52s\n",
            "epoch 142| loss: 0.00145 | train_accuracy: 0.58553 | valid_accuracy: 0.5     |  0:00:52s\n",
            "epoch 143| loss: 0.00133 | train_accuracy: 0.58553 | valid_accuracy: 0.57895 |  0:00:53s\n",
            "epoch 144| loss: 0.00134 | train_accuracy: 0.58882 | valid_accuracy: 0.52632 |  0:00:53s\n",
            "epoch 145| loss: 0.0015  | train_accuracy: 0.60526 | valid_accuracy: 0.5     |  0:00:53s\n",
            "epoch 146| loss: 0.00153 | train_accuracy: 0.55921 | valid_accuracy: 0.52632 |  0:00:54s\n",
            "epoch 147| loss: 0.00114 | train_accuracy: 0.58553 | valid_accuracy: 0.53947 |  0:00:54s\n",
            "epoch 148| loss: 0.00119 | train_accuracy: 0.625   | valid_accuracy: 0.55263 |  0:00:54s\n",
            "epoch 149| loss: 0.0011  | train_accuracy: 0.58553 | valid_accuracy: 0.51316 |  0:00:55s\n",
            "epoch 150| loss: 0.0012  | train_accuracy: 0.55921 | valid_accuracy: 0.5     |  0:00:55s\n",
            "epoch 151| loss: 0.00119 | train_accuracy: 0.62829 | valid_accuracy: 0.52632 |  0:00:55s\n",
            "epoch 152| loss: 0.0014  | train_accuracy: 0.60855 | valid_accuracy: 0.48684 |  0:00:55s\n",
            "epoch 153| loss: 0.00124 | train_accuracy: 0.625   | valid_accuracy: 0.5     |  0:00:56s\n",
            "epoch 154| loss: 0.00086 | train_accuracy: 0.61842 | valid_accuracy: 0.51316 |  0:00:56s\n",
            "epoch 155| loss: 0.00128 | train_accuracy: 0.63816 | valid_accuracy: 0.5     |  0:00:56s\n",
            "epoch 156| loss: 0.00094 | train_accuracy: 0.625   | valid_accuracy: 0.48684 |  0:00:57s\n",
            "epoch 157| loss: 0.00119 | train_accuracy: 0.64145 | valid_accuracy: 0.52632 |  0:00:57s\n",
            "epoch 158| loss: 0.00096 | train_accuracy: 0.65132 | valid_accuracy: 0.51316 |  0:00:57s\n",
            "epoch 159| loss: 0.00099 | train_accuracy: 0.60197 | valid_accuracy: 0.5     |  0:00:58s\n",
            "epoch 160| loss: 0.00118 | train_accuracy: 0.65461 | valid_accuracy: 0.53947 |  0:00:58s\n",
            "epoch 161| loss: 0.00087 | train_accuracy: 0.65789 | valid_accuracy: 0.48684 |  0:00:58s\n",
            "epoch 162| loss: 0.00099 | train_accuracy: 0.67105 | valid_accuracy: 0.56579 |  0:00:58s\n",
            "epoch 163| loss: 0.00095 | train_accuracy: 0.65132 | valid_accuracy: 0.5     |  0:00:59s\n",
            "epoch 164| loss: 0.00512 | train_accuracy: 0.64145 | valid_accuracy: 0.51316 |  0:00:59s\n",
            "epoch 165| loss: 0.00113 | train_accuracy: 0.66776 | valid_accuracy: 0.52632 |  0:00:59s\n",
            "epoch 166| loss: 0.00108 | train_accuracy: 0.65461 | valid_accuracy: 0.51316 |  0:01:00s\n",
            "epoch 167| loss: 0.0012  | train_accuracy: 0.72039 | valid_accuracy: 0.53947 |  0:01:00s\n",
            "epoch 168| loss: 0.00115 | train_accuracy: 0.69408 | valid_accuracy: 0.53947 |  0:01:00s\n",
            "epoch 169| loss: 0.00097 | train_accuracy: 0.6875  | valid_accuracy: 0.56579 |  0:01:01s\n",
            "epoch 170| loss: 0.0012  | train_accuracy: 0.68421 | valid_accuracy: 0.52632 |  0:01:01s\n",
            "epoch 171| loss: 0.00132 | train_accuracy: 0.72368 | valid_accuracy: 0.52632 |  0:01:01s\n",
            "epoch 172| loss: 0.00141 | train_accuracy: 0.70395 | valid_accuracy: 0.51316 |  0:01:01s\n",
            "epoch 173| loss: 0.00773 | train_accuracy: 0.72039 | valid_accuracy: 0.55263 |  0:01:02s\n",
            "epoch 174| loss: 0.00265 | train_accuracy: 0.74342 | valid_accuracy: 0.5     |  0:01:02s\n",
            "epoch 175| loss: 0.00098 | train_accuracy: 0.65789 | valid_accuracy: 0.55263 |  0:01:02s\n",
            "epoch 176| loss: 0.00076 | train_accuracy: 0.72368 | valid_accuracy: 0.57895 |  0:01:03s\n",
            "epoch 177| loss: 0.00136 | train_accuracy: 0.74013 | valid_accuracy: 0.5     |  0:01:03s\n",
            "epoch 178| loss: 0.00155 | train_accuracy: 0.70395 | valid_accuracy: 0.5     |  0:01:03s\n",
            "epoch 179| loss: 0.00102 | train_accuracy: 0.76316 | valid_accuracy: 0.55263 |  0:01:03s\n",
            "epoch 180| loss: 0.00105 | train_accuracy: 0.67434 | valid_accuracy: 0.47368 |  0:01:04s\n",
            "epoch 181| loss: 0.00105 | train_accuracy: 0.73026 | valid_accuracy: 0.47368 |  0:01:04s\n",
            "epoch 182| loss: 0.00192 | train_accuracy: 0.75987 | valid_accuracy: 0.56579 |  0:01:04s\n",
            "epoch 183| loss: 0.0009  | train_accuracy: 0.75329 | valid_accuracy: 0.55263 |  0:01:05s\n",
            "epoch 184| loss: 0.00102 | train_accuracy: 0.79934 | valid_accuracy: 0.52632 |  0:01:05s\n",
            "epoch 185| loss: 0.00146 | train_accuracy: 0.73355 | valid_accuracy: 0.55263 |  0:01:05s\n",
            "epoch 186| loss: 0.00104 | train_accuracy: 0.75987 | valid_accuracy: 0.53947 |  0:01:06s\n",
            "epoch 187| loss: 0.00095 | train_accuracy: 0.75987 | valid_accuracy: 0.52632 |  0:01:06s\n",
            "epoch 188| loss: 0.00132 | train_accuracy: 0.76645 | valid_accuracy: 0.53947 |  0:01:06s\n",
            "epoch 189| loss: 0.00149 | train_accuracy: 0.78289 | valid_accuracy: 0.53947 |  0:01:07s\n",
            "epoch 190| loss: 0.00096 | train_accuracy: 0.76974 | valid_accuracy: 0.55263 |  0:01:07s\n",
            "epoch 191| loss: 0.00297 | train_accuracy: 0.80592 | valid_accuracy: 0.53947 |  0:01:07s\n",
            "epoch 192| loss: 0.00158 | train_accuracy: 0.75658 | valid_accuracy: 0.44737 |  0:01:07s\n",
            "epoch 193| loss: 0.00109 | train_accuracy: 0.79605 | valid_accuracy: 0.52632 |  0:01:08s\n",
            "epoch 194| loss: 0.00116 | train_accuracy: 0.78947 | valid_accuracy: 0.5     |  0:01:08s\n",
            "epoch 195| loss: 0.00132 | train_accuracy: 0.79934 | valid_accuracy: 0.53947 |  0:01:08s\n",
            "epoch 196| loss: 0.00114 | train_accuracy: 0.78618 | valid_accuracy: 0.53947 |  0:01:09s\n",
            "epoch 197| loss: 0.00096 | train_accuracy: 0.82237 | valid_accuracy: 0.53947 |  0:01:09s\n",
            "epoch 198| loss: 0.00128 | train_accuracy: 0.82566 | valid_accuracy: 0.56579 |  0:01:09s\n",
            "epoch 199| loss: 0.00112 | train_accuracy: 0.81908 | valid_accuracy: 0.51316 |  0:01:09s\n",
            "epoch 200| loss: 0.0013  | train_accuracy: 0.77961 | valid_accuracy: 0.52632 |  0:01:10s\n",
            "epoch 201| loss: 0.00102 | train_accuracy: 0.79934 | valid_accuracy: 0.52632 |  0:01:10s\n",
            "epoch 202| loss: 0.00111 | train_accuracy: 0.82237 | valid_accuracy: 0.55263 |  0:01:10s\n",
            "epoch 203| loss: 0.00361 | train_accuracy: 0.81908 | valid_accuracy: 0.5     |  0:01:11s\n",
            "epoch 204| loss: 0.00098 | train_accuracy: 0.84539 | valid_accuracy: 0.51316 |  0:01:11s\n",
            "epoch 205| loss: 0.00135 | train_accuracy: 0.84868 | valid_accuracy: 0.52632 |  0:01:11s\n",
            "epoch 206| loss: 0.00101 | train_accuracy: 0.86842 | valid_accuracy: 0.57895 |  0:01:12s\n",
            "epoch 207| loss: 0.00094 | train_accuracy: 0.85197 | valid_accuracy: 0.5     |  0:01:12s\n",
            "epoch 208| loss: 0.00088 | train_accuracy: 0.85855 | valid_accuracy: 0.55263 |  0:01:12s\n",
            "epoch 209| loss: 0.00102 | train_accuracy: 0.84539 | valid_accuracy: 0.48684 |  0:01:12s\n",
            "epoch 210| loss: 0.00123 | train_accuracy: 0.85197 | valid_accuracy: 0.57895 |  0:01:13s\n",
            "epoch 211| loss: 0.00108 | train_accuracy: 0.83882 | valid_accuracy: 0.53947 |  0:01:13s\n",
            "epoch 212| loss: 0.00105 | train_accuracy: 0.84868 | valid_accuracy: 0.51316 |  0:01:13s\n",
            "epoch 213| loss: 0.00135 | train_accuracy: 0.79934 | valid_accuracy: 0.5     |  0:01:14s\n",
            "epoch 214| loss: 0.001   | train_accuracy: 0.83882 | valid_accuracy: 0.55263 |  0:01:14s\n",
            "epoch 215| loss: 0.00089 | train_accuracy: 0.89145 | valid_accuracy: 0.52632 |  0:01:14s\n",
            "epoch 216| loss: 0.00093 | train_accuracy: 0.84211 | valid_accuracy: 0.53947 |  0:01:15s\n",
            "epoch 217| loss: 0.00086 | train_accuracy: 0.83224 | valid_accuracy: 0.51316 |  0:01:15s\n",
            "epoch 218| loss: 0.00085 | train_accuracy: 0.83224 | valid_accuracy: 0.55263 |  0:01:15s\n",
            "epoch 219| loss: 0.00112 | train_accuracy: 0.86513 | valid_accuracy: 0.52632 |  0:01:15s\n",
            "epoch 220| loss: 0.00072 | train_accuracy: 0.85855 | valid_accuracy: 0.59211 |  0:01:16s\n",
            "epoch 221| loss: 0.00099 | train_accuracy: 0.89145 | valid_accuracy: 0.53947 |  0:01:16s\n",
            "epoch 222| loss: 0.00092 | train_accuracy: 0.90789 | valid_accuracy: 0.59211 |  0:01:16s\n",
            "epoch 223| loss: 0.001   | train_accuracy: 0.86184 | valid_accuracy: 0.59211 |  0:01:17s\n",
            "epoch 224| loss: 0.00107 | train_accuracy: 0.87829 | valid_accuracy: 0.48684 |  0:01:17s\n",
            "epoch 225| loss: 0.00134 | train_accuracy: 0.91118 | valid_accuracy: 0.46053 |  0:01:17s\n",
            "epoch 226| loss: 0.0012  | train_accuracy: 0.87829 | valid_accuracy: 0.53947 |  0:01:18s\n",
            "epoch 227| loss: 0.00109 | train_accuracy: 0.875   | valid_accuracy: 0.53947 |  0:01:18s\n",
            "epoch 228| loss: 0.00104 | train_accuracy: 0.87829 | valid_accuracy: 0.56579 |  0:01:18s\n",
            "\n",
            "Early stopping occurred at epoch 228 with best_epoch = 128 and best_valid_accuracy = 0.59211\n",
            "Best weights from best epoch are automatically used!\n"
          ]
        }
      ]
    },
    {
      "cell_type": "code",
      "source": [
        "tabnet_predictions = model_tabnet.predict_proba(X_test_ts).argmax(axis=1) # predictions"
      ],
      "metadata": {
        "id": "VwYh_0W1G0f5"
      },
      "execution_count": 72,
      "outputs": []
    },
    {
      "cell_type": "code",
      "source": [
        "tabnet_accuracy = accuracy_score(y_test_ts, tabnet_predictions)  ; tabnet_accuracy # accuracy"
      ],
      "metadata": {
        "colab": {
          "base_uri": "https://localhost:8080/"
        },
        "id": "4xRPjCQ6HGpH",
        "outputId": "2f9f0bf3-34c1-4249-a15d-63b381725b50"
      },
      "execution_count": 73,
      "outputs": [
        {
          "output_type": "execute_result",
          "data": {
            "text/plain": [
              "0.5921052631578947"
            ]
          },
          "metadata": {},
          "execution_count": 73
        }
      ]
    },
    {
      "cell_type": "code",
      "source": [
        "compare_tabnet, score_tabnet = check_score(main, tabnet_predictions) # checking the score against the odds"
      ],
      "metadata": {
        "colab": {
          "base_uri": "https://localhost:8080/"
        },
        "id": "P5FKPpnVHZ5R",
        "outputId": "5001131a-a5be-42bf-b065-9bf72bf3942b"
      },
      "execution_count": 74,
      "outputs": [
        {
          "output_type": "stream",
          "name": "stderr",
          "text": [
            "/usr/local/lib/python3.7/dist-packages/ipykernel_launcher.py:8: SettingWithCopyWarning: \n",
            "A value is trying to be set on a copy of a slice from a DataFrame\n",
            "\n",
            "See the caveats in the documentation: https://pandas.pydata.org/pandas-docs/stable/user_guide/indexing.html#returning-a-view-versus-a-copy\n",
            "  \n",
            "/usr/local/lib/python3.7/dist-packages/ipykernel_launcher.py:14: SettingWithCopyWarning: \n",
            "A value is trying to be set on a copy of a slice from a DataFrame.\n",
            "Try using .loc[row_indexer,col_indexer] = value instead\n",
            "\n",
            "See the caveats in the documentation: https://pandas.pydata.org/pandas-docs/stable/user_guide/indexing.html#returning-a-view-versus-a-copy\n",
            "  \n"
          ]
        }
      ]
    },
    {
      "cell_type": "code",
      "source": [
        "score_tabnet"
      ],
      "metadata": {
        "colab": {
          "base_uri": "https://localhost:8080/"
        },
        "id": "ZmHJ0B_DHh63",
        "outputId": "94f89f31-b814-48d1-b83e-0be90990f1d5"
      },
      "execution_count": 75,
      "outputs": [
        {
          "output_type": "execute_result",
          "data": {
            "text/plain": [
              "92.46"
            ]
          },
          "metadata": {},
          "execution_count": 75
        }
      ]
    },
    {
      "cell_type": "code",
      "source": [
        "avg_odds_per_bet_tabnet = compare_tabnet.describe().loc[\"mean\"][\"score_odds\"] ; avg_odds_per_bet_tabnet"
      ],
      "metadata": {
        "colab": {
          "base_uri": "https://localhost:8080/"
        },
        "id": "yvDBrVU82T9d",
        "outputId": "82abe8da-af54-40a0-dfb9-fd4b59c9d869"
      },
      "execution_count": 76,
      "outputs": [
        {
          "output_type": "execute_result",
          "data": {
            "text/plain": [
              "2.0546666666666664"
            ]
          },
          "metadata": {},
          "execution_count": 76
        }
      ]
    },
    {
      "cell_type": "markdown",
      "source": [
        "# PyTorch TinyVGG + Tab2Img transformation (CNN model)\n",
        "Below code is PyTorch specific and I will not be explaining erything very precisle here. If you don't know this framework specificly well and want to change it, consider this:\n",
        "\n",
        "https://www.mrdbourke.com/pytorch-in-a-day/"
      ],
      "metadata": {
        "id": "9RO36Blzbfme"
      }
    },
    {
      "cell_type": "code",
      "source": [
        "!pip install torchmetrics # for accuracy\n",
        "!pip install tab2img # for DeepInsight implementation"
      ],
      "metadata": {
        "colab": {
          "base_uri": "https://localhost:8080/"
        },
        "id": "-7vnCT5rbezJ",
        "outputId": "dcb18f8f-fd3b-4bb2-9db7-62a9fad6ccdb"
      },
      "execution_count": 77,
      "outputs": [
        {
          "output_type": "stream",
          "name": "stdout",
          "text": [
            "Looking in indexes: https://pypi.org/simple, https://us-python.pkg.dev/colab-wheels/public/simple/\n",
            "Collecting torchmetrics\n",
            "  Downloading torchmetrics-0.9.3-py3-none-any.whl (419 kB)\n",
            "\u001b[K     |████████████████████████████████| 419 kB 4.0 MB/s \n",
            "\u001b[?25hRequirement already satisfied: torch>=1.3.1 in /usr/local/lib/python3.7/dist-packages (from torchmetrics) (1.12.1+cu113)\n",
            "Requirement already satisfied: packaging in /usr/local/lib/python3.7/dist-packages (from torchmetrics) (21.3)\n",
            "Requirement already satisfied: typing-extensions in /usr/local/lib/python3.7/dist-packages (from torchmetrics) (4.1.1)\n",
            "Requirement already satisfied: numpy>=1.17.2 in /usr/local/lib/python3.7/dist-packages (from torchmetrics) (1.21.6)\n",
            "Requirement already satisfied: pyparsing!=3.0.5,>=2.0.2 in /usr/local/lib/python3.7/dist-packages (from packaging->torchmetrics) (3.0.9)\n",
            "Installing collected packages: torchmetrics\n",
            "Successfully installed torchmetrics-0.9.3\n",
            "Looking in indexes: https://pypi.org/simple, https://us-python.pkg.dev/colab-wheels/public/simple/\n",
            "Collecting tab2img\n",
            "  Downloading tab2img-0.0.2-py3-none-any.whl (4.8 kB)\n",
            "Installing collected packages: tab2img\n",
            "Successfully installed tab2img-0.0.2\n"
          ]
        }
      ]
    },
    {
      "cell_type": "code",
      "source": [
        "import torch.nn as nn  #we previously import torch, this one is just for the module of neural nets.\n",
        "from torch.utils.data import DataLoader"
      ],
      "metadata": {
        "id": "D1VQUJVAkJ6w"
      },
      "execution_count": 78,
      "outputs": []
    },
    {
      "cell_type": "code",
      "source": [
        "from tab2img.converter import Tab2Img # import Class to convert the tabular data into images\n",
        "import requests # for downloading my custom pytorch loops and some other hlepful classess.\n",
        "\n",
        "\n",
        "if Path(\"helper_f.py\").is_file(): \n",
        "    print(\"Exists!\")\n",
        "else:\n",
        "    print(\"Dwnld\")\n",
        "    request = requests.get(\"https://raw.githubusercontent.com/SquareGraph/HelperFunctions/main/helper_f.py\")\n",
        "    with open(\"helper_f.py\", \"wb\") as f:\n",
        "        f.write(request.content)\n",
        "\n",
        "from helper_f import * #importing those helper functions I mentioned above"
      ],
      "metadata": {
        "colab": {
          "base_uri": "https://localhost:8080/"
        },
        "id": "gWL9hOBBeMiA",
        "outputId": "a143c124-bf88-4e6c-d3ed-9838350a11e3"
      },
      "execution_count": 79,
      "outputs": [
        {
          "output_type": "stream",
          "name": "stdout",
          "text": [
            "Dwnld\n"
          ]
        }
      ]
    },
    {
      "cell_type": "code",
      "source": [
        "device = \"cuda\" if torch.cuda.is_available() else \"cpu\" #device agnostic code."
      ],
      "metadata": {
        "id": "8ABGGk3keb5R"
      },
      "execution_count": 80,
      "outputs": []
    },
    {
      "cell_type": "code",
      "source": [
        "# Now we will define a converter. It will do two things. Firstly we are about to call a class to apply transmutation on the table data.\n",
        "# Secondly we will broadcast it into the NCHW format.\n",
        "\n",
        "def tab2_img_xy(train,target,channels:int = 3):\n",
        "    model_converter = Tab2Img()\n",
        "    X = model_converter.fit_transform(train,target)\n",
        "    dim = X[0][1].shape \n",
        "\n",
        "    list_of_3d_img = []\n",
        "    for image in X:\n",
        "        list_of_3d_img.append(np.broadcast_to(image, (channels,dim[0],dim[0]))) \n",
        "\n",
        "    return torch.tensor(np.array(list_of_3d_img, dtype=np.float32))\n"
      ],
      "metadata": {
        "id": "wdABpOUvfguX"
      },
      "execution_count": 81,
      "outputs": []
    },
    {
      "cell_type": "code",
      "source": [
        "X_tensors_train = tab2_img_xy(X, y, 1) # calling the function to get tensors"
      ],
      "metadata": {
        "id": "1RfPEvkxgExP"
      },
      "execution_count": 84,
      "outputs": []
    },
    {
      "cell_type": "code",
      "source": [
        "X_tensors_train.shape # so we have all of our data in one tensor. Now it's time to plot it to check how it looks like."
      ],
      "metadata": {
        "colab": {
          "base_uri": "https://localhost:8080/"
        },
        "id": "y6B38oITgFAG",
        "outputId": "2d9b7cb5-f781-432c-bbb2-80453099e737"
      },
      "execution_count": 85,
      "outputs": [
        {
          "output_type": "execute_result",
          "data": {
            "text/plain": [
              "torch.Size([380, 1, 12, 12])"
            ]
          },
          "metadata": {},
          "execution_count": 85
        }
      ]
    },
    {
      "cell_type": "code",
      "source": [
        "plot_ranom_images(0,380,12,X_tensors_train, y, (18,18), (4,3) , 10) #hleper function that takes out random sample from tensor, transmute them to the HWC format (matplotlib do not understand PyTorch native image format)"
      ],
      "metadata": {
        "colab": {
          "base_uri": "https://localhost:8080/",
          "height": 1000
        },
        "id": "lrxO0M5GgFC5",
        "outputId": "07873c90-2915-49ad-84b6-bd58841fa099"
      },
      "execution_count": 86,
      "outputs": [
        {
          "output_type": "display_data",
          "data": {
            "text/plain": [
              "<Figure size 1296x1296 with 12 Axes>"
            ],
            "image/png": "[encoded data removed]"
          },
          "metadata": {
            "needs_background": "light"
          }
        }
      ]
    },
    {
      "cell_type": "code",
      "source": [
        " # This time I'm using whole dataframe for y labels, because I have already prebuild PyTorch DataSet Class that will handle extracting y values.\n",
        "train_tensor, test_tensor = train_test_split_ts(X_tensors_train, main, train_size=0.8)"
      ],
      "metadata": {
        "id": "EZdT9jVcgFFP"
      },
      "execution_count": 87,
      "outputs": []
    },
    {
      "cell_type": "code",
      "source": [
        "X_train_tensor, y_train_tensor = train_tensor\n",
        "X_test_tensor, y_test_tensor = test_tensor # unpacking tuples"
      ],
      "metadata": {
        "id": "frAKE2sggFIt"
      },
      "execution_count": 88,
      "outputs": []
    },
    {
      "cell_type": "code",
      "source": [
        "def get_classes(series: pd.core.series.Series):\n",
        "\n",
        "    classes = series.unique()\n",
        "    class_to_idx = {class_name: i for i, class_name in enumerate(classes)}\n",
        "\n",
        "    return classes, class_to_idx\n",
        "\n",
        "class MatchesDataset(torch.utils.data.Dataset):\n",
        "    def __init__(self, \n",
        "                 dataframe: pd.core.frame.DataFrame, #dataframe of results, we will gety Y_labels from this\n",
        "                 games: torch.Tensor, #tensor of X's\n",
        "                 transform=None): #we will not be using any transorm at this stage, but I'll leave as a boiler plate for further usage.\n",
        "        super().__init__()\n",
        "\n",
        "        self.dataframe = dataframe #a dataframe as it it.\n",
        "        self.games = games # our X's. We don't have to do anything with them, cause if we index this tensor, we will have a single image of a game from it.\n",
        "        self.hda = self.dataframe[\"FTR\"].to_numpy() #we are transforming pandas datafram to numpy array of Home/Draw/Away labels.\n",
        "        self.classes, self.class_to_idx = get_classes(dataframe[\"FTR\"]) #we are unpacking a function that will return us a mapped y labels.\n",
        "        self.labels = torch.tensor(np.vectorize(self.class_to_idx.get)(self.hda)) #and here we are using np.vectorize to turn coresponding labels into values from 0 to 2 and then we turn them into a tensor.\n",
        "\n",
        "\n",
        "    def __len__(self) -> int:\n",
        "        return len(self.labels) #overwriting __len__\n",
        "\n",
        "    def __getitem__(self, index: int): #overwriting __getitem__ and returning X&y's\n",
        "    \n",
        "        X = self.games[index]\n",
        "        y = self.labels[index]\n",
        "        \n",
        "        return X,y\n"
      ],
      "metadata": {
        "id": "OamY5WPujn1u"
      },
      "execution_count": 89,
      "outputs": []
    },
    {
      "cell_type": "code",
      "source": [
        "# Here we initialize a class to create a PyTorch Datasets\n",
        "train_dataset = MatchesDataset(y_train_tensor,X_train_tensor) \n",
        "test_dataset = MatchesDataset(y_test_tensor,X_test_tensor)"
      ],
      "metadata": {
        "id": "0pwonNtyjoAM"
      },
      "execution_count": 90,
      "outputs": []
    },
    {
      "cell_type": "code",
      "source": [
        "#And this part of code is clustering data into minibatches and preparing an efficient datapipe for the CNN \n",
        "train_loader_tab2img = DataLoader(train_dataset, 16, shuffle=False) # we are not shuffling, to be consistent. \n",
        "test_loader_tab2img = DataLoader(test_dataset)"
      ],
      "metadata": {
        "id": "D3uu39aSjoKC"
      },
      "execution_count": 91,
      "outputs": []
    },
    {
      "cell_type": "code",
      "source": [
        "# It's not exactly a DeepInsight, but it's a similar, despite hyperparams may vary. Remember, it's a baseline only!\n",
        "class DeepInsightStyleNN(nn.Module): \n",
        "    def __init__(self, input_shape: int, hidden_units: int, output_shape: int,) -> None:\n",
        "\n",
        "\n",
        "        super().__init__()\n",
        "\n",
        "        self.conv_block_1 = nn.Sequential(\n",
        "            nn.Conv2d(in_channels = input_shape,\n",
        "                      out_channels = hidden_units,\n",
        "                      kernel_size=3, stride=1, padding=1),\n",
        "            nn.BatchNorm2d(num_features = hidden_units),\n",
        "            nn.ReLU(),\n",
        "            nn.MaxPool2d(kernel_size=2, stride=2)\n",
        "            )\n",
        "        \n",
        "        self.conv_block_2 = nn.Sequential(\n",
        "            nn.Conv2d(in_channels = hidden_units,\n",
        "                      out_channels = hidden_units,\n",
        "                      kernel_size=3, stride=1, padding=1),\n",
        "            nn.BatchNorm2d(num_features = hidden_units),\n",
        "            nn.ReLU(),\n",
        "            nn.MaxPool2d(kernel_size=2, stride=2)\n",
        "            )\n",
        "        \n",
        "        self.conv_block_3 = nn.Sequential(\n",
        "            nn.Conv2d(in_channels = hidden_units,\n",
        "                      out_channels = hidden_units,\n",
        "                      kernel_size=3, stride=1, padding=1),\n",
        "            nn.BatchNorm2d(num_features = hidden_units),\n",
        "            nn.ReLU(),\n",
        "            nn.MaxPool2d(kernel_size=2, stride=2)\n",
        "            )\n",
        "        \n",
        "        self.conv_block_3_5 = nn.Sequential(\n",
        "            nn.Conv2d(in_channels = hidden_units,\n",
        "                      out_channels = hidden_units,\n",
        "                      kernel_size=3, stride=1, padding=1),\n",
        "            nn.BatchNorm2d(num_features = hidden_units),\n",
        "            nn.ReLU(),\n",
        "            )\n",
        "        \n",
        "        self.classifier_layer = nn.Sequential(\n",
        "            nn.Flatten(),\n",
        "            nn.Linear(in_features=hidden_units,\n",
        "                      out_features=output_shape),\n",
        "            nn.Softmax()\n",
        "            )\n",
        "\n",
        "    def forward(self, x):\n",
        "        return self.classifier_layer(self.conv_block_3_5(self.conv_block_3(self.conv_block_2(self.conv_block_1(x)))))   #for efficiency on cuda computing we are doing this in one line."
      ],
      "metadata": {
        "id": "5kTWh51hjoR-"
      },
      "execution_count": 92,
      "outputs": []
    },
    {
      "cell_type": "code",
      "source": [
        "deep_in_model = DeepInsightStyleNN(input_shape=1,\n",
        "                    hidden_units=10,\n",
        "                    output_shape=np.unique(y).shape[0]).to(device) # initialize the model"
      ],
      "metadata": {
        "id": "MuEN8Uk5oekx"
      },
      "execution_count": 93,
      "outputs": []
    },
    {
      "cell_type": "code",
      "source": [
        "deep_in_model.eval()\n",
        "with torch.inference_mode():\n",
        "    preds = deep_in_model(X_tensors_train) # check if the output have sense"
      ],
      "metadata": {
        "id": "MIXdgGdYofAl",
        "colab": {
          "base_uri": "https://localhost:8080/"
        },
        "outputId": "97d0f583-5aa0-4418-f66f-14d44fac68ea"
      },
      "execution_count": 94,
      "outputs": [
        {
          "output_type": "stream",
          "name": "stderr",
          "text": [
            "/usr/local/lib/python3.7/dist-packages/torch/nn/modules/container.py:139: UserWarning: Implicit dimension choice for softmax has been deprecated. Change the call to include dim=X as an argument.\n",
            "  input = module(input)\n"
          ]
        }
      ]
    },
    {
      "cell_type": "code",
      "source": [
        "preds.shape # indeed, it have proper shape."
      ],
      "metadata": {
        "colab": {
          "base_uri": "https://localhost:8080/"
        },
        "id": "P2wd5fjEofDf",
        "outputId": "6d399458-1345-452f-9b99-6eda2049ac97"
      },
      "execution_count": 95,
      "outputs": [
        {
          "output_type": "execute_result",
          "data": {
            "text/plain": [
              "torch.Size([380, 3])"
            ]
          },
          "metadata": {},
          "execution_count": 95
        }
      ]
    },
    {
      "cell_type": "code",
      "source": [
        "#Here we have to define metrics, loss function and optimizer\n",
        "\n",
        "optimizer_deep = torch.optim.Adam(deep_in_model.parameters(),lr=0.001) #Adam as an optimizer\n",
        "loss_fn_deep = nn.CrossEntropyLoss() #Cause we are dealing with multicategory classification, we will use Cross Entropy\n",
        "acc_deep = torchmetrics.Accuracy(3).to(device) #and we also initialize class from torchmetrics and send it to device(cuda). "
      ],
      "metadata": {
        "id": "1MgriBTIofGx"
      },
      "execution_count": 96,
      "outputs": []
    },
    {
      "cell_type": "code",
      "source": [
        "# And it's a training time\n",
        "for epoch in tqdm(range(180)):\n",
        "\n",
        "    print(f\"Epoch: {epoch}\\n======\")\n",
        "\n",
        "    train_step(deep_in_model,train_loader_tab2img,loss_fn_deep, optimizer_deep, acc_deep, device)\n",
        "    test_step(deep_in_model,test_loader_tab2img,loss_fn_deep, acc_deep, device)\n"
      ],
      "metadata": {
        "colab": {
          "base_uri": "https://localhost:8080/"
        },
        "id": "i-vUqxMVofJA",
        "outputId": "93b7acc1-7af2-4ed3-c804-ff8712fff724"
      },
      "execution_count": 97,
      "outputs": [
        {
          "output_type": "stream",
          "name": "stderr",
          "text": [
            "\r  0%|          | 0/180 [00:00<?, ?it/s]"
          ]
        },
        {
          "output_type": "stream",
          "name": "stdout",
          "text": [
            "Epoch: 0\n",
            "======\n",
            "\n",
            "Current training loss: 1.0822710990905762\n",
            "Current training acc: 0.40460526943206787%\n",
            "\n"
          ]
        },
        {
          "output_type": "stream",
          "name": "stderr",
          "text": [
            "\n",
            "  0%|          | 0/76 [00:00<?, ?it/s]\u001b[A\n",
            "100%|██████████| 76/76 [00:00<00:00, 563.39it/s]\n",
            "  1%|          | 1/180 [00:00<01:03,  2.81it/s]"
          ]
        },
        {
          "output_type": "stream",
          "name": "stdout",
          "text": [
            "\n",
            "Current test loss: 1.0794661045074463\n",
            "Current test acc: 0.4736842215061188%\n",
            "\n",
            "Epoch: 1\n",
            "======\n",
            "\n",
            "Current training loss: 1.0456340312957764\n",
            "Current training acc: 0.5197368264198303%\n",
            "\n"
          ]
        },
        {
          "output_type": "stream",
          "name": "stderr",
          "text": [
            "\n",
            "  0%|          | 0/76 [00:00<?, ?it/s]\u001b[A\n",
            "100%|██████████| 76/76 [00:00<00:00, 609.79it/s]\n",
            "  1%|          | 2/180 [00:00<00:51,  3.48it/s]"
          ]
        },
        {
          "output_type": "stream",
          "name": "stdout",
          "text": [
            "\n",
            "Current test loss: 1.1125271320343018\n",
            "Current test acc: 0.2631579041481018%\n",
            "\n",
            "Epoch: 2\n",
            "======\n",
            "\n",
            "Current training loss: 1.031333565711975\n",
            "Current training acc: 0.5526315569877625%\n",
            "\n"
          ]
        },
        {
          "output_type": "stream",
          "name": "stderr",
          "text": [
            "\n",
            "  0%|          | 0/76 [00:00<?, ?it/s]\u001b[A\n",
            "100%|██████████| 76/76 [00:00<00:00, 571.88it/s]\n",
            "  2%|▏         | 3/180 [00:00<00:47,  3.76it/s]"
          ]
        },
        {
          "output_type": "stream",
          "name": "stdout",
          "text": [
            "\n",
            "Current test loss: 1.133478045463562\n",
            "Current test acc: 0.2631579041481018%\n",
            "\n",
            "Epoch: 3\n",
            "======\n",
            "\n",
            "Current training loss: 1.0212490558624268\n",
            "Current training acc: 0.5592105388641357%\n",
            "\n"
          ]
        },
        {
          "output_type": "stream",
          "name": "stderr",
          "text": [
            "\n",
            "  0%|          | 0/76 [00:00<?, ?it/s]\u001b[A\n",
            "100%|██████████| 76/76 [00:00<00:00, 620.02it/s]\n",
            "  2%|▏         | 4/180 [00:01<00:46,  3.81it/s]"
          ]
        },
        {
          "output_type": "stream",
          "name": "stdout",
          "text": [
            "\n",
            "Current test loss: 1.174180507659912\n",
            "Current test acc: 0.2631579041481018%\n",
            "\n",
            "Epoch: 4\n",
            "======\n",
            "\n",
            "Current training loss: 1.0131149291992188\n",
            "Current training acc: 0.5625%\n",
            "\n"
          ]
        },
        {
          "output_type": "stream",
          "name": "stderr",
          "text": [
            "\n",
            "  0%|          | 0/76 [00:00<?, ?it/s]\u001b[A\n",
            "100%|██████████| 76/76 [00:00<00:00, 587.24it/s]\n",
            "  3%|▎         | 5/180 [00:01<00:44,  3.91it/s]"
          ]
        },
        {
          "output_type": "stream",
          "name": "stdout",
          "text": [
            "\n",
            "Current test loss: 1.1956110000610352\n",
            "Current test acc: 0.2368421107530594%\n",
            "\n",
            "Epoch: 5\n",
            "======\n",
            "\n",
            "Current training loss: 1.0069780349731445\n",
            "Current training acc: 0.5723684430122375%\n",
            "\n"
          ]
        },
        {
          "output_type": "stream",
          "name": "stderr",
          "text": [
            "\n",
            "  0%|          | 0/76 [00:00<?, ?it/s]\u001b[A\n",
            "100%|██████████| 76/76 [00:00<00:00, 638.83it/s]\n",
            "  3%|▎         | 6/180 [00:01<00:44,  3.87it/s]"
          ]
        },
        {
          "output_type": "stream",
          "name": "stdout",
          "text": [
            "\n",
            "Current test loss: 1.2235397100448608\n",
            "Current test acc: 0.19736842811107635%\n",
            "\n",
            "Epoch: 6\n",
            "======\n",
            "\n",
            "Current training loss: 1.0005046129226685\n",
            "Current training acc: 0.5723684430122375%\n",
            "\n"
          ]
        },
        {
          "output_type": "stream",
          "name": "stderr",
          "text": [
            "\n",
            "  0%|          | 0/76 [00:00<?, ?it/s]\u001b[A\n",
            "100%|██████████| 76/76 [00:00<00:00, 630.31it/s]\n",
            "  4%|▍         | 7/180 [00:01<00:43,  4.01it/s]"
          ]
        },
        {
          "output_type": "stream",
          "name": "stdout",
          "text": [
            "\n",
            "Current test loss: 1.23577082157135\n",
            "Current test acc: 0.21052631735801697%\n",
            "\n",
            "Epoch: 7\n",
            "======\n",
            "\n",
            "Current training loss: 0.9954546093940735\n",
            "Current training acc: 0.5690789222717285%\n",
            "\n"
          ]
        },
        {
          "output_type": "stream",
          "name": "stderr",
          "text": [
            "\n",
            "  0%|          | 0/76 [00:00<?, ?it/s]\u001b[A\n",
            "100%|██████████| 76/76 [00:00<00:00, 547.94it/s]\n",
            "  4%|▍         | 8/180 [00:02<00:44,  3.84it/s]"
          ]
        },
        {
          "output_type": "stream",
          "name": "stdout",
          "text": [
            "\n",
            "Current test loss: 1.2307672500610352\n",
            "Current test acc: 0.2368421107530594%\n",
            "\n",
            "Epoch: 8\n",
            "======\n",
            "\n",
            "Current training loss: 0.9933936595916748\n",
            "Current training acc: 0.5690789222717285%\n",
            "\n"
          ]
        },
        {
          "output_type": "stream",
          "name": "stderr",
          "text": [
            "\n",
            "  0%|          | 0/76 [00:00<?, ?it/s]\u001b[A\n",
            "100%|██████████| 76/76 [00:00<00:00, 516.71it/s]\n",
            "  5%|▌         | 9/180 [00:02<00:44,  3.80it/s]"
          ]
        },
        {
          "output_type": "stream",
          "name": "stdout",
          "text": [
            "\n",
            "Current test loss: 1.244702696800232\n",
            "Current test acc: 0.30263158679008484%\n",
            "\n",
            "Epoch: 9\n",
            "======\n",
            "\n",
            "Current training loss: 0.9923107028007507\n",
            "Current training acc: 0.5559210777282715%\n",
            "\n"
          ]
        },
        {
          "output_type": "stream",
          "name": "stderr",
          "text": [
            "\n",
            "  0%|          | 0/76 [00:00<?, ?it/s]\u001b[A\n",
            "100%|██████████| 76/76 [00:00<00:00, 608.43it/s]\n",
            "  6%|▌         | 10/180 [00:02<00:43,  3.89it/s]"
          ]
        },
        {
          "output_type": "stream",
          "name": "stdout",
          "text": [
            "\n",
            "Current test loss: 1.2306638956069946\n",
            "Current test acc: 0.25%\n",
            "\n",
            "Epoch: 10\n",
            "======\n",
            "\n",
            "Current training loss: 0.9862443804740906\n",
            "Current training acc: 0.5756579041481018%\n",
            "\n"
          ]
        },
        {
          "output_type": "stream",
          "name": "stderr",
          "text": [
            "\n",
            "  0%|          | 0/76 [00:00<?, ?it/s]\u001b[A\n",
            "100%|██████████| 76/76 [00:00<00:00, 577.22it/s]\n",
            "  6%|▌         | 11/180 [00:02<00:43,  3.92it/s]"
          ]
        },
        {
          "output_type": "stream",
          "name": "stdout",
          "text": [
            "\n",
            "Current test loss: 1.2387348413467407\n",
            "Current test acc: 0.22368420660495758%\n",
            "\n",
            "Epoch: 11\n",
            "======\n",
            "\n",
            "Current training loss: 0.9818074107170105\n",
            "Current training acc: 0.5723684430122375%\n",
            "\n"
          ]
        },
        {
          "output_type": "stream",
          "name": "stderr",
          "text": [
            "\n",
            "  0%|          | 0/76 [00:00<?, ?it/s]\u001b[A\n",
            "100%|██████████| 76/76 [00:00<00:00, 595.45it/s]\n",
            "  7%|▋         | 12/180 [00:03<00:42,  3.93it/s]"
          ]
        },
        {
          "output_type": "stream",
          "name": "stdout",
          "text": [
            "\n",
            "Current test loss: 1.2604546546936035\n",
            "Current test acc: 0.21052631735801697%\n",
            "\n",
            "Epoch: 12\n",
            "======\n",
            "\n",
            "Current training loss: 0.9791433215141296\n",
            "Current training acc: 0.5690789222717285%\n",
            "\n"
          ]
        },
        {
          "output_type": "stream",
          "name": "stderr",
          "text": [
            "\n",
            "  0%|          | 0/76 [00:00<?, ?it/s]\u001b[A\n",
            "100%|██████████| 76/76 [00:00<00:00, 596.27it/s]\n",
            "  7%|▋         | 13/180 [00:03<00:42,  3.97it/s]"
          ]
        },
        {
          "output_type": "stream",
          "name": "stdout",
          "text": [
            "\n",
            "Current test loss: 1.219102382659912\n",
            "Current test acc: 0.2631579041481018%\n",
            "\n",
            "Epoch: 13\n",
            "======\n",
            "\n",
            "Current training loss: 0.9764010906219482\n",
            "Current training acc: 0.5756579041481018%\n",
            "\n"
          ]
        },
        {
          "output_type": "stream",
          "name": "stderr",
          "text": [
            "\n",
            "  0%|          | 0/76 [00:00<?, ?it/s]\u001b[A\n",
            "100%|██████████| 76/76 [00:00<00:00, 642.86it/s]\n",
            "  8%|▊         | 14/180 [00:03<00:41,  4.01it/s]"
          ]
        },
        {
          "output_type": "stream",
          "name": "stdout",
          "text": [
            "\n",
            "Current test loss: 1.2675020694732666\n",
            "Current test acc: 0.21052631735801697%\n",
            "\n",
            "Epoch: 14\n",
            "======\n",
            "\n",
            "Current training loss: 0.974521815776825\n",
            "Current training acc: 0.5723684430122375%\n",
            "\n"
          ]
        },
        {
          "output_type": "stream",
          "name": "stderr",
          "text": [
            "\n",
            "  0%|          | 0/76 [00:00<?, ?it/s]\u001b[A\n",
            "100%|██████████| 76/76 [00:00<00:00, 617.23it/s]\n",
            "  8%|▊         | 15/180 [00:03<00:40,  4.03it/s]"
          ]
        },
        {
          "output_type": "stream",
          "name": "stdout",
          "text": [
            "\n",
            "Current test loss: 1.234214186668396\n",
            "Current test acc: 0.2368421107530594%\n",
            "\n",
            "Epoch: 15\n",
            "======\n",
            "\n",
            "Current training loss: 0.9723880290985107\n",
            "Current training acc: 0.5789473652839661%\n",
            "\n"
          ]
        },
        {
          "output_type": "stream",
          "name": "stderr",
          "text": [
            "\n",
            "  0%|          | 0/76 [00:00<?, ?it/s]\u001b[A\n",
            "100%|██████████| 76/76 [00:00<00:00, 622.91it/s]\n",
            "  9%|▉         | 16/180 [00:04<00:40,  4.02it/s]"
          ]
        },
        {
          "output_type": "stream",
          "name": "stdout",
          "text": [
            "\n",
            "Current test loss: 1.25006902217865\n",
            "Current test acc: 0.2368421107530594%\n",
            "\n",
            "Epoch: 16\n",
            "======\n",
            "\n",
            "Current training loss: 0.9709097146987915\n",
            "Current training acc: 0.5723684430122375%\n",
            "\n"
          ]
        },
        {
          "output_type": "stream",
          "name": "stderr",
          "text": [
            "\n",
            "  0%|          | 0/76 [00:00<?, ?it/s]\u001b[A\n",
            "100%|██████████| 76/76 [00:00<00:00, 561.70it/s]\n",
            "  9%|▉         | 17/180 [00:04<00:40,  4.01it/s]"
          ]
        },
        {
          "output_type": "stream",
          "name": "stdout",
          "text": [
            "\n",
            "Current test loss: 1.2600562572479248\n",
            "Current test acc: 0.21052631735801697%\n",
            "\n",
            "Epoch: 17\n",
            "======\n",
            "\n",
            "Current training loss: 0.9697645306587219\n",
            "Current training acc: 0.5756579041481018%\n",
            "\n"
          ]
        },
        {
          "output_type": "stream",
          "name": "stderr",
          "text": [
            "\n",
            "  0%|          | 0/76 [00:00<?, ?it/s]\u001b[A\n",
            "100%|██████████| 76/76 [00:00<00:00, 625.16it/s]\n",
            " 10%|█         | 18/180 [00:04<00:39,  4.06it/s]"
          ]
        },
        {
          "output_type": "stream",
          "name": "stdout",
          "text": [
            "\n",
            "Current test loss: 1.2648144960403442\n",
            "Current test acc: 0.22368420660495758%\n",
            "\n",
            "Epoch: 18\n",
            "======\n",
            "\n",
            "Current training loss: 0.9679560661315918\n",
            "Current training acc: 0.5789473652839661%\n",
            "\n"
          ]
        },
        {
          "output_type": "stream",
          "name": "stderr",
          "text": [
            "\n",
            "  0%|          | 0/76 [00:00<?, ?it/s]\u001b[A\n",
            "100%|██████████| 76/76 [00:00<00:00, 503.37it/s]\n",
            " 11%|█         | 19/180 [00:04<00:40,  3.97it/s]"
          ]
        },
        {
          "output_type": "stream",
          "name": "stdout",
          "text": [
            "\n",
            "Current test loss: 1.2287087440490723\n",
            "Current test acc: 0.2763157784938812%\n",
            "\n",
            "Epoch: 19\n",
            "======\n",
            "\n",
            "Current training loss: 0.9667117595672607\n",
            "Current training acc: 0.5756579041481018%\n",
            "\n"
          ]
        },
        {
          "output_type": "stream",
          "name": "stderr",
          "text": [
            "\n",
            "  0%|          | 0/76 [00:00<?, ?it/s]\u001b[A\n",
            "100%|██████████| 76/76 [00:00<00:00, 608.15it/s]\n",
            " 11%|█         | 20/180 [00:05<00:40,  3.94it/s]"
          ]
        },
        {
          "output_type": "stream",
          "name": "stdout",
          "text": [
            "\n",
            "Current test loss: 1.272379755973816\n",
            "Current test acc: 0.2368421107530594%\n",
            "\n",
            "Epoch: 20\n",
            "======\n",
            "\n",
            "Current training loss: 0.9663745760917664\n",
            "Current training acc: 0.5822368264198303%\n",
            "\n"
          ]
        },
        {
          "output_type": "stream",
          "name": "stderr",
          "text": [
            "\n",
            "  0%|          | 0/76 [00:00<?, ?it/s]\u001b[A\n",
            "100%|██████████| 76/76 [00:00<00:00, 581.30it/s]\n",
            " 12%|█▏        | 21/180 [00:05<00:40,  3.94it/s]"
          ]
        },
        {
          "output_type": "stream",
          "name": "stdout",
          "text": [
            "\n",
            "Current test loss: 1.262573003768921\n",
            "Current test acc: 0.2368421107530594%\n",
            "\n",
            "Epoch: 21\n",
            "======\n",
            "\n",
            "Current training loss: 0.9661574959754944\n",
            "Current training acc: 0.5756579041481018%\n",
            "\n"
          ]
        },
        {
          "output_type": "stream",
          "name": "stderr",
          "text": [
            "\n",
            "  0%|          | 0/76 [00:00<?, ?it/s]\u001b[A\n",
            "100%|██████████| 76/76 [00:00<00:00, 650.93it/s]\n",
            " 12%|█▏        | 22/180 [00:05<00:39,  4.01it/s]"
          ]
        },
        {
          "output_type": "stream",
          "name": "stdout",
          "text": [
            "\n",
            "Current test loss: 1.2277334928512573\n",
            "Current test acc: 0.28947368264198303%\n",
            "\n",
            "Epoch: 22\n",
            "======\n",
            "\n",
            "Current training loss: 0.9660150408744812\n",
            "Current training acc: 0.5822368264198303%\n",
            "\n"
          ]
        },
        {
          "output_type": "stream",
          "name": "stderr",
          "text": [
            "\n",
            "  0%|          | 0/76 [00:00<?, ?it/s]\u001b[A\n",
            "100%|██████████| 76/76 [00:00<00:00, 585.20it/s]\n",
            " 13%|█▎        | 23/180 [00:05<00:39,  4.02it/s]"
          ]
        },
        {
          "output_type": "stream",
          "name": "stdout",
          "text": [
            "\n",
            "Current test loss: 1.2532541751861572\n",
            "Current test acc: 0.2631579041481018%\n",
            "\n",
            "Epoch: 23\n",
            "======\n",
            "\n",
            "Current training loss: 0.9644743204116821\n",
            "Current training acc: 0.5822368264198303%\n",
            "\n"
          ]
        },
        {
          "output_type": "stream",
          "name": "stderr",
          "text": [
            "\n",
            "  0%|          | 0/76 [00:00<?, ?it/s]\u001b[A\n",
            "100%|██████████| 76/76 [00:00<00:00, 506.02it/s]\n",
            " 13%|█▎        | 24/180 [00:06<00:40,  3.87it/s]"
          ]
        },
        {
          "output_type": "stream",
          "name": "stdout",
          "text": [
            "\n",
            "Current test loss: 1.2955178022384644\n",
            "Current test acc: 0.21052631735801697%\n",
            "\n",
            "Epoch: 24\n",
            "======\n",
            "\n",
            "Current training loss: 0.9630559682846069\n",
            "Current training acc: 0.5822368264198303%\n",
            "\n"
          ]
        },
        {
          "output_type": "stream",
          "name": "stderr",
          "text": [
            "\n",
            "  0%|          | 0/76 [00:00<?, ?it/s]\u001b[A\n",
            "100%|██████████| 76/76 [00:00<00:00, 587.32it/s]\n",
            " 14%|█▍        | 25/180 [00:06<00:41,  3.77it/s]"
          ]
        },
        {
          "output_type": "stream",
          "name": "stdout",
          "text": [
            "\n",
            "Current test loss: 1.2726444005966187\n",
            "Current test acc: 0.2368421107530594%\n",
            "\n",
            "Epoch: 25\n",
            "======\n",
            "\n",
            "Current training loss: 0.9631931185722351\n",
            "Current training acc: 0.5789473652839661%\n",
            "\n"
          ]
        },
        {
          "output_type": "stream",
          "name": "stderr",
          "text": [
            "\n",
            "  0%|          | 0/76 [00:00<?, ?it/s]\u001b[A\n",
            "100%|██████████| 76/76 [00:00<00:00, 620.46it/s]\n",
            " 14%|█▍        | 26/180 [00:06<00:39,  3.87it/s]"
          ]
        },
        {
          "output_type": "stream",
          "name": "stdout",
          "text": [
            "\n",
            "Current test loss: 1.28971529006958\n",
            "Current test acc: 0.21052631735801697%\n",
            "\n",
            "Epoch: 26\n",
            "======\n",
            "\n",
            "Current training loss: 0.9619544148445129\n",
            "Current training acc: 0.5756579041481018%\n",
            "\n"
          ]
        },
        {
          "output_type": "stream",
          "name": "stderr",
          "text": [
            "\n",
            "  0%|          | 0/76 [00:00<?, ?it/s]\u001b[A\n",
            "100%|██████████| 76/76 [00:00<00:00, 562.24it/s]\n",
            " 15%|█▌        | 27/180 [00:06<00:39,  3.86it/s]"
          ]
        },
        {
          "output_type": "stream",
          "name": "stdout",
          "text": [
            "\n",
            "Current test loss: 1.2739776372909546\n",
            "Current test acc: 0.22368420660495758%\n",
            "\n",
            "Epoch: 27\n",
            "======\n",
            "\n",
            "Current training loss: 0.9609358906745911\n",
            "Current training acc: 0.5789473652839661%\n",
            "\n"
          ]
        },
        {
          "output_type": "stream",
          "name": "stderr",
          "text": [
            "\n",
            "  0%|          | 0/76 [00:00<?, ?it/s]\u001b[A\n",
            "100%|██████████| 76/76 [00:00<00:00, 587.61it/s]\n",
            " 16%|█▌        | 28/180 [00:07<00:39,  3.87it/s]"
          ]
        },
        {
          "output_type": "stream",
          "name": "stdout",
          "text": [
            "\n",
            "Current test loss: 1.2921618223190308\n",
            "Current test acc: 0.21052631735801697%\n",
            "\n",
            "Epoch: 28\n",
            "======\n",
            "\n",
            "Current training loss: 0.9602903127670288\n",
            "Current training acc: 0.5756579041481018%\n",
            "\n"
          ]
        },
        {
          "output_type": "stream",
          "name": "stderr",
          "text": [
            "\n",
            "  0%|          | 0/76 [00:00<?, ?it/s]\u001b[A\n",
            "100%|██████████| 76/76 [00:00<00:00, 685.08it/s]\n",
            " 16%|█▌        | 29/180 [00:07<00:37,  3.98it/s]"
          ]
        },
        {
          "output_type": "stream",
          "name": "stdout",
          "text": [
            "\n",
            "Current test loss: 1.294642686843872\n",
            "Current test acc: 0.21052631735801697%\n",
            "\n",
            "Epoch: 29\n",
            "======\n",
            "\n",
            "Current training loss: 0.9592844247817993\n",
            "Current training acc: 0.5921052694320679%\n",
            "\n"
          ]
        },
        {
          "output_type": "stream",
          "name": "stderr",
          "text": [
            "\n",
            "  0%|          | 0/76 [00:00<?, ?it/s]\u001b[A\n",
            "100%|██████████| 76/76 [00:00<00:00, 625.27it/s]\n",
            " 17%|█▋        | 30/180 [00:07<00:37,  3.97it/s]"
          ]
        },
        {
          "output_type": "stream",
          "name": "stdout",
          "text": [
            "\n",
            "Current test loss: 1.2959606647491455\n",
            "Current test acc: 0.21052631735801697%\n",
            "\n",
            "Epoch: 30\n",
            "======\n",
            "\n",
            "Current training loss: 0.9587395191192627\n",
            "Current training acc: 0.5888158082962036%\n",
            "\n"
          ]
        },
        {
          "output_type": "stream",
          "name": "stderr",
          "text": [
            "\n",
            "  0%|          | 0/76 [00:00<?, ?it/s]\u001b[A\n",
            "100%|██████████| 76/76 [00:00<00:00, 615.11it/s]\n",
            " 17%|█▋        | 31/180 [00:07<00:37,  3.96it/s]"
          ]
        },
        {
          "output_type": "stream",
          "name": "stdout",
          "text": [
            "\n",
            "Current test loss: 1.2794294357299805\n",
            "Current test acc: 0.21052631735801697%\n",
            "\n",
            "Epoch: 31\n",
            "======\n",
            "\n",
            "Current training loss: 0.9578753113746643\n",
            "Current training acc: 0.5921052694320679%\n",
            "\n"
          ]
        },
        {
          "output_type": "stream",
          "name": "stderr",
          "text": [
            "\n",
            "  0%|          | 0/76 [00:00<?, ?it/s]\u001b[A\n",
            "100%|██████████| 76/76 [00:00<00:00, 630.34it/s]\n",
            " 18%|█▊        | 32/180 [00:08<00:37,  3.90it/s]"
          ]
        },
        {
          "output_type": "stream",
          "name": "stdout",
          "text": [
            "\n",
            "Current test loss: 1.3054226636886597\n",
            "Current test acc: 0.19736842811107635%\n",
            "\n",
            "Epoch: 32\n",
            "======\n",
            "\n",
            "Current training loss: 0.957660973072052\n",
            "Current training acc: 0.5953947305679321%\n",
            "\n"
          ]
        },
        {
          "output_type": "stream",
          "name": "stderr",
          "text": [
            "\n",
            "  0%|          | 0/76 [00:00<?, ?it/s]\u001b[A\n",
            "100%|██████████| 76/76 [00:00<00:00, 648.38it/s]\n",
            " 18%|█▊        | 33/180 [00:08<00:37,  3.92it/s]"
          ]
        },
        {
          "output_type": "stream",
          "name": "stdout",
          "text": [
            "\n",
            "Current test loss: 1.3008475303649902\n",
            "Current test acc: 0.21052631735801697%\n",
            "\n",
            "Epoch: 33\n",
            "======\n",
            "\n",
            "Current training loss: 0.9567453265190125\n",
            "Current training acc: 0.5953947305679321%\n",
            "\n"
          ]
        },
        {
          "output_type": "stream",
          "name": "stderr",
          "text": [
            "\n",
            "  0%|          | 0/76 [00:00<?, ?it/s]\u001b[A\n",
            "100%|██████████| 76/76 [00:00<00:00, 611.50it/s]\n",
            " 19%|█▉        | 34/180 [00:08<00:36,  3.95it/s]"
          ]
        },
        {
          "output_type": "stream",
          "name": "stdout",
          "text": [
            "\n",
            "Current test loss: 1.3116909265518188\n",
            "Current test acc: 0.19736842811107635%\n",
            "\n",
            "Epoch: 34\n",
            "======\n",
            "\n",
            "Current training loss: 0.9557738304138184\n",
            "Current training acc: 0.5953947305679321%\n",
            "\n"
          ]
        },
        {
          "output_type": "stream",
          "name": "stderr",
          "text": [
            "\n",
            "  0%|          | 0/76 [00:00<?, ?it/s]\u001b[A\n",
            "100%|██████████| 76/76 [00:00<00:00, 534.73it/s]\n",
            " 19%|█▉        | 35/180 [00:08<00:36,  3.93it/s]"
          ]
        },
        {
          "output_type": "stream",
          "name": "stdout",
          "text": [
            "\n",
            "Current test loss: 1.2688523530960083\n",
            "Current test acc: 0.25%\n",
            "\n",
            "Epoch: 35\n",
            "======\n",
            "\n",
            "Current training loss: 0.9547305703163147\n",
            "Current training acc: 0.5953947305679321%\n",
            "\n"
          ]
        },
        {
          "output_type": "stream",
          "name": "stderr",
          "text": [
            "\n",
            "  0%|          | 0/76 [00:00<?, ?it/s]\u001b[A\n",
            "100%|██████████| 76/76 [00:00<00:00, 589.19it/s]\n",
            " 20%|██        | 36/180 [00:09<00:37,  3.88it/s]"
          ]
        },
        {
          "output_type": "stream",
          "name": "stdout",
          "text": [
            "\n",
            "Current test loss: 1.2976890802383423\n",
            "Current test acc: 0.2368421107530594%\n",
            "\n",
            "Epoch: 36\n",
            "======\n",
            "\n",
            "Current training loss: 0.9584385752677917\n",
            "Current training acc: 0.5822368264198303%\n",
            "\n"
          ]
        },
        {
          "output_type": "stream",
          "name": "stderr",
          "text": [
            "\n",
            "  0%|          | 0/76 [00:00<?, ?it/s]\u001b[A\n",
            "100%|██████████| 76/76 [00:00<00:00, 650.25it/s]\n",
            " 21%|██        | 37/180 [00:09<00:36,  3.92it/s]"
          ]
        },
        {
          "output_type": "stream",
          "name": "stdout",
          "text": [
            "\n",
            "Current test loss: 1.263534665107727\n",
            "Current test acc: 0.21052631735801697%\n",
            "\n",
            "Epoch: 37\n",
            "======\n",
            "\n",
            "Current training loss: 0.9561064839363098\n",
            "Current training acc: 0.5986841917037964%\n",
            "\n"
          ]
        },
        {
          "output_type": "stream",
          "name": "stderr",
          "text": [
            "\n",
            "  0%|          | 0/76 [00:00<?, ?it/s]\u001b[A\n",
            "100%|██████████| 76/76 [00:00<00:00, 589.28it/s]\n",
            " 21%|██        | 38/180 [00:09<00:36,  3.88it/s]"
          ]
        },
        {
          "output_type": "stream",
          "name": "stdout",
          "text": [
            "\n",
            "Current test loss: 1.288134217262268\n",
            "Current test acc: 0.2631579041481018%\n",
            "\n",
            "Epoch: 38\n",
            "======\n",
            "\n",
            "Current training loss: 0.9553161263465881\n",
            "Current training acc: 0.5921052694320679%\n",
            "\n"
          ]
        },
        {
          "output_type": "stream",
          "name": "stderr",
          "text": [
            "\n",
            "  0%|          | 0/76 [00:00<?, ?it/s]\u001b[A\n",
            "100%|██████████| 76/76 [00:00<00:00, 568.01it/s]\n",
            " 22%|██▏       | 39/180 [00:09<00:36,  3.91it/s]"
          ]
        },
        {
          "output_type": "stream",
          "name": "stdout",
          "text": [
            "\n",
            "Current test loss: 1.3165427446365356\n",
            "Current test acc: 0.21052631735801697%\n",
            "\n",
            "Epoch: 39\n",
            "======\n",
            "\n",
            "Current training loss: 0.9532175660133362\n",
            "Current training acc: 0.5953947305679321%\n",
            "\n"
          ]
        },
        {
          "output_type": "stream",
          "name": "stderr",
          "text": [
            "\n",
            "  0%|          | 0/76 [00:00<?, ?it/s]\u001b[A\n",
            "100%|██████████| 76/76 [00:00<00:00, 554.42it/s]\n",
            " 22%|██▏       | 40/180 [00:10<00:37,  3.78it/s]"
          ]
        },
        {
          "output_type": "stream",
          "name": "stdout",
          "text": [
            "\n",
            "Current test loss: 1.2810418605804443\n",
            "Current test acc: 0.2763157784938812%\n",
            "\n",
            "Epoch: 40\n",
            "======\n",
            "\n",
            "Current training loss: 0.9542001485824585\n",
            "Current training acc: 0.5953947305679321%\n",
            "\n"
          ]
        },
        {
          "output_type": "stream",
          "name": "stderr",
          "text": [
            "\n",
            "  0%|          | 0/76 [00:00<?, ?it/s]\u001b[A\n",
            "100%|██████████| 76/76 [00:00<00:00, 512.65it/s]\n",
            " 23%|██▎       | 41/180 [00:10<00:36,  3.79it/s]"
          ]
        },
        {
          "output_type": "stream",
          "name": "stdout",
          "text": [
            "\n",
            "Current test loss: 1.2525265216827393\n",
            "Current test acc: 0.30263158679008484%\n",
            "\n",
            "Epoch: 41\n",
            "======\n",
            "\n",
            "Current training loss: 0.951681911945343\n",
            "Current training acc: 0.5888158082962036%\n",
            "\n"
          ]
        },
        {
          "output_type": "stream",
          "name": "stderr",
          "text": [
            "\n",
            "  0%|          | 0/76 [00:00<?, ?it/s]\u001b[A\n",
            "100%|██████████| 76/76 [00:00<00:00, 590.32it/s]\n",
            " 23%|██▎       | 42/180 [00:10<00:35,  3.87it/s]"
          ]
        },
        {
          "output_type": "stream",
          "name": "stdout",
          "text": [
            "\n",
            "Current test loss: 1.2446775436401367\n",
            "Current test acc: 0.2631579041481018%\n",
            "\n",
            "Epoch: 42\n",
            "======\n",
            "\n",
            "Current training loss: 0.9476603269577026\n",
            "Current training acc: 0.5921052694320679%\n",
            "\n"
          ]
        },
        {
          "output_type": "stream",
          "name": "stderr",
          "text": [
            "\n",
            "  0%|          | 0/76 [00:00<?, ?it/s]\u001b[A\n",
            "100%|██████████| 76/76 [00:00<00:00, 614.48it/s]\n",
            " 24%|██▍       | 43/180 [00:11<00:35,  3.90it/s]"
          ]
        },
        {
          "output_type": "stream",
          "name": "stdout",
          "text": [
            "\n",
            "Current test loss: 1.313096284866333\n",
            "Current test acc: 0.21052631735801697%\n",
            "\n",
            "Epoch: 43\n",
            "======\n",
            "\n",
            "Current training loss: 0.9487646818161011\n",
            "Current training acc: 0.5953947305679321%\n",
            "\n"
          ]
        },
        {
          "output_type": "stream",
          "name": "stderr",
          "text": [
            "\n",
            "  0%|          | 0/76 [00:00<?, ?it/s]\u001b[A\n",
            "100%|██████████| 76/76 [00:00<00:00, 615.13it/s]\n",
            " 24%|██▍       | 44/180 [00:11<00:34,  3.92it/s]"
          ]
        },
        {
          "output_type": "stream",
          "name": "stdout",
          "text": [
            "\n",
            "Current test loss: 1.2901651859283447\n",
            "Current test acc: 0.22368420660495758%\n",
            "\n",
            "Epoch: 44\n",
            "======\n",
            "\n",
            "Current training loss: 0.9487268328666687\n",
            "Current training acc: 0.5953947305679321%\n",
            "\n"
          ]
        },
        {
          "output_type": "stream",
          "name": "stderr",
          "text": [
            "\n",
            "  0%|          | 0/76 [00:00<?, ?it/s]\u001b[A\n",
            "100%|██████████| 76/76 [00:00<00:00, 633.54it/s]\n",
            " 25%|██▌       | 45/180 [00:11<00:33,  3.99it/s]"
          ]
        },
        {
          "output_type": "stream",
          "name": "stdout",
          "text": [
            "\n",
            "Current test loss: 1.285830020904541\n",
            "Current test acc: 0.2368421107530594%\n",
            "\n",
            "Epoch: 45\n",
            "======\n",
            "\n",
            "Current training loss: 0.9505670666694641\n",
            "Current training acc: 0.5888158082962036%\n",
            "\n"
          ]
        },
        {
          "output_type": "stream",
          "name": "stderr",
          "text": [
            "\n",
            "  0%|          | 0/76 [00:00<?, ?it/s]\u001b[A\n",
            "100%|██████████| 76/76 [00:00<00:00, 544.16it/s]\n",
            " 26%|██▌       | 46/180 [00:11<00:34,  3.88it/s]"
          ]
        },
        {
          "output_type": "stream",
          "name": "stdout",
          "text": [
            "\n",
            "Current test loss: 1.2580393552780151\n",
            "Current test acc: 0.25%\n",
            "\n",
            "Epoch: 46\n",
            "======\n",
            "\n",
            "Current training loss: 0.9463295936584473\n",
            "Current training acc: 0.5855262875556946%\n",
            "\n"
          ]
        },
        {
          "output_type": "stream",
          "name": "stderr",
          "text": [
            "\n",
            "  0%|          | 0/76 [00:00<?, ?it/s]\u001b[A\n",
            "100%|██████████| 76/76 [00:00<00:00, 600.44it/s]\n",
            " 26%|██▌       | 47/180 [00:12<00:34,  3.89it/s]"
          ]
        },
        {
          "output_type": "stream",
          "name": "stdout",
          "text": [
            "\n",
            "Current test loss: 1.3078927993774414\n",
            "Current test acc: 0.22368420660495758%\n",
            "\n",
            "Epoch: 47\n",
            "======\n",
            "\n",
            "Current training loss: 0.9495713114738464\n",
            "Current training acc: 0.5921052694320679%\n",
            "\n"
          ]
        },
        {
          "output_type": "stream",
          "name": "stderr",
          "text": [
            "\n",
            "  0%|          | 0/76 [00:00<?, ?it/s]\u001b[A\n",
            "100%|██████████| 76/76 [00:00<00:00, 630.59it/s]\n",
            " 27%|██▋       | 48/180 [00:12<00:33,  3.90it/s]"
          ]
        },
        {
          "output_type": "stream",
          "name": "stdout",
          "text": [
            "\n",
            "Current test loss: 1.2488223314285278\n",
            "Current test acc: 0.30263158679008484%\n",
            "\n",
            "Epoch: 48\n",
            "======\n",
            "\n",
            "Current training loss: 0.9519398212432861\n",
            "Current training acc: 0.5789473652839661%\n",
            "\n"
          ]
        },
        {
          "output_type": "stream",
          "name": "stderr",
          "text": [
            "\n",
            "  0%|          | 0/76 [00:00<?, ?it/s]\u001b[A\n",
            "100%|██████████| 76/76 [00:00<00:00, 575.38it/s]\n",
            " 27%|██▋       | 49/180 [00:12<00:33,  3.89it/s]"
          ]
        },
        {
          "output_type": "stream",
          "name": "stdout",
          "text": [
            "\n",
            "Current test loss: 1.277574062347412\n",
            "Current test acc: 0.2631579041481018%\n",
            "\n",
            "Epoch: 49\n",
            "======\n",
            "\n",
            "Current training loss: 0.9443030953407288\n",
            "Current training acc: 0.6019737124443054%\n",
            "\n"
          ]
        },
        {
          "output_type": "stream",
          "name": "stderr",
          "text": [
            "\n",
            "  0%|          | 0/76 [00:00<?, ?it/s]\u001b[A\n",
            "100%|██████████| 76/76 [00:00<00:00, 628.60it/s]\n",
            " 28%|██▊       | 50/180 [00:12<00:32,  3.95it/s]"
          ]
        },
        {
          "output_type": "stream",
          "name": "stdout",
          "text": [
            "\n",
            "Current test loss: 1.2885351181030273\n",
            "Current test acc: 0.2368421107530594%\n",
            "\n",
            "Epoch: 50\n",
            "======\n",
            "\n",
            "Current training loss: 0.9425556659698486\n",
            "Current training acc: 0.5953947305679321%\n",
            "\n"
          ]
        },
        {
          "output_type": "stream",
          "name": "stderr",
          "text": [
            "\n",
            "  0%|          | 0/76 [00:00<?, ?it/s]\u001b[A\n",
            "100%|██████████| 76/76 [00:00<00:00, 578.53it/s]\n",
            " 28%|██▊       | 51/180 [00:13<00:32,  3.97it/s]"
          ]
        },
        {
          "output_type": "stream",
          "name": "stdout",
          "text": [
            "\n",
            "Current test loss: 1.3081762790679932\n",
            "Current test acc: 0.22368420660495758%\n",
            "\n",
            "Epoch: 51\n",
            "======\n",
            "\n",
            "Current training loss: 0.9413169026374817\n",
            "Current training acc: 0.6052631735801697%\n",
            "\n"
          ]
        },
        {
          "output_type": "stream",
          "name": "stderr",
          "text": [
            "\n",
            "  0%|          | 0/76 [00:00<?, ?it/s]\u001b[A\n",
            "100%|██████████| 76/76 [00:00<00:00, 607.55it/s]\n",
            " 29%|██▉       | 52/180 [00:13<00:32,  3.95it/s]"
          ]
        },
        {
          "output_type": "stream",
          "name": "stdout",
          "text": [
            "\n",
            "Current test loss: 1.315097689628601\n",
            "Current test acc: 0.21052631735801697%\n",
            "\n",
            "Epoch: 52\n",
            "======\n",
            "\n",
            "Current training loss: 0.940457820892334\n",
            "Current training acc: 0.6019737124443054%\n",
            "\n"
          ]
        },
        {
          "output_type": "stream",
          "name": "stderr",
          "text": [
            "\n",
            "  0%|          | 0/76 [00:00<?, ?it/s]\u001b[A\n",
            "100%|██████████| 76/76 [00:00<00:00, 595.66it/s]\n",
            " 29%|██▉       | 53/180 [00:13<00:32,  3.96it/s]"
          ]
        },
        {
          "output_type": "stream",
          "name": "stdout",
          "text": [
            "\n",
            "Current test loss: 1.3107987642288208\n",
            "Current test acc: 0.22368420660495758%\n",
            "\n",
            "Epoch: 53\n",
            "======\n",
            "\n",
            "Current training loss: 0.941220223903656\n",
            "Current training acc: 0.6052631735801697%\n",
            "\n"
          ]
        },
        {
          "output_type": "stream",
          "name": "stderr",
          "text": [
            "\n",
            "  0%|          | 0/76 [00:00<?, ?it/s]\u001b[A\n",
            "100%|██████████| 76/76 [00:00<00:00, 589.02it/s]\n",
            " 30%|███       | 54/180 [00:13<00:32,  3.93it/s]"
          ]
        },
        {
          "output_type": "stream",
          "name": "stdout",
          "text": [
            "\n",
            "Current test loss: 1.266696572303772\n",
            "Current test acc: 0.28947368264198303%\n",
            "\n",
            "Epoch: 54\n",
            "======\n",
            "\n",
            "Current training loss: 0.9395317435264587\n",
            "Current training acc: 0.5888158082962036%\n",
            "\n"
          ]
        },
        {
          "output_type": "stream",
          "name": "stderr",
          "text": [
            "\n",
            "  0%|          | 0/76 [00:00<?, ?it/s]\u001b[A\n",
            "100%|██████████| 76/76 [00:00<00:00, 619.42it/s]\n",
            " 31%|███       | 55/180 [00:14<00:31,  4.01it/s]"
          ]
        },
        {
          "output_type": "stream",
          "name": "stdout",
          "text": [
            "\n",
            "Current test loss: 1.264784336090088\n",
            "Current test acc: 0.28947368264198303%\n",
            "\n",
            "Epoch: 55\n",
            "======\n",
            "\n",
            "Current training loss: 0.9423734545707703\n",
            "Current training acc: 0.5822368264198303%\n",
            "\n"
          ]
        },
        {
          "output_type": "stream",
          "name": "stderr",
          "text": [
            "\n",
            "  0%|          | 0/76 [00:00<?, ?it/s]\u001b[A\n",
            "100%|██████████| 76/76 [00:00<00:00, 574.49it/s]\n",
            " 31%|███       | 56/180 [00:14<00:31,  3.97it/s]"
          ]
        },
        {
          "output_type": "stream",
          "name": "stdout",
          "text": [
            "\n",
            "Current test loss: 1.249472975730896\n",
            "Current test acc: 0.30263158679008484%\n",
            "\n",
            "Epoch: 56\n",
            "======\n",
            "\n",
            "Current training loss: 0.947188138961792\n",
            "Current training acc: 0.5888158082962036%\n",
            "\n"
          ]
        },
        {
          "output_type": "stream",
          "name": "stderr",
          "text": [
            "\n",
            "  0%|          | 0/76 [00:00<?, ?it/s]\u001b[A\n",
            "100%|██████████| 76/76 [00:00<00:00, 666.54it/s]\n",
            " 32%|███▏      | 57/180 [00:14<00:30,  4.07it/s]"
          ]
        },
        {
          "output_type": "stream",
          "name": "stdout",
          "text": [
            "\n",
            "Current test loss: 1.2633450031280518\n",
            "Current test acc: 0.22368420660495758%\n",
            "\n",
            "Epoch: 57\n",
            "======\n",
            "\n",
            "Current training loss: 0.9418939352035522\n",
            "Current training acc: 0.5953947305679321%\n",
            "\n"
          ]
        },
        {
          "output_type": "stream",
          "name": "stderr",
          "text": [
            "\n",
            "  0%|          | 0/76 [00:00<?, ?it/s]\u001b[A\n",
            "100%|██████████| 76/76 [00:00<00:00, 578.91it/s]\n",
            " 32%|███▏      | 58/180 [00:14<00:30,  4.01it/s]"
          ]
        },
        {
          "output_type": "stream",
          "name": "stdout",
          "text": [
            "\n",
            "Current test loss: 1.298835039138794\n",
            "Current test acc: 0.25%\n",
            "\n",
            "Epoch: 58\n",
            "======\n",
            "\n",
            "Current training loss: 0.9376638531684875\n",
            "Current training acc: 0.5986841917037964%\n",
            "\n"
          ]
        },
        {
          "output_type": "stream",
          "name": "stderr",
          "text": [
            "\n",
            "  0%|          | 0/76 [00:00<?, ?it/s]\u001b[A\n",
            "100%|██████████| 76/76 [00:00<00:00, 599.31it/s]\n",
            " 33%|███▎      | 59/180 [00:15<00:30,  3.97it/s]"
          ]
        },
        {
          "output_type": "stream",
          "name": "stdout",
          "text": [
            "\n",
            "Current test loss: 1.3229155540466309\n",
            "Current test acc: 0.21052631735801697%\n",
            "\n",
            "Epoch: 59\n",
            "======\n",
            "\n",
            "Current training loss: 0.9367446899414062\n",
            "Current training acc: 0.6052631735801697%\n",
            "\n"
          ]
        },
        {
          "output_type": "stream",
          "name": "stderr",
          "text": [
            "\n",
            "  0%|          | 0/76 [00:00<?, ?it/s]\u001b[A\n",
            "100%|██████████| 76/76 [00:00<00:00, 591.87it/s]\n",
            " 33%|███▎      | 60/180 [00:15<00:30,  3.92it/s]"
          ]
        },
        {
          "output_type": "stream",
          "name": "stdout",
          "text": [
            "\n",
            "Current test loss: 1.2992684841156006\n",
            "Current test acc: 0.21052631735801697%\n",
            "\n",
            "Epoch: 60\n",
            "======\n",
            "\n",
            "Current training loss: 0.9346737861633301\n",
            "Current training acc: 0.6052631735801697%\n",
            "\n"
          ]
        },
        {
          "output_type": "stream",
          "name": "stderr",
          "text": [
            "\n",
            "  0%|          | 0/76 [00:00<?, ?it/s]\u001b[A\n",
            "100%|██████████| 76/76 [00:00<00:00, 610.23it/s]\n",
            " 34%|███▍      | 61/180 [00:15<00:30,  3.96it/s]"
          ]
        },
        {
          "output_type": "stream",
          "name": "stdout",
          "text": [
            "\n",
            "Current test loss: 1.2907518148422241\n",
            "Current test acc: 0.21052631735801697%\n",
            "\n",
            "Epoch: 61\n",
            "======\n",
            "\n",
            "Current training loss: 0.9332912564277649\n",
            "Current training acc: 0.6019737124443054%\n",
            "\n"
          ]
        },
        {
          "output_type": "stream",
          "name": "stderr",
          "text": [
            "\n",
            "  0%|          | 0/76 [00:00<?, ?it/s]\u001b[A\n",
            "100%|██████████| 76/76 [00:00<00:00, 608.13it/s]\n",
            " 34%|███▍      | 62/180 [00:15<00:29,  3.98it/s]"
          ]
        },
        {
          "output_type": "stream",
          "name": "stdout",
          "text": [
            "\n",
            "Current test loss: 1.3016966581344604\n",
            "Current test acc: 0.21052631735801697%\n",
            "\n",
            "Epoch: 62\n",
            "======\n",
            "\n",
            "Current training loss: 0.9334256052970886\n",
            "Current training acc: 0.6052631735801697%\n",
            "\n"
          ]
        },
        {
          "output_type": "stream",
          "name": "stderr",
          "text": [
            "\n",
            "  0%|          | 0/76 [00:00<?, ?it/s]\u001b[A\n",
            "100%|██████████| 76/76 [00:00<00:00, 560.72it/s]\n",
            " 35%|███▌      | 63/180 [00:16<00:29,  3.96it/s]"
          ]
        },
        {
          "output_type": "stream",
          "name": "stdout",
          "text": [
            "\n",
            "Current test loss: 1.2758375406265259\n",
            "Current test acc: 0.22368420660495758%\n",
            "\n",
            "Epoch: 63\n",
            "======\n",
            "\n",
            "Current training loss: 0.9334154725074768\n",
            "Current training acc: 0.6085526347160339%\n",
            "\n"
          ]
        },
        {
          "output_type": "stream",
          "name": "stderr",
          "text": [
            "\n",
            "  0%|          | 0/76 [00:00<?, ?it/s]\u001b[A\n",
            "100%|██████████| 76/76 [00:00<00:00, 602.83it/s]\n",
            " 36%|███▌      | 64/180 [00:16<00:29,  3.88it/s]"
          ]
        },
        {
          "output_type": "stream",
          "name": "stdout",
          "text": [
            "\n",
            "Current test loss: 1.2709741592407227\n",
            "Current test acc: 0.21052631735801697%\n",
            "\n",
            "Epoch: 64\n",
            "======\n",
            "\n",
            "Current training loss: 0.9307547211647034\n",
            "Current training acc: 0.6052631735801697%\n",
            "\n"
          ]
        },
        {
          "output_type": "stream",
          "name": "stderr",
          "text": [
            "\n",
            "  0%|          | 0/76 [00:00<?, ?it/s]\u001b[A\n",
            "100%|██████████| 76/76 [00:00<00:00, 624.13it/s]\n",
            " 36%|███▌      | 65/180 [00:16<00:29,  3.96it/s]"
          ]
        },
        {
          "output_type": "stream",
          "name": "stdout",
          "text": [
            "\n",
            "Current test loss: 1.3001598119735718\n",
            "Current test acc: 0.25%\n",
            "\n",
            "Epoch: 65\n",
            "======\n",
            "\n",
            "Current training loss: 0.9304841756820679\n",
            "Current training acc: 0.6019737124443054%\n",
            "\n"
          ]
        },
        {
          "output_type": "stream",
          "name": "stderr",
          "text": [
            "\n",
            "  0%|          | 0/76 [00:00<?, ?it/s]\u001b[A\n",
            "100%|██████████| 76/76 [00:00<00:00, 622.89it/s]\n",
            " 37%|███▋      | 66/180 [00:16<00:28,  3.95it/s]"
          ]
        },
        {
          "output_type": "stream",
          "name": "stdout",
          "text": [
            "\n",
            "Current test loss: 1.2691043615341187\n",
            "Current test acc: 0.2763157784938812%\n",
            "\n",
            "Epoch: 66\n",
            "======\n",
            "\n",
            "Current training loss: 0.9329898357391357\n",
            "Current training acc: 0.5986841917037964%\n",
            "\n"
          ]
        },
        {
          "output_type": "stream",
          "name": "stderr",
          "text": [
            "\n",
            "  0%|          | 0/76 [00:00<?, ?it/s]\u001b[A\n",
            "100%|██████████| 76/76 [00:00<00:00, 602.66it/s]\n",
            " 37%|███▋      | 67/180 [00:17<00:28,  4.00it/s]"
          ]
        },
        {
          "output_type": "stream",
          "name": "stdout",
          "text": [
            "\n",
            "Current test loss: 1.2499855756759644\n",
            "Current test acc: 0.2368421107530594%\n",
            "\n",
            "Epoch: 67\n",
            "======\n",
            "\n",
            "Current training loss: 0.9300943613052368\n",
            "Current training acc: 0.5953947305679321%\n",
            "\n"
          ]
        },
        {
          "output_type": "stream",
          "name": "stderr",
          "text": [
            "\n",
            "  0%|          | 0/76 [00:00<?, ?it/s]\u001b[A\n",
            "100%|██████████| 76/76 [00:00<00:00, 584.57it/s]\n",
            " 38%|███▊      | 68/180 [00:17<00:28,  3.98it/s]"
          ]
        },
        {
          "output_type": "stream",
          "name": "stdout",
          "text": [
            "\n",
            "Current test loss: 1.2520908117294312\n",
            "Current test acc: 0.30263158679008484%\n",
            "\n",
            "Epoch: 68\n",
            "======\n",
            "\n",
            "Current training loss: 0.9322320222854614\n",
            "Current training acc: 0.5953947305679321%\n",
            "\n"
          ]
        },
        {
          "output_type": "stream",
          "name": "stderr",
          "text": [
            "\n",
            "  0%|          | 0/76 [00:00<?, ?it/s]\u001b[A\n",
            "100%|██████████| 76/76 [00:00<00:00, 604.12it/s]\n",
            " 38%|███▊      | 69/180 [00:17<00:27,  3.97it/s]"
          ]
        },
        {
          "output_type": "stream",
          "name": "stdout",
          "text": [
            "\n",
            "Current test loss: 1.2591514587402344\n",
            "Current test acc: 0.30263158679008484%\n",
            "\n",
            "Epoch: 69\n",
            "======\n",
            "\n",
            "Current training loss: 0.9282568693161011\n",
            "Current training acc: 0.6052631735801697%\n",
            "\n"
          ]
        },
        {
          "output_type": "stream",
          "name": "stderr",
          "text": [
            "\n",
            "  0%|          | 0/76 [00:00<?, ?it/s]\u001b[A\n",
            "100%|██████████| 76/76 [00:00<00:00, 599.57it/s]\n",
            " 39%|███▉      | 70/180 [00:17<00:27,  3.95it/s]"
          ]
        },
        {
          "output_type": "stream",
          "name": "stdout",
          "text": [
            "\n",
            "Current test loss: 1.2823717594146729\n",
            "Current test acc: 0.25%\n",
            "\n",
            "Epoch: 70\n",
            "======\n",
            "\n",
            "Current training loss: 0.9293839335441589\n",
            "Current training acc: 0.6052631735801697%\n",
            "\n"
          ]
        },
        {
          "output_type": "stream",
          "name": "stderr",
          "text": [
            "\n",
            "  0%|          | 0/76 [00:00<?, ?it/s]\u001b[A\n",
            "100%|██████████| 76/76 [00:00<00:00, 533.67it/s]\n",
            " 39%|███▉      | 71/180 [00:18<00:27,  3.90it/s]"
          ]
        },
        {
          "output_type": "stream",
          "name": "stdout",
          "text": [
            "\n",
            "Current test loss: 1.2871191501617432\n",
            "Current test acc: 0.22368420660495758%\n",
            "\n",
            "Epoch: 71\n",
            "======\n",
            "\n",
            "Current training loss: 0.9272007942199707\n",
            "Current training acc: 0.5986841917037964%\n",
            "\n"
          ]
        },
        {
          "output_type": "stream",
          "name": "stderr",
          "text": [
            "\n",
            "  0%|          | 0/76 [00:00<?, ?it/s]\u001b[A\n",
            "100%|██████████| 76/76 [00:00<00:00, 654.95it/s]\n",
            " 40%|████      | 72/180 [00:18<00:28,  3.84it/s]"
          ]
        },
        {
          "output_type": "stream",
          "name": "stdout",
          "text": [
            "\n",
            "Current test loss: 1.2860294580459595\n",
            "Current test acc: 0.2631579041481018%\n",
            "\n",
            "Epoch: 72\n",
            "======\n",
            "\n",
            "Current training loss: 0.925327479839325\n",
            "Current training acc: 0.6052631735801697%\n",
            "\n"
          ]
        },
        {
          "output_type": "stream",
          "name": "stderr",
          "text": [
            "\n",
            "  0%|          | 0/76 [00:00<?, ?it/s]\u001b[A\n",
            "100%|██████████| 76/76 [00:00<00:00, 551.86it/s]\n",
            " 41%|████      | 73/180 [00:18<00:27,  3.86it/s]"
          ]
        },
        {
          "output_type": "stream",
          "name": "stdout",
          "text": [
            "\n",
            "Current test loss: 1.3230398893356323\n",
            "Current test acc: 0.22368420660495758%\n",
            "\n",
            "Epoch: 73\n",
            "======\n",
            "\n",
            "Current training loss: 0.924575686454773\n",
            "Current training acc: 0.6118420958518982%\n",
            "\n"
          ]
        },
        {
          "output_type": "stream",
          "name": "stderr",
          "text": [
            "\n",
            "  0%|          | 0/76 [00:00<?, ?it/s]\u001b[A\n",
            "100%|██████████| 76/76 [00:00<00:00, 601.98it/s]\n",
            " 41%|████      | 74/180 [00:18<00:27,  3.82it/s]"
          ]
        },
        {
          "output_type": "stream",
          "name": "stdout",
          "text": [
            "\n",
            "Current test loss: 1.3074684143066406\n",
            "Current test acc: 0.22368420660495758%\n",
            "\n",
            "Epoch: 74\n",
            "======\n",
            "\n",
            "Current training loss: 0.9248429536819458\n",
            "Current training acc: 0.5986841917037964%\n",
            "\n"
          ]
        },
        {
          "output_type": "stream",
          "name": "stderr",
          "text": [
            "\n",
            "  0%|          | 0/76 [00:00<?, ?it/s]\u001b[A\n",
            "100%|██████████| 76/76 [00:00<00:00, 578.75it/s]\n",
            " 42%|████▏     | 75/180 [00:19<00:27,  3.87it/s]"
          ]
        },
        {
          "output_type": "stream",
          "name": "stdout",
          "text": [
            "\n",
            "Current test loss: 1.2801421880722046\n",
            "Current test acc: 0.25%\n",
            "\n",
            "Epoch: 75\n",
            "======\n",
            "\n",
            "Current training loss: 0.9231910705566406\n",
            "Current training acc: 0.6118420958518982%\n",
            "\n"
          ]
        },
        {
          "output_type": "stream",
          "name": "stderr",
          "text": [
            "\n",
            "  0%|          | 0/76 [00:00<?, ?it/s]\u001b[A\n",
            "100%|██████████| 76/76 [00:00<00:00, 623.56it/s]\n",
            " 42%|████▏     | 76/180 [00:19<00:26,  3.96it/s]"
          ]
        },
        {
          "output_type": "stream",
          "name": "stdout",
          "text": [
            "\n",
            "Current test loss: 1.321591854095459\n",
            "Current test acc: 0.22368420660495758%\n",
            "\n",
            "Epoch: 76\n",
            "======\n",
            "\n",
            "Current training loss: 0.9200924038887024\n",
            "Current training acc: 0.6184210777282715%\n",
            "\n"
          ]
        },
        {
          "output_type": "stream",
          "name": "stderr",
          "text": [
            "\n",
            "  0%|          | 0/76 [00:00<?, ?it/s]\u001b[A\n",
            "100%|██████████| 76/76 [00:00<00:00, 587.15it/s]\n",
            " 43%|████▎     | 77/180 [00:19<00:26,  3.96it/s]"
          ]
        },
        {
          "output_type": "stream",
          "name": "stdout",
          "text": [
            "\n",
            "Current test loss: 1.3148860931396484\n",
            "Current test acc: 0.21052631735801697%\n",
            "\n",
            "Epoch: 77\n",
            "======\n",
            "\n",
            "Current training loss: 0.9234102368354797\n",
            "Current training acc: 0.6085526347160339%\n",
            "\n"
          ]
        },
        {
          "output_type": "stream",
          "name": "stderr",
          "text": [
            "\n",
            "  0%|          | 0/76 [00:00<?, ?it/s]\u001b[A\n",
            "100%|██████████| 76/76 [00:00<00:00, 589.68it/s]\n",
            " 43%|████▎     | 78/180 [00:19<00:25,  3.95it/s]"
          ]
        },
        {
          "output_type": "stream",
          "name": "stdout",
          "text": [
            "\n",
            "Current test loss: 1.2639758586883545\n",
            "Current test acc: 0.2631579041481018%\n",
            "\n",
            "Epoch: 78\n",
            "======\n",
            "\n",
            "Current training loss: 0.9217436909675598\n",
            "Current training acc: 0.6151315569877625%\n",
            "\n"
          ]
        },
        {
          "output_type": "stream",
          "name": "stderr",
          "text": [
            "\n",
            "  0%|          | 0/76 [00:00<?, ?it/s]\u001b[A\n",
            "100%|██████████| 76/76 [00:00<00:00, 577.99it/s]\n",
            " 44%|████▍     | 79/180 [00:20<00:25,  3.95it/s]"
          ]
        },
        {
          "output_type": "stream",
          "name": "stdout",
          "text": [
            "\n",
            "Current test loss: 1.2674628496170044\n",
            "Current test acc: 0.28947368264198303%\n",
            "\n",
            "Epoch: 79\n",
            "======\n",
            "\n",
            "Current training loss: 0.9235308766365051\n",
            "Current training acc: 0.6118420958518982%\n",
            "\n"
          ]
        },
        {
          "output_type": "stream",
          "name": "stderr",
          "text": [
            "\n",
            "  0%|          | 0/76 [00:00<?, ?it/s]\u001b[A\n",
            "100%|██████████| 76/76 [00:00<00:00, 555.33it/s]\n",
            " 44%|████▍     | 80/180 [00:20<00:25,  3.95it/s]"
          ]
        },
        {
          "output_type": "stream",
          "name": "stdout",
          "text": [
            "\n",
            "Current test loss: 1.28671395778656\n",
            "Current test acc: 0.2368421107530594%\n",
            "\n",
            "Epoch: 80\n",
            "======\n",
            "\n",
            "Current training loss: 0.9196547269821167\n",
            "Current training acc: 0.6217105388641357%\n",
            "\n"
          ]
        },
        {
          "output_type": "stream",
          "name": "stderr",
          "text": [
            "\n",
            "  0%|          | 0/76 [00:00<?, ?it/s]\u001b[A\n",
            "100%|██████████| 76/76 [00:00<00:00, 538.57it/s]\n",
            " 45%|████▌     | 81/180 [00:20<00:26,  3.72it/s]"
          ]
        },
        {
          "output_type": "stream",
          "name": "stdout",
          "text": [
            "\n",
            "Current test loss: 1.2608106136322021\n",
            "Current test acc: 0.22368420660495758%\n",
            "\n",
            "Epoch: 81\n",
            "======\n",
            "\n",
            "Current training loss: 0.9175384044647217\n",
            "Current training acc: 0.6217105388641357%\n",
            "\n"
          ]
        },
        {
          "output_type": "stream",
          "name": "stderr",
          "text": [
            "\n",
            "  0%|          | 0/76 [00:00<?, ?it/s]\u001b[A\n",
            "100%|██████████| 76/76 [00:00<00:00, 575.66it/s]\n",
            " 46%|████▌     | 82/180 [00:20<00:26,  3.73it/s]"
          ]
        },
        {
          "output_type": "stream",
          "name": "stdout",
          "text": [
            "\n",
            "Current test loss: 1.2222235202789307\n",
            "Current test acc: 0.2763157784938812%\n",
            "\n",
            "Epoch: 82\n",
            "======\n",
            "\n",
            "Current training loss: 0.9163978695869446\n",
            "Current training acc: 0.6217105388641357%\n",
            "\n"
          ]
        },
        {
          "output_type": "stream",
          "name": "stderr",
          "text": [
            "\n",
            "  0%|          | 0/76 [00:00<?, ?it/s]\u001b[A\n",
            "100%|██████████| 76/76 [00:00<00:00, 395.60it/s]\n",
            " 46%|████▌     | 83/180 [00:21<00:28,  3.46it/s]"
          ]
        },
        {
          "output_type": "stream",
          "name": "stdout",
          "text": [
            "\n",
            "Current test loss: 1.2275117635726929\n",
            "Current test acc: 0.2763157784938812%\n",
            "\n",
            "Epoch: 83\n",
            "======\n",
            "\n",
            "Current training loss: 0.9211418032646179\n",
            "Current training acc: 0.6118420958518982%\n",
            "\n"
          ]
        },
        {
          "output_type": "stream",
          "name": "stderr",
          "text": [
            "\n",
            "  0%|          | 0/76 [00:00<?, ?it/s]\u001b[A\n",
            "100%|██████████| 76/76 [00:00<00:00, 374.25it/s]\n",
            " 47%|████▋     | 84/180 [00:21<00:31,  3.05it/s]"
          ]
        },
        {
          "output_type": "stream",
          "name": "stdout",
          "text": [
            "\n",
            "Current test loss: 1.3098739385604858\n",
            "Current test acc: 0.2368421107530594%\n",
            "\n",
            "Epoch: 84\n",
            "======\n",
            "\n",
            "Current training loss: 0.9198300242424011\n",
            "Current training acc: 0.6151315569877625%\n",
            "\n"
          ]
        },
        {
          "output_type": "stream",
          "name": "stderr",
          "text": [
            "\n",
            "  0%|          | 0/76 [00:00<?, ?it/s]\u001b[A\n",
            " 37%|███▋      | 28/76 [00:00<00:00, 266.58it/s]\u001b[A\n",
            "100%|██████████| 76/76 [00:00<00:00, 321.00it/s]\n",
            " 47%|████▋     | 85/180 [00:22<00:35,  2.67it/s]"
          ]
        },
        {
          "output_type": "stream",
          "name": "stdout",
          "text": [
            "\n",
            "Current test loss: 1.200352668762207\n",
            "Current test acc: 0.28947368264198303%\n",
            "\n",
            "Epoch: 85\n",
            "======\n",
            "\n",
            "Current training loss: 0.9178646206855774\n",
            "Current training acc: 0.6282894611358643%\n",
            "\n"
          ]
        },
        {
          "output_type": "stream",
          "name": "stderr",
          "text": [
            "\n",
            "  0%|          | 0/76 [00:00<?, ?it/s]\u001b[A\n",
            "100%|██████████| 76/76 [00:00<00:00, 668.27it/s]\n",
            " 48%|████▊     | 86/180 [00:22<00:31,  2.99it/s]"
          ]
        },
        {
          "output_type": "stream",
          "name": "stdout",
          "text": [
            "\n",
            "Current test loss: 1.287678599357605\n",
            "Current test acc: 0.25%\n",
            "\n",
            "Epoch: 86\n",
            "======\n",
            "\n",
            "Current training loss: 0.9175696969032288\n",
            "Current training acc: 0.6217105388641357%\n",
            "\n"
          ]
        },
        {
          "output_type": "stream",
          "name": "stderr",
          "text": [
            "\n",
            "  0%|          | 0/76 [00:00<?, ?it/s]\u001b[A\n",
            "100%|██████████| 76/76 [00:00<00:00, 715.77it/s]\n",
            " 48%|████▊     | 87/180 [00:22<00:28,  3.27it/s]"
          ]
        },
        {
          "output_type": "stream",
          "name": "stdout",
          "text": [
            "\n",
            "Current test loss: 1.317300796508789\n",
            "Current test acc: 0.21052631735801697%\n",
            "\n",
            "Epoch: 87\n",
            "======\n",
            "\n",
            "Current training loss: 0.9132297039031982\n",
            "Current training acc: 0.6282894611358643%\n",
            "\n"
          ]
        },
        {
          "output_type": "stream",
          "name": "stderr",
          "text": [
            "\n",
            "  0%|          | 0/76 [00:00<?, ?it/s]\u001b[A\n",
            "100%|██████████| 76/76 [00:00<00:00, 614.59it/s]\n",
            " 49%|████▉     | 88/180 [00:22<00:27,  3.40it/s]"
          ]
        },
        {
          "output_type": "stream",
          "name": "stdout",
          "text": [
            "\n",
            "Current test loss: 1.2972553968429565\n",
            "Current test acc: 0.2631579041481018%\n",
            "\n",
            "Epoch: 88\n",
            "======\n",
            "\n",
            "Current training loss: 0.9143020510673523\n",
            "Current training acc: 0.6447368264198303%\n",
            "\n"
          ]
        },
        {
          "output_type": "stream",
          "name": "stderr",
          "text": [
            "\n",
            "  0%|          | 0/76 [00:00<?, ?it/s]\u001b[A\n",
            "100%|██████████| 76/76 [00:00<00:00, 665.53it/s]\n",
            " 49%|████▉     | 89/180 [00:23<00:25,  3.54it/s]"
          ]
        },
        {
          "output_type": "stream",
          "name": "stdout",
          "text": [
            "\n",
            "Current test loss: 1.2830063104629517\n",
            "Current test acc: 0.2368421107530594%\n",
            "\n",
            "Epoch: 89\n",
            "======\n",
            "\n",
            "Current training loss: 0.9099207520484924\n",
            "Current training acc: 0.6546052694320679%\n",
            "\n"
          ]
        },
        {
          "output_type": "stream",
          "name": "stderr",
          "text": [
            "\n",
            "  0%|          | 0/76 [00:00<?, ?it/s]\u001b[A\n",
            "100%|██████████| 76/76 [00:00<00:00, 581.87it/s]\n",
            " 50%|█████     | 90/180 [00:23<00:24,  3.64it/s]"
          ]
        },
        {
          "output_type": "stream",
          "name": "stdout",
          "text": [
            "\n",
            "Current test loss: 1.2706763744354248\n",
            "Current test acc: 0.2763157784938812%\n",
            "\n",
            "Epoch: 90\n",
            "======\n",
            "\n",
            "Current training loss: 0.912132978439331\n",
            "Current training acc: 0.6447368264198303%\n",
            "\n"
          ]
        },
        {
          "output_type": "stream",
          "name": "stderr",
          "text": [
            "\n",
            "  0%|          | 0/76 [00:00<?, ?it/s]\u001b[A\n",
            "100%|██████████| 76/76 [00:00<00:00, 626.23it/s]\n",
            " 51%|█████     | 91/180 [00:23<00:23,  3.75it/s]"
          ]
        },
        {
          "output_type": "stream",
          "name": "stdout",
          "text": [
            "\n",
            "Current test loss: 1.301632285118103\n",
            "Current test acc: 0.25%\n",
            "\n",
            "Epoch: 91\n",
            "======\n",
            "\n",
            "Current training loss: 0.9104017019271851\n",
            "Current training acc: 0.6480262875556946%\n",
            "\n"
          ]
        },
        {
          "output_type": "stream",
          "name": "stderr",
          "text": [
            "\n",
            "  0%|          | 0/76 [00:00<?, ?it/s]\u001b[A\n",
            "100%|██████████| 76/76 [00:00<00:00, 524.04it/s]\n",
            " 51%|█████     | 92/180 [00:23<00:23,  3.76it/s]"
          ]
        },
        {
          "output_type": "stream",
          "name": "stdout",
          "text": [
            "\n",
            "Current test loss: 1.2497955560684204\n",
            "Current test acc: 0.30263158679008484%\n",
            "\n",
            "Epoch: 92\n",
            "======\n",
            "\n",
            "Current training loss: 0.914513111114502\n",
            "Current training acc: 0.6480262875556946%\n",
            "\n"
          ]
        },
        {
          "output_type": "stream",
          "name": "stderr",
          "text": [
            "\n",
            "  0%|          | 0/76 [00:00<?, ?it/s]\u001b[A\n",
            "100%|██████████| 76/76 [00:00<00:00, 631.07it/s]\n",
            " 52%|█████▏    | 93/180 [00:24<00:22,  3.85it/s]"
          ]
        },
        {
          "output_type": "stream",
          "name": "stdout",
          "text": [
            "\n",
            "Current test loss: 1.248813271522522\n",
            "Current test acc: 0.30263158679008484%\n",
            "\n",
            "Epoch: 93\n",
            "======\n",
            "\n",
            "Current training loss: 0.9196959137916565\n",
            "Current training acc: 0.6348684430122375%\n",
            "\n"
          ]
        },
        {
          "output_type": "stream",
          "name": "stderr",
          "text": [
            "\n",
            "  0%|          | 0/76 [00:00<?, ?it/s]\u001b[A\n",
            "100%|██████████| 76/76 [00:00<00:00, 647.82it/s]\n",
            " 52%|█████▏    | 94/180 [00:24<00:22,  3.84it/s]"
          ]
        },
        {
          "output_type": "stream",
          "name": "stdout",
          "text": [
            "\n",
            "Current test loss: 1.211276650428772\n",
            "Current test acc: 0.2763157784938812%\n",
            "\n",
            "Epoch: 94\n",
            "======\n",
            "\n",
            "Current training loss: 0.9124712944030762\n",
            "Current training acc: 0.6282894611358643%\n",
            "\n"
          ]
        },
        {
          "output_type": "stream",
          "name": "stderr",
          "text": [
            "\n",
            "  0%|          | 0/76 [00:00<?, ?it/s]\u001b[A\n",
            "100%|██████████| 76/76 [00:00<00:00, 629.34it/s]\n",
            " 53%|█████▎    | 95/180 [00:24<00:21,  3.90it/s]"
          ]
        },
        {
          "output_type": "stream",
          "name": "stdout",
          "text": [
            "\n",
            "Current test loss: 1.2965223789215088\n",
            "Current test acc: 0.25%\n",
            "\n",
            "Epoch: 95\n",
            "======\n",
            "\n",
            "Current training loss: 0.9136335253715515\n",
            "Current training acc: 0.6414473652839661%\n",
            "\n"
          ]
        },
        {
          "output_type": "stream",
          "name": "stderr",
          "text": [
            "\n",
            "  0%|          | 0/76 [00:00<?, ?it/s]\u001b[A\n",
            "100%|██████████| 76/76 [00:00<00:00, 504.68it/s]\n",
            " 53%|█████▎    | 96/180 [00:25<00:21,  3.86it/s]"
          ]
        },
        {
          "output_type": "stream",
          "name": "stdout",
          "text": [
            "\n",
            "Current test loss: 1.2410690784454346\n",
            "Current test acc: 0.2763157784938812%\n",
            "\n",
            "Epoch: 96\n",
            "======\n",
            "\n",
            "Current training loss: 0.9097985625267029\n",
            "Current training acc: 0.6414473652839661%\n",
            "\n"
          ]
        },
        {
          "output_type": "stream",
          "name": "stderr",
          "text": [
            "\n",
            "  0%|          | 0/76 [00:00<?, ?it/s]\u001b[A\n",
            "100%|██████████| 76/76 [00:00<00:00, 570.07it/s]\n",
            " 54%|█████▍    | 97/180 [00:25<00:21,  3.89it/s]"
          ]
        },
        {
          "output_type": "stream",
          "name": "stdout",
          "text": [
            "\n",
            "Current test loss: 1.1404829025268555\n",
            "Current test acc: 0.2368421107530594%\n",
            "\n",
            "Epoch: 97\n",
            "======\n",
            "\n",
            "Current training loss: 0.9076441526412964\n",
            "Current training acc: 0.6447368264198303%\n",
            "\n"
          ]
        },
        {
          "output_type": "stream",
          "name": "stderr",
          "text": [
            "\n",
            "  0%|          | 0/76 [00:00<?, ?it/s]\u001b[A\n",
            "100%|██████████| 76/76 [00:00<00:00, 611.31it/s]\n",
            " 54%|█████▍    | 98/180 [00:25<00:20,  3.95it/s]"
          ]
        },
        {
          "output_type": "stream",
          "name": "stdout",
          "text": [
            "\n",
            "Current test loss: 1.2181615829467773\n",
            "Current test acc: 0.32894736528396606%\n",
            "\n",
            "Epoch: 98\n",
            "======\n",
            "\n",
            "Current training loss: 0.9023513793945312\n",
            "Current training acc: 0.6611841917037964%\n",
            "\n"
          ]
        },
        {
          "output_type": "stream",
          "name": "stderr",
          "text": [
            "\n",
            "  0%|          | 0/76 [00:00<?, ?it/s]\u001b[A\n",
            "100%|██████████| 76/76 [00:00<00:00, 608.13it/s]\n",
            " 55%|█████▌    | 99/180 [00:25<00:20,  3.98it/s]"
          ]
        },
        {
          "output_type": "stream",
          "name": "stdout",
          "text": [
            "\n",
            "Current test loss: 1.2449928522109985\n",
            "Current test acc: 0.28947368264198303%\n",
            "\n",
            "Epoch: 99\n",
            "======\n",
            "\n",
            "Current training loss: 0.9135124683380127\n",
            "Current training acc: 0.6447368264198303%\n",
            "\n"
          ]
        },
        {
          "output_type": "stream",
          "name": "stderr",
          "text": [
            "\n",
            "  0%|          | 0/76 [00:00<?, ?it/s]\u001b[A\n",
            "100%|██████████| 76/76 [00:00<00:00, 554.31it/s]\n",
            " 56%|█████▌    | 100/180 [00:26<00:20,  3.94it/s]"
          ]
        },
        {
          "output_type": "stream",
          "name": "stdout",
          "text": [
            "\n",
            "Current test loss: 1.2201515436172485\n",
            "Current test acc: 0.32894736528396606%\n",
            "\n",
            "Epoch: 100\n",
            "======\n",
            "\n",
            "Current training loss: 0.9107076525688171\n",
            "Current training acc: 0.6447368264198303%\n",
            "\n"
          ]
        },
        {
          "output_type": "stream",
          "name": "stderr",
          "text": [
            "\n",
            "  0%|          | 0/76 [00:00<?, ?it/s]\u001b[A\n",
            "100%|██████████| 76/76 [00:00<00:00, 610.83it/s]\n",
            " 56%|█████▌    | 101/180 [00:26<00:20,  3.90it/s]"
          ]
        },
        {
          "output_type": "stream",
          "name": "stdout",
          "text": [
            "\n",
            "Current test loss: 1.300950050354004\n",
            "Current test acc: 0.22368420660495758%\n",
            "\n",
            "Epoch: 101\n",
            "======\n",
            "\n",
            "Current training loss: 0.901040256023407\n",
            "Current training acc: 0.6611841917037964%\n",
            "\n"
          ]
        },
        {
          "output_type": "stream",
          "name": "stderr",
          "text": [
            "\n",
            "  0%|          | 0/76 [00:00<?, ?it/s]\u001b[A\n",
            "100%|██████████| 76/76 [00:00<00:00, 642.66it/s]\n",
            " 57%|█████▋    | 102/180 [00:26<00:19,  3.96it/s]"
          ]
        },
        {
          "output_type": "stream",
          "name": "stdout",
          "text": [
            "\n",
            "Current test loss: 1.2709205150604248\n",
            "Current test acc: 0.2763157784938812%\n",
            "\n",
            "Epoch: 102\n",
            "======\n",
            "\n",
            "Current training loss: 0.903002917766571\n",
            "Current training acc: 0.6546052694320679%\n",
            "\n"
          ]
        },
        {
          "output_type": "stream",
          "name": "stderr",
          "text": [
            "\n",
            "  0%|          | 0/76 [00:00<?, ?it/s]\u001b[A\n",
            "100%|██████████| 76/76 [00:00<00:00, 605.81it/s]\n",
            " 57%|█████▋    | 103/180 [00:26<00:19,  3.98it/s]"
          ]
        },
        {
          "output_type": "stream",
          "name": "stdout",
          "text": [
            "\n",
            "Current test loss: 1.2305532693862915\n",
            "Current test acc: 0.30263158679008484%\n",
            "\n",
            "Epoch: 103\n",
            "======\n",
            "\n",
            "Current training loss: 0.898444414138794\n",
            "Current training acc: 0.6611841917037964%\n",
            "\n"
          ]
        },
        {
          "output_type": "stream",
          "name": "stderr",
          "text": [
            "\n",
            "  0%|          | 0/76 [00:00<?, ?it/s]\u001b[A\n",
            "100%|██████████| 76/76 [00:00<00:00, 505.31it/s]\n",
            " 58%|█████▊    | 104/180 [00:27<00:19,  3.89it/s]"
          ]
        },
        {
          "output_type": "stream",
          "name": "stdout",
          "text": [
            "\n",
            "Current test loss: 1.2284607887268066\n",
            "Current test acc: 0.2763157784938812%\n",
            "\n",
            "Epoch: 104\n",
            "======\n",
            "\n",
            "Current training loss: 0.8962593078613281\n",
            "Current training acc: 0.6480262875556946%\n",
            "\n"
          ]
        },
        {
          "output_type": "stream",
          "name": "stderr",
          "text": [
            "\n",
            "  0%|          | 0/76 [00:00<?, ?it/s]\u001b[A\n",
            "100%|██████████| 76/76 [00:00<00:00, 627.51it/s]\n",
            " 58%|█████▊    | 105/180 [00:27<00:19,  3.90it/s]"
          ]
        },
        {
          "output_type": "stream",
          "name": "stdout",
          "text": [
            "\n",
            "Current test loss: 1.248815655708313\n",
            "Current test acc: 0.30263158679008484%\n",
            "\n",
            "Epoch: 105\n",
            "======\n",
            "\n",
            "Current training loss: 0.904930830001831\n",
            "Current training acc: 0.6611841917037964%\n",
            "\n"
          ]
        },
        {
          "output_type": "stream",
          "name": "stderr",
          "text": [
            "\n",
            "  0%|          | 0/76 [00:00<?, ?it/s]\u001b[A\n",
            "100%|██████████| 76/76 [00:00<00:00, 615.36it/s]\n",
            " 59%|█████▉    | 106/180 [00:27<00:18,  3.98it/s]"
          ]
        },
        {
          "output_type": "stream",
          "name": "stdout",
          "text": [
            "\n",
            "Current test loss: 1.2517201900482178\n",
            "Current test acc: 0.30263158679008484%\n",
            "\n",
            "Epoch: 106\n",
            "======\n",
            "\n",
            "Current training loss: 0.9007624387741089\n",
            "Current training acc: 0.6578947305679321%\n",
            "\n"
          ]
        },
        {
          "output_type": "stream",
          "name": "stderr",
          "text": [
            "\n",
            "  0%|          | 0/76 [00:00<?, ?it/s]\u001b[A\n",
            "100%|██████████| 76/76 [00:00<00:00, 548.32it/s]\n",
            " 59%|█████▉    | 107/180 [00:27<00:18,  3.93it/s]"
          ]
        },
        {
          "output_type": "stream",
          "name": "stdout",
          "text": [
            "\n",
            "Current test loss: 1.2969915866851807\n",
            "Current test acc: 0.25%\n",
            "\n",
            "Epoch: 107\n",
            "======\n",
            "\n",
            "Current training loss: 0.8952025175094604\n",
            "Current training acc: 0.6710526347160339%\n",
            "\n"
          ]
        },
        {
          "output_type": "stream",
          "name": "stderr",
          "text": [
            "\n",
            "  0%|          | 0/76 [00:00<?, ?it/s]\u001b[A\n",
            "100%|██████████| 76/76 [00:00<00:00, 540.49it/s]\n",
            " 60%|██████    | 108/180 [00:28<00:18,  3.86it/s]"
          ]
        },
        {
          "output_type": "stream",
          "name": "stdout",
          "text": [
            "\n",
            "Current test loss: 1.1502275466918945\n",
            "Current test acc: 0.3552631437778473%\n",
            "\n",
            "Epoch: 108\n",
            "======\n",
            "\n",
            "Current training loss: 0.8963828682899475\n",
            "Current training acc: 0.6546052694320679%\n",
            "\n"
          ]
        },
        {
          "output_type": "stream",
          "name": "stderr",
          "text": [
            "\n",
            "  0%|          | 0/76 [00:00<?, ?it/s]\u001b[A\n",
            "100%|██████████| 76/76 [00:00<00:00, 601.44it/s]\n",
            " 61%|██████    | 109/180 [00:28<00:18,  3.76it/s]"
          ]
        },
        {
          "output_type": "stream",
          "name": "stdout",
          "text": [
            "\n",
            "Current test loss: 1.1765669584274292\n",
            "Current test acc: 0.28947368264198303%\n",
            "\n",
            "Epoch: 109\n",
            "======\n",
            "\n",
            "Current training loss: 0.8908771872520447\n",
            "Current training acc: 0.6743420958518982%\n",
            "\n"
          ]
        },
        {
          "output_type": "stream",
          "name": "stderr",
          "text": [
            "\n",
            "  0%|          | 0/76 [00:00<?, ?it/s]\u001b[A\n",
            "100%|██████████| 76/76 [00:00<00:00, 590.56it/s]\n",
            " 61%|██████    | 110/180 [00:28<00:18,  3.83it/s]"
          ]
        },
        {
          "output_type": "stream",
          "name": "stdout",
          "text": [
            "\n",
            "Current test loss: 1.3344106674194336\n",
            "Current test acc: 0.18421052396297455%\n",
            "\n",
            "Epoch: 110\n",
            "======\n",
            "\n",
            "Current training loss: 0.8939643502235413\n",
            "Current training acc: 0.6743420958518982%\n",
            "\n"
          ]
        },
        {
          "output_type": "stream",
          "name": "stderr",
          "text": [
            "\n",
            "  0%|          | 0/76 [00:00<?, ?it/s]\u001b[A\n",
            "100%|██████████| 76/76 [00:00<00:00, 601.93it/s]\n",
            " 62%|██████▏   | 111/180 [00:28<00:17,  3.84it/s]"
          ]
        },
        {
          "output_type": "stream",
          "name": "stdout",
          "text": [
            "\n",
            "Current test loss: 1.2662954330444336\n",
            "Current test acc: 0.18421052396297455%\n",
            "\n",
            "Epoch: 111\n",
            "======\n",
            "\n",
            "Current training loss: 0.8871671557426453\n",
            "Current training acc: 0.6677631735801697%\n",
            "\n"
          ]
        },
        {
          "output_type": "stream",
          "name": "stderr",
          "text": [
            "\n",
            "  0%|          | 0/76 [00:00<?, ?it/s]\u001b[A\n",
            "100%|██████████| 76/76 [00:00<00:00, 521.40it/s]\n",
            " 62%|██████▏   | 112/180 [00:29<00:17,  3.83it/s]"
          ]
        },
        {
          "output_type": "stream",
          "name": "stdout",
          "text": [
            "\n",
            "Current test loss: 1.268768072128296\n",
            "Current test acc: 0.2631579041481018%\n",
            "\n",
            "Epoch: 112\n",
            "======\n",
            "\n",
            "Current training loss: 0.8884668946266174\n",
            "Current training acc: 0.6710526347160339%\n",
            "\n"
          ]
        },
        {
          "output_type": "stream",
          "name": "stderr",
          "text": [
            "\n",
            "  0%|          | 0/76 [00:00<?, ?it/s]\u001b[A\n",
            "100%|██████████| 76/76 [00:00<00:00, 598.66it/s]\n",
            " 63%|██████▎   | 113/180 [00:29<00:17,  3.85it/s]"
          ]
        },
        {
          "output_type": "stream",
          "name": "stdout",
          "text": [
            "\n",
            "Current test loss: 1.1127148866653442\n",
            "Current test acc: 0.44736841320991516%\n",
            "\n",
            "Epoch: 113\n",
            "======\n",
            "\n",
            "Current training loss: 0.8828390836715698\n",
            "Current training acc: 0.6907894611358643%\n",
            "\n"
          ]
        },
        {
          "output_type": "stream",
          "name": "stderr",
          "text": [
            "\n",
            "  0%|          | 0/76 [00:00<?, ?it/s]\u001b[A\n",
            "100%|██████████| 76/76 [00:00<00:00, 563.08it/s]\n",
            " 63%|██████▎   | 114/180 [00:29<00:16,  3.89it/s]"
          ]
        },
        {
          "output_type": "stream",
          "name": "stdout",
          "text": [
            "\n",
            "Current test loss: 1.2324352264404297\n",
            "Current test acc: 0.25%\n",
            "\n",
            "Epoch: 114\n",
            "======\n",
            "\n",
            "Current training loss: 0.8823111653327942\n",
            "Current training acc: 0.6875%\n",
            "\n"
          ]
        },
        {
          "output_type": "stream",
          "name": "stderr",
          "text": [
            "\n",
            "  0%|          | 0/76 [00:00<?, ?it/s]\u001b[A\n",
            "100%|██████████| 76/76 [00:00<00:00, 572.53it/s]\n",
            " 64%|██████▍   | 115/180 [00:29<00:16,  3.94it/s]"
          ]
        },
        {
          "output_type": "stream",
          "name": "stdout",
          "text": [
            "\n",
            "Current test loss: 1.3202451467514038\n",
            "Current test acc: 0.22368420660495758%\n",
            "\n",
            "Epoch: 115\n",
            "======\n",
            "\n",
            "Current training loss: 0.8833745718002319\n",
            "Current training acc: 0.6776315569877625%\n",
            "\n"
          ]
        },
        {
          "output_type": "stream",
          "name": "stderr",
          "text": [
            "\n",
            "  0%|          | 0/76 [00:00<?, ?it/s]\u001b[A\n",
            "100%|██████████| 76/76 [00:00<00:00, 518.96it/s]\n",
            " 64%|██████▍   | 116/180 [00:30<00:16,  3.88it/s]"
          ]
        },
        {
          "output_type": "stream",
          "name": "stdout",
          "text": [
            "\n",
            "Current test loss: 1.253970742225647\n",
            "Current test acc: 0.25%\n",
            "\n",
            "Epoch: 116\n",
            "======\n",
            "\n",
            "Current training loss: 0.8766903877258301\n",
            "Current training acc: 0.6940789222717285%\n",
            "\n"
          ]
        },
        {
          "output_type": "stream",
          "name": "stderr",
          "text": [
            "\n",
            "  0%|          | 0/76 [00:00<?, ?it/s]\u001b[A\n",
            "100%|██████████| 76/76 [00:00<00:00, 584.49it/s]\n",
            " 65%|██████▌   | 117/180 [00:30<00:16,  3.93it/s]"
          ]
        },
        {
          "output_type": "stream",
          "name": "stdout",
          "text": [
            "\n",
            "Current test loss: 1.2658491134643555\n",
            "Current test acc: 0.25%\n",
            "\n",
            "Epoch: 117\n",
            "======\n",
            "\n",
            "Current training loss: 0.8743209838867188\n",
            "Current training acc: 0.6875%\n",
            "\n"
          ]
        },
        {
          "output_type": "stream",
          "name": "stderr",
          "text": [
            "\n",
            "  0%|          | 0/76 [00:00<?, ?it/s]\u001b[A\n",
            "100%|██████████| 76/76 [00:00<00:00, 581.41it/s]\n",
            " 66%|██████▌   | 118/180 [00:30<00:15,  3.91it/s]"
          ]
        },
        {
          "output_type": "stream",
          "name": "stdout",
          "text": [
            "\n",
            "Current test loss: 1.2171682119369507\n",
            "Current test acc: 0.28947368264198303%\n",
            "\n",
            "Epoch: 118\n",
            "======\n",
            "\n",
            "Current training loss: 0.8728822469711304\n",
            "Current training acc: 0.6875%\n",
            "\n"
          ]
        },
        {
          "output_type": "stream",
          "name": "stderr",
          "text": [
            "\n",
            "  0%|          | 0/76 [00:00<?, ?it/s]\u001b[A\n",
            "100%|██████████| 76/76 [00:00<00:00, 573.66it/s]\n",
            " 66%|██████▌   | 119/180 [00:30<00:15,  3.90it/s]"
          ]
        },
        {
          "output_type": "stream",
          "name": "stdout",
          "text": [
            "\n",
            "Current test loss: 1.2204225063323975\n",
            "Current test acc: 0.30263158679008484%\n",
            "\n",
            "Epoch: 119\n",
            "======\n",
            "\n",
            "Current training loss: 0.8707271218299866\n",
            "Current training acc: 0.6907894611358643%\n",
            "\n"
          ]
        },
        {
          "output_type": "stream",
          "name": "stderr",
          "text": [
            "\n",
            "  0%|          | 0/76 [00:00<?, ?it/s]\u001b[A\n",
            "100%|██████████| 76/76 [00:00<00:00, 541.93it/s]\n",
            " 67%|██████▋   | 120/180 [00:31<00:15,  3.85it/s]"
          ]
        },
        {
          "output_type": "stream",
          "name": "stdout",
          "text": [
            "\n",
            "Current test loss: 1.215404748916626\n",
            "Current test acc: 0.30263158679008484%\n",
            "\n",
            "Epoch: 120\n",
            "======\n",
            "\n",
            "Current training loss: 0.8690977692604065\n",
            "Current training acc: 0.6973684430122375%\n",
            "\n"
          ]
        },
        {
          "output_type": "stream",
          "name": "stderr",
          "text": [
            "\n",
            "  0%|          | 0/76 [00:00<?, ?it/s]\u001b[A\n",
            "100%|██████████| 76/76 [00:00<00:00, 619.50it/s]\n",
            " 67%|██████▋   | 121/180 [00:31<00:15,  3.80it/s]"
          ]
        },
        {
          "output_type": "stream",
          "name": "stdout",
          "text": [
            "\n",
            "Current test loss: 1.2541790008544922\n",
            "Current test acc: 0.30263158679008484%\n",
            "\n",
            "Epoch: 121\n",
            "======\n",
            "\n",
            "Current training loss: 0.8918284177780151\n",
            "Current training acc: 0.6710526347160339%\n",
            "\n"
          ]
        },
        {
          "output_type": "stream",
          "name": "stderr",
          "text": [
            "\n",
            "  0%|          | 0/76 [00:00<?, ?it/s]\u001b[A\n",
            "100%|██████████| 76/76 [00:00<00:00, 611.36it/s]\n",
            " 68%|██████▊   | 122/180 [00:31<00:14,  3.89it/s]"
          ]
        },
        {
          "output_type": "stream",
          "name": "stdout",
          "text": [
            "\n",
            "Current test loss: 1.265893816947937\n",
            "Current test acc: 0.2631579041481018%\n",
            "\n",
            "Epoch: 122\n",
            "======\n",
            "\n",
            "Current training loss: 0.8766440153121948\n",
            "Current training acc: 0.6940789222717285%\n",
            "\n"
          ]
        },
        {
          "output_type": "stream",
          "name": "stderr",
          "text": [
            "\n",
            "  0%|          | 0/76 [00:00<?, ?it/s]\u001b[A\n",
            "100%|██████████| 76/76 [00:00<00:00, 598.76it/s]\n",
            " 68%|██████▊   | 123/180 [00:31<00:14,  3.87it/s]"
          ]
        },
        {
          "output_type": "stream",
          "name": "stdout",
          "text": [
            "\n",
            "Current test loss: 1.2138864994049072\n",
            "Current test acc: 0.28947368264198303%\n",
            "\n",
            "Epoch: 123\n",
            "======\n",
            "\n",
            "Current training loss: 0.8642556071281433\n",
            "Current training acc: 0.6940789222717285%\n",
            "\n"
          ]
        },
        {
          "output_type": "stream",
          "name": "stderr",
          "text": [
            "\n",
            "  0%|          | 0/76 [00:00<?, ?it/s]\u001b[A\n",
            "100%|██████████| 76/76 [00:00<00:00, 562.68it/s]\n",
            " 69%|██████▉   | 124/180 [00:32<00:14,  3.85it/s]"
          ]
        },
        {
          "output_type": "stream",
          "name": "stdout",
          "text": [
            "\n",
            "Current test loss: 1.2019866704940796\n",
            "Current test acc: 0.30263158679008484%\n",
            "\n",
            "Epoch: 124\n",
            "======\n",
            "\n",
            "Current training loss: 0.8604497313499451\n",
            "Current training acc: 0.7039473652839661%\n",
            "\n"
          ]
        },
        {
          "output_type": "stream",
          "name": "stderr",
          "text": [
            "\n",
            "  0%|          | 0/76 [00:00<?, ?it/s]\u001b[A\n",
            "100%|██████████| 76/76 [00:00<00:00, 587.48it/s]\n",
            " 69%|██████▉   | 125/180 [00:32<00:14,  3.87it/s]"
          ]
        },
        {
          "output_type": "stream",
          "name": "stdout",
          "text": [
            "\n",
            "Current test loss: 1.2809348106384277\n",
            "Current test acc: 0.2631579041481018%\n",
            "\n",
            "Epoch: 125\n",
            "======\n",
            "\n",
            "Current training loss: 0.8595588207244873\n",
            "Current training acc: 0.7072368264198303%\n",
            "\n"
          ]
        },
        {
          "output_type": "stream",
          "name": "stderr",
          "text": [
            "\n",
            "  0%|          | 0/76 [00:00<?, ?it/s]\u001b[A\n",
            "100%|██████████| 76/76 [00:00<00:00, 672.65it/s]\n",
            " 70%|███████   | 126/180 [00:32<00:13,  3.95it/s]"
          ]
        },
        {
          "output_type": "stream",
          "name": "stdout",
          "text": [
            "\n",
            "Current test loss: 1.2688381671905518\n",
            "Current test acc: 0.2763157784938812%\n",
            "\n",
            "Epoch: 126\n",
            "======\n",
            "\n",
            "Current training loss: 0.8725144267082214\n",
            "Current training acc: 0.6973684430122375%\n",
            "\n"
          ]
        },
        {
          "output_type": "stream",
          "name": "stderr",
          "text": [
            "\n",
            "  0%|          | 0/76 [00:00<?, ?it/s]\u001b[A\n",
            "100%|██████████| 76/76 [00:00<00:00, 553.17it/s]\n",
            " 71%|███████   | 127/180 [00:32<00:13,  3.80it/s]"
          ]
        },
        {
          "output_type": "stream",
          "name": "stdout",
          "text": [
            "\n",
            "Current test loss: 1.289048433303833\n",
            "Current test acc: 0.2368421107530594%\n",
            "\n",
            "Epoch: 127\n",
            "======\n",
            "\n",
            "Current training loss: 0.9158748984336853\n",
            "Current training acc: 0.6447368264198303%\n",
            "\n"
          ]
        },
        {
          "output_type": "stream",
          "name": "stderr",
          "text": [
            "\n",
            "  0%|          | 0/76 [00:00<?, ?it/s]\u001b[A\n",
            "100%|██████████| 76/76 [00:00<00:00, 580.21it/s]\n",
            " 71%|███████   | 128/180 [00:33<00:13,  3.77it/s]"
          ]
        },
        {
          "output_type": "stream",
          "name": "stdout",
          "text": [
            "\n",
            "Current test loss: 1.0777606964111328\n",
            "Current test acc: 0.4736842215061188%\n",
            "\n",
            "Epoch: 128\n",
            "======\n",
            "\n",
            "Current training loss: 0.9316201210021973\n",
            "Current training acc: 0.6118420958518982%\n",
            "\n"
          ]
        },
        {
          "output_type": "stream",
          "name": "stderr",
          "text": [
            "\n",
            "  0%|          | 0/76 [00:00<?, ?it/s]\u001b[A\n",
            "100%|██████████| 76/76 [00:00<00:00, 602.12it/s]\n",
            " 72%|███████▏  | 129/180 [00:33<00:13,  3.82it/s]"
          ]
        },
        {
          "output_type": "stream",
          "name": "stdout",
          "text": [
            "\n",
            "Current test loss: 1.2514333724975586\n",
            "Current test acc: 0.30263158679008484%\n",
            "\n",
            "Epoch: 129\n",
            "======\n",
            "\n",
            "Current training loss: 0.9384127259254456\n",
            "Current training acc: 0.5986841917037964%\n",
            "\n"
          ]
        },
        {
          "output_type": "stream",
          "name": "stderr",
          "text": [
            "\n",
            "  0%|          | 0/76 [00:00<?, ?it/s]\u001b[A\n",
            "100%|██████████| 76/76 [00:00<00:00, 607.78it/s]\n",
            " 72%|███████▏  | 130/180 [00:33<00:12,  3.86it/s]"
          ]
        },
        {
          "output_type": "stream",
          "name": "stdout",
          "text": [
            "\n",
            "Current test loss: 1.2580336332321167\n",
            "Current test acc: 0.2763157784938812%\n",
            "\n",
            "Epoch: 130\n",
            "======\n",
            "\n",
            "Current training loss: 0.9065691232681274\n",
            "Current training acc: 0.6677631735801697%\n",
            "\n"
          ]
        },
        {
          "output_type": "stream",
          "name": "stderr",
          "text": [
            "\n",
            "  0%|          | 0/76 [00:00<?, ?it/s]\u001b[A\n",
            "100%|██████████| 76/76 [00:00<00:00, 613.12it/s]\n",
            " 73%|███████▎  | 131/180 [00:34<00:12,  3.87it/s]"
          ]
        },
        {
          "output_type": "stream",
          "name": "stdout",
          "text": [
            "\n",
            "Current test loss: 1.2020478248596191\n",
            "Current test acc: 0.34210526943206787%\n",
            "\n",
            "Epoch: 131\n",
            "======\n",
            "\n",
            "Current training loss: 0.9110755920410156\n",
            "Current training acc: 0.6381579041481018%\n",
            "\n"
          ]
        },
        {
          "output_type": "stream",
          "name": "stderr",
          "text": [
            "\n",
            "  0%|          | 0/76 [00:00<?, ?it/s]\u001b[A\n",
            "100%|██████████| 76/76 [00:00<00:00, 539.68it/s]\n",
            " 73%|███████▎  | 132/180 [00:34<00:12,  3.84it/s]"
          ]
        },
        {
          "output_type": "stream",
          "name": "stdout",
          "text": [
            "\n",
            "Current test loss: 1.1919347047805786\n",
            "Current test acc: 0.32894736528396606%\n",
            "\n",
            "Epoch: 132\n",
            "======\n",
            "\n",
            "Current training loss: 0.8988122344017029\n",
            "Current training acc: 0.6611841917037964%\n",
            "\n"
          ]
        },
        {
          "output_type": "stream",
          "name": "stderr",
          "text": [
            "\n",
            "  0%|          | 0/76 [00:00<?, ?it/s]\u001b[A\n",
            "100%|██████████| 76/76 [00:00<00:00, 592.93it/s]\n",
            " 74%|███████▍  | 133/180 [00:34<00:12,  3.91it/s]"
          ]
        },
        {
          "output_type": "stream",
          "name": "stdout",
          "text": [
            "\n",
            "Current test loss: 1.2676420211791992\n",
            "Current test acc: 0.25%\n",
            "\n",
            "Epoch: 133\n",
            "======\n",
            "\n",
            "Current training loss: 0.9003425240516663\n",
            "Current training acc: 0.6513158082962036%\n",
            "\n"
          ]
        },
        {
          "output_type": "stream",
          "name": "stderr",
          "text": [
            "\n",
            "  0%|          | 0/76 [00:00<?, ?it/s]\u001b[A\n",
            "100%|██████████| 76/76 [00:00<00:00, 589.14it/s]\n",
            " 74%|███████▍  | 134/180 [00:34<00:11,  3.93it/s]"
          ]
        },
        {
          "output_type": "stream",
          "name": "stdout",
          "text": [
            "\n",
            "Current test loss: 1.2291654348373413\n",
            "Current test acc: 0.28947368264198303%\n",
            "\n",
            "Epoch: 134\n",
            "======\n",
            "\n",
            "Current training loss: 0.8905645608901978\n",
            "Current training acc: 0.6710526347160339%\n",
            "\n"
          ]
        },
        {
          "output_type": "stream",
          "name": "stderr",
          "text": [
            "\n",
            "  0%|          | 0/76 [00:00<?, ?it/s]\u001b[A\n",
            "100%|██████████| 76/76 [00:00<00:00, 576.09it/s]\n",
            " 75%|███████▌  | 135/180 [00:35<00:11,  3.94it/s]"
          ]
        },
        {
          "output_type": "stream",
          "name": "stdout",
          "text": [
            "\n",
            "Current test loss: 1.0980744361877441\n",
            "Current test acc: 0.44736841320991516%\n",
            "\n",
            "Epoch: 135\n",
            "======\n",
            "\n",
            "Current training loss: 0.8878445029258728\n",
            "Current training acc: 0.6743420958518982%\n",
            "\n"
          ]
        },
        {
          "output_type": "stream",
          "name": "stderr",
          "text": [
            "\n",
            "  0%|          | 0/76 [00:00<?, ?it/s]\u001b[A\n",
            "100%|██████████| 76/76 [00:00<00:00, 564.84it/s]\n",
            " 76%|███████▌  | 136/180 [00:35<00:11,  3.88it/s]"
          ]
        },
        {
          "output_type": "stream",
          "name": "stdout",
          "text": [
            "\n",
            "Current test loss: 1.2546454668045044\n",
            "Current test acc: 0.2631579041481018%\n",
            "\n",
            "Epoch: 136\n",
            "======\n",
            "\n",
            "Current training loss: 0.8794620633125305\n",
            "Current training acc: 0.6875%\n",
            "\n"
          ]
        },
        {
          "output_type": "stream",
          "name": "stderr",
          "text": [
            "\n",
            "  0%|          | 0/76 [00:00<?, ?it/s]\u001b[A\n",
            "100%|██████████| 76/76 [00:00<00:00, 653.92it/s]\n",
            " 76%|███████▌  | 137/180 [00:35<00:10,  3.92it/s]"
          ]
        },
        {
          "output_type": "stream",
          "name": "stdout",
          "text": [
            "\n",
            "Current test loss: 1.135759711265564\n",
            "Current test acc: 0.42105263471603394%\n",
            "\n",
            "Epoch: 137\n",
            "======\n",
            "\n",
            "Current training loss: 0.8801068663597107\n",
            "Current training acc: 0.6973684430122375%\n",
            "\n"
          ]
        },
        {
          "output_type": "stream",
          "name": "stderr",
          "text": [
            "\n",
            "  0%|          | 0/76 [00:00<?, ?it/s]\u001b[A\n",
            "100%|██████████| 76/76 [00:00<00:00, 581.11it/s]\n",
            " 77%|███████▋  | 138/180 [00:35<00:10,  3.91it/s]"
          ]
        },
        {
          "output_type": "stream",
          "name": "stdout",
          "text": [
            "\n",
            "Current test loss: 1.241840124130249\n",
            "Current test acc: 0.30263158679008484%\n",
            "\n",
            "Epoch: 138\n",
            "======\n",
            "\n",
            "Current training loss: 0.872887372970581\n",
            "Current training acc: 0.6973684430122375%\n",
            "\n"
          ]
        },
        {
          "output_type": "stream",
          "name": "stderr",
          "text": [
            "\n",
            "  0%|          | 0/76 [00:00<?, ?it/s]\u001b[A\n",
            "100%|██████████| 76/76 [00:00<00:00, 582.23it/s]\n",
            " 77%|███████▋  | 139/180 [00:36<00:10,  3.92it/s]"
          ]
        },
        {
          "output_type": "stream",
          "name": "stdout",
          "text": [
            "\n",
            "Current test loss: 1.3113055229187012\n",
            "Current test acc: 0.22368420660495758%\n",
            "\n",
            "Epoch: 139\n",
            "======\n",
            "\n",
            "Current training loss: 0.867668628692627\n",
            "Current training acc: 0.7138158082962036%\n",
            "\n"
          ]
        },
        {
          "output_type": "stream",
          "name": "stderr",
          "text": [
            "\n",
            "  0%|          | 0/76 [00:00<?, ?it/s]\u001b[A\n",
            "100%|██████████| 76/76 [00:00<00:00, 559.41it/s]\n",
            " 78%|███████▊  | 140/180 [00:36<00:10,  3.91it/s]"
          ]
        },
        {
          "output_type": "stream",
          "name": "stdout",
          "text": [
            "\n",
            "Current test loss: 1.2345080375671387\n",
            "Current test acc: 0.2763157784938812%\n",
            "\n",
            "Epoch: 140\n",
            "======\n",
            "\n",
            "Current training loss: 0.8671203255653381\n",
            "Current training acc: 0.7072368264198303%\n",
            "\n"
          ]
        },
        {
          "output_type": "stream",
          "name": "stderr",
          "text": [
            "\n",
            "  0%|          | 0/76 [00:00<?, ?it/s]\u001b[A\n",
            "100%|██████████| 76/76 [00:00<00:00, 641.08it/s]\n",
            " 78%|███████▊  | 141/180 [00:36<00:09,  3.92it/s]"
          ]
        },
        {
          "output_type": "stream",
          "name": "stdout",
          "text": [
            "\n",
            "Current test loss: 1.241714358329773\n",
            "Current test acc: 0.30263158679008484%\n",
            "\n",
            "Epoch: 141\n",
            "======\n",
            "\n",
            "Current training loss: 0.8725901246070862\n",
            "Current training acc: 0.6875%\n",
            "\n"
          ]
        },
        {
          "output_type": "stream",
          "name": "stderr",
          "text": [
            "\n",
            "  0%|          | 0/76 [00:00<?, ?it/s]\u001b[A\n",
            "100%|██████████| 76/76 [00:00<00:00, 607.88it/s]\n",
            " 79%|███████▉  | 142/180 [00:36<00:09,  3.90it/s]"
          ]
        },
        {
          "output_type": "stream",
          "name": "stdout",
          "text": [
            "\n",
            "Current test loss: 1.1368874311447144\n",
            "Current test acc: 0.3947368562221527%\n",
            "\n",
            "Epoch: 142\n",
            "======\n",
            "\n",
            "Current training loss: 0.8836352825164795\n",
            "Current training acc: 0.6842105388641357%\n",
            "\n"
          ]
        },
        {
          "output_type": "stream",
          "name": "stderr",
          "text": [
            "\n",
            "  0%|          | 0/76 [00:00<?, ?it/s]\u001b[A\n",
            "100%|██████████| 76/76 [00:00<00:00, 616.40it/s]\n",
            " 79%|███████▉  | 143/180 [00:37<00:09,  3.87it/s]"
          ]
        },
        {
          "output_type": "stream",
          "name": "stdout",
          "text": [
            "\n",
            "Current test loss: 1.1913353204727173\n",
            "Current test acc: 0.3552631437778473%\n",
            "\n",
            "Epoch: 143\n",
            "======\n",
            "\n",
            "Current training loss: 0.8789317607879639\n",
            "Current training acc: 0.6809210777282715%\n",
            "\n"
          ]
        },
        {
          "output_type": "stream",
          "name": "stderr",
          "text": [
            "\n",
            "  0%|          | 0/76 [00:00<?, ?it/s]\u001b[A\n",
            "100%|██████████| 76/76 [00:00<00:00, 518.30it/s]\n",
            " 80%|████████  | 144/180 [00:37<00:09,  3.84it/s]"
          ]
        },
        {
          "output_type": "stream",
          "name": "stdout",
          "text": [
            "\n",
            "Current test loss: 1.1243594884872437\n",
            "Current test acc: 0.40789473056793213%\n",
            "\n",
            "Epoch: 144\n",
            "======\n",
            "\n",
            "Current training loss: 0.8738539814949036\n",
            "Current training acc: 0.6973684430122375%\n",
            "\n"
          ]
        },
        {
          "output_type": "stream",
          "name": "stderr",
          "text": [
            "\n",
            "  0%|          | 0/76 [00:00<?, ?it/s]\u001b[A\n",
            "100%|██████████| 76/76 [00:00<00:00, 615.98it/s]\n",
            " 81%|████████  | 145/180 [00:37<00:08,  3.91it/s]"
          ]
        },
        {
          "output_type": "stream",
          "name": "stdout",
          "text": [
            "\n",
            "Current test loss: 1.2813619375228882\n",
            "Current test acc: 0.2631579041481018%\n",
            "\n",
            "Epoch: 145\n",
            "======\n",
            "\n",
            "Current training loss: 0.8622170686721802\n",
            "Current training acc: 0.6940789222717285%\n",
            "\n"
          ]
        },
        {
          "output_type": "stream",
          "name": "stderr",
          "text": [
            "\n",
            "  0%|          | 0/76 [00:00<?, ?it/s]\u001b[A\n",
            "100%|██████████| 76/76 [00:00<00:00, 598.97it/s]\n",
            " 81%|████████  | 146/180 [00:37<00:08,  3.96it/s]"
          ]
        },
        {
          "output_type": "stream",
          "name": "stdout",
          "text": [
            "\n",
            "Current test loss: 1.1820224523544312\n",
            "Current test acc: 0.3552631437778473%\n",
            "\n",
            "Epoch: 146\n",
            "======\n",
            "\n",
            "Current training loss: 0.8618785738945007\n",
            "Current training acc: 0.7006579041481018%\n",
            "\n"
          ]
        },
        {
          "output_type": "stream",
          "name": "stderr",
          "text": [
            "\n",
            "  0%|          | 0/76 [00:00<?, ?it/s]\u001b[A\n",
            "100%|██████████| 76/76 [00:00<00:00, 578.59it/s]\n",
            " 82%|████████▏ | 147/180 [00:38<00:08,  3.97it/s]"
          ]
        },
        {
          "output_type": "stream",
          "name": "stdout",
          "text": [
            "\n",
            "Current test loss: 1.1971933841705322\n",
            "Current test acc: 0.31578946113586426%\n",
            "\n",
            "Epoch: 147\n",
            "======\n",
            "\n",
            "Current training loss: 0.8634222745895386\n",
            "Current training acc: 0.7039473652839661%\n",
            "\n"
          ]
        },
        {
          "output_type": "stream",
          "name": "stderr",
          "text": [
            "\n",
            "  0%|          | 0/76 [00:00<?, ?it/s]\u001b[A\n",
            "100%|██████████| 76/76 [00:00<00:00, 586.96it/s]\n",
            " 82%|████████▏ | 148/180 [00:38<00:08,  3.94it/s]"
          ]
        },
        {
          "output_type": "stream",
          "name": "stdout",
          "text": [
            "\n",
            "Current test loss: 1.1880464553833008\n",
            "Current test acc: 0.32894736528396606%\n",
            "\n",
            "Epoch: 148\n",
            "======\n",
            "\n",
            "Current training loss: 0.8635743856430054\n",
            "Current training acc: 0.6940789222717285%\n",
            "\n"
          ]
        },
        {
          "output_type": "stream",
          "name": "stderr",
          "text": [
            "\n",
            "  0%|          | 0/76 [00:00<?, ?it/s]\u001b[A\n",
            "100%|██████████| 76/76 [00:00<00:00, 553.63it/s]\n",
            " 83%|████████▎ | 149/180 [00:38<00:07,  3.88it/s]"
          ]
        },
        {
          "output_type": "stream",
          "name": "stdout",
          "text": [
            "\n",
            "Current test loss: 1.3371355533599854\n",
            "Current test acc: 0.21052631735801697%\n",
            "\n",
            "Epoch: 149\n",
            "======\n",
            "\n",
            "Current training loss: 0.8592827320098877\n",
            "Current training acc: 0.7039473652839661%\n",
            "\n"
          ]
        },
        {
          "output_type": "stream",
          "name": "stderr",
          "text": [
            "\n",
            "  0%|          | 0/76 [00:00<?, ?it/s]\u001b[A\n",
            "100%|██████████| 76/76 [00:00<00:00, 575.58it/s]\n",
            " 83%|████████▎ | 150/180 [00:38<00:07,  3.93it/s]"
          ]
        },
        {
          "output_type": "stream",
          "name": "stdout",
          "text": [
            "\n",
            "Current test loss: 1.2885310649871826\n",
            "Current test acc: 0.19736842811107635%\n",
            "\n",
            "Epoch: 150\n",
            "======\n",
            "\n",
            "Current training loss: 0.8592017292976379\n",
            "Current training acc: 0.7039473652839661%\n",
            "\n"
          ]
        },
        {
          "output_type": "stream",
          "name": "stderr",
          "text": [
            "\n",
            "  0%|          | 0/76 [00:00<?, ?it/s]\u001b[A\n",
            "100%|██████████| 76/76 [00:00<00:00, 578.05it/s]\n",
            " 84%|████████▍ | 151/180 [00:39<00:07,  3.88it/s]"
          ]
        },
        {
          "output_type": "stream",
          "name": "stdout",
          "text": [
            "\n",
            "Current test loss: 1.3152714967727661\n",
            "Current test acc: 0.21052631735801697%\n",
            "\n",
            "Epoch: 151\n",
            "======\n",
            "\n",
            "Current training loss: 0.8557465076446533\n",
            "Current training acc: 0.7105262875556946%\n",
            "\n"
          ]
        },
        {
          "output_type": "stream",
          "name": "stderr",
          "text": [
            "\n",
            "  0%|          | 0/76 [00:00<?, ?it/s]\u001b[A\n",
            "100%|██████████| 76/76 [00:00<00:00, 549.22it/s]\n",
            " 84%|████████▍ | 152/180 [00:39<00:07,  3.85it/s]"
          ]
        },
        {
          "output_type": "stream",
          "name": "stdout",
          "text": [
            "\n",
            "Current test loss: 1.2318087816238403\n",
            "Current test acc: 0.2763157784938812%\n",
            "\n",
            "Epoch: 152\n",
            "======\n",
            "\n",
            "Current training loss: 0.8752268552780151\n",
            "Current training acc: 0.6842105388641357%\n",
            "\n"
          ]
        },
        {
          "output_type": "stream",
          "name": "stderr",
          "text": [
            "\n",
            "  0%|          | 0/76 [00:00<?, ?it/s]\u001b[A\n",
            "100%|██████████| 76/76 [00:00<00:00, 570.21it/s]\n",
            " 85%|████████▌ | 153/180 [00:39<00:06,  3.87it/s]"
          ]
        },
        {
          "output_type": "stream",
          "name": "stdout",
          "text": [
            "\n",
            "Current test loss: 1.2584822177886963\n",
            "Current test acc: 0.28947368264198303%\n",
            "\n",
            "Epoch: 153\n",
            "======\n",
            "\n",
            "Current training loss: 0.8620005249977112\n",
            "Current training acc: 0.7039473652839661%\n",
            "\n"
          ]
        },
        {
          "output_type": "stream",
          "name": "stderr",
          "text": [
            "\n",
            "  0%|          | 0/76 [00:00<?, ?it/s]\u001b[A\n",
            "100%|██████████| 76/76 [00:00<00:00, 584.79it/s]\n",
            " 86%|████████▌ | 154/180 [00:39<00:06,  3.90it/s]"
          ]
        },
        {
          "output_type": "stream",
          "name": "stdout",
          "text": [
            "\n",
            "Current test loss: 1.2852524518966675\n",
            "Current test acc: 0.25%\n",
            "\n",
            "Epoch: 154\n",
            "======\n",
            "\n",
            "Current training loss: 0.8550406098365784\n",
            "Current training acc: 0.7105262875556946%\n",
            "\n"
          ]
        },
        {
          "output_type": "stream",
          "name": "stderr",
          "text": [
            "\n",
            "  0%|          | 0/76 [00:00<?, ?it/s]\u001b[A\n",
            "100%|██████████| 76/76 [00:00<00:00, 626.57it/s]\n",
            " 86%|████████▌ | 155/180 [00:40<00:06,  3.90it/s]"
          ]
        },
        {
          "output_type": "stream",
          "name": "stdout",
          "text": [
            "\n",
            "Current test loss: 1.2489755153656006\n",
            "Current test acc: 0.30263158679008484%\n",
            "\n",
            "Epoch: 155\n",
            "======\n",
            "\n",
            "Current training loss: 0.8551327586174011\n",
            "Current training acc: 0.7072368264198303%\n",
            "\n"
          ]
        },
        {
          "output_type": "stream",
          "name": "stderr",
          "text": [
            "\n",
            "  0%|          | 0/76 [00:00<?, ?it/s]\u001b[A\n",
            "100%|██████████| 76/76 [00:00<00:00, 565.97it/s]\n",
            " 87%|████████▋ | 156/180 [00:40<00:06,  3.85it/s]"
          ]
        },
        {
          "output_type": "stream",
          "name": "stdout",
          "text": [
            "\n",
            "Current test loss: 1.2634649276733398\n",
            "Current test acc: 0.2763157784938812%\n",
            "\n",
            "Epoch: 156\n",
            "======\n",
            "\n",
            "Current training loss: 0.8562206625938416\n",
            "Current training acc: 0.7138158082962036%\n",
            "\n"
          ]
        },
        {
          "output_type": "stream",
          "name": "stderr",
          "text": [
            "\n",
            "  0%|          | 0/76 [00:00<?, ?it/s]\u001b[A\n",
            "100%|██████████| 76/76 [00:00<00:00, 597.64it/s]\n",
            " 87%|████████▋ | 157/180 [00:40<00:05,  3.89it/s]"
          ]
        },
        {
          "output_type": "stream",
          "name": "stdout",
          "text": [
            "\n",
            "Current test loss: 1.2457071542739868\n",
            "Current test acc: 0.30263158679008484%\n",
            "\n",
            "Epoch: 157\n",
            "======\n",
            "\n",
            "Current training loss: 0.8546429872512817\n",
            "Current training acc: 0.7171052694320679%\n",
            "\n"
          ]
        },
        {
          "output_type": "stream",
          "name": "stderr",
          "text": [
            "\n",
            "  0%|          | 0/76 [00:00<?, ?it/s]\u001b[A\n",
            "100%|██████████| 76/76 [00:00<00:00, 563.81it/s]\n",
            " 88%|████████▊ | 158/180 [00:40<00:05,  3.90it/s]"
          ]
        },
        {
          "output_type": "stream",
          "name": "stdout",
          "text": [
            "\n",
            "Current test loss: 1.2822436094284058\n",
            "Current test acc: 0.2368421107530594%\n",
            "\n",
            "Epoch: 158\n",
            "======\n",
            "\n",
            "Current training loss: 0.85361248254776\n",
            "Current training acc: 0.7072368264198303%\n",
            "\n"
          ]
        },
        {
          "output_type": "stream",
          "name": "stderr",
          "text": [
            "\n",
            "  0%|          | 0/76 [00:00<?, ?it/s]\u001b[A\n",
            "100%|██████████| 76/76 [00:00<00:00, 581.68it/s]\n",
            " 88%|████████▊ | 159/180 [00:41<00:05,  3.92it/s]"
          ]
        },
        {
          "output_type": "stream",
          "name": "stdout",
          "text": [
            "\n",
            "Current test loss: 1.2509939670562744\n",
            "Current test acc: 0.30263158679008484%\n",
            "\n",
            "Epoch: 159\n",
            "======\n",
            "\n",
            "Current training loss: 0.8481438159942627\n",
            "Current training acc: 0.7236841917037964%\n",
            "\n"
          ]
        },
        {
          "output_type": "stream",
          "name": "stderr",
          "text": [
            "\n",
            "  0%|          | 0/76 [00:00<?, ?it/s]\u001b[A\n",
            "100%|██████████| 76/76 [00:00<00:00, 575.66it/s]\n",
            " 89%|████████▉ | 160/180 [00:41<00:05,  3.83it/s]"
          ]
        },
        {
          "output_type": "stream",
          "name": "stdout",
          "text": [
            "\n",
            "Current test loss: 1.2837940454483032\n",
            "Current test acc: 0.2631579041481018%\n",
            "\n",
            "Epoch: 160\n",
            "======\n",
            "\n",
            "Current training loss: 0.8489547371864319\n",
            "Current training acc: 0.7171052694320679%\n",
            "\n"
          ]
        },
        {
          "output_type": "stream",
          "name": "stderr",
          "text": [
            "\n",
            "  0%|          | 0/76 [00:00<?, ?it/s]\u001b[A\n",
            "100%|██████████| 76/76 [00:00<00:00, 609.20it/s]\n",
            " 89%|████████▉ | 161/180 [00:41<00:04,  3.89it/s]"
          ]
        },
        {
          "output_type": "stream",
          "name": "stdout",
          "text": [
            "\n",
            "Current test loss: 1.1316843032836914\n",
            "Current test acc: 0.40789473056793213%\n",
            "\n",
            "Epoch: 161\n",
            "======\n",
            "\n",
            "Current training loss: 0.846187174320221\n",
            "Current training acc: 0.7203947305679321%\n",
            "\n"
          ]
        },
        {
          "output_type": "stream",
          "name": "stderr",
          "text": [
            "\n",
            "  0%|          | 0/76 [00:00<?, ?it/s]\u001b[A\n",
            "100%|██████████| 76/76 [00:00<00:00, 566.44it/s]\n",
            " 90%|█████████ | 162/180 [00:41<00:04,  3.87it/s]"
          ]
        },
        {
          "output_type": "stream",
          "name": "stdout",
          "text": [
            "\n",
            "Current test loss: 1.0798155069351196\n",
            "Current test acc: 0.4736842215061188%\n",
            "\n",
            "Epoch: 162\n",
            "======\n",
            "\n",
            "Current training loss: 0.8501264452934265\n",
            "Current training acc: 0.7138158082962036%\n",
            "\n"
          ]
        },
        {
          "output_type": "stream",
          "name": "stderr",
          "text": [
            "\n",
            "  0%|          | 0/76 [00:00<?, ?it/s]\u001b[A\n",
            "100%|██████████| 76/76 [00:00<00:00, 571.00it/s]\n",
            " 91%|█████████ | 163/180 [00:42<00:04,  3.86it/s]"
          ]
        },
        {
          "output_type": "stream",
          "name": "stdout",
          "text": [
            "\n",
            "Current test loss: 1.3257461786270142\n",
            "Current test acc: 0.18421052396297455%\n",
            "\n",
            "Epoch: 163\n",
            "======\n",
            "\n",
            "Current training loss: 0.8482946157455444\n",
            "Current training acc: 0.7203947305679321%\n",
            "\n"
          ]
        },
        {
          "output_type": "stream",
          "name": "stderr",
          "text": [
            "\n",
            "  0%|          | 0/76 [00:00<?, ?it/s]\u001b[A\n",
            "100%|██████████| 76/76 [00:00<00:00, 517.15it/s]\n",
            " 91%|█████████ | 164/180 [00:42<00:04,  3.84it/s]"
          ]
        },
        {
          "output_type": "stream",
          "name": "stdout",
          "text": [
            "\n",
            "Current test loss: 1.2209112644195557\n",
            "Current test acc: 0.30263158679008484%\n",
            "\n",
            "Epoch: 164\n",
            "======\n",
            "\n",
            "Current training loss: 0.8549464344978333\n",
            "Current training acc: 0.7105262875556946%\n",
            "\n"
          ]
        },
        {
          "output_type": "stream",
          "name": "stderr",
          "text": [
            "\n",
            "  0%|          | 0/76 [00:00<?, ?it/s]\u001b[A\n",
            "100%|██████████| 76/76 [00:00<00:00, 597.68it/s]\n",
            " 92%|█████████▏| 165/180 [00:42<00:03,  3.88it/s]"
          ]
        },
        {
          "output_type": "stream",
          "name": "stdout",
          "text": [
            "\n",
            "Current test loss: 1.2404139041900635\n",
            "Current test acc: 0.28947368264198303%\n",
            "\n",
            "Epoch: 165\n",
            "======\n",
            "\n",
            "Current training loss: 0.8481084704399109\n",
            "Current training acc: 0.7236841917037964%\n",
            "\n"
          ]
        },
        {
          "output_type": "stream",
          "name": "stderr",
          "text": [
            "\n",
            "  0%|          | 0/76 [00:00<?, ?it/s]\u001b[A\n",
            "100%|██████████| 76/76 [00:00<00:00, 619.23it/s]\n",
            " 92%|█████████▏| 166/180 [00:43<00:03,  3.87it/s]"
          ]
        },
        {
          "output_type": "stream",
          "name": "stdout",
          "text": [
            "\n",
            "Current test loss: 1.3158049583435059\n",
            "Current test acc: 0.21052631735801697%\n",
            "\n",
            "Epoch: 166\n",
            "======\n",
            "\n",
            "Current training loss: 0.8481290936470032\n",
            "Current training acc: 0.7203947305679321%\n",
            "\n"
          ]
        },
        {
          "output_type": "stream",
          "name": "stderr",
          "text": [
            "\n",
            "  0%|          | 0/76 [00:00<?, ?it/s]\u001b[A\n",
            "100%|██████████| 76/76 [00:00<00:00, 571.12it/s]\n",
            " 93%|█████████▎| 167/180 [00:43<00:03,  3.83it/s]"
          ]
        },
        {
          "output_type": "stream",
          "name": "stdout",
          "text": [
            "\n",
            "Current test loss: 1.2772223949432373\n",
            "Current test acc: 0.2631579041481018%\n",
            "\n",
            "Epoch: 167\n",
            "======\n",
            "\n",
            "Current training loss: 0.842226505279541\n",
            "Current training acc: 0.7138158082962036%\n",
            "\n"
          ]
        },
        {
          "output_type": "stream",
          "name": "stderr",
          "text": [
            "\n",
            "  0%|          | 0/76 [00:00<?, ?it/s]\u001b[A\n",
            "100%|██████████| 76/76 [00:00<00:00, 508.05it/s]\n",
            " 93%|█████████▎| 168/180 [00:43<00:03,  3.76it/s]"
          ]
        },
        {
          "output_type": "stream",
          "name": "stdout",
          "text": [
            "\n",
            "Current test loss: 1.1841262578964233\n",
            "Current test acc: 0.32894736528396606%\n",
            "\n",
            "Epoch: 168\n",
            "======\n",
            "\n",
            "Current training loss: 0.8502966165542603\n",
            "Current training acc: 0.7171052694320679%\n",
            "\n"
          ]
        },
        {
          "output_type": "stream",
          "name": "stderr",
          "text": [
            "\n",
            "  0%|          | 0/76 [00:00<?, ?it/s]\u001b[A\n",
            "100%|██████████| 76/76 [00:00<00:00, 519.20it/s]\n",
            " 94%|█████████▍| 169/180 [00:43<00:02,  3.78it/s]"
          ]
        },
        {
          "output_type": "stream",
          "name": "stdout",
          "text": [
            "\n",
            "Current test loss: 1.2488985061645508\n",
            "Current test acc: 0.30263158679008484%\n",
            "\n",
            "Epoch: 169\n",
            "======\n",
            "\n",
            "Current training loss: 0.8515817523002625\n",
            "Current training acc: 0.7072368264198303%\n",
            "\n"
          ]
        },
        {
          "output_type": "stream",
          "name": "stderr",
          "text": [
            "\n",
            "  0%|          | 0/76 [00:00<?, ?it/s]\u001b[A\n",
            "100%|██████████| 76/76 [00:00<00:00, 578.14it/s]\n",
            " 94%|█████████▍| 170/180 [00:44<00:02,  3.84it/s]"
          ]
        },
        {
          "output_type": "stream",
          "name": "stdout",
          "text": [
            "\n",
            "Current test loss: 1.2528756856918335\n",
            "Current test acc: 0.30263158679008484%\n",
            "\n",
            "Epoch: 170\n",
            "======\n",
            "\n",
            "Current training loss: 0.8523282408714294\n",
            "Current training acc: 0.7171052694320679%\n",
            "\n"
          ]
        },
        {
          "output_type": "stream",
          "name": "stderr",
          "text": [
            "\n",
            "  0%|          | 0/76 [00:00<?, ?it/s]\u001b[A\n",
            "100%|██████████| 76/76 [00:00<00:00, 628.86it/s]\n",
            " 95%|█████████▌| 171/180 [00:44<00:02,  3.89it/s]"
          ]
        },
        {
          "output_type": "stream",
          "name": "stdout",
          "text": [
            "\n",
            "Current test loss: 1.2495495080947876\n",
            "Current test acc: 0.30263158679008484%\n",
            "\n",
            "Epoch: 171\n",
            "======\n",
            "\n",
            "Current training loss: 0.8499101400375366\n",
            "Current training acc: 0.7105262875556946%\n",
            "\n"
          ]
        },
        {
          "output_type": "stream",
          "name": "stderr",
          "text": [
            "\n",
            "  0%|          | 0/76 [00:00<?, ?it/s]\u001b[A\n",
            "100%|██████████| 76/76 [00:00<00:00, 592.93it/s]\n",
            " 96%|█████████▌| 172/180 [00:44<00:02,  3.89it/s]"
          ]
        },
        {
          "output_type": "stream",
          "name": "stdout",
          "text": [
            "\n",
            "Current test loss: 1.222216010093689\n",
            "Current test acc: 0.31578946113586426%\n",
            "\n",
            "Epoch: 172\n",
            "======\n",
            "\n",
            "Current training loss: 0.848190426826477\n",
            "Current training acc: 0.7138158082962036%\n",
            "\n"
          ]
        },
        {
          "output_type": "stream",
          "name": "stderr",
          "text": [
            "\n",
            "  0%|          | 0/76 [00:00<?, ?it/s]\u001b[A\n",
            "100%|██████████| 76/76 [00:00<00:00, 515.18it/s]\n",
            " 96%|█████████▌| 173/180 [00:44<00:01,  3.84it/s]"
          ]
        },
        {
          "output_type": "stream",
          "name": "stdout",
          "text": [
            "\n",
            "Current test loss: 1.114033579826355\n",
            "Current test acc: 0.43421053886413574%\n",
            "\n",
            "Epoch: 173\n",
            "======\n",
            "\n",
            "Current training loss: 0.8455994129180908\n",
            "Current training acc: 0.7236841917037964%\n",
            "\n"
          ]
        },
        {
          "output_type": "stream",
          "name": "stderr",
          "text": [
            "\n",
            "  0%|          | 0/76 [00:00<?, ?it/s]\u001b[A\n",
            "100%|██████████| 76/76 [00:00<00:00, 565.39it/s]\n",
            " 97%|█████████▋| 174/180 [00:45<00:01,  3.78it/s]"
          ]
        },
        {
          "output_type": "stream",
          "name": "stdout",
          "text": [
            "\n",
            "Current test loss: 1.0985771417617798\n",
            "Current test acc: 0.44736841320991516%\n",
            "\n",
            "Epoch: 174\n",
            "======\n",
            "\n",
            "Current training loss: 0.8520722389221191\n",
            "Current training acc: 0.7072368264198303%\n",
            "\n"
          ]
        },
        {
          "output_type": "stream",
          "name": "stderr",
          "text": [
            "\n",
            "  0%|          | 0/76 [00:00<?, ?it/s]\u001b[A\n",
            "100%|██████████| 76/76 [00:00<00:00, 552.30it/s]\n",
            " 97%|█████████▋| 175/180 [00:45<00:01,  3.85it/s]"
          ]
        },
        {
          "output_type": "stream",
          "name": "stdout",
          "text": [
            "\n",
            "Current test loss: 1.3271440267562866\n",
            "Current test acc: 0.18421052396297455%\n",
            "\n",
            "Epoch: 175\n",
            "======\n",
            "\n",
            "Current training loss: 0.8421193361282349\n",
            "Current training acc: 0.7236841917037964%\n",
            "\n"
          ]
        },
        {
          "output_type": "stream",
          "name": "stderr",
          "text": [
            "\n",
            "  0%|          | 0/76 [00:00<?, ?it/s]\u001b[A\n",
            "100%|██████████| 76/76 [00:00<00:00, 542.98it/s]\n",
            " 98%|█████████▊| 176/180 [00:45<00:01,  3.80it/s]"
          ]
        },
        {
          "output_type": "stream",
          "name": "stdout",
          "text": [
            "\n",
            "Current test loss: 1.2447925806045532\n",
            "Current test acc: 0.28947368264198303%\n",
            "\n",
            "Epoch: 176\n",
            "======\n",
            "\n",
            "Current training loss: 0.8391456007957458\n",
            "Current training acc: 0.7269737124443054%\n",
            "\n"
          ]
        },
        {
          "output_type": "stream",
          "name": "stderr",
          "text": [
            "\n",
            "  0%|          | 0/76 [00:00<?, ?it/s]\u001b[A\n",
            "100%|██████████| 76/76 [00:00<00:00, 565.10it/s]\n",
            " 98%|█████████▊| 177/180 [00:45<00:00,  3.77it/s]"
          ]
        },
        {
          "output_type": "stream",
          "name": "stdout",
          "text": [
            "\n",
            "Current test loss: 1.2486838102340698\n",
            "Current test acc: 0.30263158679008484%\n",
            "\n",
            "Epoch: 177\n",
            "======\n",
            "\n",
            "Current training loss: 0.8405091762542725\n",
            "Current training acc: 0.7302631735801697%\n",
            "\n"
          ]
        },
        {
          "output_type": "stream",
          "name": "stderr",
          "text": [
            "\n",
            "  0%|          | 0/76 [00:00<?, ?it/s]\u001b[A\n",
            "100%|██████████| 76/76 [00:00<00:00, 589.78it/s]\n",
            " 99%|█████████▉| 178/180 [00:46<00:00,  3.83it/s]"
          ]
        },
        {
          "output_type": "stream",
          "name": "stdout",
          "text": [
            "\n",
            "Current test loss: 1.277784824371338\n",
            "Current test acc: 0.2763157784938812%\n",
            "\n",
            "Epoch: 178\n",
            "======\n",
            "\n",
            "Current training loss: 0.8359022736549377\n",
            "Current training acc: 0.7269737124443054%\n",
            "\n"
          ]
        },
        {
          "output_type": "stream",
          "name": "stderr",
          "text": [
            "\n",
            "  0%|          | 0/76 [00:00<?, ?it/s]\u001b[A\n",
            "100%|██████████| 76/76 [00:00<00:00, 545.93it/s]\n",
            " 99%|█████████▉| 179/180 [00:46<00:00,  3.82it/s]"
          ]
        },
        {
          "output_type": "stream",
          "name": "stdout",
          "text": [
            "\n",
            "Current test loss: 1.2043004035949707\n",
            "Current test acc: 0.28947368264198303%\n",
            "\n",
            "Epoch: 179\n",
            "======\n",
            "\n",
            "Current training loss: 0.8327067494392395\n",
            "Current training acc: 0.7236841917037964%\n",
            "\n"
          ]
        },
        {
          "output_type": "stream",
          "name": "stderr",
          "text": [
            "\n",
            "  0%|          | 0/76 [00:00<?, ?it/s]\u001b[A\n",
            "100%|██████████| 76/76 [00:00<00:00, 579.64it/s]\n",
            "100%|██████████| 180/180 [00:46<00:00,  3.85it/s]"
          ]
        },
        {
          "output_type": "stream",
          "name": "stdout",
          "text": [
            "\n",
            "Current test loss: 1.2086223363876343\n",
            "Current test acc: 0.31578946113586426%\n",
            "\n"
          ]
        },
        {
          "output_type": "stream",
          "name": "stderr",
          "text": [
            "\n"
          ]
        }
      ]
    },
    {
      "cell_type": "code",
      "source": [
        "model_deep_insight_evaluation = eval_model(deep_in_model,test_loader_tab2img,loss_fn_deep, acc_deep, device) # IT will create a dictionary with data"
      ],
      "metadata": {
        "colab": {
          "base_uri": "https://localhost:8080/"
        },
        "id": "pYGPBp7evItg",
        "outputId": "c7421bce-eec6-4a6c-de6b-cf05e1c1f9c3"
      },
      "execution_count": 98,
      "outputs": [
        {
          "output_type": "stream",
          "name": "stderr",
          "text": [
            "100%|██████████| 76/76 [00:00<00:00, 600.75it/s]\n"
          ]
        }
      ]
    },
    {
      "cell_type": "code",
      "source": [
        "deep_insight_preds = torch.stack(model_deep_insight_evaluation[\"model_preds\"]).squeeze().argmax(dim=1) ## hmmm some weird issue, cause it's downloading "
      ],
      "metadata": {
        "id": "Pf_PuLzhvsdw"
      },
      "execution_count": 99,
      "outputs": []
    },
    {
      "cell_type": "code",
      "source": [
        "deep_insight_acc = model_deep_insight_evaluation[\"model_acc\"]; deep_insight_acc"
      ],
      "metadata": {
        "colab": {
          "base_uri": "https://localhost:8080/"
        },
        "id": "c5Z0hnjdw5Vt",
        "outputId": "83a419a7-e620-413c-8f5f-1e3be5b1dd0b"
      },
      "execution_count": 100,
      "outputs": [
        {
          "output_type": "execute_result",
          "data": {
            "text/plain": [
              "0.31578946113586426"
            ]
          },
          "metadata": {},
          "execution_count": 100
        }
      ]
    },
    {
      "cell_type": "code",
      "source": [
        "deep_insight_compare, deep_insight_score = check_score(main, deep_insight_preds.numpy()) "
      ],
      "metadata": {
        "colab": {
          "base_uri": "https://localhost:8080/"
        },
        "id": "evBNauEQ0Wts",
        "outputId": "78bbe865-1e54-4c0d-ce30-9ac1f41fca60"
      },
      "execution_count": 101,
      "outputs": [
        {
          "output_type": "stream",
          "name": "stderr",
          "text": [
            "/usr/local/lib/python3.7/dist-packages/ipykernel_launcher.py:8: SettingWithCopyWarning: \n",
            "A value is trying to be set on a copy of a slice from a DataFrame\n",
            "\n",
            "See the caveats in the documentation: https://pandas.pydata.org/pandas-docs/stable/user_guide/indexing.html#returning-a-view-versus-a-copy\n",
            "  \n",
            "/usr/local/lib/python3.7/dist-packages/ipykernel_launcher.py:14: SettingWithCopyWarning: \n",
            "A value is trying to be set on a copy of a slice from a DataFrame.\n",
            "Try using .loc[row_indexer,col_indexer] = value instead\n",
            "\n",
            "See the caveats in the documentation: https://pandas.pydata.org/pandas-docs/stable/user_guide/indexing.html#returning-a-view-versus-a-copy\n",
            "  \n"
          ]
        }
      ]
    },
    {
      "cell_type": "code",
      "source": [
        "deep_insight_score #Even though we are more then two times lower on accuracy, we are quite high in the terms of the betting odds summary. It seems to be very interesting..."
      ],
      "metadata": {
        "colab": {
          "base_uri": "https://localhost:8080/"
        },
        "id": "TWBZbj6l0xfB",
        "outputId": "78666cc9-444d-4cd8-8194-e88b73e90ca9"
      },
      "execution_count": 102,
      "outputs": [
        {
          "output_type": "execute_result",
          "data": {
            "text/plain": [
              "70.01"
            ]
          },
          "metadata": {},
          "execution_count": 102
        }
      ]
    },
    {
      "cell_type": "code",
      "source": [
        "# Let's analyze this predictions a bit.\n",
        "deep_insight_compare.describe()"
      ],
      "metadata": {
        "colab": {
          "base_uri": "https://localhost:8080/",
          "height": 300
        },
        "id": "ozv0WI6V1dVD",
        "outputId": "2a18375d-5ecc-4d7b-c774-d523bf5bd271"
      },
      "execution_count": 103,
      "outputs": [
        {
          "output_type": "execute_result",
          "data": {
            "text/plain": [
              "             FTR  predictions       AvgH       AvgA       AvgD  score_odds\n",
              "count  35.000000    35.000000  35.000000  35.000000  35.000000   35.000000\n",
              "mean    0.514286     0.514286   3.436857   6.194286   4.951143    2.000286\n",
              "std     0.507093     0.507093   3.084534   6.087644   1.646072    1.101770\n",
              "min     0.000000     0.000000   1.110000   1.260000   3.090000    1.110000\n",
              "25%     0.000000     0.000000   1.405000   1.910000   3.660000    1.325000\n",
              "50%     1.000000     1.000000   2.100000   3.530000   4.810000    1.460000\n",
              "75%     1.000000     1.000000   4.080000   7.870000   5.670000    2.380000\n",
              "max     1.000000     1.000000  12.830000  25.830000   9.780000    6.350000"
            ],
            "text/html": [
              "\n",
              "  <div id=\"df-6dde26b5-7ff3-4d33-b24f-33eaf325acc7\">\n",
              "    <div class=\"colab-df-container\">\n",
              "      <div>\n",
              "<style scoped>\n",
              "    .dataframe tbody tr th:only-of-type {\n",
              "        vertical-align: middle;\n",
              "    }\n",
              "\n",
              "    .dataframe tbody tr th {\n",
              "        vertical-align: top;\n",
              "    }\n",
              "\n",
              "    .dataframe thead th {\n",
              "        text-align: right;\n",
              "    }\n",
              "</style>\n",
              "<table border=\"1\" class=\"dataframe\">\n",
              "  <thead>\n",
              "    <tr style=\"text-align: right;\">\n",
              "      <th></th>\n",
              "      <th>FTR</th>\n",
              "      <th>predictions</th>\n",
              "      <th>AvgH</th>\n",
              "      <th>AvgA</th>\n",
              "      <th>AvgD</th>\n",
              "      <th>score_odds</th>\n",
              "    </tr>\n",
              "  </thead>\n",
              "  <tbody>\n",
              "    <tr>\n",
              "      <th>count</th>\n",
              "      <td>35.000000</td>\n",
              "      <td>35.000000</td>\n",
              "      <td>35.000000</td>\n",
              "      <td>35.000000</td>\n",
              "      <td>35.000000</td>\n",
              "      <td>35.000000</td>\n",
              "    </tr>\n",
              "    <tr>\n",
              "      <th>mean</th>\n",
              "      <td>0.514286</td>\n",
              "      <td>0.514286</td>\n",
              "      <td>3.436857</td>\n",
              "      <td>6.194286</td>\n",
              "      <td>4.951143</td>\n",
              "      <td>2.000286</td>\n",
              "    </tr>\n",
              "    <tr>\n",
              "      <th>std</th>\n",
              "      <td>0.507093</td>\n",
              "      <td>0.507093</td>\n",
              "      <td>3.084534</td>\n",
              "      <td>6.087644</td>\n",
              "      <td>1.646072</td>\n",
              "      <td>1.101770</td>\n",
              "    </tr>\n",
              "    <tr>\n",
              "      <th>min</th>\n",
              "      <td>0.000000</td>\n",
              "      <td>0.000000</td>\n",
              "      <td>1.110000</td>\n",
              "      <td>1.260000</td>\n",
              "      <td>3.090000</td>\n",
              "      <td>1.110000</td>\n",
              "    </tr>\n",
              "    <tr>\n",
              "      <th>25%</th>\n",
              "      <td>0.000000</td>\n",
              "      <td>0.000000</td>\n",
              "      <td>1.405000</td>\n",
              "      <td>1.910000</td>\n",
              "      <td>3.660000</td>\n",
              "      <td>1.325000</td>\n",
              "    </tr>\n",
              "    <tr>\n",
              "      <th>50%</th>\n",
              "      <td>1.000000</td>\n",
              "      <td>1.000000</td>\n",
              "      <td>2.100000</td>\n",
              "      <td>3.530000</td>\n",
              "      <td>4.810000</td>\n",
              "      <td>1.460000</td>\n",
              "    </tr>\n",
              "    <tr>\n",
              "      <th>75%</th>\n",
              "      <td>1.000000</td>\n",
              "      <td>1.000000</td>\n",
              "      <td>4.080000</td>\n",
              "      <td>7.870000</td>\n",
              "      <td>5.670000</td>\n",
              "      <td>2.380000</td>\n",
              "    </tr>\n",
              "    <tr>\n",
              "      <th>max</th>\n",
              "      <td>1.000000</td>\n",
              "      <td>1.000000</td>\n",
              "      <td>12.830000</td>\n",
              "      <td>25.830000</td>\n",
              "      <td>9.780000</td>\n",
              "      <td>6.350000</td>\n",
              "    </tr>\n",
              "  </tbody>\n",
              "</table>\n",
              "</div>\n",
              "      <button class=\"colab-df-convert\" onclick=\"convertToInteractive('df-6dde26b5-7ff3-4d33-b24f-33eaf325acc7')\"\n",
              "              title=\"Convert this dataframe to an interactive table.\"\n",
              "              style=\"display:none;\">\n",
              "        \n",
              "  <svg xmlns=\"http://www.w3.org/2000/svg\" height=\"24px\"viewBox=\"0 0 24 24\"\n",
              "       width=\"24px\">\n",
              "    <path d=\"M0 0h24v24H0V0z\" fill=\"none\"/>\n",
              "    <path d=\"M18.56 5.44l.94 2.06.94-2.06 2.06-.94-2.06-.94-.94-2.06-.94 2.06-2.06.94zm-11 1L8.5 8.5l.94-2.06 2.06-.94-2.06-.94L8.5 2.5l-.94 2.06-2.06.94zm10 10l.94 2.06.94-2.06 2.06-.94-2.06-.94-.94-2.06-.94 2.06-2.06.94z\"/><path d=\"M17.41 7.96l-1.37-1.37c-.4-.4-.92-.59-1.43-.59-.52 0-1.04.2-1.43.59L10.3 9.45l-7.72 7.72c-.78.78-.78 2.05 0 2.83L4 21.41c.39.39.9.59 1.41.59.51 0 1.02-.2 1.41-.59l7.78-7.78 2.81-2.81c.8-.78.8-2.07 0-2.86zM5.41 20L4 18.59l7.72-7.72 1.47 1.35L5.41 20z\"/>\n",
              "  </svg>\n",
              "      </button>\n",
              "      \n",
              "  <style>\n",
              "    .colab-df-container {\n",
              "      display:flex;\n",
              "      flex-wrap:wrap;\n",
              "      gap: 12px;\n",
              "    }\n",
              "\n",
              "    .colab-df-convert {\n",
              "      background-color: #E8F0FE;\n",
              "      border: none;\n",
              "      border-radius: 50%;\n",
              "      cursor: pointer;\n",
              "      display: none;\n",
              "      fill: #1967D2;\n",
              "      height: 32px;\n",
              "      padding: 0 0 0 0;\n",
              "      width: 32px;\n",
              "    }\n",
              "\n",
              "    .colab-df-convert:hover {\n",
              "      background-color: #E2EBFA;\n",
              "      box-shadow: 0px 1px 2px rgba(60, 64, 67, 0.3), 0px 1px 3px 1px rgba(60, 64, 67, 0.15);\n",
              "      fill: #174EA6;\n",
              "    }\n",
              "\n",
              "    [theme=dark] .colab-df-convert {\n",
              "      background-color: #3B4455;\n",
              "      fill: #D2E3FC;\n",
              "    }\n",
              "\n",
              "    [theme=dark] .colab-df-convert:hover {\n",
              "      background-color: #434B5C;\n",
              "      box-shadow: 0px 1px 3px 1px rgba(0, 0, 0, 0.15);\n",
              "      filter: drop-shadow(0px 1px 2px rgba(0, 0, 0, 0.3));\n",
              "      fill: #FFFFFF;\n",
              "    }\n",
              "  </style>\n",
              "\n",
              "      <script>\n",
              "        const buttonEl =\n",
              "          document.querySelector('#df-6dde26b5-7ff3-4d33-b24f-33eaf325acc7 button.colab-df-convert');\n",
              "        buttonEl.style.display =\n",
              "          google.colab.kernel.accessAllowed ? 'block' : 'none';\n",
              "\n",
              "        async function convertToInteractive(key) {\n",
              "          const element = document.querySelector('#df-6dde26b5-7ff3-4d33-b24f-33eaf325acc7');\n",
              "          const dataTable =\n",
              "            await google.colab.kernel.invokeFunction('convertToInteractive',\n",
              "                                                     [key], {});\n",
              "          if (!dataTable) return;\n",
              "\n",
              "          const docLinkHtml = 'Like what you see? Visit the ' +\n",
              "            '<a target=\"_blank\" href=https://colab.research.google.com/notebooks/data_table.ipynb>data table notebook</a>'\n",
              "            + ' to learn more about interactive tables.';\n",
              "          element.innerHTML = '';\n",
              "          dataTable['output_type'] = 'display_data';\n",
              "          await google.colab.output.renderOutput(dataTable, element);\n",
              "          const docLink = document.createElement('div');\n",
              "          docLink.innerHTML = docLinkHtml;\n",
              "          element.appendChild(docLink);\n",
              "        }\n",
              "      </script>\n",
              "    </div>\n",
              "  </div>\n",
              "  "
            ]
          },
          "metadata": {},
          "execution_count": 103
        }
      ]
    },
    {
      "cell_type": "code",
      "source": [
        "avg_odds_per_bet_di = deep_insight_compare.describe().loc[\"mean\"][\"score_odds\"]"
      ],
      "metadata": {
        "id": "VCkyReNs2Bua"
      },
      "execution_count": 104,
      "outputs": []
    },
    {
      "cell_type": "markdown",
      "source": [
        "# PyTorch Tab2Img / DeepInsight results\n",
        "Algorithm perfectly overfitted the data, but when casted upon the test data somehow predicted properly games with the highest avg odds...\n",
        "Even weirder is that I ran it a couple of times and it kept guessing properly those high odd games. The score was ranging from 68 to 86!"
      ],
      "metadata": {
        "id": "09ECmlTM2DRG"
      }
    },
    {
      "cell_type": "markdown",
      "source": [
        "# Summary\n",
        "\n",
        "The aim of this notebook was to compare four baseline models, and how far we are from beating the bookkeepers. Without tuning, with close to default hyperparams, we have the following output."
      ],
      "metadata": {
        "id": "oYUCrNGUbStX"
      }
    },
    {
      "cell_type": "code",
      "source": [
        "compare_dict = {\"TabNet\":{\"score\":score_tabnet,\n",
        "                        \"acc\":tabnet_accuracy,\n",
        "                        \"avg_odds\":avg_odds_per_bet_tabnet},\n",
        "              \"XGB\":{\"score\":score_xgb,\n",
        "                        \"acc\":xgboost_acc_test,\n",
        "                     \"avg_odds\":avg_odds_per_bet_xgb},\n",
        "              \"RandomForest\":{\"score\":score_rf,\n",
        "                        \"acc\":rf_acc,\n",
        "                        \"avg_odds\":avg_odds_per_bet_rf},\n",
        "                \"DeepInsight\":{\"score\":deep_insight_score,\n",
        "                        \"acc\":deep_insight_acc,\n",
        "                        \"avg_odds\":avg_odds_per_bet_di},\n",
        "                \"TargetValues\":{\"score\":76,\n",
        "                        \"acc\":round(1/sum_of_odds*100, 4)}}\n",
        "\n",
        "\n",
        "compare_df = pd.DataFrame.from_dict(compare_dict).T ; compare_df"
      ],
      "metadata": {
        "colab": {
          "base_uri": "https://localhost:8080/",
          "height": 206
        },
        "id": "WucwxDHzHi1K",
        "outputId": "0ac1efb4-0bd5-4a7b-ed43-35c966c8bf8e"
      },
      "execution_count": 105,
      "outputs": [
        {
          "output_type": "execute_result",
          "data": {
            "text/plain": [
              "              score        acc  avg_odds\n",
              "TabNet        92.46   0.592105  2.054667\n",
              "XGB           75.53   0.552632  1.798333\n",
              "RandomForest  73.40   0.539474  1.790244\n",
              "DeepInsight   70.01   0.315789  2.000286\n",
              "TargetValues  76.00  53.151900       NaN"
            ],
            "text/html": [
              "\n",
              "  <div id=\"df-7456f0a2-ffa3-4b50-9df9-de615e9d4363\">\n",
              "    <div class=\"colab-df-container\">\n",
              "      <div>\n",
              "<style scoped>\n",
              "    .dataframe tbody tr th:only-of-type {\n",
              "        vertical-align: middle;\n",
              "    }\n",
              "\n",
              "    .dataframe tbody tr th {\n",
              "        vertical-align: top;\n",
              "    }\n",
              "\n",
              "    .dataframe thead th {\n",
              "        text-align: right;\n",
              "    }\n",
              "</style>\n",
              "<table border=\"1\" class=\"dataframe\">\n",
              "  <thead>\n",
              "    <tr style=\"text-align: right;\">\n",
              "      <th></th>\n",
              "      <th>score</th>\n",
              "      <th>acc</th>\n",
              "      <th>avg_odds</th>\n",
              "    </tr>\n",
              "  </thead>\n",
              "  <tbody>\n",
              "    <tr>\n",
              "      <th>TabNet</th>\n",
              "      <td>92.46</td>\n",
              "      <td>0.592105</td>\n",
              "      <td>2.054667</td>\n",
              "    </tr>\n",
              "    <tr>\n",
              "      <th>XGB</th>\n",
              "      <td>75.53</td>\n",
              "      <td>0.552632</td>\n",
              "      <td>1.798333</td>\n",
              "    </tr>\n",
              "    <tr>\n",
              "      <th>RandomForest</th>\n",
              "      <td>73.40</td>\n",
              "      <td>0.539474</td>\n",
              "      <td>1.790244</td>\n",
              "    </tr>\n",
              "    <tr>\n",
              "      <th>DeepInsight</th>\n",
              "      <td>70.01</td>\n",
              "      <td>0.315789</td>\n",
              "      <td>2.000286</td>\n",
              "    </tr>\n",
              "    <tr>\n",
              "      <th>TargetValues</th>\n",
              "      <td>76.00</td>\n",
              "      <td>53.151900</td>\n",
              "      <td>NaN</td>\n",
              "    </tr>\n",
              "  </tbody>\n",
              "</table>\n",
              "</div>\n",
              "      <button class=\"colab-df-convert\" onclick=\"convertToInteractive('df-7456f0a2-ffa3-4b50-9df9-de615e9d4363')\"\n",
              "              title=\"Convert this dataframe to an interactive table.\"\n",
              "              style=\"display:none;\">\n",
              "        \n",
              "  <svg xmlns=\"http://www.w3.org/2000/svg\" height=\"24px\"viewBox=\"0 0 24 24\"\n",
              "       width=\"24px\">\n",
              "    <path d=\"M0 0h24v24H0V0z\" fill=\"none\"/>\n",
              "    <path d=\"M18.56 5.44l.94 2.06.94-2.06 2.06-.94-2.06-.94-.94-2.06-.94 2.06-2.06.94zm-11 1L8.5 8.5l.94-2.06 2.06-.94-2.06-.94L8.5 2.5l-.94 2.06-2.06.94zm10 10l.94 2.06.94-2.06 2.06-.94-2.06-.94-.94-2.06-.94 2.06-2.06.94z\"/><path d=\"M17.41 7.96l-1.37-1.37c-.4-.4-.92-.59-1.43-.59-.52 0-1.04.2-1.43.59L10.3 9.45l-7.72 7.72c-.78.78-.78 2.05 0 2.83L4 21.41c.39.39.9.59 1.41.59.51 0 1.02-.2 1.41-.59l7.78-7.78 2.81-2.81c.8-.78.8-2.07 0-2.86zM5.41 20L4 18.59l7.72-7.72 1.47 1.35L5.41 20z\"/>\n",
              "  </svg>\n",
              "      </button>\n",
              "      \n",
              "  <style>\n",
              "    .colab-df-container {\n",
              "      display:flex;\n",
              "      flex-wrap:wrap;\n",
              "      gap: 12px;\n",
              "    }\n",
              "\n",
              "    .colab-df-convert {\n",
              "      background-color: #E8F0FE;\n",
              "      border: none;\n",
              "      border-radius: 50%;\n",
              "      cursor: pointer;\n",
              "      display: none;\n",
              "      fill: #1967D2;\n",
              "      height: 32px;\n",
              "      padding: 0 0 0 0;\n",
              "      width: 32px;\n",
              "    }\n",
              "\n",
              "    .colab-df-convert:hover {\n",
              "      background-color: #E2EBFA;\n",
              "      box-shadow: 0px 1px 2px rgba(60, 64, 67, 0.3), 0px 1px 3px 1px rgba(60, 64, 67, 0.15);\n",
              "      fill: #174EA6;\n",
              "    }\n",
              "\n",
              "    [theme=dark] .colab-df-convert {\n",
              "      background-color: #3B4455;\n",
              "      fill: #D2E3FC;\n",
              "    }\n",
              "\n",
              "    [theme=dark] .colab-df-convert:hover {\n",
              "      background-color: #434B5C;\n",
              "      box-shadow: 0px 1px 3px 1px rgba(0, 0, 0, 0.15);\n",
              "      filter: drop-shadow(0px 1px 2px rgba(0, 0, 0, 0.3));\n",
              "      fill: #FFFFFF;\n",
              "    }\n",
              "  </style>\n",
              "\n",
              "      <script>\n",
              "        const buttonEl =\n",
              "          document.querySelector('#df-7456f0a2-ffa3-4b50-9df9-de615e9d4363 button.colab-df-convert');\n",
              "        buttonEl.style.display =\n",
              "          google.colab.kernel.accessAllowed ? 'block' : 'none';\n",
              "\n",
              "        async function convertToInteractive(key) {\n",
              "          const element = document.querySelector('#df-7456f0a2-ffa3-4b50-9df9-de615e9d4363');\n",
              "          const dataTable =\n",
              "            await google.colab.kernel.invokeFunction('convertToInteractive',\n",
              "                                                     [key], {});\n",
              "          if (!dataTable) return;\n",
              "\n",
              "          const docLinkHtml = 'Like what you see? Visit the ' +\n",
              "            '<a target=\"_blank\" href=https://colab.research.google.com/notebooks/data_table.ipynb>data table notebook</a>'\n",
              "            + ' to learn more about interactive tables.';\n",
              "          element.innerHTML = '';\n",
              "          dataTable['output_type'] = 'display_data';\n",
              "          await google.colab.output.renderOutput(dataTable, element);\n",
              "          const docLink = document.createElement('div');\n",
              "          docLink.innerHTML = docLinkHtml;\n",
              "          element.appendChild(docLink);\n",
              "        }\n",
              "      </script>\n",
              "    </div>\n",
              "  </div>\n",
              "  "
            ]
          },
          "metadata": {},
          "execution_count": 105
        }
      ]
    },
    {
      "cell_type": "markdown",
      "source": [
        "## TabNet we may consider already working Proof of Concept\n",
        "With baseline TabNet params we are close to guessing 2 out of 3 games, so it's a very good start. But there is absolutely something worthy consideration in this DeepInsight approach. Maybe upscaling, maybe adding some layers, maybe some data manipulation and transormations... \n",
        "\n",
        "Nevertheless - it was all about understanding the baseline, and here we go - the baseline is already working Proof of Concept!"
      ],
      "metadata": {
        "id": "x5OICtifvrYF"
      }
    },
    {
      "cell_type": "code",
      "source": [],
      "metadata": {
        "id": "j8Eps-Jw4KIR"
      },
      "execution_count": 105,
      "outputs": []
    }
  ]
}