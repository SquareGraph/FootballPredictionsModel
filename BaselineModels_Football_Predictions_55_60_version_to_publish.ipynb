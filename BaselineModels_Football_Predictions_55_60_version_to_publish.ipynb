{
  "nbformat": 4,
  "nbformat_minor": 0,
  "metadata": {
    "colab": {
      "provenance": [],
      "collapsed_sections": [],
      "authorship_tag": "ABX9TyPjFYZ85eNSOISz8hqoaw2g",
      "include_colab_link": true
    },
    "kernelspec": {
      "name": "python3",
      "display_name": "Python 3"
    },
    "language_info": {
      "name": "python"
    }
  },
  "cells": [
    {
      "cell_type": "markdown",
      "metadata": {
        "id": "view-in-github",
        "colab_type": "text"
      },
      "source": [
        "<a href=\"https://colab.research.google.com/github/SquareGraph/FootballPredictionsModel/blob/main/BaselineModels_Football_Predictions_55_60_version_to_publish.ipynb\" target=\"_parent\"><img src=\"https://colab.research.google.com/assets/colab-badge.svg\" alt=\"Open In Colab\"/></a>"
      ]
    },
    {
      "cell_type": "markdown",
      "source": [
        "# This is the model comparison notebook. \n",
        "We will cover a bunch of models with a baseline data from a English Premier League, to distingiush potential and next steps.\n",
        "\n",
        "The main reasoning behind this research is to create the algobetting robot. Whilst mode odds on home wins and distribution are around 1,16(distribution: ~43%), away wins 1,78(dist: ~34%) and draws 3,38(dist: ~23%), it means that:\n",
        "(1,16*0,43+1,78*0,34+3,38*0,23) * accuracy of prediction should set a baseline for a ROI of this robot.\n",
        "\n",
        "And math is very clear here: "
      ],
      "metadata": {
        "id": "zDKCLpfq4vw2"
      }
    },
    {
      "cell_type": "code",
      "source": [
        "sum_of_odds = 1.16*0.43+1.78*0.34+3.38*0.23\n",
        "print(f\"The sum of odds in one season, if we type everything correct is: {round(sum_of_odds, 3)}\")\n",
        "print(f\"So to have non negative ROI (not counting any commisions on money transfer), our algorithms accuracy must be accurate {round(1/sum_of_odds*100, 4)}% times.\")\n",
        "\n",
        "## data based on EPL season of 2021"
      ],
      "metadata": {
        "colab": {
          "base_uri": "https://localhost:8080/"
        },
        "id": "kPyuK3BT9oFy",
        "outputId": "3607751b-acc6-4333-fd03-68b4a3e3e11c"
      },
      "execution_count": 1,
      "outputs": [
        {
          "output_type": "stream",
          "name": "stdout",
          "text": [
            "The sum of odds in one season, if we type everything correct is: 1.881\n",
            "So to have non negative ROI (not counting any commisions on money transfer), our algorithms accuracy must be accurate 53.1519% times.\n"
          ]
        }
      ]
    },
    {
      "cell_type": "markdown",
      "source": [
        "## So we'll be covering following algorithms:\n",
        "\n",
        "1. SKlearn RandomForestClassifier (no need of explanation)\n",
        "2. XGBoost Classifier (no need of explanation)\n",
        "3. PyTorch TabNet implementationby Dreamquark-ai:\n",
        "  <br>  a) https://github.com/dreamquark-ai/tabnet - official docs of PyTorch implementation of the original algorithm\n",
        "  <br>  b) https://arxiv.org/abs/1908.07442 - official research papers of TabNet\n",
        "<br> c) https://www.geeksforgeeks.org/tabnet/ - a quick guide over the TabNet\n",
        "\n",
        "4. DeepInisght with DeppInsight like architecture:\n",
        "  <br>  a) DeepInsight paper: https://www.nature.com/articles/s41598-019-47765-6 - a methodology of converting tabular data to Images, article in Nature with some data\n",
        " <br>   b) https://github.com/nicomignoni/tab2img - a documentation of the implemenation of DeepInsight in a python library \n",
        "<br>    c) Disclaimer: this is a baseline approach, so I decided just to implement the one leg of proposed net. "
      ],
      "metadata": {
        "id": "0Zko6mWV2NEz"
      }
    },
    {
      "cell_type": "code",
      "execution_count": 6,
      "metadata": {
        "colab": {
          "base_uri": "https://localhost:8080/"
        },
        "id": "1OZY18-Dxf-n",
        "outputId": "63cc47f4-01b4-487c-d194-71c50d488c49"
      },
      "outputs": [
        {
          "output_type": "stream",
          "name": "stdout",
          "text": [
            "Drive already mounted at /content/drive; to attempt to forcibly remount, call drive.mount(\"/content/drive\", force_remount=True).\n"
          ]
        }
      ],
      "source": [
        "# Let's start from importing and mounting drive, cause we'll be working on a dataset prepared before in a following notebook:\n",
        "# Notebook for Data Gathering https://github.com/SquareGraph/FootballPredictionsModel/blob/main/DataGathering_from_Soccerdata.ipynb\n",
        "from IPython.utils.text import Path\n",
        "from google.colab import drive \n",
        "drive.mount('/content/drive')\n",
        "import os"
      ]
    },
    {
      "cell_type": "code",
      "source": [
        "# Paths declaration\n",
        "path = Path('/content/drive/MyDrive/Github/FootballPredictionsModel')\n",
        "data = 'data'"
      ],
      "metadata": {
        "id": "N3-66_OYxsmj"
      },
      "execution_count": 7,
      "outputs": []
    },
    {
      "cell_type": "code",
      "source": [
        "#Some standard imports\n",
        "import pandas as pd\n",
        "import numpy as np"
      ],
      "metadata": {
        "id": "xalMDBvdy8i9"
      },
      "execution_count": 8,
      "outputs": []
    },
    {
      "cell_type": "code",
      "source": [
        "main = pd.read_csv(path/data/\"with_fifa_raw.csv\") ; print(main.shape) # We have a lot of features here, 141!\n",
        "main.head()"
      ],
      "metadata": {
        "colab": {
          "base_uri": "https://localhost:8080/",
          "height": 253
        },
        "id": "fHkRL1dEzVOm",
        "outputId": "28eac264-39de-4417-d6be-552f39a4d205"
      },
      "execution_count": 9,
      "outputs": [
        {
          "output_type": "stream",
          "name": "stdout",
          "text": [
            "(380, 141)\n"
          ]
        },
        {
          "output_type": "execute_result",
          "data": {
            "text/plain": [
              "   Unnamed: 0               date_x       home_team                away_team  \\\n",
              "0           0  2021-08-13 00:00:00       Brentford                  Arsenal   \n",
              "1           1  2021-08-14 00:00:00         Burnley   Brighton & Hove Albion   \n",
              "2           2  2021-08-14 00:00:00         Chelsea           Crystal Palace   \n",
              "3           3  2021-08-14 00:00:00         Everton              Southampton   \n",
              "4           4  2021-08-14 00:00:00  Leicester City  Wolverhampton Wanderers   \n",
              "\n",
              "    game_id    Goal_x  Off Target_x  Saved_x  Woodwork_x  <10_x  ...  \\\n",
              "0  3adf2aa7  1.500000           2.8     1.00         0.0    3.6  ...   \n",
              "1  4eb36e37  1.000000           2.6     2.00         0.0    2.2  ...   \n",
              "2  6f454493  1.400000           4.0     4.25         0.0    3.8  ...   \n",
              "3  c99ebbf5  1.666667           4.0     2.00         0.0    3.0  ...   \n",
              "4  0b346a62  1.000000           3.6     2.50         0.0    3.0  ...   \n",
              "\n",
              "         33        34        35        36        37        38        39  \\\n",
              "0 -2.757576  0.393939 -0.333333 -3.060606 -1.636364 -2.242424 -2.060606   \n",
              "1  1.060606  2.666667  0.212121  0.181818 -0.030303  0.333333  0.212121   \n",
              "2  5.939394  3.787879  4.636363  5.151515  0.000000  1.484849  1.454546   \n",
              "3  6.636363  3.484849  1.878788  1.636364  0.181818  0.848485  0.363636   \n",
              "4  3.939394  3.545454  4.060606  3.151515  4.393940  3.545454  4.121212   \n",
              "\n",
              "         40        41        42  \n",
              "0 -1.484849 -0.545455 -1.424242  \n",
              "1  0.484849 -0.454545  0.363636  \n",
              "2  0.151515 -0.636364 -1.666667  \n",
              "3  0.484849  0.424242  0.515151  \n",
              "4  3.454546  4.878788  2.636364  \n",
              "\n",
              "[5 rows x 141 columns]"
            ],
            "text/html": [
              "\n",
              "  <div id=\"df-4eb51b1c-9433-47da-ac13-8cd6f65e55c5\">\n",
              "    <div class=\"colab-df-container\">\n",
              "      <div>\n",
              "<style scoped>\n",
              "    .dataframe tbody tr th:only-of-type {\n",
              "        vertical-align: middle;\n",
              "    }\n",
              "\n",
              "    .dataframe tbody tr th {\n",
              "        vertical-align: top;\n",
              "    }\n",
              "\n",
              "    .dataframe thead th {\n",
              "        text-align: right;\n",
              "    }\n",
              "</style>\n",
              "<table border=\"1\" class=\"dataframe\">\n",
              "  <thead>\n",
              "    <tr style=\"text-align: right;\">\n",
              "      <th></th>\n",
              "      <th>Unnamed: 0</th>\n",
              "      <th>date_x</th>\n",
              "      <th>home_team</th>\n",
              "      <th>away_team</th>\n",
              "      <th>game_id</th>\n",
              "      <th>Goal_x</th>\n",
              "      <th>Off Target_x</th>\n",
              "      <th>Saved_x</th>\n",
              "      <th>Woodwork_x</th>\n",
              "      <th>&lt;10_x</th>\n",
              "      <th>...</th>\n",
              "      <th>33</th>\n",
              "      <th>34</th>\n",
              "      <th>35</th>\n",
              "      <th>36</th>\n",
              "      <th>37</th>\n",
              "      <th>38</th>\n",
              "      <th>39</th>\n",
              "      <th>40</th>\n",
              "      <th>41</th>\n",
              "      <th>42</th>\n",
              "    </tr>\n",
              "  </thead>\n",
              "  <tbody>\n",
              "    <tr>\n",
              "      <th>0</th>\n",
              "      <td>0</td>\n",
              "      <td>2021-08-13 00:00:00</td>\n",
              "      <td>Brentford</td>\n",
              "      <td>Arsenal</td>\n",
              "      <td>3adf2aa7</td>\n",
              "      <td>1.500000</td>\n",
              "      <td>2.8</td>\n",
              "      <td>1.00</td>\n",
              "      <td>0.0</td>\n",
              "      <td>3.6</td>\n",
              "      <td>...</td>\n",
              "      <td>-2.757576</td>\n",
              "      <td>0.393939</td>\n",
              "      <td>-0.333333</td>\n",
              "      <td>-3.060606</td>\n",
              "      <td>-1.636364</td>\n",
              "      <td>-2.242424</td>\n",
              "      <td>-2.060606</td>\n",
              "      <td>-1.484849</td>\n",
              "      <td>-0.545455</td>\n",
              "      <td>-1.424242</td>\n",
              "    </tr>\n",
              "    <tr>\n",
              "      <th>1</th>\n",
              "      <td>1</td>\n",
              "      <td>2021-08-14 00:00:00</td>\n",
              "      <td>Burnley</td>\n",
              "      <td>Brighton &amp; Hove Albion</td>\n",
              "      <td>4eb36e37</td>\n",
              "      <td>1.000000</td>\n",
              "      <td>2.6</td>\n",
              "      <td>2.00</td>\n",
              "      <td>0.0</td>\n",
              "      <td>2.2</td>\n",
              "      <td>...</td>\n",
              "      <td>1.060606</td>\n",
              "      <td>2.666667</td>\n",
              "      <td>0.212121</td>\n",
              "      <td>0.181818</td>\n",
              "      <td>-0.030303</td>\n",
              "      <td>0.333333</td>\n",
              "      <td>0.212121</td>\n",
              "      <td>0.484849</td>\n",
              "      <td>-0.454545</td>\n",
              "      <td>0.363636</td>\n",
              "    </tr>\n",
              "    <tr>\n",
              "      <th>2</th>\n",
              "      <td>2</td>\n",
              "      <td>2021-08-14 00:00:00</td>\n",
              "      <td>Chelsea</td>\n",
              "      <td>Crystal Palace</td>\n",
              "      <td>6f454493</td>\n",
              "      <td>1.400000</td>\n",
              "      <td>4.0</td>\n",
              "      <td>4.25</td>\n",
              "      <td>0.0</td>\n",
              "      <td>3.8</td>\n",
              "      <td>...</td>\n",
              "      <td>5.939394</td>\n",
              "      <td>3.787879</td>\n",
              "      <td>4.636363</td>\n",
              "      <td>5.151515</td>\n",
              "      <td>0.000000</td>\n",
              "      <td>1.484849</td>\n",
              "      <td>1.454546</td>\n",
              "      <td>0.151515</td>\n",
              "      <td>-0.636364</td>\n",
              "      <td>-1.666667</td>\n",
              "    </tr>\n",
              "    <tr>\n",
              "      <th>3</th>\n",
              "      <td>3</td>\n",
              "      <td>2021-08-14 00:00:00</td>\n",
              "      <td>Everton</td>\n",
              "      <td>Southampton</td>\n",
              "      <td>c99ebbf5</td>\n",
              "      <td>1.666667</td>\n",
              "      <td>4.0</td>\n",
              "      <td>2.00</td>\n",
              "      <td>0.0</td>\n",
              "      <td>3.0</td>\n",
              "      <td>...</td>\n",
              "      <td>6.636363</td>\n",
              "      <td>3.484849</td>\n",
              "      <td>1.878788</td>\n",
              "      <td>1.636364</td>\n",
              "      <td>0.181818</td>\n",
              "      <td>0.848485</td>\n",
              "      <td>0.363636</td>\n",
              "      <td>0.484849</td>\n",
              "      <td>0.424242</td>\n",
              "      <td>0.515151</td>\n",
              "    </tr>\n",
              "    <tr>\n",
              "      <th>4</th>\n",
              "      <td>4</td>\n",
              "      <td>2021-08-14 00:00:00</td>\n",
              "      <td>Leicester City</td>\n",
              "      <td>Wolverhampton Wanderers</td>\n",
              "      <td>0b346a62</td>\n",
              "      <td>1.000000</td>\n",
              "      <td>3.6</td>\n",
              "      <td>2.50</td>\n",
              "      <td>0.0</td>\n",
              "      <td>3.0</td>\n",
              "      <td>...</td>\n",
              "      <td>3.939394</td>\n",
              "      <td>3.545454</td>\n",
              "      <td>4.060606</td>\n",
              "      <td>3.151515</td>\n",
              "      <td>4.393940</td>\n",
              "      <td>3.545454</td>\n",
              "      <td>4.121212</td>\n",
              "      <td>3.454546</td>\n",
              "      <td>4.878788</td>\n",
              "      <td>2.636364</td>\n",
              "    </tr>\n",
              "  </tbody>\n",
              "</table>\n",
              "<p>5 rows × 141 columns</p>\n",
              "</div>\n",
              "      <button class=\"colab-df-convert\" onclick=\"convertToInteractive('df-4eb51b1c-9433-47da-ac13-8cd6f65e55c5')\"\n",
              "              title=\"Convert this dataframe to an interactive table.\"\n",
              "              style=\"display:none;\">\n",
              "        \n",
              "  <svg xmlns=\"http://www.w3.org/2000/svg\" height=\"24px\"viewBox=\"0 0 24 24\"\n",
              "       width=\"24px\">\n",
              "    <path d=\"M0 0h24v24H0V0z\" fill=\"none\"/>\n",
              "    <path d=\"M18.56 5.44l.94 2.06.94-2.06 2.06-.94-2.06-.94-.94-2.06-.94 2.06-2.06.94zm-11 1L8.5 8.5l.94-2.06 2.06-.94-2.06-.94L8.5 2.5l-.94 2.06-2.06.94zm10 10l.94 2.06.94-2.06 2.06-.94-2.06-.94-.94-2.06-.94 2.06-2.06.94z\"/><path d=\"M17.41 7.96l-1.37-1.37c-.4-.4-.92-.59-1.43-.59-.52 0-1.04.2-1.43.59L10.3 9.45l-7.72 7.72c-.78.78-.78 2.05 0 2.83L4 21.41c.39.39.9.59 1.41.59.51 0 1.02-.2 1.41-.59l7.78-7.78 2.81-2.81c.8-.78.8-2.07 0-2.86zM5.41 20L4 18.59l7.72-7.72 1.47 1.35L5.41 20z\"/>\n",
              "  </svg>\n",
              "      </button>\n",
              "      \n",
              "  <style>\n",
              "    .colab-df-container {\n",
              "      display:flex;\n",
              "      flex-wrap:wrap;\n",
              "      gap: 12px;\n",
              "    }\n",
              "\n",
              "    .colab-df-convert {\n",
              "      background-color: #E8F0FE;\n",
              "      border: none;\n",
              "      border-radius: 50%;\n",
              "      cursor: pointer;\n",
              "      display: none;\n",
              "      fill: #1967D2;\n",
              "      height: 32px;\n",
              "      padding: 0 0 0 0;\n",
              "      width: 32px;\n",
              "    }\n",
              "\n",
              "    .colab-df-convert:hover {\n",
              "      background-color: #E2EBFA;\n",
              "      box-shadow: 0px 1px 2px rgba(60, 64, 67, 0.3), 0px 1px 3px 1px rgba(60, 64, 67, 0.15);\n",
              "      fill: #174EA6;\n",
              "    }\n",
              "\n",
              "    [theme=dark] .colab-df-convert {\n",
              "      background-color: #3B4455;\n",
              "      fill: #D2E3FC;\n",
              "    }\n",
              "\n",
              "    [theme=dark] .colab-df-convert:hover {\n",
              "      background-color: #434B5C;\n",
              "      box-shadow: 0px 1px 3px 1px rgba(0, 0, 0, 0.15);\n",
              "      filter: drop-shadow(0px 1px 2px rgba(0, 0, 0, 0.3));\n",
              "      fill: #FFFFFF;\n",
              "    }\n",
              "  </style>\n",
              "\n",
              "      <script>\n",
              "        const buttonEl =\n",
              "          document.querySelector('#df-4eb51b1c-9433-47da-ac13-8cd6f65e55c5 button.colab-df-convert');\n",
              "        buttonEl.style.display =\n",
              "          google.colab.kernel.accessAllowed ? 'block' : 'none';\n",
              "\n",
              "        async function convertToInteractive(key) {\n",
              "          const element = document.querySelector('#df-4eb51b1c-9433-47da-ac13-8cd6f65e55c5');\n",
              "          const dataTable =\n",
              "            await google.colab.kernel.invokeFunction('convertToInteractive',\n",
              "                                                     [key], {});\n",
              "          if (!dataTable) return;\n",
              "\n",
              "          const docLinkHtml = 'Like what you see? Visit the ' +\n",
              "            '<a target=\"_blank\" href=https://colab.research.google.com/notebooks/data_table.ipynb>data table notebook</a>'\n",
              "            + ' to learn more about interactive tables.';\n",
              "          element.innerHTML = '';\n",
              "          dataTable['output_type'] = 'display_data';\n",
              "          await google.colab.output.renderOutput(dataTable, element);\n",
              "          const docLink = document.createElement('div');\n",
              "          docLink.innerHTML = docLinkHtml;\n",
              "          element.appendChild(docLink);\n",
              "        }\n",
              "      </script>\n",
              "    </div>\n",
              "  </div>\n",
              "  "
            ]
          },
          "metadata": {},
          "execution_count": 9
        }
      ]
    },
    {
      "cell_type": "code",
      "source": [
        "# list(main.columns)"
      ],
      "metadata": {
        "id": "H2g19SNWDJcs"
      },
      "execution_count": 10,
      "outputs": []
    },
    {
      "cell_type": "code",
      "source": [
        "main.dtypes[main.dtypes == \"object\"] # And here all non-numerical categories. "
      ],
      "metadata": {
        "colab": {
          "base_uri": "https://localhost:8080/"
        },
        "id": "FcljOL5ATiLc",
        "outputId": "61e63a23-0281-4799-abb4-18f76de106f1"
      },
      "execution_count": 11,
      "outputs": [
        {
          "output_type": "execute_result",
          "data": {
            "text/plain": [
              "date_x       object\n",
              "home_team    object\n",
              "away_team    object\n",
              "game_id      object\n",
              "date_y       object\n",
              "dtype: object"
            ]
          },
          "metadata": {},
          "execution_count": 11
        }
      ]
    },
    {
      "cell_type": "markdown",
      "source": [
        "# What to do with those features.\n",
        "A Quick explanation:\n",
        "\n",
        "1. Object data types:\n",
        "   <br>a) We want to drop date_x and date_y features (as it seems not relevant to the game performance, without an information about additional games from other competition, and potential fatigue). From domain knowledge, raw date of a game it's a rubbish data I strongly believe.\n",
        "    <br> b) Home_team and away_team - assign each team a number, and treat them like every other numerical data. There's some logic behind this reasoning. Explain further in the document.\n",
        "    <br> c) game_id - absolutely unnecessary.\n",
        "\n",
        "2.  Numerical data types to drop from the features:\n",
        "\n",
        "    a) FTR - those are our Y values. We want to drop them before assining to the X values.\n",
        "   <br> b) D_HT, home_point,draw_points,away_points - A lost remains of some computation did during that processing. Absolutely to drop.\n",
        "  <br>  c) Unnamed: 0 - index like, probably effect of merging without droping index params. Drop.\n",
        "\n",
        "3. Numerical data types - Legend\n",
        "   <br> a) Columns named from 0 to 42: it's a SoFifa mean params, substracted between home and away.\n",
        "  <br>  b) home_rank, away_rank - ELO Rank at the day of a game\n",
        "  <br> c) all duplicated columns - rolling average (5 games window) for each team performance\n",
        "\n",
        "\n",
        "\n",
        "\n"
      ],
      "metadata": {
        "id": "ZnvDhN32DSTu"
      }
    },
    {
      "cell_type": "markdown",
      "source": [
        "# Team name transofmration\n",
        "\n",
        "Probably the team name may also affect the game result. For example if you are playing against strong rival your mental approach may vary from challenging the weaker one. So let's translate team names into integer values from 1 to 20."
      ],
      "metadata": {
        "id": "vxXgMVyHdlWK"
      }
    },
    {
      "cell_type": "code",
      "source": [
        "team_integers = dict(zip(np.unique(main.home_team.to_numpy()),np.arange(1,21))) #dict from zip from unique team names labeled by the np arange.\n",
        "main.replace(team_integers, inplace=True) #replace all through dictionary method."
      ],
      "metadata": {
        "id": "ibtNhBF9eEct"
      },
      "execution_count": 12,
      "outputs": []
    },
    {
      "cell_type": "markdown",
      "source": [
        "# Prepare Raw, unnormalized data for initial baseline training.\n",
        "\n",
        "We want to start with a baseline models just from the raw data.\n",
        "But let's also check if time series character vary training or not. So we will build two different datasets. One that will be randomly splited, and the second one that takes first 80% of games for a training dataset and predict on the last 20%. Let's call them X_ts,y_ts for timeserieswise variation, and X_rand, y_rand for randomly splitted."
      ],
      "metadata": {
        "id": "quOjyOqmdZD7"
      }
    },
    {
      "cell_type": "code",
      "source": [
        "main_dropped = main.drop([\"date_x\",\"date_y\",\"game_id\",\"Unnamed: 0\",\"D_HT\",\"home_point\",\"draw_points\",\"away_points\"],axis=1) # we are dropping all columns mentioned above"
      ],
      "metadata": {
        "id": "KcDtBEu1zys1"
      },
      "execution_count": 13,
      "outputs": []
    },
    {
      "cell_type": "code",
      "source": [
        "y = main_dropped.FTR.to_numpy() #labels\n",
        "X = main_dropped.drop([\"FTR\"],axis=1).fillna(0).to_numpy() ## all nan comes from the effect of calculating rolling average (division by 0 at some point) or no records, so filling with 0 is not a bad idea."
      ],
      "metadata": {
        "id": "cl_r0j2-TtuD"
      },
      "execution_count": 14,
      "outputs": []
    },
    {
      "cell_type": "code",
      "source": [
        "X_normalized = main_dropped.drop([\"FTR\"],axis=1).apply(lambda x: x/x.max()).fillna(0).to_numpy() #normalized version of X"
      ],
      "metadata": {
        "id": "vwlopIE8yJz0"
      },
      "execution_count": 15,
      "outputs": []
    },
    {
      "cell_type": "code",
      "source": [
        "## We will use our own train test split, because want to keep chronological order as those are time series data.\n",
        "\n",
        "def train_test_split_ts(features, targets, train_size=0.8):\n",
        "\n",
        "    \"\"\"Returns two tuples of Train and test sests, in X,y order.\"\"\"\n",
        "\n",
        "    TRAIN_SIZE = int(features.shape[0]*train_size)\n",
        "    X_ts_train, y_ts_train = features[:TRAIN_SIZE], targets[:TRAIN_SIZE]\n",
        "    X_ts_test, y_ts_test = features[TRAIN_SIZE:], targets[TRAIN_SIZE:]\n",
        "\n",
        "\n",
        "\n",
        "    return (X_ts_train, y_ts_train), (X_ts_test, y_ts_test)"
      ],
      "metadata": {
        "id": "TVtby4-ST7jW"
      },
      "execution_count": 16,
      "outputs": []
    },
    {
      "cell_type": "code",
      "source": [
        "train_ts, test_ts = train_test_split_ts(X_normalized,y) # split into tuples"
      ],
      "metadata": {
        "id": "1l1Q5C-qUeBu"
      },
      "execution_count": 17,
      "outputs": []
    },
    {
      "cell_type": "code",
      "source": [
        "#unpack tuples\n",
        "X_train_ts, y_train_ts = train_ts \n",
        "X_test_ts, y_test_ts = test_ts"
      ],
      "metadata": {
        "id": "5SH-TL7RbjXp"
      },
      "execution_count": 18,
      "outputs": []
    },
    {
      "cell_type": "code",
      "source": [
        "# and now the randomly splitted sklearn version of train_test_split\n",
        "\n",
        "from sklearn.model_selection import train_test_split\n",
        "\n",
        "X_train_rand, X_test_rand, y_train_rand, y_test_rand = train_test_split(X,y, test_size=0.2, random_state=42)"
      ],
      "metadata": {
        "id": "PAOvF9NQhNNq"
      },
      "execution_count": 19,
      "outputs": []
    },
    {
      "cell_type": "markdown",
      "source": [
        "# First model RandomForestClassifier from sklearn\n",
        "We starts with a RandomForest for our absolute baseline."
      ],
      "metadata": {
        "id": "hMAQ-3bEjZzv"
      }
    },
    {
      "cell_type": "code",
      "source": [
        "from sklearn.ensemble import RandomForestClassifier\n",
        "from sklearn.metrics import accuracy_score"
      ],
      "metadata": {
        "id": "-teZvf9NjhHc"
      },
      "execution_count": 20,
      "outputs": []
    },
    {
      "cell_type": "code",
      "source": [
        "rf = RandomForestClassifier(n_estimators=50, min_samples_split=10, random_state=1)"
      ],
      "metadata": {
        "id": "fVdmG5QajqGe"
      },
      "execution_count": 21,
      "outputs": []
    },
    {
      "cell_type": "code",
      "source": [
        "rf.fit(X_train_ts, y_train_ts) # train the baseline model"
      ],
      "metadata": {
        "colab": {
          "base_uri": "https://localhost:8080/"
        },
        "id": "bsLAWK01j271",
        "outputId": "4dc93191-cdd8-4700-ef4d-4ea1332ae5a0"
      },
      "execution_count": 22,
      "outputs": [
        {
          "output_type": "execute_result",
          "data": {
            "text/plain": [
              "RandomForestClassifier(min_samples_split=10, n_estimators=50, random_state=1)"
            ]
          },
          "metadata": {},
          "execution_count": 22
        }
      ]
    },
    {
      "cell_type": "code",
      "source": [
        "rf_preds = np.argmax(rf.predict_proba(X_test_ts), axis=1) # make prediction and call the argmax to have an index of the highest probability"
      ],
      "metadata": {
        "id": "PwHHWFSspvO0"
      },
      "execution_count": 23,
      "outputs": []
    },
    {
      "cell_type": "code",
      "source": [
        "rf_acc = accuracy_score(y_test_ts, rf_preds) ; rf_acc#np.sum((preds == y_test_ts).astype(float))/preds.shape[0] ; accuracy # calculate the model accuracy."
      ],
      "metadata": {
        "colab": {
          "base_uri": "https://localhost:8080/"
        },
        "id": "LCtdNQRbp8Ic",
        "outputId": "d9d48151-2cfb-4ab3-f11d-d1434b57e560"
      },
      "execution_count": 24,
      "outputs": [
        {
          "output_type": "execute_result",
          "data": {
            "text/plain": [
              "0.5394736842105263"
            ]
          },
          "metadata": {},
          "execution_count": 24
        }
      ]
    },
    {
      "cell_type": "code",
      "source": [
        "def check_odds(x):\n",
        "\n",
        "    \"\"\"helper function to collect Avg odds per our prediction. To apply on a DataFrame\"\"\"\n",
        "\n",
        "    if x.FTR == 0:\n",
        "        return x.AvgH\n",
        "    elif x.FTR == 1:\n",
        "        return x.AvgA\n",
        "    elif x.FTR == 2:\n",
        "        return x.AvgD"
      ],
      "metadata": {
        "id": "skHM2S_xsckh"
      },
      "execution_count": 25,
      "outputs": []
    },
    {
      "cell_type": "code",
      "source": [
        "## check the bookmakers odds score\n",
        "\n",
        "def check_score(main_df: pd.core.frame.DataFrame, predictions: np.array):\n",
        "    \n",
        "    \"\"\"A simple function that returns the DataFrame of correct results and a score\"\"\"\n",
        "\n",
        "    main_df[\"predictions\"] = 0\n",
        "    main_df.predictions[304:] = predictions\n",
        "\n",
        "    comparsion_of_predictions = main_df[[\"FTR\",\"predictions\",\"AvgH\",\"AvgA\",\"AvgD\"]][304:]\n",
        "    filter = comparsion_of_predictions.FTR == comparsion_of_predictions.predictions\n",
        "\n",
        "    filtered = comparsion_of_predictions[filter] \n",
        "    filtered[\"score_odds\"] = filtered.apply(lambda x: check_odds(x), axis=1)\n",
        "    score = filtered.sum(axis=0)[\"score_odds\"]\n",
        "\n",
        "    return filtered, score\n",
        "\n",
        "\n",
        "    \n"
      ],
      "metadata": {
        "id": "ApyJrwBQtM35"
      },
      "execution_count": 26,
      "outputs": []
    },
    {
      "cell_type": "code",
      "source": [
        "compare_rf, score_rf = check_score(main, rf_preds) ; score_rf"
      ],
      "metadata": {
        "colab": {
          "base_uri": "https://localhost:8080/"
        },
        "id": "2prYupCwxLHY",
        "outputId": "678f7858-293d-4608-ac06-96142d36a448"
      },
      "execution_count": 27,
      "outputs": [
        {
          "output_type": "stream",
          "name": "stderr",
          "text": [
            "/usr/local/lib/python3.7/dist-packages/ipykernel_launcher.py:8: SettingWithCopyWarning: \n",
            "A value is trying to be set on a copy of a slice from a DataFrame\n",
            "\n",
            "See the caveats in the documentation: https://pandas.pydata.org/pandas-docs/stable/user_guide/indexing.html#returning-a-view-versus-a-copy\n",
            "  \n",
            "/usr/local/lib/python3.7/dist-packages/ipykernel_launcher.py:14: SettingWithCopyWarning: \n",
            "A value is trying to be set on a copy of a slice from a DataFrame.\n",
            "Try using .loc[row_indexer,col_indexer] = value instead\n",
            "\n",
            "See the caveats in the documentation: https://pandas.pydata.org/pandas-docs/stable/user_guide/indexing.html#returning-a-view-versus-a-copy\n",
            "  \n"
          ]
        },
        {
          "output_type": "execute_result",
          "data": {
            "text/plain": [
              "73.39999999999999"
            ]
          },
          "metadata": {},
          "execution_count": 27
        }
      ]
    },
    {
      "cell_type": "code",
      "source": [
        "avg_odds_per_bet_rf = compare_rf.describe().loc[\"mean\"][\"score_odds\"] ; avg_odds_per_bet_rf"
      ],
      "metadata": {
        "colab": {
          "base_uri": "https://localhost:8080/"
        },
        "id": "itjoFKyP2pWO",
        "outputId": "536444fb-8532-4065-8cba-53deef6a0db7"
      },
      "execution_count": 95,
      "outputs": [
        {
          "output_type": "execute_result",
          "data": {
            "text/plain": [
              "1.7902439024390242"
            ]
          },
          "metadata": {},
          "execution_count": 95
        }
      ]
    },
    {
      "cell_type": "markdown",
      "source": [
        "# RandomForestClassifier\n",
        "\n",
        "So our accuracy is over the target (nearly 54%) but it looks like investing 1 dollar per each game of the last 76 game wouldn't be the best idea in the world, cause our return was 73,4 dollars. But still better then random, as we have only 33% chances of good bet!"
      ],
      "metadata": {
        "id": "dWrVxUpuL9Uk"
      }
    },
    {
      "cell_type": "markdown",
      "source": [
        "# XGBoost - Baseline model 2"
      ],
      "metadata": {
        "id": "SdxWeFiB_bcH"
      }
    },
    {
      "cell_type": "code",
      "source": [
        "import xgboost as xgb"
      ],
      "metadata": {
        "id": "Fdv8BCK7xWGx"
      },
      "execution_count": 28,
      "outputs": []
    },
    {
      "cell_type": "code",
      "source": [
        "model_xgb_ = xgb.XGBClassifier(learning_rate=0.1,\n",
        "                              max_depth=5,\n",
        "                              n_estimators=100,\n",
        "                              subsample=0.5,\n",
        "                              colsample_bytree=0.5,\n",
        "                              eval_metric='mlogloss',\n",
        "                              verbosity=1) #Hyperparams\n",
        "\n",
        "\n",
        "\n",
        "model_xgb_.fit(X_train_ts, y_train_ts, early_stopping_rounds=100, eval_set=[(X_test_ts, y_test_ts)], verbose=True) #train the model"
      ],
      "metadata": {
        "colab": {
          "base_uri": "https://localhost:8080/"
        },
        "id": "CrCNyagmza8d",
        "outputId": "b049e577-2dd1-494a-c06d-fa614894b0a1"
      },
      "execution_count": 29,
      "outputs": [
        {
          "output_type": "stream",
          "name": "stdout",
          "text": [
            "[0]\tvalidation_0-mlogloss:1.07159\n",
            "Will train until validation_0-mlogloss hasn't improved in 100 rounds.\n",
            "[1]\tvalidation_0-mlogloss:1.05318\n",
            "[2]\tvalidation_0-mlogloss:1.04096\n",
            "[3]\tvalidation_0-mlogloss:1.01734\n",
            "[4]\tvalidation_0-mlogloss:1.00851\n",
            "[5]\tvalidation_0-mlogloss:0.993597\n",
            "[6]\tvalidation_0-mlogloss:0.988864\n",
            "[7]\tvalidation_0-mlogloss:0.981035\n",
            "[8]\tvalidation_0-mlogloss:0.980294\n",
            "[9]\tvalidation_0-mlogloss:0.975226\n",
            "[10]\tvalidation_0-mlogloss:0.973907\n",
            "[11]\tvalidation_0-mlogloss:0.969354\n",
            "[12]\tvalidation_0-mlogloss:0.971531\n",
            "[13]\tvalidation_0-mlogloss:0.96034\n",
            "[14]\tvalidation_0-mlogloss:0.951886\n",
            "[15]\tvalidation_0-mlogloss:0.949096\n",
            "[16]\tvalidation_0-mlogloss:0.942552\n",
            "[17]\tvalidation_0-mlogloss:0.944439\n",
            "[18]\tvalidation_0-mlogloss:0.945999\n",
            "[19]\tvalidation_0-mlogloss:0.941998\n",
            "[20]\tvalidation_0-mlogloss:0.950488\n",
            "[21]\tvalidation_0-mlogloss:0.95129\n",
            "[22]\tvalidation_0-mlogloss:0.956154\n",
            "[23]\tvalidation_0-mlogloss:0.955075\n",
            "[24]\tvalidation_0-mlogloss:0.954338\n",
            "[25]\tvalidation_0-mlogloss:0.951503\n",
            "[26]\tvalidation_0-mlogloss:0.9514\n",
            "[27]\tvalidation_0-mlogloss:0.953566\n",
            "[28]\tvalidation_0-mlogloss:0.953838\n",
            "[29]\tvalidation_0-mlogloss:0.95576\n",
            "[30]\tvalidation_0-mlogloss:0.957269\n",
            "[31]\tvalidation_0-mlogloss:0.95873\n",
            "[32]\tvalidation_0-mlogloss:0.961165\n",
            "[33]\tvalidation_0-mlogloss:0.96832\n",
            "[34]\tvalidation_0-mlogloss:0.967337\n",
            "[35]\tvalidation_0-mlogloss:0.967884\n",
            "[36]\tvalidation_0-mlogloss:0.967633\n",
            "[37]\tvalidation_0-mlogloss:0.965484\n",
            "[38]\tvalidation_0-mlogloss:0.964646\n",
            "[39]\tvalidation_0-mlogloss:0.967963\n",
            "[40]\tvalidation_0-mlogloss:0.967931\n",
            "[41]\tvalidation_0-mlogloss:0.961274\n",
            "[42]\tvalidation_0-mlogloss:0.96475\n",
            "[43]\tvalidation_0-mlogloss:0.965803\n",
            "[44]\tvalidation_0-mlogloss:0.961642\n",
            "[45]\tvalidation_0-mlogloss:0.961428\n",
            "[46]\tvalidation_0-mlogloss:0.964034\n",
            "[47]\tvalidation_0-mlogloss:0.963381\n",
            "[48]\tvalidation_0-mlogloss:0.967106\n",
            "[49]\tvalidation_0-mlogloss:0.97139\n",
            "[50]\tvalidation_0-mlogloss:0.967244\n",
            "[51]\tvalidation_0-mlogloss:0.967246\n",
            "[52]\tvalidation_0-mlogloss:0.973429\n",
            "[53]\tvalidation_0-mlogloss:0.981508\n",
            "[54]\tvalidation_0-mlogloss:0.988034\n",
            "[55]\tvalidation_0-mlogloss:0.987028\n",
            "[56]\tvalidation_0-mlogloss:0.989413\n",
            "[57]\tvalidation_0-mlogloss:0.986749\n",
            "[58]\tvalidation_0-mlogloss:0.985147\n",
            "[59]\tvalidation_0-mlogloss:0.988392\n",
            "[60]\tvalidation_0-mlogloss:0.984803\n",
            "[61]\tvalidation_0-mlogloss:0.984218\n",
            "[62]\tvalidation_0-mlogloss:0.981313\n",
            "[63]\tvalidation_0-mlogloss:0.985648\n",
            "[64]\tvalidation_0-mlogloss:0.987126\n",
            "[65]\tvalidation_0-mlogloss:0.985093\n",
            "[66]\tvalidation_0-mlogloss:0.990817\n",
            "[67]\tvalidation_0-mlogloss:0.992096\n",
            "[68]\tvalidation_0-mlogloss:0.997313\n",
            "[69]\tvalidation_0-mlogloss:0.992886\n",
            "[70]\tvalidation_0-mlogloss:0.996423\n",
            "[71]\tvalidation_0-mlogloss:0.996732\n",
            "[72]\tvalidation_0-mlogloss:1.00027\n",
            "[73]\tvalidation_0-mlogloss:1.00649\n",
            "[74]\tvalidation_0-mlogloss:1.00917\n",
            "[75]\tvalidation_0-mlogloss:1.00833\n",
            "[76]\tvalidation_0-mlogloss:1.00554\n",
            "[77]\tvalidation_0-mlogloss:1.00442\n",
            "[78]\tvalidation_0-mlogloss:1.01055\n",
            "[79]\tvalidation_0-mlogloss:1.01034\n",
            "[80]\tvalidation_0-mlogloss:1.00818\n",
            "[81]\tvalidation_0-mlogloss:1.00992\n",
            "[82]\tvalidation_0-mlogloss:1.0097\n",
            "[83]\tvalidation_0-mlogloss:1.00848\n",
            "[84]\tvalidation_0-mlogloss:1.01511\n",
            "[85]\tvalidation_0-mlogloss:1.01349\n",
            "[86]\tvalidation_0-mlogloss:1.01631\n",
            "[87]\tvalidation_0-mlogloss:1.02517\n",
            "[88]\tvalidation_0-mlogloss:1.02482\n",
            "[89]\tvalidation_0-mlogloss:1.02697\n",
            "[90]\tvalidation_0-mlogloss:1.02858\n",
            "[91]\tvalidation_0-mlogloss:1.02892\n",
            "[92]\tvalidation_0-mlogloss:1.02842\n",
            "[93]\tvalidation_0-mlogloss:1.0314\n",
            "[94]\tvalidation_0-mlogloss:1.03517\n",
            "[95]\tvalidation_0-mlogloss:1.03791\n",
            "[96]\tvalidation_0-mlogloss:1.04039\n",
            "[97]\tvalidation_0-mlogloss:1.04166\n",
            "[98]\tvalidation_0-mlogloss:1.04378\n",
            "[99]\tvalidation_0-mlogloss:1.04371\n"
          ]
        },
        {
          "output_type": "execute_result",
          "data": {
            "text/plain": [
              "XGBClassifier(colsample_bytree=0.5, eval_metric='mlogloss', max_depth=5,\n",
              "              objective='multi:softprob', subsample=0.5)"
            ]
          },
          "metadata": {},
          "execution_count": 29
        }
      ]
    },
    {
      "cell_type": "code",
      "source": [
        "xgboost_test_preds = model_xgb_.predict_proba(X_test_ts).argmax(axis=1) # make predictions and find the index of the max predictions by row"
      ],
      "metadata": {
        "id": "8_ZSzURg_1IV"
      },
      "execution_count": 30,
      "outputs": []
    },
    {
      "cell_type": "code",
      "source": [
        "xgboost_acc_test = accuracy_score(y_test_ts, xgboost_test_preds) ; xgboost_acc_test # calculate Accuracy"
      ],
      "metadata": {
        "colab": {
          "base_uri": "https://localhost:8080/"
        },
        "id": "cMiN1TP2AJaN",
        "outputId": "08688d5a-e77a-43cf-e36b-b0858c1b5651"
      },
      "execution_count": 31,
      "outputs": [
        {
          "output_type": "execute_result",
          "data": {
            "text/plain": [
              "0.5526315789473685"
            ]
          },
          "metadata": {},
          "execution_count": 31
        }
      ]
    },
    {
      "cell_type": "code",
      "source": [
        "compare_xgb, score_xgb = check_score(main, xgboost_test_preds) # calculate bookmakers "
      ],
      "metadata": {
        "colab": {
          "base_uri": "https://localhost:8080/"
        },
        "id": "Zevz8s5b_17Z",
        "outputId": "3e5b3e2d-9ebe-46fc-fb4a-0afc6942d57e"
      },
      "execution_count": 32,
      "outputs": [
        {
          "output_type": "stream",
          "name": "stderr",
          "text": [
            "/usr/local/lib/python3.7/dist-packages/ipykernel_launcher.py:8: SettingWithCopyWarning: \n",
            "A value is trying to be set on a copy of a slice from a DataFrame\n",
            "\n",
            "See the caveats in the documentation: https://pandas.pydata.org/pandas-docs/stable/user_guide/indexing.html#returning-a-view-versus-a-copy\n",
            "  \n",
            "/usr/local/lib/python3.7/dist-packages/ipykernel_launcher.py:14: SettingWithCopyWarning: \n",
            "A value is trying to be set on a copy of a slice from a DataFrame.\n",
            "Try using .loc[row_indexer,col_indexer] = value instead\n",
            "\n",
            "See the caveats in the documentation: https://pandas.pydata.org/pandas-docs/stable/user_guide/indexing.html#returning-a-view-versus-a-copy\n",
            "  \n"
          ]
        }
      ]
    },
    {
      "cell_type": "code",
      "source": [
        "score_xgb # And still we are below our initial investment."
      ],
      "metadata": {
        "colab": {
          "base_uri": "https://localhost:8080/"
        },
        "id": "1bsCZ8-VA9Re",
        "outputId": "1d8c0171-7672-4455-f707-9fe1c9fd92ae"
      },
      "execution_count": 33,
      "outputs": [
        {
          "output_type": "execute_result",
          "data": {
            "text/plain": [
              "75.53"
            ]
          },
          "metadata": {},
          "execution_count": 33
        }
      ]
    },
    {
      "cell_type": "code",
      "source": [
        "avg_odds_per_bet_xgb = compare_xgb.describe().loc[\"mean\"][\"score_odds\"] ; avg_odds_per_bet_xgb"
      ],
      "metadata": {
        "colab": {
          "base_uri": "https://localhost:8080/"
        },
        "id": "o8vGByqW2cVA",
        "outputId": "aeccad59-bb5a-496c-b456-e6735379509c"
      },
      "execution_count": 94,
      "outputs": [
        {
          "output_type": "execute_result",
          "data": {
            "text/plain": [
              "1.7983333333333333"
            ]
          },
          "metadata": {},
          "execution_count": 94
        }
      ]
    },
    {
      "cell_type": "markdown",
      "source": [
        "# XGBoost baseline performance\n",
        "It was slightly better then RandomForrest, but we are still underperforming. From the other hand, we are at the level of the bookmakers accuracy, so not bad for the second shot."
      ],
      "metadata": {
        "id": "8F43viU2WrVh"
      }
    },
    {
      "cell_type": "markdown",
      "source": [
        "# TabNet Baseline"
      ],
      "metadata": {
        "id": "LySU1djKE67r"
      }
    },
    {
      "cell_type": "code",
      "source": [
        "!pip install pytorch_tabnet # You have to install tabnet, colab doesn't come with this one included"
      ],
      "metadata": {
        "colab": {
          "base_uri": "https://localhost:8080/"
        },
        "id": "GEnU-ZheE81G",
        "outputId": "5ba42702-25d5-4308-efce-d14c5015992f"
      },
      "execution_count": 34,
      "outputs": [
        {
          "output_type": "stream",
          "name": "stdout",
          "text": [
            "Looking in indexes: https://pypi.org/simple, https://us-python.pkg.dev/colab-wheels/public/simple/\n",
            "Collecting pytorch_tabnet\n",
            "  Downloading pytorch_tabnet-3.1.1-py3-none-any.whl (39 kB)\n",
            "Requirement already satisfied: scipy>1.4 in /usr/local/lib/python3.7/dist-packages (from pytorch_tabnet) (1.7.3)\n",
            "Requirement already satisfied: numpy<2.0,>=1.17 in /usr/local/lib/python3.7/dist-packages (from pytorch_tabnet) (1.21.6)\n",
            "Requirement already satisfied: tqdm<5.0,>=4.36 in /usr/local/lib/python3.7/dist-packages (from pytorch_tabnet) (4.64.1)\n",
            "Requirement already satisfied: torch<2.0,>=1.2 in /usr/local/lib/python3.7/dist-packages (from pytorch_tabnet) (1.12.1+cu113)\n",
            "Requirement already satisfied: scikit_learn>0.21 in /usr/local/lib/python3.7/dist-packages (from pytorch_tabnet) (1.0.2)\n",
            "Requirement already satisfied: joblib>=0.11 in /usr/local/lib/python3.7/dist-packages (from scikit_learn>0.21->pytorch_tabnet) (1.1.0)\n",
            "Requirement already satisfied: threadpoolctl>=2.0.0 in /usr/local/lib/python3.7/dist-packages (from scikit_learn>0.21->pytorch_tabnet) (3.1.0)\n",
            "Requirement already satisfied: typing-extensions in /usr/local/lib/python3.7/dist-packages (from torch<2.0,>=1.2->pytorch_tabnet) (4.1.1)\n",
            "Installing collected packages: pytorch-tabnet\n",
            "Successfully installed pytorch-tabnet-3.1.1\n"
          ]
        }
      ]
    },
    {
      "cell_type": "code",
      "source": [
        "from pytorch_tabnet.tab_model import TabNetClassifier #this is the class will be using\n",
        "import torch #this one is for the optimizer"
      ],
      "metadata": {
        "id": "AJ6W28bNFc2j"
      },
      "execution_count": 35,
      "outputs": []
    },
    {
      "cell_type": "code",
      "source": [
        "model_tabnet = TabNetClassifier(n_d=64, n_a=64, n_steps=10,\n",
        "    gamma=0, n_independent=2, n_shared=2,\n",
        "    lambda_sparse=1e-5, momentum=1, clip_value=2.,\n",
        "    optimizer_fn=torch.optim.Adam,\n",
        "    optimizer_params=dict(lr=0.1),\n",
        "    scheduler_params = {\"gamma\": 0.5,\n",
        "                     \"step_size\": 50},\n",
        "    scheduler_fn=torch.optim.lr_scheduler.StepLR, epsilon=1e-15\n",
        ") #hyperparams of the model"
      ],
      "metadata": {
        "colab": {
          "base_uri": "https://localhost:8080/"
        },
        "id": "KJmOcIWBFjDW",
        "outputId": "e2fa6cc5-b382-4201-d83f-6b1a48cc4a89"
      },
      "execution_count": 36,
      "outputs": [
        {
          "output_type": "stream",
          "name": "stdout",
          "text": [
            "Device used : cpu\n"
          ]
        }
      ]
    },
    {
      "cell_type": "code",
      "source": [
        "max_epochs = 500 "
      ],
      "metadata": {
        "id": "OhzKvjOPF0uD"
      },
      "execution_count": 37,
      "outputs": []
    },
    {
      "cell_type": "code",
      "source": [
        "model_tabnet.fit(X_train=X_train_ts, \n",
        "                 y_train=y_train_ts, \n",
        "                 eval_set=[(X_train_ts, y_train_ts), (X_test_ts, y_test_ts)],\n",
        "                 eval_name=['train','valid'],\n",
        "                 max_epochs=max_epochs, patience=100) #train the model"
      ],
      "metadata": {
        "colab": {
          "base_uri": "https://localhost:8080/"
        },
        "id": "NjVQgD-eF4K4",
        "outputId": "dbba70d1-acf8-41f7-cb7c-fbcdca30417d"
      },
      "execution_count": 38,
      "outputs": [
        {
          "output_type": "stream",
          "name": "stdout",
          "text": [
            "epoch 0  | loss: 4.86407 | train_accuracy: 0.40461 | valid_accuracy: 0.42105 |  0:00:00s\n",
            "epoch 1  | loss: 12.5476 | train_accuracy: 0.27303 | valid_accuracy: 0.32895 |  0:00:01s\n",
            "epoch 2  | loss: 11.52817| train_accuracy: 0.45066 | valid_accuracy: 0.5     |  0:00:01s\n",
            "epoch 3  | loss: 5.76803 | train_accuracy: 0.50329 | valid_accuracy: 0.51316 |  0:00:01s\n",
            "epoch 4  | loss: 5.12929 | train_accuracy: 0.30921 | valid_accuracy: 0.26316 |  0:00:02s\n",
            "epoch 5  | loss: 4.21971 | train_accuracy: 0.32566 | valid_accuracy: 0.38158 |  0:00:02s\n",
            "epoch 6  | loss: 1.49342 | train_accuracy: 0.34868 | valid_accuracy: 0.32895 |  0:00:02s\n",
            "epoch 7  | loss: 1.64031 | train_accuracy: 0.25329 | valid_accuracy: 0.27632 |  0:00:03s\n",
            "epoch 8  | loss: 1.09939 | train_accuracy: 0.47697 | valid_accuracy: 0.59211 |  0:00:03s\n",
            "epoch 9  | loss: 0.77372 | train_accuracy: 0.50987 | valid_accuracy: 0.56579 |  0:00:03s\n",
            "epoch 10 | loss: 0.82544 | train_accuracy: 0.53618 | valid_accuracy: 0.5     |  0:00:04s\n",
            "epoch 11 | loss: 0.75816 | train_accuracy: 0.40132 | valid_accuracy: 0.35526 |  0:00:04s\n",
            "epoch 12 | loss: 0.74284 | train_accuracy: 0.49013 | valid_accuracy: 0.48684 |  0:00:04s\n",
            "epoch 13 | loss: 0.74825 | train_accuracy: 0.41776 | valid_accuracy: 0.39474 |  0:00:05s\n",
            "epoch 14 | loss: 0.68881 | train_accuracy: 0.45724 | valid_accuracy: 0.44737 |  0:00:05s\n",
            "epoch 15 | loss: 0.6813  | train_accuracy: 0.42434 | valid_accuracy: 0.42105 |  0:00:06s\n",
            "epoch 16 | loss: 0.63376 | train_accuracy: 0.54605 | valid_accuracy: 0.53947 |  0:00:07s\n",
            "epoch 17 | loss: 0.5836  | train_accuracy: 0.5625  | valid_accuracy: 0.5     |  0:00:07s\n",
            "epoch 18 | loss: 0.53765 | train_accuracy: 0.51645 | valid_accuracy: 0.47368 |  0:00:08s\n",
            "epoch 19 | loss: 0.48869 | train_accuracy: 0.54605 | valid_accuracy: 0.5     |  0:00:08s\n",
            "epoch 20 | loss: 0.45347 | train_accuracy: 0.53947 | valid_accuracy: 0.46053 |  0:00:09s\n",
            "epoch 21 | loss: 0.42684 | train_accuracy: 0.36842 | valid_accuracy: 0.28947 |  0:00:09s\n",
            "epoch 22 | loss: 0.37379 | train_accuracy: 0.5625  | valid_accuracy: 0.47368 |  0:00:10s\n",
            "epoch 23 | loss: 0.3402  | train_accuracy: 0.49342 | valid_accuracy: 0.47368 |  0:00:11s\n",
            "epoch 24 | loss: 0.35234 | train_accuracy: 0.47368 | valid_accuracy: 0.42105 |  0:00:11s\n",
            "epoch 25 | loss: 0.29748 | train_accuracy: 0.46711 | valid_accuracy: 0.40789 |  0:00:12s\n",
            "epoch 26 | loss: 0.20536 | train_accuracy: 0.49671 | valid_accuracy: 0.40789 |  0:00:13s\n",
            "epoch 27 | loss: 0.23397 | train_accuracy: 0.42105 | valid_accuracy: 0.44737 |  0:00:13s\n",
            "epoch 28 | loss: 0.18692 | train_accuracy: 0.49013 | valid_accuracy: 0.40789 |  0:00:14s\n",
            "epoch 29 | loss: 0.14384 | train_accuracy: 0.53289 | valid_accuracy: 0.47368 |  0:00:14s\n",
            "epoch 30 | loss: 0.10147 | train_accuracy: 0.54276 | valid_accuracy: 0.44737 |  0:00:15s\n",
            "epoch 31 | loss: 0.08779 | train_accuracy: 0.52303 | valid_accuracy: 0.5     |  0:00:16s\n",
            "epoch 32 | loss: 0.07776 | train_accuracy: 0.48026 | valid_accuracy: 0.38158 |  0:00:16s\n",
            "epoch 33 | loss: 0.06929 | train_accuracy: 0.53289 | valid_accuracy: 0.44737 |  0:00:17s\n",
            "epoch 34 | loss: 0.04364 | train_accuracy: 0.54276 | valid_accuracy: 0.42105 |  0:00:17s\n",
            "epoch 35 | loss: 0.04845 | train_accuracy: 0.47697 | valid_accuracy: 0.42105 |  0:00:18s\n",
            "epoch 36 | loss: 0.03995 | train_accuracy: 0.54605 | valid_accuracy: 0.39474 |  0:00:19s\n",
            "epoch 37 | loss: 0.04708 | train_accuracy: 0.50658 | valid_accuracy: 0.35526 |  0:00:19s\n",
            "epoch 38 | loss: 0.07197 | train_accuracy: 0.44737 | valid_accuracy: 0.36842 |  0:00:20s\n",
            "epoch 39 | loss: 0.01886 | train_accuracy: 0.57895 | valid_accuracy: 0.42105 |  0:00:21s\n",
            "epoch 40 | loss: 0.04195 | train_accuracy: 0.53289 | valid_accuracy: 0.42105 |  0:00:21s\n",
            "epoch 41 | loss: 0.04427 | train_accuracy: 0.43092 | valid_accuracy: 0.36842 |  0:00:22s\n",
            "epoch 42 | loss: 0.01191 | train_accuracy: 0.54934 | valid_accuracy: 0.42105 |  0:00:22s\n",
            "epoch 43 | loss: 0.0177  | train_accuracy: 0.49342 | valid_accuracy: 0.40789 |  0:00:23s\n",
            "epoch 44 | loss: 0.02415 | train_accuracy: 0.56908 | valid_accuracy: 0.42105 |  0:00:23s\n",
            "epoch 45 | loss: 0.01801 | train_accuracy: 0.52303 | valid_accuracy: 0.32895 |  0:00:23s\n",
            "epoch 46 | loss: 0.01471 | train_accuracy: 0.57895 | valid_accuracy: 0.39474 |  0:00:24s\n",
            "epoch 47 | loss: 0.01607 | train_accuracy: 0.5625  | valid_accuracy: 0.40789 |  0:00:24s\n",
            "epoch 48 | loss: 0.03103 | train_accuracy: 0.42105 | valid_accuracy: 0.28947 |  0:00:24s\n",
            "epoch 49 | loss: 0.01007 | train_accuracy: 0.60855 | valid_accuracy: 0.42105 |  0:00:24s\n",
            "epoch 50 | loss: 0.01629 | train_accuracy: 0.54934 | valid_accuracy: 0.39474 |  0:00:25s\n",
            "epoch 51 | loss: 0.13956 | train_accuracy: 0.38158 | valid_accuracy: 0.31579 |  0:00:25s\n",
            "epoch 52 | loss: 0.00573 | train_accuracy: 0.40789 | valid_accuracy: 0.31579 |  0:00:25s\n",
            "epoch 53 | loss: 0.00902 | train_accuracy: 0.40461 | valid_accuracy: 0.31579 |  0:00:26s\n",
            "epoch 54 | loss: 0.00832 | train_accuracy: 0.52632 | valid_accuracy: 0.39474 |  0:00:26s\n",
            "epoch 55 | loss: 0.00698 | train_accuracy: 0.62171 | valid_accuracy: 0.40789 |  0:00:26s\n",
            "epoch 56 | loss: 0.00569 | train_accuracy: 0.42434 | valid_accuracy: 0.32895 |  0:00:27s\n",
            "epoch 57 | loss: 0.00405 | train_accuracy: 0.47039 | valid_accuracy: 0.36842 |  0:00:27s\n",
            "epoch 58 | loss: 0.00436 | train_accuracy: 0.49013 | valid_accuracy: 0.32895 |  0:00:27s\n",
            "epoch 59 | loss: 0.24161 | train_accuracy: 0.39474 | valid_accuracy: 0.31579 |  0:00:28s\n",
            "epoch 60 | loss: 0.00624 | train_accuracy: 0.63158 | valid_accuracy: 0.43421 |  0:00:28s\n",
            "epoch 61 | loss: 0.00478 | train_accuracy: 0.53289 | valid_accuracy: 0.38158 |  0:00:28s\n",
            "epoch 62 | loss: 0.00573 | train_accuracy: 0.54605 | valid_accuracy: 0.36842 |  0:00:28s\n",
            "epoch 63 | loss: 0.00874 | train_accuracy: 0.49342 | valid_accuracy: 0.38158 |  0:00:29s\n",
            "epoch 64 | loss: 0.00979 | train_accuracy: 0.62171 | valid_accuracy: 0.42105 |  0:00:29s\n",
            "epoch 65 | loss: 0.00338 | train_accuracy: 0.56908 | valid_accuracy: 0.40789 |  0:00:29s\n",
            "epoch 66 | loss: 0.0051  | train_accuracy: 0.61184 | valid_accuracy: 0.39474 |  0:00:30s\n",
            "epoch 67 | loss: 0.00102 | train_accuracy: 0.58553 | valid_accuracy: 0.42105 |  0:00:30s\n",
            "epoch 68 | loss: 0.00394 | train_accuracy: 0.51645 | valid_accuracy: 0.36842 |  0:00:30s\n",
            "epoch 69 | loss: 0.00393 | train_accuracy: 0.5     | valid_accuracy: 0.38158 |  0:00:31s\n",
            "epoch 70 | loss: 0.00449 | train_accuracy: 0.64474 | valid_accuracy: 0.40789 |  0:00:31s\n",
            "epoch 71 | loss: 0.00347 | train_accuracy: 0.48684 | valid_accuracy: 0.38158 |  0:00:31s\n",
            "epoch 72 | loss: 0.00335 | train_accuracy: 0.62829 | valid_accuracy: 0.42105 |  0:00:31s\n",
            "epoch 73 | loss: 0.00195 | train_accuracy: 0.57237 | valid_accuracy: 0.44737 |  0:00:32s\n",
            "epoch 74 | loss: 0.00143 | train_accuracy: 0.625   | valid_accuracy: 0.48684 |  0:00:32s\n",
            "epoch 75 | loss: 0.00378 | train_accuracy: 0.68092 | valid_accuracy: 0.46053 |  0:00:32s\n",
            "epoch 76 | loss: 0.00427 | train_accuracy: 0.66118 | valid_accuracy: 0.43421 |  0:00:33s\n",
            "epoch 77 | loss: 0.00292 | train_accuracy: 0.58553 | valid_accuracy: 0.40789 |  0:00:33s\n",
            "epoch 78 | loss: 0.00084 | train_accuracy: 0.68092 | valid_accuracy: 0.47368 |  0:00:33s\n",
            "epoch 79 | loss: 0.00126 | train_accuracy: 0.60526 | valid_accuracy: 0.43421 |  0:00:34s\n",
            "epoch 80 | loss: 0.00146 | train_accuracy: 0.65132 | valid_accuracy: 0.43421 |  0:00:34s\n",
            "epoch 81 | loss: 0.00177 | train_accuracy: 0.68092 | valid_accuracy: 0.43421 |  0:00:34s\n",
            "epoch 82 | loss: 0.00171 | train_accuracy: 0.61842 | valid_accuracy: 0.43421 |  0:00:34s\n",
            "epoch 83 | loss: 0.00121 | train_accuracy: 0.63158 | valid_accuracy: 0.43421 |  0:00:35s\n",
            "epoch 84 | loss: 0.00073 | train_accuracy: 0.63158 | valid_accuracy: 0.40789 |  0:00:35s\n",
            "epoch 85 | loss: 0.00153 | train_accuracy: 0.63816 | valid_accuracy: 0.52632 |  0:00:35s\n",
            "epoch 86 | loss: 0.00062 | train_accuracy: 0.66447 | valid_accuracy: 0.44737 |  0:00:36s\n",
            "epoch 87 | loss: 0.00099 | train_accuracy: 0.65789 | valid_accuracy: 0.42105 |  0:00:36s\n",
            "epoch 88 | loss: 0.0013  | train_accuracy: 0.64474 | valid_accuracy: 0.43421 |  0:00:36s\n",
            "epoch 89 | loss: 0.00082 | train_accuracy: 0.62829 | valid_accuracy: 0.43421 |  0:00:37s\n",
            "epoch 90 | loss: 0.00053 | train_accuracy: 0.64474 | valid_accuracy: 0.46053 |  0:00:37s\n",
            "epoch 91 | loss: 0.00104 | train_accuracy: 0.60526 | valid_accuracy: 0.39474 |  0:00:37s\n",
            "epoch 92 | loss: 0.00062 | train_accuracy: 0.66776 | valid_accuracy: 0.42105 |  0:00:37s\n",
            "epoch 93 | loss: 0.00047 | train_accuracy: 0.70395 | valid_accuracy: 0.42105 |  0:00:38s\n",
            "epoch 94 | loss: 0.00284 | train_accuracy: 0.58224 | valid_accuracy: 0.42105 |  0:00:38s\n",
            "epoch 95 | loss: 0.00108 | train_accuracy: 0.56908 | valid_accuracy: 0.42105 |  0:00:38s\n",
            "epoch 96 | loss: 0.00068 | train_accuracy: 0.68092 | valid_accuracy: 0.42105 |  0:00:39s\n",
            "epoch 97 | loss: 0.00046 | train_accuracy: 0.66776 | valid_accuracy: 0.47368 |  0:00:39s\n",
            "epoch 98 | loss: 0.00033 | train_accuracy: 0.64474 | valid_accuracy: 0.40789 |  0:00:39s\n",
            "epoch 99 | loss: 0.00031 | train_accuracy: 0.66447 | valid_accuracy: 0.42105 |  0:00:39s\n",
            "epoch 100| loss: 0.0004  | train_accuracy: 0.66447 | valid_accuracy: 0.43421 |  0:00:40s\n",
            "epoch 101| loss: 0.00049 | train_accuracy: 0.70066 | valid_accuracy: 0.48684 |  0:00:40s\n",
            "epoch 102| loss: 0.00051 | train_accuracy: 0.68092 | valid_accuracy: 0.40789 |  0:00:40s\n",
            "epoch 103| loss: 0.00025 | train_accuracy: 0.57566 | valid_accuracy: 0.43421 |  0:00:41s\n",
            "epoch 104| loss: 0.00038 | train_accuracy: 0.68421 | valid_accuracy: 0.44737 |  0:00:41s\n",
            "epoch 105| loss: 0.00033 | train_accuracy: 0.56908 | valid_accuracy: 0.38158 |  0:00:41s\n",
            "epoch 106| loss: 0.00025 | train_accuracy: 0.58224 | valid_accuracy: 0.43421 |  0:00:42s\n",
            "epoch 107| loss: 0.00094 | train_accuracy: 0.63487 | valid_accuracy: 0.40789 |  0:00:42s\n",
            "epoch 108| loss: 0.00027 | train_accuracy: 0.66776 | valid_accuracy: 0.48684 |  0:00:42s\n",
            "\n",
            "Early stopping occurred at epoch 108 with best_epoch = 8 and best_valid_accuracy = 0.59211\n",
            "Best weights from best epoch are automatically used!\n"
          ]
        }
      ]
    },
    {
      "cell_type": "code",
      "source": [
        "tabnet_predictions = model_tabnet.predict_proba(X_test_ts).argmax(axis=1) # predictions"
      ],
      "metadata": {
        "id": "VwYh_0W1G0f5"
      },
      "execution_count": 39,
      "outputs": []
    },
    {
      "cell_type": "code",
      "source": [
        "tabnet_accuracy = accuracy_score(y_test_ts, tabnet_predictions)  ; tabnet_accuracy # accuracy"
      ],
      "metadata": {
        "colab": {
          "base_uri": "https://localhost:8080/"
        },
        "id": "4xRPjCQ6HGpH",
        "outputId": "b2634ca4-75f4-40dd-b2db-44991d7c457c"
      },
      "execution_count": 40,
      "outputs": [
        {
          "output_type": "execute_result",
          "data": {
            "text/plain": [
              "0.5921052631578947"
            ]
          },
          "metadata": {},
          "execution_count": 40
        }
      ]
    },
    {
      "cell_type": "code",
      "source": [
        "compare_tabnet, score_tabnet = check_score(main, tabnet_predictions) # checking the score against the odds"
      ],
      "metadata": {
        "colab": {
          "base_uri": "https://localhost:8080/"
        },
        "id": "P5FKPpnVHZ5R",
        "outputId": "65dd13b0-563e-40a2-8de1-830d3895f8be"
      },
      "execution_count": 41,
      "outputs": [
        {
          "output_type": "stream",
          "name": "stderr",
          "text": [
            "/usr/local/lib/python3.7/dist-packages/ipykernel_launcher.py:8: SettingWithCopyWarning: \n",
            "A value is trying to be set on a copy of a slice from a DataFrame\n",
            "\n",
            "See the caveats in the documentation: https://pandas.pydata.org/pandas-docs/stable/user_guide/indexing.html#returning-a-view-versus-a-copy\n",
            "  \n",
            "/usr/local/lib/python3.7/dist-packages/ipykernel_launcher.py:14: SettingWithCopyWarning: \n",
            "A value is trying to be set on a copy of a slice from a DataFrame.\n",
            "Try using .loc[row_indexer,col_indexer] = value instead\n",
            "\n",
            "See the caveats in the documentation: https://pandas.pydata.org/pandas-docs/stable/user_guide/indexing.html#returning-a-view-versus-a-copy\n",
            "  \n"
          ]
        }
      ]
    },
    {
      "cell_type": "code",
      "source": [
        "score_tabnet"
      ],
      "metadata": {
        "colab": {
          "base_uri": "https://localhost:8080/"
        },
        "id": "ZmHJ0B_DHh63",
        "outputId": "8ccb9f3f-ca27-4365-95df-a76edafcb324"
      },
      "execution_count": 42,
      "outputs": [
        {
          "output_type": "execute_result",
          "data": {
            "text/plain": [
              "86.09999999999998"
            ]
          },
          "metadata": {},
          "execution_count": 42
        }
      ]
    },
    {
      "cell_type": "code",
      "source": [
        "avg_odds_per_bet_tabnet = compare_tabnet.describe().loc[\"mean\"][\"score_odds\"] ; avg_odds_per_bet_tabnet"
      ],
      "metadata": {
        "colab": {
          "base_uri": "https://localhost:8080/"
        },
        "id": "yvDBrVU82T9d",
        "outputId": "76cefa6d-28ae-4c8b-a33d-ba9670ae433c"
      },
      "execution_count": 93,
      "outputs": [
        {
          "output_type": "execute_result",
          "data": {
            "text/plain": [
              "1.9133333333333329"
            ]
          },
          "metadata": {},
          "execution_count": 93
        }
      ]
    },
    {
      "cell_type": "markdown",
      "source": [
        "# PyTorch TinyVGG + Tab2Img transformation (CNN model)\n",
        "Below code is PyTorch specific and I will not be explaining erything very precisle here. If you don't know this framework specificly well and want to change it, consider this:\n",
        "\n",
        "https://www.mrdbourke.com/pytorch-in-a-day/"
      ],
      "metadata": {
        "id": "9RO36Blzbfme"
      }
    },
    {
      "cell_type": "code",
      "source": [
        "!pip install torchmetrics # for accuracy\n",
        "!pip install tab2img # for DeepInsight implementation"
      ],
      "metadata": {
        "colab": {
          "base_uri": "https://localhost:8080/"
        },
        "id": "-7vnCT5rbezJ",
        "outputId": "b20b5ebd-9575-4bed-a75b-2c09e6562c3e"
      },
      "execution_count": 43,
      "outputs": [
        {
          "output_type": "stream",
          "name": "stdout",
          "text": [
            "Looking in indexes: https://pypi.org/simple, https://us-python.pkg.dev/colab-wheels/public/simple/\n",
            "Collecting torchmetrics\n",
            "  Downloading torchmetrics-0.9.3-py3-none-any.whl (419 kB)\n",
            "\u001b[K     |████████████████████████████████| 419 kB 4.0 MB/s \n",
            "\u001b[?25hRequirement already satisfied: numpy>=1.17.2 in /usr/local/lib/python3.7/dist-packages (from torchmetrics) (1.21.6)\n",
            "Requirement already satisfied: packaging in /usr/local/lib/python3.7/dist-packages (from torchmetrics) (21.3)\n",
            "Requirement already satisfied: torch>=1.3.1 in /usr/local/lib/python3.7/dist-packages (from torchmetrics) (1.12.1+cu113)\n",
            "Requirement already satisfied: typing-extensions in /usr/local/lib/python3.7/dist-packages (from torchmetrics) (4.1.1)\n",
            "Requirement already satisfied: pyparsing!=3.0.5,>=2.0.2 in /usr/local/lib/python3.7/dist-packages (from packaging->torchmetrics) (3.0.9)\n",
            "Installing collected packages: torchmetrics\n",
            "Successfully installed torchmetrics-0.9.3\n",
            "Looking in indexes: https://pypi.org/simple, https://us-python.pkg.dev/colab-wheels/public/simple/\n",
            "Collecting tab2img\n",
            "  Downloading tab2img-0.0.2-py3-none-any.whl (4.8 kB)\n",
            "Installing collected packages: tab2img\n",
            "Successfully installed tab2img-0.0.2\n"
          ]
        }
      ]
    },
    {
      "cell_type": "code",
      "source": [
        "import torch.nn as nn  #we previously import torch, this one is just for the module of neural nets.\n",
        "from torch.utils.data import DataLoader"
      ],
      "metadata": {
        "id": "D1VQUJVAkJ6w"
      },
      "execution_count": 44,
      "outputs": []
    },
    {
      "cell_type": "code",
      "source": [
        "from tab2img.converter import Tab2Img # import Class to convert the tabular data into images\n",
        "import requests # for downloading my custom pytorch loops and some other hlepful classess.\n",
        "\n",
        "\n",
        "if Path(\"helper_f.py\").is_file(): \n",
        "    print(\"Exists!\")\n",
        "else:\n",
        "    print(\"Dwnld\")\n",
        "    request = requests.get(\"https://raw.githubusercontent.com/SquareGraph/HelperFunctions/main/helper_f.py\")\n",
        "    with open(\"helper_f.py\", \"wb\") as f:\n",
        "        f.write(request.content)\n",
        "\n",
        "from helper_f import * #importing those helper functions I mentioned above"
      ],
      "metadata": {
        "colab": {
          "base_uri": "https://localhost:8080/"
        },
        "id": "gWL9hOBBeMiA",
        "outputId": "244516e8-6043-45c2-f684-12dcbcdf446d"
      },
      "execution_count": 45,
      "outputs": [
        {
          "output_type": "stream",
          "name": "stdout",
          "text": [
            "Dwnld\n"
          ]
        }
      ]
    },
    {
      "cell_type": "code",
      "source": [
        "device = \"cuda\" if torch.cuda.is_available() else \"cpu\" #device agnostic code."
      ],
      "metadata": {
        "id": "8ABGGk3keb5R"
      },
      "execution_count": 46,
      "outputs": []
    },
    {
      "cell_type": "code",
      "source": [
        "# Now we will define a converter. It will do two things. Firstly we are about to call a class to apply transmutation on the table data.\n",
        "# Secondly we will broadcast it into the NCHW format.\n",
        "\n",
        "def tab2_img_xy(train,target,channels:int = 3):\n",
        "    model_converter = Tab2Img()\n",
        "    X = model_converter.fit_transform(train,target)\n",
        "    dim = X[0][1].shape \n",
        "\n",
        "    list_of_3d_img = []\n",
        "    for image in X:\n",
        "        list_of_3d_img.append(np.broadcast_to(image, (channels,dim[0],dim[0]))) \n",
        "\n",
        "    return torch.tensor(np.array(list_of_3d_img, dtype=np.float32))\n"
      ],
      "metadata": {
        "id": "wdABpOUvfguX"
      },
      "execution_count": 47,
      "outputs": []
    },
    {
      "cell_type": "code",
      "source": [
        "X_tensors_train = tab2_img_xy(X_normalized, y, 1) # calling the function to get tensors"
      ],
      "metadata": {
        "id": "1RfPEvkxgExP"
      },
      "execution_count": 99,
      "outputs": []
    },
    {
      "cell_type": "code",
      "source": [
        "X_tensors_train.shape # so we have all of our data in one tensor. Now it's time to plot it to check how it looks like."
      ],
      "metadata": {
        "colab": {
          "base_uri": "https://localhost:8080/"
        },
        "id": "y6B38oITgFAG",
        "outputId": "ad6b9122-7c50-43c0-9b7c-b8dea73dafb5"
      },
      "execution_count": 100,
      "outputs": [
        {
          "output_type": "execute_result",
          "data": {
            "text/plain": [
              "torch.Size([380, 1, 12, 12])"
            ]
          },
          "metadata": {},
          "execution_count": 100
        }
      ]
    },
    {
      "cell_type": "code",
      "source": [
        "plot_ranom_images(0,380,12,X_tensors_train, y, (18,18), (4,3) , 10) #hleper function that takes out random sample from tensor, transmute them to the HWC format (matplotlib do not understand PyTorch native image format)"
      ],
      "metadata": {
        "colab": {
          "base_uri": "https://localhost:8080/",
          "height": 1000
        },
        "id": "lrxO0M5GgFC5",
        "outputId": "4a5fa32a-d18e-490e-a387-b941f8cb6063"
      },
      "execution_count": 101,
      "outputs": [
        {
          "output_type": "display_data",
          "data": {
            "text/plain": [
              "<Figure size 1296x1296 with 12 Axes>"
            ],
            "image/png": "[encoded data removed]"
          },
          "metadata": {
            "needs_background": "light"
          }
        }
      ]
    },
    {
      "cell_type": "code",
      "source": [
        " # This time I'm using whole dataframe for y labels, because I have already prebuild PyTorch DataSet Class that will handle extracting y values.\n",
        "train_tensor, test_tensor = train_test_split_ts(X_tensors_train, main, train_size=0.8)"
      ],
      "metadata": {
        "id": "EZdT9jVcgFFP"
      },
      "execution_count": 102,
      "outputs": []
    },
    {
      "cell_type": "code",
      "source": [
        "X_train_tensor, y_train_tensor = train_tensor\n",
        "X_test_tensor, y_test_tensor = test_tensor # unpacking tuples"
      ],
      "metadata": {
        "id": "frAKE2sggFIt"
      },
      "execution_count": 103,
      "outputs": []
    },
    {
      "cell_type": "code",
      "source": [
        "def get_classes(series: pd.core.series.Series):\n",
        "\n",
        "    classes = series.unique()\n",
        "    class_to_idx = {class_name: i for i, class_name in enumerate(classes)}\n",
        "\n",
        "    return classes, class_to_idx\n",
        "\n",
        "class MatchesDataset(torch.utils.data.Dataset):\n",
        "    def __init__(self, \n",
        "                 dataframe: pd.core.frame.DataFrame, #dataframe of results, we will gety Y_labels from this\n",
        "                 games: torch.Tensor, #tensor of X's\n",
        "                 transform=None): #we will not be using any transorm at this stage, but I'll leave as a boiler plate for further usage.\n",
        "        super().__init__()\n",
        "\n",
        "        self.dataframe = dataframe #a dataframe as it it.\n",
        "        self.games = games # our X's. We don't have to do anything with them, cause if we index this tensor, we will have a single image of a game from it.\n",
        "        self.hda = self.dataframe[\"FTR\"].to_numpy() #we are transforming pandas datafram to numpy array of Home/Draw/Away labels.\n",
        "        self.classes, self.class_to_idx = get_classes(dataframe[\"FTR\"]) #we are unpacking a function that will return us a mapped y labels.\n",
        "        self.labels = torch.tensor(np.vectorize(self.class_to_idx.get)(self.hda)) #and here we are using np.vectorize to turn coresponding labels into values from 0 to 2 and then we turn them into a tensor.\n",
        "\n",
        "\n",
        "    def __len__(self) -> int:\n",
        "        return len(self.labels) #overwriting __len__\n",
        "\n",
        "    def __getitem__(self, index: int): #overwriting __getitem__ and returning X&y's\n",
        "    \n",
        "        X = self.games[index]\n",
        "        y = self.labels[index]\n",
        "        \n",
        "        return X,y\n"
      ],
      "metadata": {
        "id": "OamY5WPujn1u"
      },
      "execution_count": 104,
      "outputs": []
    },
    {
      "cell_type": "code",
      "source": [
        "# Here we initialize a class to create a PyTorch Datasets\n",
        "train_dataset = MatchesDataset(y_train_tensor,X_train_tensor) \n",
        "test_dataset = MatchesDataset(y_test_tensor,X_test_tensor)"
      ],
      "metadata": {
        "id": "0pwonNtyjoAM"
      },
      "execution_count": 105,
      "outputs": []
    },
    {
      "cell_type": "code",
      "source": [
        "#And this part of code is clustering data into minibatches and preparing an efficient datapipe for the CNN \n",
        "train_loader_tab2img = DataLoader(train_dataset, 16, shuffle=False) # we are not shuffling, to be consistent. \n",
        "test_loader_tab2img = DataLoader(test_dataset)"
      ],
      "metadata": {
        "id": "D3uu39aSjoKC"
      },
      "execution_count": 106,
      "outputs": []
    },
    {
      "cell_type": "code",
      "source": [
        "# It's not exactly a DeepInsight, but it's a similar, despite hyperparams may vary. Remember, it's a baseline only!\n",
        "class DeepInsightStyleNN(nn.Module): \n",
        "    def __init__(self, input_shape: int, hidden_units: int, output_shape: int,) -> None:\n",
        "\n",
        "\n",
        "        super().__init__()\n",
        "\n",
        "        self.conv_block_1 = nn.Sequential(\n",
        "            nn.Conv2d(in_channels = input_shape,\n",
        "                      out_channels = hidden_units,\n",
        "                      kernel_size=3, stride=1, padding=1),\n",
        "            nn.BatchNorm2d(num_features = hidden_units),\n",
        "            nn.ReLU(),\n",
        "            nn.MaxPool2d(kernel_size=2, stride=2)\n",
        "            )\n",
        "        \n",
        "        self.conv_block_2 = nn.Sequential(\n",
        "            nn.Conv2d(in_channels = hidden_units,\n",
        "                      out_channels = hidden_units,\n",
        "                      kernel_size=3, stride=1, padding=1),\n",
        "            nn.BatchNorm2d(num_features = hidden_units),\n",
        "            nn.ReLU(),\n",
        "            nn.MaxPool2d(kernel_size=2, stride=2)\n",
        "            )\n",
        "        \n",
        "        self.conv_block_3 = nn.Sequential(\n",
        "            nn.Conv2d(in_channels = hidden_units,\n",
        "                      out_channels = hidden_units,\n",
        "                      kernel_size=3, stride=1, padding=1),\n",
        "            nn.BatchNorm2d(num_features = hidden_units),\n",
        "            nn.ReLU(),\n",
        "            nn.MaxPool2d(kernel_size=2, stride=2)\n",
        "            )\n",
        "        \n",
        "        self.conv_block_3_5 = nn.Sequential(\n",
        "            nn.Conv2d(in_channels = hidden_units,\n",
        "                      out_channels = hidden_units,\n",
        "                      kernel_size=3, stride=1, padding=1),\n",
        "            nn.BatchNorm2d(num_features = hidden_units),\n",
        "            nn.ReLU(),\n",
        "            )\n",
        "        \n",
        "        self.classifier_layer = nn.Sequential(\n",
        "            nn.Flatten(),\n",
        "            nn.Linear(in_features=hidden_units,\n",
        "                      out_features=output_shape),\n",
        "            nn.Softmax()\n",
        "            )\n",
        "\n",
        "    def forward(self, x):\n",
        "        return self.classifier_layer(self.conv_block_3_5(self.conv_block_3(self.conv_block_2(self.conv_block_1(x)))))   #for efficiency on cuda computing we are doing this in one line."
      ],
      "metadata": {
        "id": "5kTWh51hjoR-"
      },
      "execution_count": 155,
      "outputs": []
    },
    {
      "cell_type": "code",
      "source": [
        "deep_in_model = DeepInsightStyleNN(input_shape=1,\n",
        "                    hidden_units=10,\n",
        "                    output_shape=np.unique(y).shape[0]).to(device) # initialize the model"
      ],
      "metadata": {
        "id": "MuEN8Uk5oekx"
      },
      "execution_count": 156,
      "outputs": []
    },
    {
      "cell_type": "code",
      "source": [
        "deep_in_model.eval()\n",
        "with torch.inference_mode():\n",
        "    preds = deep_in_model(X_tensors_train) # check if the output have sense"
      ],
      "metadata": {
        "id": "MIXdgGdYofAl"
      },
      "execution_count": 157,
      "outputs": []
    },
    {
      "cell_type": "code",
      "source": [
        "preds.shape # indeed, it have proper shape."
      ],
      "metadata": {
        "colab": {
          "base_uri": "https://localhost:8080/"
        },
        "id": "P2wd5fjEofDf",
        "outputId": "31e624d9-1074-42f2-e1a7-603116c05ee5"
      },
      "execution_count": 158,
      "outputs": [
        {
          "output_type": "execute_result",
          "data": {
            "text/plain": [
              "torch.Size([380, 3])"
            ]
          },
          "metadata": {},
          "execution_count": 158
        }
      ]
    },
    {
      "cell_type": "code",
      "source": [
        "#Here we have to define metrics, loss function and optimizer\n",
        "\n",
        "optimizer_deep = torch.optim.Adam(deep_in_model.parameters(),lr=0.001) #Adam as an optimizer\n",
        "loss_fn_deep = nn.CrossEntropyLoss() #Cause we are dealing with multicategory classification, we will use Cross Entropy\n",
        "acc_deep = torchmetrics.Accuracy(3).to(device) #and we also initialize class from torchmetrics and send it to device(cuda). "
      ],
      "metadata": {
        "id": "1MgriBTIofGx"
      },
      "execution_count": 159,
      "outputs": []
    },
    {
      "cell_type": "code",
      "source": [
        "# And it's a training time\n",
        "for epoch in tqdm(range(180)):\n",
        "\n",
        "    print(f\"Epoch: {epoch}\\n======\")\n",
        "\n",
        "    train_step(deep_in_model,train_loader_tab2img,loss_fn_deep, optimizer_deep, acc_deep, device)\n",
        "    test_step(deep_in_model,test_loader_tab2img,loss_fn_deep, acc_deep, device)\n"
      ],
      "metadata": {
        "colab": {
          "base_uri": "https://localhost:8080/"
        },
        "id": "i-vUqxMVofJA",
        "outputId": "952acee0-3f1a-44a8-9fc6-39e007410a3e"
      },
      "execution_count": 160,
      "outputs": [
        {
          "output_type": "stream",
          "name": "stderr",
          "text": [
            "\r  0%|          | 0/180 [00:00<?, ?it/s]"
          ]
        },
        {
          "output_type": "stream",
          "name": "stdout",
          "text": [
            "Epoch: 0\n",
            "======\n",
            "\n",
            "Current training loss: 1.0785608291625977\n",
            "Current training acc: 0.44736841320991516%\n",
            "\n"
          ]
        },
        {
          "output_type": "stream",
          "name": "stderr",
          "text": [
            "\n",
            "\n",
            "  0%|          | 0/76 [00:00<?, ?it/s]\u001b[A\u001b[A\n",
            "\n",
            "100%|██████████| 76/76 [00:00<00:00, 589.46it/s]\n",
            "  1%|          | 1/180 [00:00<00:45,  3.90it/s]"
          ]
        },
        {
          "output_type": "stream",
          "name": "stdout",
          "text": [
            "\n",
            "Current test loss: 1.0952681303024292\n",
            "Current test acc: 0.44736841320991516%\n",
            "\n",
            "Epoch: 1\n",
            "======\n",
            "\n",
            "Current training loss: 1.0497245788574219\n",
            "Current training acc: 0.5394737124443054%\n",
            "\n"
          ]
        },
        {
          "output_type": "stream",
          "name": "stderr",
          "text": [
            "\n",
            "\n",
            "  0%|          | 0/76 [00:00<?, ?it/s]\u001b[A\u001b[A\n",
            "\n",
            "100%|██████████| 76/76 [00:00<00:00, 615.56it/s]\n",
            "  1%|          | 2/180 [00:00<00:45,  3.93it/s]"
          ]
        },
        {
          "output_type": "stream",
          "name": "stdout",
          "text": [
            "\n",
            "Current test loss: 1.1226696968078613\n",
            "Current test acc: 0.30263158679008484%\n",
            "\n",
            "Epoch: 2\n",
            "======\n",
            "\n",
            "Current training loss: 1.0271888971328735\n",
            "Current training acc: 0.5526315569877625%\n",
            "\n"
          ]
        },
        {
          "output_type": "stream",
          "name": "stderr",
          "text": [
            "\n",
            "\n",
            "  0%|          | 0/76 [00:00<?, ?it/s]\u001b[A\u001b[A\n",
            "\n",
            "100%|██████████| 76/76 [00:00<00:00, 656.83it/s]\n",
            "  2%|▏         | 3/180 [00:00<00:43,  4.03it/s]"
          ]
        },
        {
          "output_type": "stream",
          "name": "stdout",
          "text": [
            "\n",
            "Current test loss: 1.1419285535812378\n",
            "Current test acc: 0.31578946113586426%\n",
            "\n",
            "Epoch: 3\n",
            "======\n",
            "\n",
            "Current training loss: 1.0068655014038086\n",
            "Current training acc: 0.5723684430122375%\n",
            "\n"
          ]
        },
        {
          "output_type": "stream",
          "name": "stderr",
          "text": [
            "\n",
            "\n",
            "  0%|          | 0/76 [00:00<?, ?it/s]\u001b[A\u001b[A\n",
            "\n",
            "100%|██████████| 76/76 [00:00<00:00, 623.30it/s]\n",
            "  2%|▏         | 4/180 [00:01<00:44,  3.99it/s]"
          ]
        },
        {
          "output_type": "stream",
          "name": "stdout",
          "text": [
            "\n",
            "Current test loss: 1.1621066331863403\n",
            "Current test acc: 0.28947368264198303%\n",
            "\n",
            "Epoch: 4\n",
            "======\n",
            "\n",
            "Current training loss: 0.9871314167976379\n",
            "Current training acc: 0.6118420958518982%\n",
            "\n"
          ]
        },
        {
          "output_type": "stream",
          "name": "stderr",
          "text": [
            "\n",
            "\n",
            "  0%|          | 0/76 [00:00<?, ?it/s]\u001b[A\u001b[A\n",
            "\n",
            "100%|██████████| 76/76 [00:00<00:00, 652.53it/s]\n",
            "  3%|▎         | 5/180 [00:01<00:43,  4.04it/s]"
          ]
        },
        {
          "output_type": "stream",
          "name": "stdout",
          "text": [
            "\n",
            "Current test loss: 1.1702182292938232\n",
            "Current test acc: 0.28947368264198303%\n",
            "\n",
            "Epoch: 5\n",
            "======\n",
            "\n",
            "Current training loss: 0.9693505167961121\n",
            "Current training acc: 0.6414473652839661%\n",
            "\n"
          ]
        },
        {
          "output_type": "stream",
          "name": "stderr",
          "text": [
            "\n",
            "\n",
            "  0%|          | 0/76 [00:00<?, ?it/s]\u001b[A\u001b[A\n",
            "\n",
            "100%|██████████| 76/76 [00:00<00:00, 641.84it/s]\n",
            "  3%|▎         | 6/180 [00:01<00:43,  4.03it/s]"
          ]
        },
        {
          "output_type": "stream",
          "name": "stdout",
          "text": [
            "\n",
            "Current test loss: 1.1773483753204346\n",
            "Current test acc: 0.28947368264198303%\n",
            "\n",
            "Epoch: 6\n",
            "======\n",
            "\n",
            "Current training loss: 0.9479318857192993\n",
            "Current training acc: 0.6578947305679321%\n",
            "\n"
          ]
        },
        {
          "output_type": "stream",
          "name": "stderr",
          "text": [
            "\n",
            "\n",
            "  0%|          | 0/76 [00:00<?, ?it/s]\u001b[A\u001b[A\n",
            "\n",
            "100%|██████████| 76/76 [00:00<00:00, 658.74it/s]\n",
            "  4%|▍         | 7/180 [00:01<00:42,  4.02it/s]"
          ]
        },
        {
          "output_type": "stream",
          "name": "stdout",
          "text": [
            "\n",
            "Current test loss: 1.1804426908493042\n",
            "Current test acc: 0.2763157784938812%\n",
            "\n",
            "Epoch: 7\n",
            "======\n",
            "\n",
            "Current training loss: 0.9256299734115601\n",
            "Current training acc: 0.6743420958518982%\n",
            "\n"
          ]
        },
        {
          "output_type": "stream",
          "name": "stderr",
          "text": [
            "\n",
            "\n",
            "  0%|          | 0/76 [00:00<?, ?it/s]\u001b[A\u001b[A\n",
            "\n",
            "100%|██████████| 76/76 [00:00<00:00, 594.31it/s]\n",
            "  4%|▍         | 8/180 [00:01<00:42,  4.02it/s]"
          ]
        },
        {
          "output_type": "stream",
          "name": "stdout",
          "text": [
            "\n",
            "Current test loss: 1.1850905418395996\n",
            "Current test acc: 0.32894736528396606%\n",
            "\n",
            "Epoch: 8\n",
            "======\n",
            "\n",
            "Current training loss: 0.9076482653617859\n",
            "Current training acc: 0.6809210777282715%\n",
            "\n"
          ]
        },
        {
          "output_type": "stream",
          "name": "stderr",
          "text": [
            "\n",
            "\n",
            "  0%|          | 0/76 [00:00<?, ?it/s]\u001b[A\u001b[A\n",
            "\n",
            "100%|██████████| 76/76 [00:00<00:00, 585.87it/s]\n",
            "  5%|▌         | 9/180 [00:02<00:43,  3.96it/s]"
          ]
        },
        {
          "output_type": "stream",
          "name": "stdout",
          "text": [
            "\n",
            "Current test loss: 1.205450415611267\n",
            "Current test acc: 0.21052631735801697%\n",
            "\n",
            "Epoch: 9\n",
            "======\n",
            "\n",
            "Current training loss: 0.8897234201431274\n",
            "Current training acc: 0.7138158082962036%\n",
            "\n"
          ]
        },
        {
          "output_type": "stream",
          "name": "stderr",
          "text": [
            "\n",
            "\n",
            "  0%|          | 0/76 [00:00<?, ?it/s]\u001b[A\u001b[A\n",
            "\n",
            "100%|██████████| 76/76 [00:00<00:00, 629.71it/s]\n",
            "  6%|▌         | 10/180 [00:02<00:42,  3.99it/s]"
          ]
        },
        {
          "output_type": "stream",
          "name": "stdout",
          "text": [
            "\n",
            "Current test loss: 1.1617307662963867\n",
            "Current test acc: 0.34210526943206787%\n",
            "\n",
            "Epoch: 10\n",
            "======\n",
            "\n",
            "Current training loss: 0.867262065410614\n",
            "Current training acc: 0.7203947305679321%\n",
            "\n"
          ]
        },
        {
          "output_type": "stream",
          "name": "stderr",
          "text": [
            "\n",
            "\n",
            "  0%|          | 0/76 [00:00<?, ?it/s]\u001b[A\u001b[A\n",
            "\n",
            "100%|██████████| 76/76 [00:00<00:00, 651.97it/s]\n",
            "  6%|▌         | 11/180 [00:02<00:42,  3.96it/s]"
          ]
        },
        {
          "output_type": "stream",
          "name": "stdout",
          "text": [
            "\n",
            "Current test loss: 1.1812694072723389\n",
            "Current test acc: 0.34210526943206787%\n",
            "\n",
            "Epoch: 11\n",
            "======\n",
            "\n",
            "Current training loss: 0.8493555784225464\n",
            "Current training acc: 0.75%\n",
            "\n"
          ]
        },
        {
          "output_type": "stream",
          "name": "stderr",
          "text": [
            "\n",
            "\n",
            "  0%|          | 0/76 [00:00<?, ?it/s]\u001b[A\u001b[A\n",
            "\n",
            "100%|██████████| 76/76 [00:00<00:00, 606.22it/s]\n",
            "  7%|▋         | 12/180 [00:03<00:42,  3.96it/s]"
          ]
        },
        {
          "output_type": "stream",
          "name": "stdout",
          "text": [
            "\n",
            "Current test loss: 1.2292871475219727\n",
            "Current test acc: 0.2631579041481018%\n",
            "\n",
            "Epoch: 12\n",
            "======\n",
            "\n",
            "Current training loss: 0.8339996933937073\n",
            "Current training acc: 0.7532894611358643%\n",
            "\n"
          ]
        },
        {
          "output_type": "stream",
          "name": "stderr",
          "text": [
            "\n",
            "\n",
            "  0%|          | 0/76 [00:00<?, ?it/s]\u001b[A\u001b[A\n",
            "\n",
            "100%|██████████| 76/76 [00:00<00:00, 608.16it/s]\n",
            "  7%|▋         | 13/180 [00:03<00:41,  3.99it/s]"
          ]
        },
        {
          "output_type": "stream",
          "name": "stdout",
          "text": [
            "\n",
            "Current test loss: 1.2477189302444458\n",
            "Current test acc: 0.21052631735801697%\n",
            "\n",
            "Epoch: 13\n",
            "======\n",
            "\n",
            "Current training loss: 0.8275282979011536\n",
            "Current training acc: 0.7730262875556946%\n",
            "\n"
          ]
        },
        {
          "output_type": "stream",
          "name": "stderr",
          "text": [
            "\n",
            "\n",
            "  0%|          | 0/76 [00:00<?, ?it/s]\u001b[A\u001b[A\n",
            "\n",
            "100%|██████████| 76/76 [00:00<00:00, 625.15it/s]\n",
            "  8%|▊         | 14/180 [00:03<00:41,  3.99it/s]"
          ]
        },
        {
          "output_type": "stream",
          "name": "stdout",
          "text": [
            "\n",
            "Current test loss: 1.2286800146102905\n",
            "Current test acc: 0.25%\n",
            "\n",
            "Epoch: 14\n",
            "======\n",
            "\n",
            "Current training loss: 0.8254820108413696\n",
            "Current training acc: 0.7697368264198303%\n",
            "\n"
          ]
        },
        {
          "output_type": "stream",
          "name": "stderr",
          "text": [
            "\n",
            "\n",
            "  0%|          | 0/76 [00:00<?, ?it/s]\u001b[A\u001b[A\n",
            "\n",
            "100%|██████████| 76/76 [00:00<00:00, 649.17it/s]\n",
            "  8%|▊         | 15/180 [00:03<00:41,  3.99it/s]"
          ]
        },
        {
          "output_type": "stream",
          "name": "stdout",
          "text": [
            "\n",
            "Current test loss: 1.2020339965820312\n",
            "Current test acc: 0.28947368264198303%\n",
            "\n",
            "Epoch: 15\n",
            "======\n",
            "\n",
            "Current training loss: 0.8034183979034424\n",
            "Current training acc: 0.7796052694320679%\n",
            "\n"
          ]
        },
        {
          "output_type": "stream",
          "name": "stderr",
          "text": [
            "\n",
            "\n",
            "  0%|          | 0/76 [00:00<?, ?it/s]\u001b[A\u001b[A\n",
            "\n",
            "100%|██████████| 76/76 [00:00<00:00, 632.56it/s]\n",
            "  9%|▉         | 16/180 [00:04<00:40,  4.02it/s]"
          ]
        },
        {
          "output_type": "stream",
          "name": "stdout",
          "text": [
            "\n",
            "Current test loss: 1.21831476688385\n",
            "Current test acc: 0.25%\n",
            "\n",
            "Epoch: 16\n",
            "======\n",
            "\n",
            "Current training loss: 0.7985565066337585\n",
            "Current training acc: 0.7796052694320679%\n",
            "\n"
          ]
        },
        {
          "output_type": "stream",
          "name": "stderr",
          "text": [
            "\n",
            "\n",
            "  0%|          | 0/76 [00:00<?, ?it/s]\u001b[A\u001b[A\n",
            "\n",
            "100%|██████████| 76/76 [00:00<00:00, 635.67it/s]\n",
            "  9%|▉         | 17/180 [00:04<00:40,  4.06it/s]"
          ]
        },
        {
          "output_type": "stream",
          "name": "stdout",
          "text": [
            "\n",
            "Current test loss: 1.238645076751709\n",
            "Current test acc: 0.22368420660495758%\n",
            "\n",
            "Epoch: 17\n",
            "======\n",
            "\n",
            "Current training loss: 0.7902242541313171\n",
            "Current training acc: 0.8223684430122375%\n",
            "\n"
          ]
        },
        {
          "output_type": "stream",
          "name": "stderr",
          "text": [
            "\n",
            "\n",
            "  0%|          | 0/76 [00:00<?, ?it/s]\u001b[A\u001b[A\n",
            "\n",
            "100%|██████████| 76/76 [00:00<00:00, 654.95it/s]\n",
            " 10%|█         | 18/180 [00:04<00:39,  4.10it/s]"
          ]
        },
        {
          "output_type": "stream",
          "name": "stdout",
          "text": [
            "\n",
            "Current test loss: 1.2587183713912964\n",
            "Current test acc: 0.22368420660495758%\n",
            "\n",
            "Epoch: 18\n",
            "======\n",
            "\n",
            "Current training loss: 0.7660939693450928\n",
            "Current training acc: 0.8552631735801697%\n",
            "\n"
          ]
        },
        {
          "output_type": "stream",
          "name": "stderr",
          "text": [
            "\n",
            "\n",
            "  0%|          | 0/76 [00:00<?, ?it/s]\u001b[A\u001b[A\n",
            "\n",
            "100%|██████████| 76/76 [00:00<00:00, 603.83it/s]\n",
            " 11%|█         | 19/180 [00:04<00:39,  4.04it/s]"
          ]
        },
        {
          "output_type": "stream",
          "name": "stdout",
          "text": [
            "\n",
            "Current test loss: 1.2009010314941406\n",
            "Current test acc: 0.31578946113586426%\n",
            "\n",
            "Epoch: 19\n",
            "======\n",
            "\n",
            "Current training loss: 0.7510776519775391\n",
            "Current training acc: 0.8651315569877625%\n",
            "\n"
          ]
        },
        {
          "output_type": "stream",
          "name": "stderr",
          "text": [
            "\n",
            "\n",
            "  0%|          | 0/76 [00:00<?, ?it/s]\u001b[A\u001b[A\n",
            "\n",
            "100%|██████████| 76/76 [00:00<00:00, 627.62it/s]\n",
            " 11%|█         | 20/180 [00:05<00:40,  3.96it/s]"
          ]
        },
        {
          "output_type": "stream",
          "name": "stdout",
          "text": [
            "\n",
            "Current test loss: 1.198259711265564\n",
            "Current test acc: 0.31578946113586426%\n",
            "\n",
            "Epoch: 20\n",
            "======\n",
            "\n",
            "Current training loss: 0.7618995308876038\n",
            "Current training acc: 0.8453947305679321%\n",
            "\n"
          ]
        },
        {
          "output_type": "stream",
          "name": "stderr",
          "text": [
            "\n",
            "\n",
            "  0%|          | 0/76 [00:00<?, ?it/s]\u001b[A\u001b[A\n",
            "\n",
            "100%|██████████| 76/76 [00:00<00:00, 607.66it/s]\n",
            " 12%|█▏        | 21/180 [00:05<00:40,  3.96it/s]"
          ]
        },
        {
          "output_type": "stream",
          "name": "stdout",
          "text": [
            "\n",
            "Current test loss: 1.16859769821167\n",
            "Current test acc: 0.3552631437778473%\n",
            "\n",
            "Epoch: 21\n",
            "======\n",
            "\n",
            "Current training loss: 0.7362754940986633\n",
            "Current training acc: 0.875%\n",
            "\n"
          ]
        },
        {
          "output_type": "stream",
          "name": "stderr",
          "text": [
            "\n",
            "\n",
            "  0%|          | 0/76 [00:00<?, ?it/s]\u001b[A\u001b[A\n",
            "\n",
            "100%|██████████| 76/76 [00:00<00:00, 608.74it/s]\n",
            " 12%|█▏        | 22/180 [00:05<00:40,  3.94it/s]"
          ]
        },
        {
          "output_type": "stream",
          "name": "stdout",
          "text": [
            "\n",
            "Current test loss: 1.2789695262908936\n",
            "Current test acc: 0.19736842811107635%\n",
            "\n",
            "Epoch: 22\n",
            "======\n",
            "\n",
            "Current training loss: 0.707665205001831\n",
            "Current training acc: 0.8947368264198303%\n",
            "\n"
          ]
        },
        {
          "output_type": "stream",
          "name": "stderr",
          "text": [
            "\n",
            "\n",
            "  0%|          | 0/76 [00:00<?, ?it/s]\u001b[A\u001b[A\n",
            "\n",
            "100%|██████████| 76/76 [00:00<00:00, 656.79it/s]\n",
            " 13%|█▎        | 23/180 [00:05<00:39,  3.95it/s]"
          ]
        },
        {
          "output_type": "stream",
          "name": "stdout",
          "text": [
            "\n",
            "Current test loss: 1.2323575019836426\n",
            "Current test acc: 0.28947368264198303%\n",
            "\n",
            "Epoch: 23\n",
            "======\n",
            "\n",
            "Current training loss: 0.6995945572853088\n",
            "Current training acc: 0.9144737124443054%\n",
            "\n"
          ]
        },
        {
          "output_type": "stream",
          "name": "stderr",
          "text": [
            "\n",
            "\n",
            "  0%|          | 0/76 [00:00<?, ?it/s]\u001b[A\u001b[A\n",
            "\n",
            "100%|██████████| 76/76 [00:00<00:00, 613.86it/s]\n",
            " 13%|█▎        | 24/180 [00:06<00:39,  3.95it/s]"
          ]
        },
        {
          "output_type": "stream",
          "name": "stdout",
          "text": [
            "\n",
            "Current test loss: 1.2078593969345093\n",
            "Current test acc: 0.25%\n",
            "\n",
            "Epoch: 24\n",
            "======\n",
            "\n",
            "Current training loss: 0.6829104423522949\n",
            "Current training acc: 0.9342105388641357%\n",
            "\n"
          ]
        },
        {
          "output_type": "stream",
          "name": "stderr",
          "text": [
            "\n",
            "\n",
            "  0%|          | 0/76 [00:00<?, ?it/s]\u001b[A\u001b[A\n",
            "\n",
            "100%|██████████| 76/76 [00:00<00:00, 564.78it/s]\n",
            " 14%|█▍        | 25/180 [00:06<00:39,  3.88it/s]"
          ]
        },
        {
          "output_type": "stream",
          "name": "stdout",
          "text": [
            "\n",
            "Current test loss: 1.2371642589569092\n",
            "Current test acc: 0.2763157784938812%\n",
            "\n",
            "Epoch: 25\n",
            "======\n",
            "\n",
            "Current training loss: 0.6677250266075134\n",
            "Current training acc: 0.9407894611358643%\n",
            "\n"
          ]
        },
        {
          "output_type": "stream",
          "name": "stderr",
          "text": [
            "\n",
            "\n",
            "  0%|          | 0/76 [00:00<?, ?it/s]\u001b[A\u001b[A\n",
            "\n",
            "100%|██████████| 76/76 [00:00<00:00, 586.75it/s]\n",
            " 14%|█▍        | 26/180 [00:06<00:39,  3.91it/s]"
          ]
        },
        {
          "output_type": "stream",
          "name": "stdout",
          "text": [
            "\n",
            "Current test loss: 1.1758191585540771\n",
            "Current test acc: 0.34210526943206787%\n",
            "\n",
            "Epoch: 26\n",
            "======\n",
            "\n",
            "Current training loss: 0.6613615155220032\n",
            "Current training acc: 0.9407894611358643%\n",
            "\n"
          ]
        },
        {
          "output_type": "stream",
          "name": "stderr",
          "text": [
            "\n",
            "\n",
            "  0%|          | 0/76 [00:00<?, ?it/s]\u001b[A\u001b[A\n",
            "\n",
            "100%|██████████| 76/76 [00:00<00:00, 620.93it/s]\n",
            " 15%|█▌        | 27/180 [00:06<00:39,  3.91it/s]"
          ]
        },
        {
          "output_type": "stream",
          "name": "stdout",
          "text": [
            "\n",
            "Current test loss: 1.2116093635559082\n",
            "Current test acc: 0.28947368264198303%\n",
            "\n",
            "Epoch: 27\n",
            "======\n",
            "\n",
            "Current training loss: 0.6543706059455872\n",
            "Current training acc: 0.9440789222717285%\n",
            "\n"
          ]
        },
        {
          "output_type": "stream",
          "name": "stderr",
          "text": [
            "\n",
            "\n",
            "  0%|          | 0/76 [00:00<?, ?it/s]\u001b[A\u001b[A\n",
            "\n",
            "100%|██████████| 76/76 [00:00<00:00, 610.59it/s]\n",
            " 16%|█▌        | 28/180 [00:07<00:38,  3.94it/s]"
          ]
        },
        {
          "output_type": "stream",
          "name": "stdout",
          "text": [
            "\n",
            "Current test loss: 1.260133981704712\n",
            "Current test acc: 0.19736842811107635%\n",
            "\n",
            "Epoch: 28\n",
            "======\n",
            "\n",
            "Current training loss: 0.6461408138275146\n",
            "Current training acc: 0.9572368264198303%\n",
            "\n"
          ]
        },
        {
          "output_type": "stream",
          "name": "stderr",
          "text": [
            "\n",
            "\n",
            "  0%|          | 0/76 [00:00<?, ?it/s]\u001b[A\u001b[A\n",
            "\n",
            "100%|██████████| 76/76 [00:00<00:00, 603.64it/s]\n",
            " 16%|█▌        | 29/180 [00:07<00:38,  3.97it/s]"
          ]
        },
        {
          "output_type": "stream",
          "name": "stdout",
          "text": [
            "\n",
            "Current test loss: 1.2023189067840576\n",
            "Current test acc: 0.31578946113586426%\n",
            "\n",
            "Epoch: 29\n",
            "======\n",
            "\n",
            "Current training loss: 0.6343002319335938\n",
            "Current training acc: 0.9605262875556946%\n",
            "\n"
          ]
        },
        {
          "output_type": "stream",
          "name": "stderr",
          "text": [
            "\n",
            "\n",
            "  0%|          | 0/76 [00:00<?, ?it/s]\u001b[A\u001b[A\n",
            "\n",
            "100%|██████████| 76/76 [00:00<00:00, 605.75it/s]\n",
            " 17%|█▋        | 30/180 [00:07<00:37,  3.97it/s]"
          ]
        },
        {
          "output_type": "stream",
          "name": "stdout",
          "text": [
            "\n",
            "Current test loss: 1.2196664810180664\n",
            "Current test acc: 0.2763157784938812%\n",
            "\n",
            "Epoch: 30\n",
            "======\n",
            "\n",
            "Current training loss: 0.6391959190368652\n",
            "Current training acc: 0.9605262875556946%\n",
            "\n"
          ]
        },
        {
          "output_type": "stream",
          "name": "stderr",
          "text": [
            "\n",
            "\n",
            "  0%|          | 0/76 [00:00<?, ?it/s]\u001b[A\u001b[A\n",
            "\n",
            "100%|██████████| 76/76 [00:00<00:00, 608.94it/s]\n",
            " 17%|█▋        | 31/180 [00:07<00:37,  3.96it/s]"
          ]
        },
        {
          "output_type": "stream",
          "name": "stdout",
          "text": [
            "\n",
            "Current test loss: 1.2646434307098389\n",
            "Current test acc: 0.2368421107530594%\n",
            "\n",
            "Epoch: 31\n",
            "======\n",
            "\n",
            "Current training loss: 0.6224228739738464\n",
            "Current training acc: 0.9769737124443054%\n",
            "\n"
          ]
        },
        {
          "output_type": "stream",
          "name": "stderr",
          "text": [
            "\n",
            "\n",
            "  0%|          | 0/76 [00:00<?, ?it/s]\u001b[A\u001b[A\n",
            "\n",
            "100%|██████████| 76/76 [00:00<00:00, 628.54it/s]\n",
            " 18%|█▊        | 32/180 [00:08<00:37,  3.99it/s]"
          ]
        },
        {
          "output_type": "stream",
          "name": "stdout",
          "text": [
            "\n",
            "Current test loss: 1.228585958480835\n",
            "Current test acc: 0.2631579041481018%\n",
            "\n",
            "Epoch: 32\n",
            "======\n",
            "\n",
            "Current training loss: 0.6119192242622375\n",
            "Current training acc: 0.9802631735801697%\n",
            "\n"
          ]
        },
        {
          "output_type": "stream",
          "name": "stderr",
          "text": [
            "\n",
            "\n",
            "  0%|          | 0/76 [00:00<?, ?it/s]\u001b[A\u001b[A\n",
            "\n",
            "100%|██████████| 76/76 [00:00<00:00, 642.91it/s]\n",
            " 18%|█▊        | 33/180 [00:08<00:36,  4.03it/s]"
          ]
        },
        {
          "output_type": "stream",
          "name": "stdout",
          "text": [
            "\n",
            "Current test loss: 1.2707802057266235\n",
            "Current test acc: 0.21052631735801697%\n",
            "\n",
            "Epoch: 33\n",
            "======\n",
            "\n",
            "Current training loss: 0.6062323451042175\n",
            "Current training acc: 0.9868420958518982%\n",
            "\n"
          ]
        },
        {
          "output_type": "stream",
          "name": "stderr",
          "text": [
            "\n",
            "\n",
            "  0%|          | 0/76 [00:00<?, ?it/s]\u001b[A\u001b[A\n",
            "\n",
            "100%|██████████| 76/76 [00:00<00:00, 612.66it/s]\n",
            " 19%|█▉        | 34/180 [00:08<00:36,  4.00it/s]"
          ]
        },
        {
          "output_type": "stream",
          "name": "stdout",
          "text": [
            "\n",
            "Current test loss: 1.2722152471542358\n",
            "Current test acc: 0.21052631735801697%\n",
            "\n",
            "Epoch: 34\n",
            "======\n",
            "\n",
            "Current training loss: 0.6070865392684937\n",
            "Current training acc: 0.9802631735801697%\n",
            "\n"
          ]
        },
        {
          "output_type": "stream",
          "name": "stderr",
          "text": [
            "\n",
            "\n",
            "  0%|          | 0/76 [00:00<?, ?it/s]\u001b[A\u001b[A\n",
            "\n",
            "100%|██████████| 76/76 [00:00<00:00, 577.84it/s]\n",
            " 19%|█▉        | 35/180 [00:08<00:36,  3.98it/s]"
          ]
        },
        {
          "output_type": "stream",
          "name": "stdout",
          "text": [
            "\n",
            "Current test loss: 1.23210608959198\n",
            "Current test acc: 0.2763157784938812%\n",
            "\n",
            "Epoch: 35\n",
            "======\n",
            "\n",
            "Current training loss: 0.6223918199539185\n",
            "Current training acc: 0.9703947305679321%\n",
            "\n"
          ]
        },
        {
          "output_type": "stream",
          "name": "stderr",
          "text": [
            "\n",
            "\n",
            "  0%|          | 0/76 [00:00<?, ?it/s]\u001b[A\u001b[A\n",
            "\n",
            "100%|██████████| 76/76 [00:00<00:00, 591.78it/s]\n",
            " 20%|██        | 36/180 [00:09<00:36,  3.98it/s]"
          ]
        },
        {
          "output_type": "stream",
          "name": "stdout",
          "text": [
            "\n",
            "Current test loss: 1.208026647567749\n",
            "Current test acc: 0.31578946113586426%\n",
            "\n",
            "Epoch: 36\n",
            "======\n",
            "\n",
            "Current training loss: 0.6312775611877441\n",
            "Current training acc: 0.9605262875556946%\n",
            "\n"
          ]
        },
        {
          "output_type": "stream",
          "name": "stderr",
          "text": [
            "\n",
            "\n",
            "  0%|          | 0/76 [00:00<?, ?it/s]\u001b[A\u001b[A\n",
            "\n",
            "100%|██████████| 76/76 [00:00<00:00, 591.16it/s]\n",
            " 21%|██        | 37/180 [00:09<00:36,  3.95it/s]"
          ]
        },
        {
          "output_type": "stream",
          "name": "stdout",
          "text": [
            "\n",
            "Current test loss: 1.210519552230835\n",
            "Current test acc: 0.30263158679008484%\n",
            "\n",
            "Epoch: 37\n",
            "======\n",
            "\n",
            "Current training loss: 0.6397522687911987\n",
            "Current training acc: 0.9440789222717285%\n",
            "\n"
          ]
        },
        {
          "output_type": "stream",
          "name": "stderr",
          "text": [
            "\n",
            "\n",
            "  0%|          | 0/76 [00:00<?, ?it/s]\u001b[A\u001b[A\n",
            "\n",
            "100%|██████████| 76/76 [00:00<00:00, 616.55it/s]\n",
            " 21%|██        | 38/180 [00:09<00:35,  3.99it/s]"
          ]
        },
        {
          "output_type": "stream",
          "name": "stdout",
          "text": [
            "\n",
            "Current test loss: 1.2250572443008423\n",
            "Current test acc: 0.25%\n",
            "\n",
            "Epoch: 38\n",
            "======\n",
            "\n",
            "Current training loss: 0.6578648090362549\n",
            "Current training acc: 0.9111841917037964%\n",
            "\n"
          ]
        },
        {
          "output_type": "stream",
          "name": "stderr",
          "text": [
            "\n",
            "\n",
            "  0%|          | 0/76 [00:00<?, ?it/s]\u001b[A\u001b[A\n",
            "\n",
            "100%|██████████| 76/76 [00:00<00:00, 547.72it/s]\n",
            " 22%|██▏       | 39/180 [00:09<00:36,  3.90it/s]"
          ]
        },
        {
          "output_type": "stream",
          "name": "stdout",
          "text": [
            "\n",
            "Current test loss: 1.2830753326416016\n",
            "Current test acc: 0.21052631735801697%\n",
            "\n",
            "Epoch: 39\n",
            "======\n",
            "\n",
            "Current training loss: 0.6561387181282043\n",
            "Current training acc: 0.9144737124443054%\n",
            "\n"
          ]
        },
        {
          "output_type": "stream",
          "name": "stderr",
          "text": [
            "\n",
            "\n",
            "  0%|          | 0/76 [00:00<?, ?it/s]\u001b[A\u001b[A\n",
            "\n",
            "100%|██████████| 76/76 [00:00<00:00, 615.15it/s]\n",
            " 22%|██▏       | 40/180 [00:10<00:35,  3.93it/s]"
          ]
        },
        {
          "output_type": "stream",
          "name": "stdout",
          "text": [
            "\n",
            "Current test loss: 1.2564572095870972\n",
            "Current test acc: 0.2763157784938812%\n",
            "\n",
            "Epoch: 40\n",
            "======\n",
            "\n",
            "Current training loss: 0.6880825161933899\n",
            "Current training acc: 0.8914473652839661%\n",
            "\n"
          ]
        },
        {
          "output_type": "stream",
          "name": "stderr",
          "text": [
            "\n",
            "\n",
            "  0%|          | 0/76 [00:00<?, ?it/s]\u001b[A\u001b[A\n",
            "\n",
            "100%|██████████| 76/76 [00:00<00:00, 584.94it/s]\n",
            " 23%|██▎       | 41/180 [00:10<00:35,  3.90it/s]"
          ]
        },
        {
          "output_type": "stream",
          "name": "stdout",
          "text": [
            "\n",
            "Current test loss: 1.2606219053268433\n",
            "Current test acc: 0.25%\n",
            "\n",
            "Epoch: 41\n",
            "======\n",
            "\n",
            "Current training loss: 0.6633265614509583\n",
            "Current training acc: 0.9210526347160339%\n",
            "\n"
          ]
        },
        {
          "output_type": "stream",
          "name": "stderr",
          "text": [
            "\n",
            "\n",
            "  0%|          | 0/76 [00:00<?, ?it/s]\u001b[A\u001b[A\n",
            "\n",
            "100%|██████████| 76/76 [00:00<00:00, 587.05it/s]\n",
            " 23%|██▎       | 42/180 [00:10<00:35,  3.88it/s]"
          ]
        },
        {
          "output_type": "stream",
          "name": "stdout",
          "text": [
            "\n",
            "Current test loss: 1.334094762802124\n",
            "Current test acc: 0.19736842811107635%\n",
            "\n",
            "Epoch: 42\n",
            "======\n",
            "\n",
            "Current training loss: 0.6332287192344666\n",
            "Current training acc: 0.9506579041481018%\n",
            "\n"
          ]
        },
        {
          "output_type": "stream",
          "name": "stderr",
          "text": [
            "\n",
            "\n",
            "  0%|          | 0/76 [00:00<?, ?it/s]\u001b[A\u001b[A\n",
            "\n",
            "100%|██████████| 76/76 [00:00<00:00, 570.31it/s]\n",
            " 24%|██▍       | 43/180 [00:10<00:35,  3.87it/s]"
          ]
        },
        {
          "output_type": "stream",
          "name": "stdout",
          "text": [
            "\n",
            "Current test loss: 1.210750937461853\n",
            "Current test acc: 0.28947368264198303%\n",
            "\n",
            "Epoch: 43\n",
            "======\n",
            "\n",
            "Current training loss: 0.6219557523727417\n",
            "Current training acc: 0.9572368264198303%\n",
            "\n"
          ]
        },
        {
          "output_type": "stream",
          "name": "stderr",
          "text": [
            "\n",
            "\n",
            "  0%|          | 0/76 [00:00<?, ?it/s]\u001b[A\u001b[A\n",
            "\n",
            "100%|██████████| 76/76 [00:00<00:00, 585.10it/s]\n",
            " 24%|██▍       | 44/180 [00:11<00:34,  3.89it/s]"
          ]
        },
        {
          "output_type": "stream",
          "name": "stdout",
          "text": [
            "\n",
            "Current test loss: 1.2523208856582642\n",
            "Current test acc: 0.2763157784938812%\n",
            "\n",
            "Epoch: 44\n",
            "======\n",
            "\n",
            "Current training loss: 0.6019603610038757\n",
            "Current training acc: 0.9769737124443054%\n",
            "\n"
          ]
        },
        {
          "output_type": "stream",
          "name": "stderr",
          "text": [
            "\n",
            "\n",
            "  0%|          | 0/76 [00:00<?, ?it/s]\u001b[A\u001b[A\n",
            "\n",
            "100%|██████████| 76/76 [00:00<00:00, 571.91it/s]\n",
            " 25%|██▌       | 45/180 [00:11<00:34,  3.88it/s]"
          ]
        },
        {
          "output_type": "stream",
          "name": "stdout",
          "text": [
            "\n",
            "Current test loss: 1.3218482732772827\n",
            "Current test acc: 0.21052631735801697%\n",
            "\n",
            "Epoch: 45\n",
            "======\n",
            "\n",
            "Current training loss: 0.5864889621734619\n",
            "Current training acc: 0.9835526347160339%\n",
            "\n"
          ]
        },
        {
          "output_type": "stream",
          "name": "stderr",
          "text": [
            "\n",
            "\n",
            "  0%|          | 0/76 [00:00<?, ?it/s]\u001b[A\u001b[A\n",
            "\n",
            "100%|██████████| 76/76 [00:00<00:00, 539.93it/s]\n",
            " 26%|██▌       | 46/180 [00:11<00:34,  3.87it/s]"
          ]
        },
        {
          "output_type": "stream",
          "name": "stdout",
          "text": [
            "\n",
            "Current test loss: 1.2535289525985718\n",
            "Current test acc: 0.25%\n",
            "\n",
            "Epoch: 46\n",
            "======\n",
            "\n",
            "Current training loss: 0.5813547968864441\n",
            "Current training acc: 0.9868420958518982%\n",
            "\n"
          ]
        },
        {
          "output_type": "stream",
          "name": "stderr",
          "text": [
            "\n",
            "\n",
            "  0%|          | 0/76 [00:00<?, ?it/s]\u001b[A\u001b[A\n",
            "\n",
            "100%|██████████| 76/76 [00:00<00:00, 573.13it/s]\n",
            " 26%|██▌       | 47/180 [00:11<00:34,  3.87it/s]"
          ]
        },
        {
          "output_type": "stream",
          "name": "stdout",
          "text": [
            "\n",
            "Current test loss: 1.2447649240493774\n",
            "Current test acc: 0.28947368264198303%\n",
            "\n",
            "Epoch: 47\n",
            "======\n",
            "\n",
            "Current training loss: 0.5794498920440674\n",
            "Current training acc: 0.9868420958518982%\n",
            "\n"
          ]
        },
        {
          "output_type": "stream",
          "name": "stderr",
          "text": [
            "\n",
            "\n",
            "  0%|          | 0/76 [00:00<?, ?it/s]\u001b[A\u001b[A\n",
            "\n",
            "100%|██████████| 76/76 [00:00<00:00, 619.27it/s]\n",
            " 27%|██▋       | 48/180 [00:12<00:34,  3.85it/s]"
          ]
        },
        {
          "output_type": "stream",
          "name": "stdout",
          "text": [
            "\n",
            "Current test loss: 1.2978520393371582\n",
            "Current test acc: 0.19736842811107635%\n",
            "\n",
            "Epoch: 48\n",
            "======\n",
            "\n",
            "Current training loss: 0.5739238858222961\n",
            "Current training acc: 0.9901315569877625%\n",
            "\n"
          ]
        },
        {
          "output_type": "stream",
          "name": "stderr",
          "text": [
            "\n",
            "\n",
            "  0%|          | 0/76 [00:00<?, ?it/s]\u001b[A\u001b[A\n",
            "\n",
            "100%|██████████| 76/76 [00:00<00:00, 627.63it/s]\n",
            " 27%|██▋       | 49/180 [00:12<00:33,  3.85it/s]"
          ]
        },
        {
          "output_type": "stream",
          "name": "stdout",
          "text": [
            "\n",
            "Current test loss: 1.2791591882705688\n",
            "Current test acc: 0.25%\n",
            "\n",
            "Epoch: 49\n",
            "======\n",
            "\n",
            "Current training loss: 0.5712592005729675\n",
            "Current training acc: 0.9901315569877625%\n",
            "\n"
          ]
        },
        {
          "output_type": "stream",
          "name": "stderr",
          "text": [
            "\n",
            "\n",
            "  0%|          | 0/76 [00:00<?, ?it/s]\u001b[A\u001b[A\n",
            "\n",
            "100%|██████████| 76/76 [00:00<00:00, 619.43it/s]\n",
            " 28%|██▊       | 50/180 [00:12<00:33,  3.87it/s]"
          ]
        },
        {
          "output_type": "stream",
          "name": "stdout",
          "text": [
            "\n",
            "Current test loss: 1.2835158109664917\n",
            "Current test acc: 0.21052631735801697%\n",
            "\n",
            "Epoch: 50\n",
            "======\n",
            "\n",
            "Current training loss: 0.5701982378959656\n",
            "Current training acc: 0.9901315569877625%\n",
            "\n"
          ]
        },
        {
          "output_type": "stream",
          "name": "stderr",
          "text": [
            "\n",
            "\n",
            "  0%|          | 0/76 [00:00<?, ?it/s]\u001b[A\u001b[A\n",
            "\n",
            "100%|██████████| 76/76 [00:00<00:00, 581.75it/s]\n",
            " 28%|██▊       | 51/180 [00:12<00:33,  3.85it/s]"
          ]
        },
        {
          "output_type": "stream",
          "name": "stdout",
          "text": [
            "\n",
            "Current test loss: 1.2727986574172974\n",
            "Current test acc: 0.25%\n",
            "\n",
            "Epoch: 51\n",
            "======\n",
            "\n",
            "Current training loss: 0.5691445469856262\n",
            "Current training acc: 0.9901315569877625%\n",
            "\n"
          ]
        },
        {
          "output_type": "stream",
          "name": "stderr",
          "text": [
            "\n",
            "\n",
            "  0%|          | 0/76 [00:00<?, ?it/s]\u001b[A\u001b[A\n",
            "\n",
            "100%|██████████| 76/76 [00:00<00:00, 561.99it/s]\n",
            " 29%|██▉       | 52/180 [00:13<00:33,  3.87it/s]"
          ]
        },
        {
          "output_type": "stream",
          "name": "stdout",
          "text": [
            "\n",
            "Current test loss: 1.2761939764022827\n",
            "Current test acc: 0.22368420660495758%\n",
            "\n",
            "Epoch: 52\n",
            "======\n",
            "\n",
            "Current training loss: 0.5685601830482483\n",
            "Current training acc: 0.9901315569877625%\n",
            "\n"
          ]
        },
        {
          "output_type": "stream",
          "name": "stderr",
          "text": [
            "\n",
            "\n",
            "  0%|          | 0/76 [00:00<?, ?it/s]\u001b[A\u001b[A\n",
            "\n",
            "100%|██████████| 76/76 [00:00<00:00, 672.14it/s]\n",
            " 29%|██▉       | 53/180 [00:13<00:32,  3.93it/s]"
          ]
        },
        {
          "output_type": "stream",
          "name": "stdout",
          "text": [
            "\n",
            "Current test loss: 1.2809733152389526\n",
            "Current test acc: 0.21052631735801697%\n",
            "\n",
            "Epoch: 53\n",
            "======\n",
            "\n",
            "Current training loss: 0.5680720210075378\n",
            "Current training acc: 0.9901315569877625%\n",
            "\n"
          ]
        },
        {
          "output_type": "stream",
          "name": "stderr",
          "text": [
            "\n",
            "\n",
            "  0%|          | 0/76 [00:00<?, ?it/s]\u001b[A\u001b[A\n",
            "\n",
            "100%|██████████| 76/76 [00:00<00:00, 622.56it/s]\n",
            " 30%|███       | 54/180 [00:13<00:32,  3.92it/s]"
          ]
        },
        {
          "output_type": "stream",
          "name": "stdout",
          "text": [
            "\n",
            "Current test loss: 1.2722526788711548\n",
            "Current test acc: 0.2368421107530594%\n",
            "\n",
            "Epoch: 54\n",
            "======\n",
            "\n",
            "Current training loss: 0.5677341818809509\n",
            "Current training acc: 0.9901315569877625%\n",
            "\n"
          ]
        },
        {
          "output_type": "stream",
          "name": "stderr",
          "text": [
            "\n",
            "\n",
            "  0%|          | 0/76 [00:00<?, ?it/s]\u001b[A\u001b[A\n",
            "\n",
            "100%|██████████| 76/76 [00:00<00:00, 586.00it/s]\n",
            " 31%|███       | 55/180 [00:13<00:31,  3.91it/s]"
          ]
        },
        {
          "output_type": "stream",
          "name": "stdout",
          "text": [
            "\n",
            "Current test loss: 1.2820658683776855\n",
            "Current test acc: 0.21052631735801697%\n",
            "\n",
            "Epoch: 55\n",
            "======\n",
            "\n",
            "Current training loss: 0.5674217343330383\n",
            "Current training acc: 0.9901315569877625%\n",
            "\n"
          ]
        },
        {
          "output_type": "stream",
          "name": "stderr",
          "text": [
            "\n",
            "\n",
            "  0%|          | 0/76 [00:00<?, ?it/s]\u001b[A\u001b[A\n",
            "\n",
            "100%|██████████| 76/76 [00:00<00:00, 631.28it/s]\n",
            " 31%|███       | 56/180 [00:14<00:31,  3.92it/s]"
          ]
        },
        {
          "output_type": "stream",
          "name": "stdout",
          "text": [
            "\n",
            "Current test loss: 1.2649158239364624\n",
            "Current test acc: 0.2368421107530594%\n",
            "\n",
            "Epoch: 56\n",
            "======\n",
            "\n",
            "Current training loss: 0.5671504139900208\n",
            "Current training acc: 0.9901315569877625%\n",
            "\n"
          ]
        },
        {
          "output_type": "stream",
          "name": "stderr",
          "text": [
            "\n",
            "\n",
            "  0%|          | 0/76 [00:00<?, ?it/s]\u001b[A\u001b[A\n",
            "\n",
            "100%|██████████| 76/76 [00:00<00:00, 596.31it/s]\n",
            " 32%|███▏      | 57/180 [00:14<00:31,  3.94it/s]"
          ]
        },
        {
          "output_type": "stream",
          "name": "stdout",
          "text": [
            "\n",
            "Current test loss: 1.2780723571777344\n",
            "Current test acc: 0.2368421107530594%\n",
            "\n",
            "Epoch: 57\n",
            "======\n",
            "\n",
            "Current training loss: 0.5667335391044617\n",
            "Current training acc: 0.9901315569877625%\n",
            "\n"
          ]
        },
        {
          "output_type": "stream",
          "name": "stderr",
          "text": [
            "\n",
            "\n",
            "  0%|          | 0/76 [00:00<?, ?it/s]\u001b[A\u001b[A\n",
            "\n",
            "100%|██████████| 76/76 [00:00<00:00, 600.30it/s]\n",
            " 32%|███▏      | 58/180 [00:14<00:30,  3.95it/s]"
          ]
        },
        {
          "output_type": "stream",
          "name": "stdout",
          "text": [
            "\n",
            "Current test loss: 1.2675362825393677\n",
            "Current test acc: 0.2368421107530594%\n",
            "\n",
            "Epoch: 58\n",
            "======\n",
            "\n",
            "Current training loss: 0.5665315985679626\n",
            "Current training acc: 0.9901315569877625%\n",
            "\n"
          ]
        },
        {
          "output_type": "stream",
          "name": "stderr",
          "text": [
            "\n",
            "\n",
            "  0%|          | 0/76 [00:00<?, ?it/s]\u001b[A\u001b[A\n",
            "\n",
            "100%|██████████| 76/76 [00:00<00:00, 571.80it/s]\n",
            " 33%|███▎      | 59/180 [00:14<00:30,  3.93it/s]"
          ]
        },
        {
          "output_type": "stream",
          "name": "stdout",
          "text": [
            "\n",
            "Current test loss: 1.2702327966690063\n",
            "Current test acc: 0.2368421107530594%\n",
            "\n",
            "Epoch: 59\n",
            "======\n",
            "\n",
            "Current training loss: 0.566260039806366\n",
            "Current training acc: 0.9901315569877625%\n",
            "\n"
          ]
        },
        {
          "output_type": "stream",
          "name": "stderr",
          "text": [
            "\n",
            "\n",
            "  0%|          | 0/76 [00:00<?, ?it/s]\u001b[A\u001b[A\n",
            "\n",
            "100%|██████████| 76/76 [00:00<00:00, 626.58it/s]\n",
            " 33%|███▎      | 60/180 [00:15<00:30,  3.98it/s]"
          ]
        },
        {
          "output_type": "stream",
          "name": "stdout",
          "text": [
            "\n",
            "Current test loss: 1.263533353805542\n",
            "Current test acc: 0.25%\n",
            "\n",
            "Epoch: 60\n",
            "======\n",
            "\n",
            "Current training loss: 0.5661002397537231\n",
            "Current training acc: 0.9901315569877625%\n",
            "\n"
          ]
        },
        {
          "output_type": "stream",
          "name": "stderr",
          "text": [
            "\n",
            "\n",
            "  0%|          | 0/76 [00:00<?, ?it/s]\u001b[A\u001b[A\n",
            "\n",
            "100%|██████████| 76/76 [00:00<00:00, 606.03it/s]\n",
            " 34%|███▍      | 61/180 [00:15<00:29,  3.99it/s]"
          ]
        },
        {
          "output_type": "stream",
          "name": "stdout",
          "text": [
            "\n",
            "Current test loss: 1.2751436233520508\n",
            "Current test acc: 0.2368421107530594%\n",
            "\n",
            "Epoch: 61\n",
            "======\n",
            "\n",
            "Current training loss: 0.5658431053161621\n",
            "Current training acc: 0.9901315569877625%\n",
            "\n"
          ]
        },
        {
          "output_type": "stream",
          "name": "stderr",
          "text": [
            "\n",
            "\n",
            "  0%|          | 0/76 [00:00<?, ?it/s]\u001b[A\u001b[A\n",
            "\n",
            "100%|██████████| 76/76 [00:00<00:00, 625.11it/s]\n",
            " 34%|███▍      | 62/180 [00:15<00:29,  4.02it/s]"
          ]
        },
        {
          "output_type": "stream",
          "name": "stdout",
          "text": [
            "\n",
            "Current test loss: 1.2593982219696045\n",
            "Current test acc: 0.2631579041481018%\n",
            "\n",
            "Epoch: 62\n",
            "======\n",
            "\n",
            "Current training loss: 0.5657116770744324\n",
            "Current training acc: 0.9901315569877625%\n",
            "\n"
          ]
        },
        {
          "output_type": "stream",
          "name": "stderr",
          "text": [
            "\n",
            "\n",
            "  0%|          | 0/76 [00:00<?, ?it/s]\u001b[A\u001b[A\n",
            "\n",
            "100%|██████████| 76/76 [00:00<00:00, 556.33it/s]\n",
            " 35%|███▌      | 63/180 [00:15<00:29,  3.97it/s]"
          ]
        },
        {
          "output_type": "stream",
          "name": "stdout",
          "text": [
            "\n",
            "Current test loss: 1.2695900201797485\n",
            "Current test acc: 0.2368421107530594%\n",
            "\n",
            "Epoch: 63\n",
            "======\n",
            "\n",
            "Current training loss: 0.5654469728469849\n",
            "Current training acc: 0.9901315569877625%\n",
            "\n"
          ]
        },
        {
          "output_type": "stream",
          "name": "stderr",
          "text": [
            "\n",
            "\n",
            "  0%|          | 0/76 [00:00<?, ?it/s]\u001b[A\u001b[A\n",
            "\n",
            "100%|██████████| 76/76 [00:00<00:00, 586.37it/s]\n",
            " 36%|███▌      | 64/180 [00:16<00:29,  3.96it/s]"
          ]
        },
        {
          "output_type": "stream",
          "name": "stdout",
          "text": [
            "\n",
            "Current test loss: 1.2562376260757446\n",
            "Current test acc: 0.25%\n",
            "\n",
            "Epoch: 64\n",
            "======\n",
            "\n",
            "Current training loss: 0.5653545260429382\n",
            "Current training acc: 0.9901315569877625%\n",
            "\n"
          ]
        },
        {
          "output_type": "stream",
          "name": "stderr",
          "text": [
            "\n",
            "\n",
            "  0%|          | 0/76 [00:00<?, ?it/s]\u001b[A\u001b[A\n",
            "\n",
            "100%|██████████| 76/76 [00:00<00:00, 584.19it/s]\n",
            " 36%|███▌      | 65/180 [00:16<00:29,  3.95it/s]"
          ]
        },
        {
          "output_type": "stream",
          "name": "stdout",
          "text": [
            "\n",
            "Current test loss: 1.2696150541305542\n",
            "Current test acc: 0.25%\n",
            "\n",
            "Epoch: 65\n",
            "======\n",
            "\n",
            "Current training loss: 0.5651874542236328\n",
            "Current training acc: 0.9901315569877625%\n",
            "\n"
          ]
        },
        {
          "output_type": "stream",
          "name": "stderr",
          "text": [
            "\n",
            "\n",
            "  0%|          | 0/76 [00:00<?, ?it/s]\u001b[A\u001b[A\n",
            "\n",
            "100%|██████████| 76/76 [00:00<00:00, 622.69it/s]\n",
            " 37%|███▋      | 66/180 [00:16<00:29,  3.88it/s]"
          ]
        },
        {
          "output_type": "stream",
          "name": "stdout",
          "text": [
            "\n",
            "Current test loss: 1.2462377548217773\n",
            "Current test acc: 0.28947368264198303%\n",
            "\n",
            "Epoch: 66\n",
            "======\n",
            "\n",
            "Current training loss: 0.5649980902671814\n",
            "Current training acc: 0.9901315569877625%\n",
            "\n"
          ]
        },
        {
          "output_type": "stream",
          "name": "stderr",
          "text": [
            "\n",
            "\n",
            "  0%|          | 0/76 [00:00<?, ?it/s]\u001b[A\u001b[A\n",
            "\n",
            "100%|██████████| 76/76 [00:00<00:00, 537.10it/s]\n",
            " 37%|███▋      | 67/180 [00:16<00:29,  3.87it/s]"
          ]
        },
        {
          "output_type": "stream",
          "name": "stdout",
          "text": [
            "\n",
            "Current test loss: 1.2643766403198242\n",
            "Current test acc: 0.2763157784938812%\n",
            "\n",
            "Epoch: 67\n",
            "======\n",
            "\n",
            "Current training loss: 0.5639249682426453\n",
            "Current training acc: 0.9901315569877625%\n",
            "\n"
          ]
        },
        {
          "output_type": "stream",
          "name": "stderr",
          "text": [
            "\n",
            "\n",
            "  0%|          | 0/76 [00:00<?, ?it/s]\u001b[A\u001b[A\n",
            "\n",
            "100%|██████████| 76/76 [00:00<00:00, 650.26it/s]\n",
            " 38%|███▊      | 68/180 [00:17<00:28,  3.90it/s]"
          ]
        },
        {
          "output_type": "stream",
          "name": "stdout",
          "text": [
            "\n",
            "Current test loss: 1.2478268146514893\n",
            "Current test acc: 0.30263158679008484%\n",
            "\n",
            "Epoch: 68\n",
            "======\n",
            "\n",
            "Current training loss: 0.5638523697853088\n",
            "Current training acc: 0.9901315569877625%\n",
            "\n"
          ]
        },
        {
          "output_type": "stream",
          "name": "stderr",
          "text": [
            "\n",
            "\n",
            "  0%|          | 0/76 [00:00<?, ?it/s]\u001b[A\u001b[A\n",
            "\n",
            "100%|██████████| 76/76 [00:00<00:00, 586.93it/s]\n",
            " 38%|███▊      | 69/180 [00:17<00:28,  3.91it/s]"
          ]
        },
        {
          "output_type": "stream",
          "name": "stdout",
          "text": [
            "\n",
            "Current test loss: 1.2547597885131836\n",
            "Current test acc: 0.2763157784938812%\n",
            "\n",
            "Epoch: 69\n",
            "======\n",
            "\n",
            "Current training loss: 0.5624582171440125\n",
            "Current training acc: 0.9934210777282715%\n",
            "\n"
          ]
        },
        {
          "output_type": "stream",
          "name": "stderr",
          "text": [
            "\n",
            "\n",
            "  0%|          | 0/76 [00:00<?, ?it/s]\u001b[A\u001b[A\n",
            "\n",
            "100%|██████████| 76/76 [00:00<00:00, 621.77it/s]\n",
            " 39%|███▉      | 70/180 [00:17<00:28,  3.91it/s]"
          ]
        },
        {
          "output_type": "stream",
          "name": "stdout",
          "text": [
            "\n",
            "Current test loss: 1.2508169412612915\n",
            "Current test acc: 0.30263158679008484%\n",
            "\n",
            "Epoch: 70\n",
            "======\n",
            "\n",
            "Current training loss: 0.5620288252830505\n",
            "Current training acc: 0.9934210777282715%\n",
            "\n"
          ]
        },
        {
          "output_type": "stream",
          "name": "stderr",
          "text": [
            "\n",
            "\n",
            "  0%|          | 0/76 [00:00<?, ?it/s]\u001b[A\u001b[A\n",
            "\n",
            "100%|██████████| 76/76 [00:00<00:00, 572.59it/s]\n",
            " 39%|███▉      | 71/180 [00:18<00:27,  3.91it/s]"
          ]
        },
        {
          "output_type": "stream",
          "name": "stdout",
          "text": [
            "\n",
            "Current test loss: 1.252313256263733\n",
            "Current test acc: 0.28947368264198303%\n",
            "\n",
            "Epoch: 71\n",
            "======\n",
            "\n",
            "Current training loss: 0.5617862939834595\n",
            "Current training acc: 0.9934210777282715%\n",
            "\n"
          ]
        },
        {
          "output_type": "stream",
          "name": "stderr",
          "text": [
            "\n",
            "\n",
            "  0%|          | 0/76 [00:00<?, ?it/s]\u001b[A\u001b[A\n",
            "\n",
            "100%|██████████| 76/76 [00:00<00:00, 619.22it/s]\n",
            " 40%|████      | 72/180 [00:18<00:27,  3.92it/s]"
          ]
        },
        {
          "output_type": "stream",
          "name": "stdout",
          "text": [
            "\n",
            "Current test loss: 1.2495973110198975\n",
            "Current test acc: 0.28947368264198303%\n",
            "\n",
            "Epoch: 72\n",
            "======\n",
            "\n",
            "Current training loss: 0.5616071224212646\n",
            "Current training acc: 0.9934210777282715%\n",
            "\n"
          ]
        },
        {
          "output_type": "stream",
          "name": "stderr",
          "text": [
            "\n",
            "\n",
            "  0%|          | 0/76 [00:00<?, ?it/s]\u001b[A\u001b[A\n",
            "\n",
            "100%|██████████| 76/76 [00:00<00:00, 611.50it/s]\n",
            " 41%|████      | 73/180 [00:18<00:27,  3.96it/s]"
          ]
        },
        {
          "output_type": "stream",
          "name": "stdout",
          "text": [
            "\n",
            "Current test loss: 1.2486974000930786\n",
            "Current test acc: 0.31578946113586426%\n",
            "\n",
            "Epoch: 73\n",
            "======\n",
            "\n",
            "Current training loss: 0.5614588856697083\n",
            "Current training acc: 0.9934210777282715%\n",
            "\n"
          ]
        },
        {
          "output_type": "stream",
          "name": "stderr",
          "text": [
            "\n",
            "\n",
            "  0%|          | 0/76 [00:00<?, ?it/s]\u001b[A\u001b[A\n",
            "\n",
            "100%|██████████| 76/76 [00:00<00:00, 616.56it/s]\n",
            " 41%|████      | 74/180 [00:18<00:26,  3.98it/s]"
          ]
        },
        {
          "output_type": "stream",
          "name": "stdout",
          "text": [
            "\n",
            "Current test loss: 1.2491635084152222\n",
            "Current test acc: 0.31578946113586426%\n",
            "\n",
            "Epoch: 74\n",
            "======\n",
            "\n",
            "Current training loss: 0.5613287091255188\n",
            "Current training acc: 0.9934210777282715%\n",
            "\n"
          ]
        },
        {
          "output_type": "stream",
          "name": "stderr",
          "text": [
            "\n",
            "\n",
            "  0%|          | 0/76 [00:00<?, ?it/s]\u001b[A\u001b[A\n",
            "\n",
            "100%|██████████| 76/76 [00:00<00:00, 551.09it/s]\n",
            " 42%|████▏     | 75/180 [00:19<00:26,  3.95it/s]"
          ]
        },
        {
          "output_type": "stream",
          "name": "stdout",
          "text": [
            "\n",
            "Current test loss: 1.2475495338439941\n",
            "Current test acc: 0.31578946113586426%\n",
            "\n",
            "Epoch: 75\n",
            "======\n",
            "\n",
            "Current training loss: 0.5612106919288635\n",
            "Current training acc: 0.9934210777282715%\n",
            "\n"
          ]
        },
        {
          "output_type": "stream",
          "name": "stderr",
          "text": [
            "\n",
            "\n",
            "  0%|          | 0/76 [00:00<?, ?it/s]\u001b[A\u001b[A\n",
            "\n",
            "100%|██████████| 76/76 [00:00<00:00, 642.26it/s]\n",
            " 42%|████▏     | 76/180 [00:19<00:26,  3.93it/s]"
          ]
        },
        {
          "output_type": "stream",
          "name": "stdout",
          "text": [
            "\n",
            "Current test loss: 1.2473758459091187\n",
            "Current test acc: 0.31578946113586426%\n",
            "\n",
            "Epoch: 76\n",
            "======\n",
            "\n",
            "Current training loss: 0.5611013174057007\n",
            "Current training acc: 0.9934210777282715%\n",
            "\n"
          ]
        },
        {
          "output_type": "stream",
          "name": "stderr",
          "text": [
            "\n",
            "\n",
            "  0%|          | 0/76 [00:00<?, ?it/s]\u001b[A\u001b[A\n",
            "\n",
            "100%|██████████| 76/76 [00:00<00:00, 556.66it/s]\n",
            " 43%|████▎     | 77/180 [00:19<00:26,  3.91it/s]"
          ]
        },
        {
          "output_type": "stream",
          "name": "stdout",
          "text": [
            "\n",
            "Current test loss: 1.2447806596755981\n",
            "Current test acc: 0.31578946113586426%\n",
            "\n",
            "Epoch: 77\n",
            "======\n",
            "\n",
            "Current training loss: 0.560996413230896\n",
            "Current training acc: 0.9934210777282715%\n",
            "\n"
          ]
        },
        {
          "output_type": "stream",
          "name": "stderr",
          "text": [
            "\n",
            "\n",
            "  0%|          | 0/76 [00:00<?, ?it/s]\u001b[A\u001b[A\n",
            "\n",
            "100%|██████████| 76/76 [00:00<00:00, 608.49it/s]\n",
            " 43%|████▎     | 78/180 [00:19<00:25,  3.93it/s]"
          ]
        },
        {
          "output_type": "stream",
          "name": "stdout",
          "text": [
            "\n",
            "Current test loss: 1.2465002536773682\n",
            "Current test acc: 0.31578946113586426%\n",
            "\n",
            "Epoch: 78\n",
            "======\n",
            "\n",
            "Current training loss: 0.5609015226364136\n",
            "Current training acc: 0.9934210777282715%\n",
            "\n"
          ]
        },
        {
          "output_type": "stream",
          "name": "stderr",
          "text": [
            "\n",
            "\n",
            "  0%|          | 0/76 [00:00<?, ?it/s]\u001b[A\u001b[A\n",
            "\n",
            "100%|██████████| 76/76 [00:00<00:00, 527.08it/s]\n",
            " 44%|████▍     | 79/180 [00:20<00:26,  3.81it/s]"
          ]
        },
        {
          "output_type": "stream",
          "name": "stdout",
          "text": [
            "\n",
            "Current test loss: 1.245457649230957\n",
            "Current test acc: 0.31578946113586426%\n",
            "\n",
            "Epoch: 79\n",
            "======\n",
            "\n",
            "Current training loss: 0.5608114004135132\n",
            "Current training acc: 0.9934210777282715%\n",
            "\n"
          ]
        },
        {
          "output_type": "stream",
          "name": "stderr",
          "text": [
            "\n",
            "\n",
            "  0%|          | 0/76 [00:00<?, ?it/s]\u001b[A\u001b[A\n",
            "\n",
            "100%|██████████| 76/76 [00:00<00:00, 588.67it/s]\n",
            " 44%|████▍     | 80/180 [00:20<00:25,  3.87it/s]"
          ]
        },
        {
          "output_type": "stream",
          "name": "stdout",
          "text": [
            "\n",
            "Current test loss: 1.2451204061508179\n",
            "Current test acc: 0.30263158679008484%\n",
            "\n",
            "Epoch: 80\n",
            "======\n",
            "\n",
            "Current training loss: 0.5607298016548157\n",
            "Current training acc: 0.9934210777282715%\n",
            "\n"
          ]
        },
        {
          "output_type": "stream",
          "name": "stderr",
          "text": [
            "\n",
            "\n",
            "  0%|          | 0/76 [00:00<?, ?it/s]\u001b[A\u001b[A\n",
            "\n",
            "100%|██████████| 76/76 [00:00<00:00, 555.51it/s]\n",
            " 45%|████▌     | 81/180 [00:20<00:25,  3.87it/s]"
          ]
        },
        {
          "output_type": "stream",
          "name": "stdout",
          "text": [
            "\n",
            "Current test loss: 1.2447983026504517\n",
            "Current test acc: 0.31578946113586426%\n",
            "\n",
            "Epoch: 81\n",
            "======\n",
            "\n",
            "Current training loss: 0.5606458783149719\n",
            "Current training acc: 0.9934210777282715%\n",
            "\n"
          ]
        },
        {
          "output_type": "stream",
          "name": "stderr",
          "text": [
            "\n",
            "\n",
            "  0%|          | 0/76 [00:00<?, ?it/s]\u001b[A\u001b[A\n",
            "\n",
            "100%|██████████| 76/76 [00:00<00:00, 590.51it/s]\n",
            " 46%|████▌     | 82/180 [00:20<00:25,  3.88it/s]"
          ]
        },
        {
          "output_type": "stream",
          "name": "stdout",
          "text": [
            "\n",
            "Current test loss: 1.2444766759872437\n",
            "Current test acc: 0.31578946113586426%\n",
            "\n",
            "Epoch: 82\n",
            "======\n",
            "\n",
            "Current training loss: 0.5605700612068176\n",
            "Current training acc: 0.9934210777282715%\n",
            "\n"
          ]
        },
        {
          "output_type": "stream",
          "name": "stderr",
          "text": [
            "\n",
            "\n",
            "  0%|          | 0/76 [00:00<?, ?it/s]\u001b[A\u001b[A\n",
            "\n",
            "100%|██████████| 76/76 [00:00<00:00, 527.08it/s]\n",
            " 46%|████▌     | 83/180 [00:21<00:25,  3.84it/s]"
          ]
        },
        {
          "output_type": "stream",
          "name": "stdout",
          "text": [
            "\n",
            "Current test loss: 1.2426906824111938\n",
            "Current test acc: 0.31578946113586426%\n",
            "\n",
            "Epoch: 83\n",
            "======\n",
            "\n",
            "Current training loss: 0.5605010390281677\n",
            "Current training acc: 0.9934210777282715%\n",
            "\n"
          ]
        },
        {
          "output_type": "stream",
          "name": "stderr",
          "text": [
            "\n",
            "\n",
            "  0%|          | 0/76 [00:00<?, ?it/s]\u001b[A\u001b[A\n",
            "\n",
            "100%|██████████| 76/76 [00:00<00:00, 542.04it/s]\n",
            " 47%|████▋     | 84/180 [00:21<00:24,  3.85it/s]"
          ]
        },
        {
          "output_type": "stream",
          "name": "stdout",
          "text": [
            "\n",
            "Current test loss: 1.243738055229187\n",
            "Current test acc: 0.30263158679008484%\n",
            "\n",
            "Epoch: 84\n",
            "======\n",
            "\n",
            "Current training loss: 0.5604292750358582\n",
            "Current training acc: 0.9934210777282715%\n",
            "\n"
          ]
        },
        {
          "output_type": "stream",
          "name": "stderr",
          "text": [
            "\n",
            "\n",
            "  0%|          | 0/76 [00:00<?, ?it/s]\u001b[A\u001b[A\n",
            "\n",
            "100%|██████████| 76/76 [00:00<00:00, 574.15it/s]\n",
            " 47%|████▋     | 85/180 [00:21<00:24,  3.85it/s]"
          ]
        },
        {
          "output_type": "stream",
          "name": "stdout",
          "text": [
            "\n",
            "Current test loss: 1.242306113243103\n",
            "Current test acc: 0.32894736528396606%\n",
            "\n",
            "Epoch: 85\n",
            "======\n",
            "\n",
            "Current training loss: 0.5603616833686829\n",
            "Current training acc: 0.9934210777282715%\n",
            "\n"
          ]
        },
        {
          "output_type": "stream",
          "name": "stderr",
          "text": [
            "\n",
            "\n",
            "  0%|          | 0/76 [00:00<?, ?it/s]\u001b[A\u001b[A\n",
            "\n",
            "100%|██████████| 76/76 [00:00<00:00, 551.03it/s]\n",
            " 48%|████▊     | 86/180 [00:21<00:24,  3.86it/s]"
          ]
        },
        {
          "output_type": "stream",
          "name": "stdout",
          "text": [
            "\n",
            "Current test loss: 1.242957353591919\n",
            "Current test acc: 0.31578946113586426%\n",
            "\n",
            "Epoch: 86\n",
            "======\n",
            "\n",
            "Current training loss: 0.5602983832359314\n",
            "Current training acc: 0.9934210777282715%\n",
            "\n"
          ]
        },
        {
          "output_type": "stream",
          "name": "stderr",
          "text": [
            "\n",
            "\n",
            "  0%|          | 0/76 [00:00<?, ?it/s]\u001b[A\u001b[A\n",
            "\n",
            "100%|██████████| 76/76 [00:00<00:00, 555.12it/s]\n",
            " 48%|████▊     | 87/180 [00:22<00:24,  3.84it/s]"
          ]
        },
        {
          "output_type": "stream",
          "name": "stdout",
          "text": [
            "\n",
            "Current test loss: 1.2409452199935913\n",
            "Current test acc: 0.32894736528396606%\n",
            "\n",
            "Epoch: 87\n",
            "======\n",
            "\n",
            "Current training loss: 0.5602379441261292\n",
            "Current training acc: 0.9934210777282715%\n",
            "\n"
          ]
        },
        {
          "output_type": "stream",
          "name": "stderr",
          "text": [
            "\n",
            "\n",
            "  0%|          | 0/76 [00:00<?, ?it/s]\u001b[A\u001b[A\n",
            "\n",
            "100%|██████████| 76/76 [00:00<00:00, 587.33it/s]\n",
            " 49%|████▉     | 88/180 [00:22<00:23,  3.84it/s]"
          ]
        },
        {
          "output_type": "stream",
          "name": "stdout",
          "text": [
            "\n",
            "Current test loss: 1.243125557899475\n",
            "Current test acc: 0.31578946113586426%\n",
            "\n",
            "Epoch: 88\n",
            "======\n",
            "\n",
            "Current training loss: 0.5601815581321716\n",
            "Current training acc: 0.9934210777282715%\n",
            "\n"
          ]
        },
        {
          "output_type": "stream",
          "name": "stderr",
          "text": [
            "\n",
            "\n",
            "  0%|          | 0/76 [00:00<?, ?it/s]\u001b[A\u001b[A\n",
            "\n",
            "100%|██████████| 76/76 [00:00<00:00, 613.20it/s]\n",
            " 49%|████▉     | 89/180 [00:22<00:23,  3.87it/s]"
          ]
        },
        {
          "output_type": "stream",
          "name": "stdout",
          "text": [
            "\n",
            "Current test loss: 1.2423946857452393\n",
            "Current test acc: 0.30263158679008484%\n",
            "\n",
            "Epoch: 89\n",
            "======\n",
            "\n",
            "Current training loss: 0.5601252317428589\n",
            "Current training acc: 0.9934210777282715%\n",
            "\n"
          ]
        },
        {
          "output_type": "stream",
          "name": "stderr",
          "text": [
            "\n",
            "\n",
            "  0%|          | 0/76 [00:00<?, ?it/s]\u001b[A\u001b[A\n",
            "\n",
            "100%|██████████| 76/76 [00:00<00:00, 606.54it/s]\n",
            " 50%|█████     | 90/180 [00:22<00:22,  3.93it/s]"
          ]
        },
        {
          "output_type": "stream",
          "name": "stdout",
          "text": [
            "\n",
            "Current test loss: 1.2416913509368896\n",
            "Current test acc: 0.31578946113586426%\n",
            "\n",
            "Epoch: 90\n",
            "======\n",
            "\n",
            "Current training loss: 0.5600738525390625\n",
            "Current training acc: 0.9934210777282715%\n",
            "\n"
          ]
        },
        {
          "output_type": "stream",
          "name": "stderr",
          "text": [
            "\n",
            "\n",
            "  0%|          | 0/76 [00:00<?, ?it/s]\u001b[A\u001b[A\n",
            "\n",
            "100%|██████████| 76/76 [00:00<00:00, 575.49it/s]\n",
            " 51%|█████     | 91/180 [00:23<00:22,  3.87it/s]"
          ]
        },
        {
          "output_type": "stream",
          "name": "stdout",
          "text": [
            "\n",
            "Current test loss: 1.2406351566314697\n",
            "Current test acc: 0.32894736528396606%\n",
            "\n",
            "Epoch: 91\n",
            "======\n",
            "\n",
            "Current training loss: 0.5600211024284363\n",
            "Current training acc: 0.9934210777282715%\n",
            "\n"
          ]
        },
        {
          "output_type": "stream",
          "name": "stderr",
          "text": [
            "\n",
            "\n",
            "  0%|          | 0/76 [00:00<?, ?it/s]\u001b[A\u001b[A\n",
            "\n",
            "100%|██████████| 76/76 [00:00<00:00, 608.32it/s]\n",
            " 51%|█████     | 92/180 [00:23<00:22,  3.93it/s]"
          ]
        },
        {
          "output_type": "stream",
          "name": "stdout",
          "text": [
            "\n",
            "Current test loss: 1.2412463426589966\n",
            "Current test acc: 0.32894736528396606%\n",
            "\n",
            "Epoch: 92\n",
            "======\n",
            "\n",
            "Current training loss: 0.5599722862243652\n",
            "Current training acc: 0.9934210777282715%\n",
            "\n"
          ]
        },
        {
          "output_type": "stream",
          "name": "stderr",
          "text": [
            "\n",
            "\n",
            "  0%|          | 0/76 [00:00<?, ?it/s]\u001b[A\u001b[A\n",
            "\n",
            "100%|██████████| 76/76 [00:00<00:00, 635.57it/s]\n",
            " 52%|█████▏    | 93/180 [00:23<00:21,  3.96it/s]"
          ]
        },
        {
          "output_type": "stream",
          "name": "stdout",
          "text": [
            "\n",
            "Current test loss: 1.2412338256835938\n",
            "Current test acc: 0.32894736528396606%\n",
            "\n",
            "Epoch: 93\n",
            "======\n",
            "\n",
            "Current training loss: 0.5599258542060852\n",
            "Current training acc: 0.9934210777282715%\n",
            "\n"
          ]
        },
        {
          "output_type": "stream",
          "name": "stderr",
          "text": [
            "\n",
            "\n",
            "  0%|          | 0/76 [00:00<?, ?it/s]\u001b[A\u001b[A\n",
            "\n",
            "100%|██████████| 76/76 [00:00<00:00, 622.47it/s]\n",
            " 52%|█████▏    | 94/180 [00:23<00:21,  3.98it/s]"
          ]
        },
        {
          "output_type": "stream",
          "name": "stdout",
          "text": [
            "\n",
            "Current test loss: 1.2417534589767456\n",
            "Current test acc: 0.32894736528396606%\n",
            "\n",
            "Epoch: 94\n",
            "======\n",
            "\n",
            "Current training loss: 0.5598776936531067\n",
            "Current training acc: 0.9934210777282715%\n",
            "\n"
          ]
        },
        {
          "output_type": "stream",
          "name": "stderr",
          "text": [
            "\n",
            "\n",
            "  0%|          | 0/76 [00:00<?, ?it/s]\u001b[A\u001b[A\n",
            "\n",
            "100%|██████████| 76/76 [00:00<00:00, 540.57it/s]\n",
            " 53%|█████▎    | 95/180 [00:24<00:21,  3.92it/s]"
          ]
        },
        {
          "output_type": "stream",
          "name": "stdout",
          "text": [
            "\n",
            "Current test loss: 1.2402526140213013\n",
            "Current test acc: 0.32894736528396606%\n",
            "\n",
            "Epoch: 95\n",
            "======\n",
            "\n",
            "Current training loss: 0.5598323941230774\n",
            "Current training acc: 0.9934210777282715%\n",
            "\n"
          ]
        },
        {
          "output_type": "stream",
          "name": "stderr",
          "text": [
            "\n",
            "\n",
            "  0%|          | 0/76 [00:00<?, ?it/s]\u001b[A\u001b[A\n",
            "\n",
            "100%|██████████| 76/76 [00:00<00:00, 603.88it/s]\n",
            " 53%|█████▎    | 96/180 [00:24<00:21,  3.88it/s]"
          ]
        },
        {
          "output_type": "stream",
          "name": "stdout",
          "text": [
            "\n",
            "Current test loss: 1.2405741214752197\n",
            "Current test acc: 0.32894736528396606%\n",
            "\n",
            "Epoch: 96\n",
            "======\n",
            "\n",
            "Current training loss: 0.559789776802063\n",
            "Current training acc: 0.9934210777282715%\n",
            "\n"
          ]
        },
        {
          "output_type": "stream",
          "name": "stderr",
          "text": [
            "\n",
            "\n",
            "  0%|          | 0/76 [00:00<?, ?it/s]\u001b[A\u001b[A\n",
            "\n",
            "100%|██████████| 76/76 [00:00<00:00, 598.05it/s]\n",
            " 54%|█████▍    | 97/180 [00:24<00:21,  3.90it/s]"
          ]
        },
        {
          "output_type": "stream",
          "name": "stdout",
          "text": [
            "\n",
            "Current test loss: 1.2389750480651855\n",
            "Current test acc: 0.32894736528396606%\n",
            "\n",
            "Epoch: 97\n",
            "======\n",
            "\n",
            "Current training loss: 0.5597491264343262\n",
            "Current training acc: 0.9934210777282715%\n",
            "\n"
          ]
        },
        {
          "output_type": "stream",
          "name": "stderr",
          "text": [
            "\n",
            "\n",
            "  0%|          | 0/76 [00:00<?, ?it/s]\u001b[A\u001b[A\n",
            "\n",
            "100%|██████████| 76/76 [00:00<00:00, 606.72it/s]\n",
            " 54%|█████▍    | 98/180 [00:24<00:20,  3.93it/s]"
          ]
        },
        {
          "output_type": "stream",
          "name": "stdout",
          "text": [
            "\n",
            "Current test loss: 1.2406476736068726\n",
            "Current test acc: 0.32894736528396606%\n",
            "\n",
            "Epoch: 98\n",
            "======\n",
            "\n",
            "Current training loss: 0.5597081184387207\n",
            "Current training acc: 0.9934210777282715%\n",
            "\n"
          ]
        },
        {
          "output_type": "stream",
          "name": "stderr",
          "text": [
            "\n",
            "\n",
            "  0%|          | 0/76 [00:00<?, ?it/s]\u001b[A\u001b[A\n",
            "\n",
            "100%|██████████| 76/76 [00:00<00:00, 564.10it/s]\n",
            " 55%|█████▌    | 99/180 [00:25<00:21,  3.85it/s]"
          ]
        },
        {
          "output_type": "stream",
          "name": "stdout",
          "text": [
            "\n",
            "Current test loss: 1.2404171228408813\n",
            "Current test acc: 0.32894736528396606%\n",
            "\n",
            "Epoch: 99\n",
            "======\n",
            "\n",
            "Current training loss: 0.559669554233551\n",
            "Current training acc: 0.9934210777282715%\n",
            "\n"
          ]
        },
        {
          "output_type": "stream",
          "name": "stderr",
          "text": [
            "\n",
            "\n",
            "  0%|          | 0/76 [00:00<?, ?it/s]\u001b[A\u001b[A\n",
            "\n",
            "100%|██████████| 76/76 [00:00<00:00, 604.62it/s]\n",
            " 56%|█████▌    | 100/180 [00:25<00:20,  3.84it/s]"
          ]
        },
        {
          "output_type": "stream",
          "name": "stdout",
          "text": [
            "\n",
            "Current test loss: 1.2398914098739624\n",
            "Current test acc: 0.32894736528396606%\n",
            "\n",
            "Epoch: 100\n",
            "======\n",
            "\n",
            "Current training loss: 0.5596334338188171\n",
            "Current training acc: 0.9934210777282715%\n",
            "\n"
          ]
        },
        {
          "output_type": "stream",
          "name": "stderr",
          "text": [
            "\n",
            "\n",
            "  0%|          | 0/76 [00:00<?, ?it/s]\u001b[A\u001b[A\n",
            "\n",
            "100%|██████████| 76/76 [00:00<00:00, 608.25it/s]\n",
            " 56%|█████▌    | 101/180 [00:25<00:20,  3.86it/s]"
          ]
        },
        {
          "output_type": "stream",
          "name": "stdout",
          "text": [
            "\n",
            "Current test loss: 1.2389860153198242\n",
            "Current test acc: 0.32894736528396606%\n",
            "\n",
            "Epoch: 101\n",
            "======\n",
            "\n",
            "Current training loss: 0.5595970153808594\n",
            "Current training acc: 0.9934210777282715%\n",
            "\n"
          ]
        },
        {
          "output_type": "stream",
          "name": "stderr",
          "text": [
            "\n",
            "\n",
            "  0%|          | 0/76 [00:00<?, ?it/s]\u001b[A\u001b[A\n",
            "\n",
            "100%|██████████| 76/76 [00:00<00:00, 600.96it/s]\n",
            " 57%|█████▋    | 102/180 [00:25<00:20,  3.83it/s]"
          ]
        },
        {
          "output_type": "stream",
          "name": "stdout",
          "text": [
            "\n",
            "Current test loss: 1.2391942739486694\n",
            "Current test acc: 0.32894736528396606%\n",
            "\n",
            "Epoch: 102\n",
            "======\n",
            "\n",
            "Current training loss: 0.5595667958259583\n",
            "Current training acc: 0.9934210777282715%\n",
            "\n"
          ]
        },
        {
          "output_type": "stream",
          "name": "stderr",
          "text": [
            "\n",
            "\n",
            "  0%|          | 0/76 [00:00<?, ?it/s]\u001b[A\u001b[A\n",
            "\n",
            "100%|██████████| 76/76 [00:00<00:00, 559.23it/s]\n",
            " 57%|█████▋    | 103/180 [00:26<00:20,  3.80it/s]"
          ]
        },
        {
          "output_type": "stream",
          "name": "stdout",
          "text": [
            "\n",
            "Current test loss: 1.2403615713119507\n",
            "Current test acc: 0.32894736528396606%\n",
            "\n",
            "Epoch: 103\n",
            "======\n",
            "\n",
            "Current training loss: 0.559528648853302\n",
            "Current training acc: 0.9934210777282715%\n",
            "\n"
          ]
        },
        {
          "output_type": "stream",
          "name": "stderr",
          "text": [
            "\n",
            "\n",
            "  0%|          | 0/76 [00:00<?, ?it/s]\u001b[A\u001b[A\n",
            "\n",
            "100%|██████████| 76/76 [00:00<00:00, 564.15it/s]\n",
            " 58%|█████▊    | 104/180 [00:26<00:19,  3.81it/s]"
          ]
        },
        {
          "output_type": "stream",
          "name": "stdout",
          "text": [
            "\n",
            "Current test loss: 1.2398344278335571\n",
            "Current test acc: 0.32894736528396606%\n",
            "\n",
            "Epoch: 104\n",
            "======\n",
            "\n",
            "Current training loss: 0.5594951510429382\n",
            "Current training acc: 0.9934210777282715%\n",
            "\n"
          ]
        },
        {
          "output_type": "stream",
          "name": "stderr",
          "text": [
            "\n",
            "\n",
            "  0%|          | 0/76 [00:00<?, ?it/s]\u001b[A\u001b[A\n",
            "\n",
            "100%|██████████| 76/76 [00:00<00:00, 597.90it/s]\n",
            " 58%|█████▊    | 105/180 [00:26<00:19,  3.86it/s]"
          ]
        },
        {
          "output_type": "stream",
          "name": "stdout",
          "text": [
            "\n",
            "Current test loss: 1.239080548286438\n",
            "Current test acc: 0.32894736528396606%\n",
            "\n",
            "Epoch: 105\n",
            "======\n",
            "\n",
            "Current training loss: 0.5594633221626282\n",
            "Current training acc: 0.9934210777282715%\n",
            "\n"
          ]
        },
        {
          "output_type": "stream",
          "name": "stderr",
          "text": [
            "\n",
            "\n",
            "  0%|          | 0/76 [00:00<?, ?it/s]\u001b[A\u001b[A\n",
            "\n",
            "100%|██████████| 76/76 [00:00<00:00, 555.87it/s]\n",
            " 59%|█████▉    | 106/180 [00:27<00:19,  3.84it/s]"
          ]
        },
        {
          "output_type": "stream",
          "name": "stdout",
          "text": [
            "\n",
            "Current test loss: 1.2394391298294067\n",
            "Current test acc: 0.32894736528396606%\n",
            "\n",
            "Epoch: 106\n",
            "======\n",
            "\n",
            "Current training loss: 0.5594320893287659\n",
            "Current training acc: 0.9934210777282715%\n",
            "\n"
          ]
        },
        {
          "output_type": "stream",
          "name": "stderr",
          "text": [
            "\n",
            "\n",
            "  0%|          | 0/76 [00:00<?, ?it/s]\u001b[A\u001b[A\n",
            "\n",
            "100%|██████████| 76/76 [00:00<00:00, 555.35it/s]\n",
            " 59%|█████▉    | 107/180 [00:27<00:19,  3.82it/s]"
          ]
        },
        {
          "output_type": "stream",
          "name": "stdout",
          "text": [
            "\n",
            "Current test loss: 1.2394726276397705\n",
            "Current test acc: 0.32894736528396606%\n",
            "\n",
            "Epoch: 107\n",
            "======\n",
            "\n",
            "Current training loss: 0.5594025254249573\n",
            "Current training acc: 0.9934210777282715%\n",
            "\n"
          ]
        },
        {
          "output_type": "stream",
          "name": "stderr",
          "text": [
            "\n",
            "\n",
            "  0%|          | 0/76 [00:00<?, ?it/s]\u001b[A\u001b[A\n",
            "\n",
            "100%|██████████| 76/76 [00:00<00:00, 550.81it/s]\n",
            " 60%|██████    | 108/180 [00:27<00:18,  3.84it/s]"
          ]
        },
        {
          "output_type": "stream",
          "name": "stdout",
          "text": [
            "\n",
            "Current test loss: 1.2376525402069092\n",
            "Current test acc: 0.32894736528396606%\n",
            "\n",
            "Epoch: 108\n",
            "======\n",
            "\n",
            "Current training loss: 0.5593735575675964\n",
            "Current training acc: 0.9934210777282715%\n",
            "\n"
          ]
        },
        {
          "output_type": "stream",
          "name": "stderr",
          "text": [
            "\n",
            "\n",
            "  0%|          | 0/76 [00:00<?, ?it/s]\u001b[A\u001b[A\n",
            "\n",
            "100%|██████████| 76/76 [00:00<00:00, 578.23it/s]\n",
            " 61%|██████    | 109/180 [00:27<00:18,  3.88it/s]"
          ]
        },
        {
          "output_type": "stream",
          "name": "stdout",
          "text": [
            "\n",
            "Current test loss: 1.2383966445922852\n",
            "Current test acc: 0.32894736528396606%\n",
            "\n",
            "Epoch: 109\n",
            "======\n",
            "\n",
            "Current training loss: 0.5593458414077759\n",
            "Current training acc: 0.9934210777282715%\n",
            "\n"
          ]
        },
        {
          "output_type": "stream",
          "name": "stderr",
          "text": [
            "\n",
            "\n",
            "  0%|          | 0/76 [00:00<?, ?it/s]\u001b[A\u001b[A\n",
            "\n",
            "100%|██████████| 76/76 [00:00<00:00, 610.46it/s]\n",
            " 61%|██████    | 110/180 [00:28<00:18,  3.88it/s]"
          ]
        },
        {
          "output_type": "stream",
          "name": "stdout",
          "text": [
            "\n",
            "Current test loss: 1.2394691705703735\n",
            "Current test acc: 0.32894736528396606%\n",
            "\n",
            "Epoch: 110\n",
            "======\n",
            "\n",
            "Current training loss: 0.5593172907829285\n",
            "Current training acc: 0.9934210777282715%\n",
            "\n"
          ]
        },
        {
          "output_type": "stream",
          "name": "stderr",
          "text": [
            "\n",
            "\n",
            "  0%|          | 0/76 [00:00<?, ?it/s]\u001b[A\u001b[A\n",
            "\n",
            "100%|██████████| 76/76 [00:00<00:00, 571.31it/s]\n",
            " 62%|██████▏   | 111/180 [00:28<00:17,  3.85it/s]"
          ]
        },
        {
          "output_type": "stream",
          "name": "stdout",
          "text": [
            "\n",
            "Current test loss: 1.2388492822647095\n",
            "Current test acc: 0.32894736528396606%\n",
            "\n",
            "Epoch: 111\n",
            "======\n",
            "\n",
            "Current training loss: 0.5592918395996094\n",
            "Current training acc: 0.9934210777282715%\n",
            "\n"
          ]
        },
        {
          "output_type": "stream",
          "name": "stderr",
          "text": [
            "\n",
            "\n",
            "  0%|          | 0/76 [00:00<?, ?it/s]\u001b[A\u001b[A\n",
            "\n",
            "100%|██████████| 76/76 [00:00<00:00, 581.49it/s]\n",
            " 62%|██████▏   | 112/180 [00:28<00:17,  3.84it/s]"
          ]
        },
        {
          "output_type": "stream",
          "name": "stdout",
          "text": [
            "\n",
            "Current test loss: 1.237953543663025\n",
            "Current test acc: 0.32894736528396606%\n",
            "\n",
            "Epoch: 112\n",
            "======\n",
            "\n",
            "Current training loss: 0.5592687726020813\n",
            "Current training acc: 0.9934210777282715%\n",
            "\n"
          ]
        },
        {
          "output_type": "stream",
          "name": "stderr",
          "text": [
            "\n",
            "\n",
            "  0%|          | 0/76 [00:00<?, ?it/s]\u001b[A\u001b[A\n",
            "\n",
            "100%|██████████| 76/76 [00:00<00:00, 552.44it/s]\n",
            " 63%|██████▎   | 113/180 [00:28<00:17,  3.82it/s]"
          ]
        },
        {
          "output_type": "stream",
          "name": "stdout",
          "text": [
            "\n",
            "Current test loss: 1.239393949508667\n",
            "Current test acc: 0.32894736528396606%\n",
            "\n",
            "Epoch: 113\n",
            "======\n",
            "\n",
            "Current training loss: 0.559241771697998\n",
            "Current training acc: 0.9934210777282715%\n",
            "\n"
          ]
        },
        {
          "output_type": "stream",
          "name": "stderr",
          "text": [
            "\n",
            "\n",
            "  0%|          | 0/76 [00:00<?, ?it/s]\u001b[A\u001b[A\n",
            "\n",
            "100%|██████████| 76/76 [00:00<00:00, 570.91it/s]\n",
            " 63%|██████▎   | 114/180 [00:29<00:17,  3.80it/s]"
          ]
        },
        {
          "output_type": "stream",
          "name": "stdout",
          "text": [
            "\n",
            "Current test loss: 1.2364399433135986\n",
            "Current test acc: 0.32894736528396606%\n",
            "\n",
            "Epoch: 114\n",
            "======\n",
            "\n",
            "Current training loss: 0.5592189431190491\n",
            "Current training acc: 0.9934210777282715%\n",
            "\n"
          ]
        },
        {
          "output_type": "stream",
          "name": "stderr",
          "text": [
            "\n",
            "\n",
            "  0%|          | 0/76 [00:00<?, ?it/s]\u001b[A\u001b[A\n",
            "\n",
            "100%|██████████| 76/76 [00:00<00:00, 593.04it/s]\n",
            " 64%|██████▍   | 115/180 [00:29<00:17,  3.82it/s]"
          ]
        },
        {
          "output_type": "stream",
          "name": "stdout",
          "text": [
            "\n",
            "Current test loss: 1.2397695779800415\n",
            "Current test acc: 0.32894736528396606%\n",
            "\n",
            "Epoch: 115\n",
            "======\n",
            "\n",
            "Current training loss: 0.5591942667961121\n",
            "Current training acc: 0.9934210777282715%\n",
            "\n"
          ]
        },
        {
          "output_type": "stream",
          "name": "stderr",
          "text": [
            "\n",
            "\n",
            "  0%|          | 0/76 [00:00<?, ?it/s]\u001b[A\u001b[A\n",
            "\n",
            "100%|██████████| 76/76 [00:00<00:00, 574.51it/s]\n",
            " 64%|██████▍   | 116/180 [00:29<00:16,  3.84it/s]"
          ]
        },
        {
          "output_type": "stream",
          "name": "stdout",
          "text": [
            "\n",
            "Current test loss: 1.2400987148284912\n",
            "Current test acc: 0.32894736528396606%\n",
            "\n",
            "Epoch: 116\n",
            "======\n",
            "\n",
            "Current training loss: 0.5591698884963989\n",
            "Current training acc: 0.9934210777282715%\n",
            "\n"
          ]
        },
        {
          "output_type": "stream",
          "name": "stderr",
          "text": [
            "\n",
            "\n",
            "  0%|          | 0/76 [00:00<?, ?it/s]\u001b[A\u001b[A\n",
            "\n",
            "100%|██████████| 76/76 [00:00<00:00, 595.82it/s]\n",
            " 65%|██████▌   | 117/180 [00:29<00:16,  3.84it/s]"
          ]
        },
        {
          "output_type": "stream",
          "name": "stdout",
          "text": [
            "\n",
            "Current test loss: 1.238406777381897\n",
            "Current test acc: 0.32894736528396606%\n",
            "\n",
            "Epoch: 117\n",
            "======\n",
            "\n",
            "Current training loss: 0.5591467618942261\n",
            "Current training acc: 0.9934210777282715%\n",
            "\n"
          ]
        },
        {
          "output_type": "stream",
          "name": "stderr",
          "text": [
            "\n",
            "\n",
            "  0%|          | 0/76 [00:00<?, ?it/s]\u001b[A\u001b[A\n",
            "\n",
            "100%|██████████| 76/76 [00:00<00:00, 558.07it/s]\n",
            " 66%|██████▌   | 118/180 [00:30<00:16,  3.83it/s]"
          ]
        },
        {
          "output_type": "stream",
          "name": "stdout",
          "text": [
            "\n",
            "Current test loss: 1.238715410232544\n",
            "Current test acc: 0.32894736528396606%\n",
            "\n",
            "Epoch: 118\n",
            "======\n",
            "\n",
            "Current training loss: 0.5591251254081726\n",
            "Current training acc: 0.9934210777282715%\n",
            "\n"
          ]
        },
        {
          "output_type": "stream",
          "name": "stderr",
          "text": [
            "\n",
            "\n",
            "  0%|          | 0/76 [00:00<?, ?it/s]\u001b[A\u001b[A\n",
            "\n",
            "100%|██████████| 76/76 [00:00<00:00, 558.11it/s]\n",
            " 66%|██████▌   | 119/180 [00:30<00:16,  3.77it/s]"
          ]
        },
        {
          "output_type": "stream",
          "name": "stdout",
          "text": [
            "\n",
            "Current test loss: 1.238595962524414\n",
            "Current test acc: 0.32894736528396606%\n",
            "\n",
            "Epoch: 119\n",
            "======\n",
            "\n",
            "Current training loss: 0.5591040849685669\n",
            "Current training acc: 0.9934210777282715%\n",
            "\n"
          ]
        },
        {
          "output_type": "stream",
          "name": "stderr",
          "text": [
            "\n",
            "\n",
            "  0%|          | 0/76 [00:00<?, ?it/s]\u001b[A\u001b[A\n",
            "\n",
            "100%|██████████| 76/76 [00:00<00:00, 596.33it/s]\n",
            " 67%|██████▋   | 120/180 [00:30<00:15,  3.80it/s]"
          ]
        },
        {
          "output_type": "stream",
          "name": "stdout",
          "text": [
            "\n",
            "Current test loss: 1.2388129234313965\n",
            "Current test acc: 0.32894736528396606%\n",
            "\n",
            "Epoch: 120\n",
            "======\n",
            "\n",
            "Current training loss: 0.5590842366218567\n",
            "Current training acc: 0.9934210777282715%\n",
            "\n"
          ]
        },
        {
          "output_type": "stream",
          "name": "stderr",
          "text": [
            "\n",
            "\n",
            "  0%|          | 0/76 [00:00<?, ?it/s]\u001b[A\u001b[A\n",
            "\n",
            "100%|██████████| 76/76 [00:00<00:00, 593.55it/s]\n",
            " 67%|██████▋   | 121/180 [00:30<00:15,  3.81it/s]"
          ]
        },
        {
          "output_type": "stream",
          "name": "stdout",
          "text": [
            "\n",
            "Current test loss: 1.2372102737426758\n",
            "Current test acc: 0.32894736528396606%\n",
            "\n",
            "Epoch: 121\n",
            "======\n",
            "\n",
            "Current training loss: 0.5590658783912659\n",
            "Current training acc: 0.9934210777282715%\n",
            "\n"
          ]
        },
        {
          "output_type": "stream",
          "name": "stderr",
          "text": [
            "\n",
            "\n",
            "  0%|          | 0/76 [00:00<?, ?it/s]\u001b[A\u001b[A\n",
            "\n",
            "100%|██████████| 76/76 [00:00<00:00, 590.33it/s]\n",
            " 68%|██████▊   | 122/180 [00:31<00:15,  3.84it/s]"
          ]
        },
        {
          "output_type": "stream",
          "name": "stdout",
          "text": [
            "\n",
            "Current test loss: 1.239262342453003\n",
            "Current test acc: 0.32894736528396606%\n",
            "\n",
            "Epoch: 122\n",
            "======\n",
            "\n",
            "Current training loss: 0.5590445399284363\n",
            "Current training acc: 0.9934210777282715%\n",
            "\n"
          ]
        },
        {
          "output_type": "stream",
          "name": "stderr",
          "text": [
            "\n",
            "\n",
            "  0%|          | 0/76 [00:00<?, ?it/s]\u001b[A\u001b[A\n",
            "\n",
            "100%|██████████| 76/76 [00:00<00:00, 614.83it/s]\n",
            " 68%|██████▊   | 123/180 [00:31<00:14,  3.86it/s]"
          ]
        },
        {
          "output_type": "stream",
          "name": "stdout",
          "text": [
            "\n",
            "Current test loss: 1.2388137578964233\n",
            "Current test acc: 0.32894736528396606%\n",
            "\n",
            "Epoch: 123\n",
            "======\n",
            "\n",
            "Current training loss: 0.5590248107910156\n",
            "Current training acc: 0.9934210777282715%\n",
            "\n"
          ]
        },
        {
          "output_type": "stream",
          "name": "stderr",
          "text": [
            "\n",
            "\n",
            "  0%|          | 0/76 [00:00<?, ?it/s]\u001b[A\u001b[A\n",
            "\n",
            "100%|██████████| 76/76 [00:00<00:00, 592.05it/s]\n",
            " 69%|██████▉   | 124/180 [00:31<00:14,  3.83it/s]"
          ]
        },
        {
          "output_type": "stream",
          "name": "stdout",
          "text": [
            "\n",
            "Current test loss: 1.2379179000854492\n",
            "Current test acc: 0.32894736528396606%\n",
            "\n",
            "Epoch: 124\n",
            "======\n",
            "\n",
            "Current training loss: 0.55900639295578\n",
            "Current training acc: 0.9934210777282715%\n",
            "\n"
          ]
        },
        {
          "output_type": "stream",
          "name": "stderr",
          "text": [
            "\n",
            "\n",
            "  0%|          | 0/76 [00:00<?, ?it/s]\u001b[A\u001b[A\n",
            "\n",
            "100%|██████████| 76/76 [00:00<00:00, 570.55it/s]\n",
            " 69%|██████▉   | 125/180 [00:31<00:14,  3.87it/s]"
          ]
        },
        {
          "output_type": "stream",
          "name": "stdout",
          "text": [
            "\n",
            "Current test loss: 1.238774061203003\n",
            "Current test acc: 0.32894736528396606%\n",
            "\n",
            "Epoch: 125\n",
            "======\n",
            "\n",
            "Current training loss: 0.5589878559112549\n",
            "Current training acc: 0.9934210777282715%\n",
            "\n"
          ]
        },
        {
          "output_type": "stream",
          "name": "stderr",
          "text": [
            "\n",
            "\n",
            "  0%|          | 0/76 [00:00<?, ?it/s]\u001b[A\u001b[A\n",
            "\n",
            "100%|██████████| 76/76 [00:00<00:00, 592.87it/s]\n",
            " 70%|███████   | 126/180 [00:32<00:13,  3.86it/s]"
          ]
        },
        {
          "output_type": "stream",
          "name": "stdout",
          "text": [
            "\n",
            "Current test loss: 1.2384684085845947\n",
            "Current test acc: 0.32894736528396606%\n",
            "\n",
            "Epoch: 126\n",
            "======\n",
            "\n",
            "Current training loss: 0.5589707493782043\n",
            "Current training acc: 0.9934210777282715%\n",
            "\n"
          ]
        },
        {
          "output_type": "stream",
          "name": "stderr",
          "text": [
            "\n",
            "\n",
            "  0%|          | 0/76 [00:00<?, ?it/s]\u001b[A\u001b[A\n",
            "\n",
            "100%|██████████| 76/76 [00:00<00:00, 591.13it/s]\n",
            " 71%|███████   | 127/180 [00:32<00:13,  3.86it/s]"
          ]
        },
        {
          "output_type": "stream",
          "name": "stdout",
          "text": [
            "\n",
            "Current test loss: 1.2371349334716797\n",
            "Current test acc: 0.32894736528396606%\n",
            "\n",
            "Epoch: 127\n",
            "======\n",
            "\n",
            "Current training loss: 0.5589531064033508\n",
            "Current training acc: 0.9934210777282715%\n",
            "\n"
          ]
        },
        {
          "output_type": "stream",
          "name": "stderr",
          "text": [
            "\n",
            "\n",
            "  0%|          | 0/76 [00:00<?, ?it/s]\u001b[A\u001b[A\n",
            "\n",
            "100%|██████████| 76/76 [00:00<00:00, 599.31it/s]\n",
            " 71%|███████   | 128/180 [00:32<00:13,  3.87it/s]"
          ]
        },
        {
          "output_type": "stream",
          "name": "stdout",
          "text": [
            "\n",
            "Current test loss: 1.2379649877548218\n",
            "Current test acc: 0.32894736528396606%\n",
            "\n",
            "Epoch: 128\n",
            "======\n",
            "\n",
            "Current training loss: 0.5589359998703003\n",
            "Current training acc: 0.9934210777282715%\n",
            "\n"
          ]
        },
        {
          "output_type": "stream",
          "name": "stderr",
          "text": [
            "\n",
            "\n",
            "  0%|          | 0/76 [00:00<?, ?it/s]\u001b[A\u001b[A\n",
            "\n",
            "100%|██████████| 76/76 [00:00<00:00, 571.68it/s]\n",
            " 72%|███████▏  | 129/180 [00:33<00:13,  3.88it/s]"
          ]
        },
        {
          "output_type": "stream",
          "name": "stdout",
          "text": [
            "\n",
            "Current test loss: 1.2389278411865234\n",
            "Current test acc: 0.32894736528396606%\n",
            "\n",
            "Epoch: 129\n",
            "======\n",
            "\n",
            "Current training loss: 0.5589200854301453\n",
            "Current training acc: 0.9934210777282715%\n",
            "\n"
          ]
        },
        {
          "output_type": "stream",
          "name": "stderr",
          "text": [
            "\n",
            "\n",
            "  0%|          | 0/76 [00:00<?, ?it/s]\u001b[A\u001b[A\n",
            "\n",
            "100%|██████████| 76/76 [00:00<00:00, 573.62it/s]\n",
            " 72%|███████▏  | 130/180 [00:33<00:12,  3.91it/s]"
          ]
        },
        {
          "output_type": "stream",
          "name": "stdout",
          "text": [
            "\n",
            "Current test loss: 1.2375587224960327\n",
            "Current test acc: 0.32894736528396606%\n",
            "\n",
            "Epoch: 130\n",
            "======\n",
            "\n",
            "Current training loss: 0.5589055418968201\n",
            "Current training acc: 0.9934210777282715%\n",
            "\n"
          ]
        },
        {
          "output_type": "stream",
          "name": "stderr",
          "text": [
            "\n",
            "\n",
            "  0%|          | 0/76 [00:00<?, ?it/s]\u001b[A\u001b[A\n",
            "\n",
            "100%|██████████| 76/76 [00:00<00:00, 584.89it/s]\n",
            " 73%|███████▎  | 131/180 [00:33<00:12,  3.83it/s]"
          ]
        },
        {
          "output_type": "stream",
          "name": "stdout",
          "text": [
            "\n",
            "Current test loss: 1.2391633987426758\n",
            "Current test acc: 0.32894736528396606%\n",
            "\n",
            "Epoch: 131\n",
            "======\n",
            "\n",
            "Current training loss: 0.5588882565498352\n",
            "Current training acc: 0.9934210777282715%\n",
            "\n"
          ]
        },
        {
          "output_type": "stream",
          "name": "stderr",
          "text": [
            "\n",
            "\n",
            "  0%|          | 0/76 [00:00<?, ?it/s]\u001b[A\u001b[A\n",
            "\n",
            "100%|██████████| 76/76 [00:00<00:00, 619.64it/s]\n",
            " 73%|███████▎  | 132/180 [00:33<00:12,  3.88it/s]"
          ]
        },
        {
          "output_type": "stream",
          "name": "stdout",
          "text": [
            "\n",
            "Current test loss: 1.2388285398483276\n",
            "Current test acc: 0.32894736528396606%\n",
            "\n",
            "Epoch: 132\n",
            "======\n",
            "\n",
            "Current training loss: 0.5588721036911011\n",
            "Current training acc: 0.9934210777282715%\n",
            "\n"
          ]
        },
        {
          "output_type": "stream",
          "name": "stderr",
          "text": [
            "\n",
            "\n",
            "  0%|          | 0/76 [00:00<?, ?it/s]\u001b[A\u001b[A\n",
            "\n",
            "100%|██████████| 76/76 [00:00<00:00, 577.34it/s]\n",
            " 74%|███████▍  | 133/180 [00:34<00:12,  3.89it/s]"
          ]
        },
        {
          "output_type": "stream",
          "name": "stdout",
          "text": [
            "\n",
            "Current test loss: 1.2380653619766235\n",
            "Current test acc: 0.32894736528396606%\n",
            "\n",
            "Epoch: 133\n",
            "======\n",
            "\n",
            "Current training loss: 0.5588568449020386\n",
            "Current training acc: 0.9934210777282715%\n",
            "\n"
          ]
        },
        {
          "output_type": "stream",
          "name": "stderr",
          "text": [
            "\n",
            "\n",
            "  0%|          | 0/76 [00:00<?, ?it/s]\u001b[A\u001b[A\n",
            "\n",
            "100%|██████████| 76/76 [00:00<00:00, 531.04it/s]\n",
            " 74%|███████▍  | 134/180 [00:34<00:12,  3.76it/s]"
          ]
        },
        {
          "output_type": "stream",
          "name": "stdout",
          "text": [
            "\n",
            "Current test loss: 1.2380062341690063\n",
            "Current test acc: 0.32894736528396606%\n",
            "\n",
            "Epoch: 134\n",
            "======\n",
            "\n",
            "Current training loss: 0.5588431358337402\n",
            "Current training acc: 0.9934210777282715%\n",
            "\n"
          ]
        },
        {
          "output_type": "stream",
          "name": "stderr",
          "text": [
            "\n",
            "\n",
            "  0%|          | 0/76 [00:00<?, ?it/s]\u001b[A\u001b[A\n",
            "\n",
            "100%|██████████| 76/76 [00:00<00:00, 567.31it/s]\n",
            " 75%|███████▌  | 135/180 [00:34<00:12,  3.72it/s]"
          ]
        },
        {
          "output_type": "stream",
          "name": "stdout",
          "text": [
            "\n",
            "Current test loss: 1.237958550453186\n",
            "Current test acc: 0.32894736528396606%\n",
            "\n",
            "Epoch: 135\n",
            "======\n",
            "\n",
            "Current training loss: 0.5588284730911255\n",
            "Current training acc: 0.9934210777282715%\n",
            "\n"
          ]
        },
        {
          "output_type": "stream",
          "name": "stderr",
          "text": [
            "\n",
            "\n",
            "  0%|          | 0/76 [00:00<?, ?it/s]\u001b[A\u001b[A\n",
            "\n",
            "100%|██████████| 76/76 [00:00<00:00, 594.48it/s]\n",
            " 76%|███████▌  | 136/180 [00:34<00:11,  3.77it/s]"
          ]
        },
        {
          "output_type": "stream",
          "name": "stdout",
          "text": [
            "\n",
            "Current test loss: 1.2384871244430542\n",
            "Current test acc: 0.32894736528396606%\n",
            "\n",
            "Epoch: 136\n",
            "======\n",
            "\n",
            "Current training loss: 0.5588144659996033\n",
            "Current training acc: 0.9934210777282715%\n",
            "\n"
          ]
        },
        {
          "output_type": "stream",
          "name": "stderr",
          "text": [
            "\n",
            "\n",
            "  0%|          | 0/76 [00:00<?, ?it/s]\u001b[A\u001b[A\n",
            "\n",
            "100%|██████████| 76/76 [00:00<00:00, 631.58it/s]\n",
            " 76%|███████▌  | 137/180 [00:35<00:11,  3.84it/s]"
          ]
        },
        {
          "output_type": "stream",
          "name": "stdout",
          "text": [
            "\n",
            "Current test loss: 1.2388246059417725\n",
            "Current test acc: 0.32894736528396606%\n",
            "\n",
            "Epoch: 137\n",
            "======\n",
            "\n",
            "Current training loss: 0.5588005781173706\n",
            "Current training acc: 0.9934210777282715%\n",
            "\n"
          ]
        },
        {
          "output_type": "stream",
          "name": "stderr",
          "text": [
            "\n",
            "\n",
            "  0%|          | 0/76 [00:00<?, ?it/s]\u001b[A\u001b[A\n",
            "\n",
            "100%|██████████| 76/76 [00:00<00:00, 587.87it/s]\n",
            " 77%|███████▋  | 138/180 [00:35<00:10,  3.87it/s]"
          ]
        },
        {
          "output_type": "stream",
          "name": "stdout",
          "text": [
            "\n",
            "Current test loss: 1.237335205078125\n",
            "Current test acc: 0.32894736528396606%\n",
            "\n",
            "Epoch: 138\n",
            "======\n",
            "\n",
            "Current training loss: 0.5587882995605469\n",
            "Current training acc: 0.9934210777282715%\n",
            "\n"
          ]
        },
        {
          "output_type": "stream",
          "name": "stderr",
          "text": [
            "\n",
            "\n",
            "  0%|          | 0/76 [00:00<?, ?it/s]\u001b[A\u001b[A\n",
            "\n",
            "100%|██████████| 76/76 [00:00<00:00, 568.15it/s]\n",
            " 77%|███████▋  | 139/180 [00:35<00:10,  3.81it/s]"
          ]
        },
        {
          "output_type": "stream",
          "name": "stdout",
          "text": [
            "\n",
            "Current test loss: 1.2387467622756958\n",
            "Current test acc: 0.32894736528396606%\n",
            "\n",
            "Epoch: 139\n",
            "======\n",
            "\n",
            "Current training loss: 0.5587765574455261\n",
            "Current training acc: 0.9934210777282715%\n",
            "\n"
          ]
        },
        {
          "output_type": "stream",
          "name": "stderr",
          "text": [
            "\n",
            "\n",
            "  0%|          | 0/76 [00:00<?, ?it/s]\u001b[A\u001b[A\n",
            "\n",
            "100%|██████████| 76/76 [00:00<00:00, 586.09it/s]\n",
            " 78%|███████▊  | 140/180 [00:35<00:10,  3.84it/s]"
          ]
        },
        {
          "output_type": "stream",
          "name": "stdout",
          "text": [
            "\n",
            "Current test loss: 1.2401779890060425\n",
            "Current test acc: 0.32894736528396606%\n",
            "\n",
            "Epoch: 140\n",
            "======\n",
            "\n",
            "Current training loss: 0.5587621331214905\n",
            "Current training acc: 0.9934210777282715%\n",
            "\n"
          ]
        },
        {
          "output_type": "stream",
          "name": "stderr",
          "text": [
            "\n",
            "\n",
            "  0%|          | 0/76 [00:00<?, ?it/s]\u001b[A\u001b[A\n",
            "\n",
            "100%|██████████| 76/76 [00:00<00:00, 637.47it/s]\n",
            " 78%|███████▊  | 141/180 [00:36<00:10,  3.84it/s]"
          ]
        },
        {
          "output_type": "stream",
          "name": "stdout",
          "text": [
            "\n",
            "Current test loss: 1.2392469644546509\n",
            "Current test acc: 0.32894736528396606%\n",
            "\n",
            "Epoch: 141\n",
            "======\n",
            "\n",
            "Current training loss: 0.5587490797042847\n",
            "Current training acc: 0.9934210777282715%\n",
            "\n"
          ]
        },
        {
          "output_type": "stream",
          "name": "stderr",
          "text": [
            "\n",
            "\n",
            "  0%|          | 0/76 [00:00<?, ?it/s]\u001b[A\u001b[A\n",
            "\n",
            "100%|██████████| 76/76 [00:00<00:00, 580.49it/s]\n",
            " 79%|███████▉  | 142/180 [00:36<00:09,  3.89it/s]"
          ]
        },
        {
          "output_type": "stream",
          "name": "stdout",
          "text": [
            "\n",
            "Current test loss: 1.238567590713501\n",
            "Current test acc: 0.32894736528396606%\n",
            "\n",
            "Epoch: 142\n",
            "======\n",
            "\n",
            "Current training loss: 0.5587369799613953\n",
            "Current training acc: 0.9934210777282715%\n",
            "\n"
          ]
        },
        {
          "output_type": "stream",
          "name": "stderr",
          "text": [
            "\n",
            "\n",
            "  0%|          | 0/76 [00:00<?, ?it/s]\u001b[A\u001b[A\n",
            "\n",
            "100%|██████████| 76/76 [00:00<00:00, 564.69it/s]\n",
            " 79%|███████▉  | 143/180 [00:36<00:09,  3.83it/s]"
          ]
        },
        {
          "output_type": "stream",
          "name": "stdout",
          "text": [
            "\n",
            "Current test loss: 1.238867998123169\n",
            "Current test acc: 0.32894736528396606%\n",
            "\n",
            "Epoch: 143\n",
            "======\n",
            "\n",
            "Current training loss: 0.5587248802185059\n",
            "Current training acc: 0.9934210777282715%\n",
            "\n"
          ]
        },
        {
          "output_type": "stream",
          "name": "stderr",
          "text": [
            "\n",
            "\n",
            "  0%|          | 0/76 [00:00<?, ?it/s]\u001b[A\u001b[A\n",
            "\n",
            "100%|██████████| 76/76 [00:00<00:00, 566.37it/s]\n",
            " 80%|████████  | 144/180 [00:36<00:09,  3.82it/s]"
          ]
        },
        {
          "output_type": "stream",
          "name": "stdout",
          "text": [
            "\n",
            "Current test loss: 1.2388191223144531\n",
            "Current test acc: 0.32894736528396606%\n",
            "\n",
            "Epoch: 144\n",
            "======\n",
            "\n",
            "Current training loss: 0.5587131381034851\n",
            "Current training acc: 0.9934210777282715%\n",
            "\n"
          ]
        },
        {
          "output_type": "stream",
          "name": "stderr",
          "text": [
            "\n",
            "\n",
            "  0%|          | 0/76 [00:00<?, ?it/s]\u001b[A\u001b[A\n",
            "\n",
            "100%|██████████| 76/76 [00:00<00:00, 574.82it/s]\n",
            " 81%|████████  | 145/180 [00:37<00:09,  3.80it/s]"
          ]
        },
        {
          "output_type": "stream",
          "name": "stdout",
          "text": [
            "\n",
            "Current test loss: 1.2388575077056885\n",
            "Current test acc: 0.32894736528396606%\n",
            "\n",
            "Epoch: 145\n",
            "======\n",
            "\n",
            "Current training loss: 0.5587011575698853\n",
            "Current training acc: 0.9934210777282715%\n",
            "\n"
          ]
        },
        {
          "output_type": "stream",
          "name": "stderr",
          "text": [
            "\n",
            "\n",
            "  0%|          | 0/76 [00:00<?, ?it/s]\u001b[A\u001b[A\n",
            "\n",
            "100%|██████████| 76/76 [00:00<00:00, 530.83it/s]\n",
            " 81%|████████  | 146/180 [00:37<00:09,  3.77it/s]"
          ]
        },
        {
          "output_type": "stream",
          "name": "stdout",
          "text": [
            "\n",
            "Current test loss: 1.2382416725158691\n",
            "Current test acc: 0.32894736528396606%\n",
            "\n",
            "Epoch: 146\n",
            "======\n",
            "\n",
            "Current training loss: 0.5586903691291809\n",
            "Current training acc: 0.9934210777282715%\n",
            "\n"
          ]
        },
        {
          "output_type": "stream",
          "name": "stderr",
          "text": [
            "\n",
            "\n",
            "  0%|          | 0/76 [00:00<?, ?it/s]\u001b[A\u001b[A\n",
            "\n",
            "100%|██████████| 76/76 [00:00<00:00, 597.32it/s]\n",
            " 82%|████████▏ | 147/180 [00:37<00:08,  3.69it/s]"
          ]
        },
        {
          "output_type": "stream",
          "name": "stdout",
          "text": [
            "\n",
            "Current test loss: 1.2374004125595093\n",
            "Current test acc: 0.32894736528396606%\n",
            "\n",
            "Epoch: 147\n",
            "======\n",
            "\n",
            "Current training loss: 0.5586814880371094\n",
            "Current training acc: 0.9934210777282715%\n",
            "\n"
          ]
        },
        {
          "output_type": "stream",
          "name": "stderr",
          "text": [
            "\n",
            "\n",
            "  0%|          | 0/76 [00:00<?, ?it/s]\u001b[A\u001b[A\n",
            "\n",
            "100%|██████████| 76/76 [00:00<00:00, 536.03it/s]\n",
            " 82%|████████▏ | 148/180 [00:38<00:08,  3.70it/s]"
          ]
        },
        {
          "output_type": "stream",
          "name": "stdout",
          "text": [
            "\n",
            "Current test loss: 1.2395070791244507\n",
            "Current test acc: 0.32894736528396606%\n",
            "\n",
            "Epoch: 148\n",
            "======\n",
            "\n",
            "Current training loss: 0.5586698651313782\n",
            "Current training acc: 0.9934210777282715%\n",
            "\n"
          ]
        },
        {
          "output_type": "stream",
          "name": "stderr",
          "text": [
            "\n",
            "\n",
            "  0%|          | 0/76 [00:00<?, ?it/s]\u001b[A\u001b[A\n",
            "\n",
            "100%|██████████| 76/76 [00:00<00:00, 592.73it/s]\n",
            " 83%|████████▎ | 149/180 [00:38<00:08,  3.74it/s]"
          ]
        },
        {
          "output_type": "stream",
          "name": "stdout",
          "text": [
            "\n",
            "Current test loss: 1.2398251295089722\n",
            "Current test acc: 0.32894736528396606%\n",
            "\n",
            "Epoch: 149\n",
            "======\n",
            "\n",
            "Current training loss: 0.5586585998535156\n",
            "Current training acc: 0.9934210777282715%\n",
            "\n"
          ]
        },
        {
          "output_type": "stream",
          "name": "stderr",
          "text": [
            "\n",
            "\n",
            "  0%|          | 0/76 [00:00<?, ?it/s]\u001b[A\u001b[A\n",
            "\n",
            "100%|██████████| 76/76 [00:00<00:00, 532.98it/s]\n",
            " 83%|████████▎ | 150/180 [00:38<00:07,  3.79it/s]"
          ]
        },
        {
          "output_type": "stream",
          "name": "stdout",
          "text": [
            "\n",
            "Current test loss: 1.238797903060913\n",
            "Current test acc: 0.32894736528396606%\n",
            "\n",
            "Epoch: 150\n",
            "======\n",
            "\n",
            "Current training loss: 0.5586476922035217\n",
            "Current training acc: 0.9934210777282715%\n",
            "\n"
          ]
        },
        {
          "output_type": "stream",
          "name": "stderr",
          "text": [
            "\n",
            "\n",
            "  0%|          | 0/76 [00:00<?, ?it/s]\u001b[A\u001b[A\n",
            "\n",
            "100%|██████████| 76/76 [00:00<00:00, 567.52it/s]\n",
            " 84%|████████▍ | 151/180 [00:38<00:07,  3.79it/s]"
          ]
        },
        {
          "output_type": "stream",
          "name": "stdout",
          "text": [
            "\n",
            "Current test loss: 1.2390131950378418\n",
            "Current test acc: 0.32894736528396606%\n",
            "\n",
            "Epoch: 151\n",
            "======\n",
            "\n",
            "Current training loss: 0.5586376190185547\n",
            "Current training acc: 0.9934210777282715%\n",
            "\n"
          ]
        },
        {
          "output_type": "stream",
          "name": "stderr",
          "text": [
            "\n",
            "\n",
            "  0%|          | 0/76 [00:00<?, ?it/s]\u001b[A\u001b[A\n",
            "\n",
            "100%|██████████| 76/76 [00:00<00:00, 533.10it/s]\n",
            " 84%|████████▍ | 152/180 [00:39<00:07,  3.80it/s]"
          ]
        },
        {
          "output_type": "stream",
          "name": "stdout",
          "text": [
            "\n",
            "Current test loss: 1.2392864227294922\n",
            "Current test acc: 0.32894736528396606%\n",
            "\n",
            "Epoch: 152\n",
            "======\n",
            "\n",
            "Current training loss: 0.5586279034614563\n",
            "Current training acc: 0.9934210777282715%\n",
            "\n"
          ]
        },
        {
          "output_type": "stream",
          "name": "stderr",
          "text": [
            "\n",
            "\n",
            "  0%|          | 0/76 [00:00<?, ?it/s]\u001b[A\u001b[A\n",
            "\n",
            "100%|██████████| 76/76 [00:00<00:00, 570.55it/s]\n",
            " 85%|████████▌ | 153/180 [00:39<00:07,  3.77it/s]"
          ]
        },
        {
          "output_type": "stream",
          "name": "stdout",
          "text": [
            "\n",
            "Current test loss: 1.2376492023468018\n",
            "Current test acc: 0.32894736528396606%\n",
            "\n",
            "Epoch: 153\n",
            "======\n",
            "\n",
            "Current training loss: 0.5586186647415161\n",
            "Current training acc: 0.9934210777282715%\n",
            "\n"
          ]
        },
        {
          "output_type": "stream",
          "name": "stderr",
          "text": [
            "\n",
            "\n",
            "  0%|          | 0/76 [00:00<?, ?it/s]\u001b[A\u001b[A\n",
            "\n",
            "100%|██████████| 76/76 [00:00<00:00, 533.64it/s]\n",
            " 86%|████████▌ | 154/180 [00:39<00:06,  3.74it/s]"
          ]
        },
        {
          "output_type": "stream",
          "name": "stdout",
          "text": [
            "\n",
            "Current test loss: 1.238632082939148\n",
            "Current test acc: 0.32894736528396606%\n",
            "\n",
            "Epoch: 154\n",
            "======\n",
            "\n",
            "Current training loss: 0.5586097836494446\n",
            "Current training acc: 0.9934210777282715%\n",
            "\n"
          ]
        },
        {
          "output_type": "stream",
          "name": "stderr",
          "text": [
            "\n",
            "\n",
            "  0%|          | 0/76 [00:00<?, ?it/s]\u001b[A\u001b[A\n",
            "\n",
            "100%|██████████| 76/76 [00:00<00:00, 581.39it/s]\n",
            " 86%|████████▌ | 155/180 [00:39<00:06,  3.75it/s]"
          ]
        },
        {
          "output_type": "stream",
          "name": "stdout",
          "text": [
            "\n",
            "Current test loss: 1.2397955656051636\n",
            "Current test acc: 0.32894736528396606%\n",
            "\n",
            "Epoch: 155\n",
            "======\n",
            "\n",
            "Current training loss: 0.5586000680923462\n",
            "Current training acc: 0.9934210777282715%\n",
            "\n"
          ]
        },
        {
          "output_type": "stream",
          "name": "stderr",
          "text": [
            "\n",
            "\n",
            "  0%|          | 0/76 [00:00<?, ?it/s]\u001b[A\u001b[A\n",
            "\n",
            "100%|██████████| 76/76 [00:00<00:00, 589.78it/s]\n",
            " 87%|████████▋ | 156/180 [00:40<00:06,  3.77it/s]"
          ]
        },
        {
          "output_type": "stream",
          "name": "stdout",
          "text": [
            "\n",
            "Current test loss: 1.2392383813858032\n",
            "Current test acc: 0.32894736528396606%\n",
            "\n",
            "Epoch: 156\n",
            "======\n",
            "\n",
            "Current training loss: 0.5585905313491821\n",
            "Current training acc: 0.9934210777282715%\n",
            "\n"
          ]
        },
        {
          "output_type": "stream",
          "name": "stderr",
          "text": [
            "\n",
            "\n",
            "  0%|          | 0/76 [00:00<?, ?it/s]\u001b[A\u001b[A\n",
            "\n",
            "100%|██████████| 76/76 [00:00<00:00, 572.30it/s]\n",
            " 87%|████████▋ | 157/180 [00:40<00:06,  3.78it/s]"
          ]
        },
        {
          "output_type": "stream",
          "name": "stdout",
          "text": [
            "\n",
            "Current test loss: 1.238917589187622\n",
            "Current test acc: 0.32894736528396606%\n",
            "\n",
            "Epoch: 157\n",
            "======\n",
            "\n",
            "Current training loss: 0.5585817098617554\n",
            "Current training acc: 0.9934210777282715%\n",
            "\n"
          ]
        },
        {
          "output_type": "stream",
          "name": "stderr",
          "text": [
            "\n",
            "\n",
            "  0%|          | 0/76 [00:00<?, ?it/s]\u001b[A\u001b[A\n",
            "\n",
            "100%|██████████| 76/76 [00:00<00:00, 559.16it/s]\n",
            " 88%|████████▊ | 158/180 [00:40<00:05,  3.73it/s]"
          ]
        },
        {
          "output_type": "stream",
          "name": "stdout",
          "text": [
            "\n",
            "Current test loss: 1.2390623092651367\n",
            "Current test acc: 0.32894736528396606%\n",
            "\n",
            "Epoch: 158\n",
            "======\n",
            "\n",
            "Current training loss: 0.5585730075836182\n",
            "Current training acc: 0.9934210777282715%\n",
            "\n"
          ]
        },
        {
          "output_type": "stream",
          "name": "stderr",
          "text": [
            "\n",
            "\n",
            "  0%|          | 0/76 [00:00<?, ?it/s]\u001b[A\u001b[A\n",
            "\n",
            "100%|██████████| 76/76 [00:00<00:00, 572.64it/s]\n",
            " 88%|████████▊ | 159/180 [00:40<00:05,  3.78it/s]"
          ]
        },
        {
          "output_type": "stream",
          "name": "stdout",
          "text": [
            "\n",
            "Current test loss: 1.2391787767410278\n",
            "Current test acc: 0.32894736528396606%\n",
            "\n",
            "Epoch: 159\n",
            "======\n",
            "\n",
            "Current training loss: 0.5585642457008362\n",
            "Current training acc: 0.9934210777282715%\n",
            "\n"
          ]
        },
        {
          "output_type": "stream",
          "name": "stderr",
          "text": [
            "\n",
            "\n",
            "  0%|          | 0/76 [00:00<?, ?it/s]\u001b[A\u001b[A\n",
            "\n",
            "100%|██████████| 76/76 [00:00<00:00, 549.38it/s]\n",
            " 89%|████████▉ | 160/180 [00:41<00:05,  3.76it/s]"
          ]
        },
        {
          "output_type": "stream",
          "name": "stdout",
          "text": [
            "\n",
            "Current test loss: 1.2383800745010376\n",
            "Current test acc: 0.32894736528396606%\n",
            "\n",
            "Epoch: 160\n",
            "======\n",
            "\n",
            "Current training loss: 0.5585570931434631\n",
            "Current training acc: 0.9934210777282715%\n",
            "\n"
          ]
        },
        {
          "output_type": "stream",
          "name": "stderr",
          "text": [
            "\n",
            "\n",
            "  0%|          | 0/76 [00:00<?, ?it/s]\u001b[A\u001b[A\n",
            "\n",
            "100%|██████████| 76/76 [00:00<00:00, 555.00it/s]\n",
            " 89%|████████▉ | 161/180 [00:41<00:05,  3.80it/s]"
          ]
        },
        {
          "output_type": "stream",
          "name": "stdout",
          "text": [
            "\n",
            "Current test loss: 1.239598274230957\n",
            "Current test acc: 0.32894736528396606%\n",
            "\n",
            "Epoch: 161\n",
            "======\n",
            "\n",
            "Current training loss: 0.5585482716560364\n",
            "Current training acc: 0.9934210777282715%\n",
            "\n"
          ]
        },
        {
          "output_type": "stream",
          "name": "stderr",
          "text": [
            "\n",
            "\n",
            "  0%|          | 0/76 [00:00<?, ?it/s]\u001b[A\u001b[A\n",
            "\n",
            "100%|██████████| 76/76 [00:00<00:00, 589.50it/s]\n",
            " 90%|█████████ | 162/180 [00:41<00:04,  3.82it/s]"
          ]
        },
        {
          "output_type": "stream",
          "name": "stdout",
          "text": [
            "\n",
            "Current test loss: 1.2389558553695679\n",
            "Current test acc: 0.32894736528396606%\n",
            "\n",
            "Epoch: 162\n",
            "======\n",
            "\n",
            "Current training loss: 0.5585399866104126\n",
            "Current training acc: 0.9934210777282715%\n",
            "\n"
          ]
        },
        {
          "output_type": "stream",
          "name": "stderr",
          "text": [
            "\n",
            "\n",
            "  0%|          | 0/76 [00:00<?, ?it/s]\u001b[A\u001b[A\n",
            "\n",
            "100%|██████████| 76/76 [00:00<00:00, 564.47it/s]\n",
            " 91%|█████████ | 163/180 [00:41<00:04,  3.82it/s]"
          ]
        },
        {
          "output_type": "stream",
          "name": "stdout",
          "text": [
            "\n",
            "Current test loss: 1.2383636236190796\n",
            "Current test acc: 0.32894736528396606%\n",
            "\n",
            "Epoch: 163\n",
            "======\n",
            "\n",
            "Current training loss: 0.5585326552391052\n",
            "Current training acc: 0.9934210777282715%\n",
            "\n"
          ]
        },
        {
          "output_type": "stream",
          "name": "stderr",
          "text": [
            "\n",
            "\n",
            "  0%|          | 0/76 [00:00<?, ?it/s]\u001b[A\u001b[A\n",
            "\n",
            "100%|██████████| 76/76 [00:00<00:00, 585.39it/s]\n",
            " 91%|█████████ | 164/180 [00:42<00:04,  3.83it/s]"
          ]
        },
        {
          "output_type": "stream",
          "name": "stdout",
          "text": [
            "\n",
            "Current test loss: 1.2387138605117798\n",
            "Current test acc: 0.32894736528396606%\n",
            "\n",
            "Epoch: 164\n",
            "======\n",
            "\n",
            "Current training loss: 0.5585246682167053\n",
            "Current training acc: 0.9934210777282715%\n",
            "\n"
          ]
        },
        {
          "output_type": "stream",
          "name": "stderr",
          "text": [
            "\n",
            "\n",
            "  0%|          | 0/76 [00:00<?, ?it/s]\u001b[A\u001b[A\n",
            "\n",
            "100%|██████████| 76/76 [00:00<00:00, 561.03it/s]\n",
            " 92%|█████████▏| 165/180 [00:42<00:03,  3.80it/s]"
          ]
        },
        {
          "output_type": "stream",
          "name": "stdout",
          "text": [
            "\n",
            "Current test loss: 1.23993980884552\n",
            "Current test acc: 0.32894736528396606%\n",
            "\n",
            "Epoch: 165\n",
            "======\n",
            "\n",
            "Current training loss: 0.558516263961792\n",
            "Current training acc: 0.9934210777282715%\n",
            "\n"
          ]
        },
        {
          "output_type": "stream",
          "name": "stderr",
          "text": [
            "\n",
            "\n",
            "  0%|          | 0/76 [00:00<?, ?it/s]\u001b[A\u001b[A\n",
            "\n",
            "100%|██████████| 76/76 [00:00<00:00, 565.35it/s]\n",
            " 92%|█████████▏| 166/180 [00:42<00:03,  3.76it/s]"
          ]
        },
        {
          "output_type": "stream",
          "name": "stdout",
          "text": [
            "\n",
            "Current test loss: 1.2391704320907593\n",
            "Current test acc: 0.32894736528396606%\n",
            "\n",
            "Epoch: 166\n",
            "======\n",
            "\n",
            "Current training loss: 0.558509886264801\n",
            "Current training acc: 0.9934210777282715%\n",
            "\n"
          ]
        },
        {
          "output_type": "stream",
          "name": "stderr",
          "text": [
            "\n",
            "\n",
            "  0%|          | 0/76 [00:00<?, ?it/s]\u001b[A\u001b[A\n",
            "\n",
            "100%|██████████| 76/76 [00:00<00:00, 576.24it/s]\n",
            " 93%|█████████▎| 167/180 [00:43<00:03,  3.79it/s]"
          ]
        },
        {
          "output_type": "stream",
          "name": "stdout",
          "text": [
            "\n",
            "Current test loss: 1.2397350072860718\n",
            "Current test acc: 0.32894736528396606%\n",
            "\n",
            "Epoch: 167\n",
            "======\n",
            "\n",
            "Current training loss: 0.558502197265625\n",
            "Current training acc: 0.9934210777282715%\n",
            "\n"
          ]
        },
        {
          "output_type": "stream",
          "name": "stderr",
          "text": [
            "\n",
            "\n",
            "  0%|          | 0/76 [00:00<?, ?it/s]\u001b[A\u001b[A\n",
            "\n",
            "100%|██████████| 76/76 [00:00<00:00, 608.03it/s]\n",
            " 93%|█████████▎| 168/180 [00:43<00:03,  3.84it/s]"
          ]
        },
        {
          "output_type": "stream",
          "name": "stdout",
          "text": [
            "\n",
            "Current test loss: 1.2397568225860596\n",
            "Current test acc: 0.32894736528396606%\n",
            "\n",
            "Epoch: 168\n",
            "======\n",
            "\n",
            "Current training loss: 0.558494508266449\n",
            "Current training acc: 0.9934210777282715%\n",
            "\n"
          ]
        },
        {
          "output_type": "stream",
          "name": "stderr",
          "text": [
            "\n",
            "\n",
            "  0%|          | 0/76 [00:00<?, ?it/s]\u001b[A\u001b[A\n",
            "\n",
            "100%|██████████| 76/76 [00:00<00:00, 611.01it/s]\n",
            " 94%|█████████▍| 169/180 [00:43<00:02,  3.86it/s]"
          ]
        },
        {
          "output_type": "stream",
          "name": "stdout",
          "text": [
            "\n",
            "Current test loss: 1.2390159368515015\n",
            "Current test acc: 0.32894736528396606%\n",
            "\n",
            "Epoch: 169\n",
            "======\n",
            "\n",
            "Current training loss: 0.5584874153137207\n",
            "Current training acc: 0.9934210777282715%\n",
            "\n"
          ]
        },
        {
          "output_type": "stream",
          "name": "stderr",
          "text": [
            "\n",
            "\n",
            "  0%|          | 0/76 [00:00<?, ?it/s]\u001b[A\u001b[A\n",
            "\n",
            "100%|██████████| 76/76 [00:00<00:00, 596.63it/s]\n",
            " 94%|█████████▍| 170/180 [00:43<00:02,  3.83it/s]"
          ]
        },
        {
          "output_type": "stream",
          "name": "stdout",
          "text": [
            "\n",
            "Current test loss: 1.239522099494934\n",
            "Current test acc: 0.32894736528396606%\n",
            "\n",
            "Epoch: 170\n",
            "======\n",
            "\n",
            "Current training loss: 0.5584803223609924\n",
            "Current training acc: 0.9934210777282715%\n",
            "\n"
          ]
        },
        {
          "output_type": "stream",
          "name": "stderr",
          "text": [
            "\n",
            "\n",
            "  0%|          | 0/76 [00:00<?, ?it/s]\u001b[A\u001b[A\n",
            "\n",
            "100%|██████████| 76/76 [00:00<00:00, 582.15it/s]\n",
            " 95%|█████████▌| 171/180 [00:44<00:02,  3.83it/s]"
          ]
        },
        {
          "output_type": "stream",
          "name": "stdout",
          "text": [
            "\n",
            "Current test loss: 1.2392818927764893\n",
            "Current test acc: 0.32894736528396606%\n",
            "\n",
            "Epoch: 171\n",
            "======\n",
            "\n",
            "Current training loss: 0.5584735870361328\n",
            "Current training acc: 0.9934210777282715%\n",
            "\n"
          ]
        },
        {
          "output_type": "stream",
          "name": "stderr",
          "text": [
            "\n",
            "\n",
            "  0%|          | 0/76 [00:00<?, ?it/s]\u001b[A\u001b[A\n",
            "\n",
            "100%|██████████| 76/76 [00:00<00:00, 593.32it/s]\n",
            " 96%|█████████▌| 172/180 [00:44<00:02,  3.81it/s]"
          ]
        },
        {
          "output_type": "stream",
          "name": "stdout",
          "text": [
            "\n",
            "Current test loss: 1.2387560606002808\n",
            "Current test acc: 0.32894736528396606%\n",
            "\n",
            "Epoch: 172\n",
            "======\n",
            "\n",
            "Current training loss: 0.5584675073623657\n",
            "Current training acc: 0.9934210777282715%\n",
            "\n"
          ]
        },
        {
          "output_type": "stream",
          "name": "stderr",
          "text": [
            "\n",
            "\n",
            "  0%|          | 0/76 [00:00<?, ?it/s]\u001b[A\u001b[A\n",
            "\n",
            "100%|██████████| 76/76 [00:00<00:00, 538.92it/s]\n",
            " 96%|█████████▌| 173/180 [00:44<00:01,  3.78it/s]"
          ]
        },
        {
          "output_type": "stream",
          "name": "stdout",
          "text": [
            "\n",
            "Current test loss: 1.2391300201416016\n",
            "Current test acc: 0.32894736528396606%\n",
            "\n",
            "Epoch: 173\n",
            "======\n",
            "\n",
            "Current training loss: 0.5584621429443359\n",
            "Current training acc: 0.9934210777282715%\n",
            "\n"
          ]
        },
        {
          "output_type": "stream",
          "name": "stderr",
          "text": [
            "\n",
            "\n",
            "  0%|          | 0/76 [00:00<?, ?it/s]\u001b[A\u001b[A\n",
            "\n",
            "100%|██████████| 76/76 [00:00<00:00, 596.45it/s]\n",
            " 97%|█████████▋| 174/180 [00:44<00:01,  3.82it/s]"
          ]
        },
        {
          "output_type": "stream",
          "name": "stdout",
          "text": [
            "\n",
            "Current test loss: 1.2403570413589478\n",
            "Current test acc: 0.32894736528396606%\n",
            "\n",
            "Epoch: 174\n",
            "======\n",
            "\n",
            "Current training loss: 0.5584545135498047\n",
            "Current training acc: 0.9934210777282715%\n",
            "\n"
          ]
        },
        {
          "output_type": "stream",
          "name": "stderr",
          "text": [
            "\n",
            "\n",
            "  0%|          | 0/76 [00:00<?, ?it/s]\u001b[A\u001b[A\n",
            "\n",
            "100%|██████████| 76/76 [00:00<00:00, 568.06it/s]\n",
            " 97%|█████████▋| 175/180 [00:45<00:01,  3.85it/s]"
          ]
        },
        {
          "output_type": "stream",
          "name": "stdout",
          "text": [
            "\n",
            "Current test loss: 1.2397338151931763\n",
            "Current test acc: 0.32894736528396606%\n",
            "\n",
            "Epoch: 175\n",
            "======\n",
            "\n",
            "Current training loss: 0.5584476590156555\n",
            "Current training acc: 0.9934210777282715%\n",
            "\n"
          ]
        },
        {
          "output_type": "stream",
          "name": "stderr",
          "text": [
            "\n",
            "\n",
            "  0%|          | 0/76 [00:00<?, ?it/s]\u001b[A\u001b[A\n",
            "\n",
            "100%|██████████| 76/76 [00:00<00:00, 607.87it/s]\n",
            " 98%|█████████▊| 176/180 [00:45<00:01,  3.86it/s]"
          ]
        },
        {
          "output_type": "stream",
          "name": "stdout",
          "text": [
            "\n",
            "Current test loss: 1.2391328811645508\n",
            "Current test acc: 0.32894736528396606%\n",
            "\n",
            "Epoch: 176\n",
            "======\n",
            "\n",
            "Current training loss: 0.5584415197372437\n",
            "Current training acc: 0.9934210777282715%\n",
            "\n"
          ]
        },
        {
          "output_type": "stream",
          "name": "stderr",
          "text": [
            "\n",
            "\n",
            "  0%|          | 0/76 [00:00<?, ?it/s]\u001b[A\u001b[A\n",
            "\n",
            "100%|██████████| 76/76 [00:00<00:00, 595.62it/s]\n",
            " 98%|█████████▊| 177/180 [00:45<00:00,  3.83it/s]"
          ]
        },
        {
          "output_type": "stream",
          "name": "stdout",
          "text": [
            "\n",
            "Current test loss: 1.239327311515808\n",
            "Current test acc: 0.32894736528396606%\n",
            "\n",
            "Epoch: 177\n",
            "======\n",
            "\n",
            "Current training loss: 0.5584350824356079\n",
            "Current training acc: 0.9934210777282715%\n",
            "\n"
          ]
        },
        {
          "output_type": "stream",
          "name": "stderr",
          "text": [
            "\n",
            "\n",
            "  0%|          | 0/76 [00:00<?, ?it/s]\u001b[A\u001b[A\n",
            "\n",
            "100%|██████████| 76/76 [00:00<00:00, 586.60it/s]\n",
            " 99%|█████████▉| 178/180 [00:45<00:00,  3.81it/s]"
          ]
        },
        {
          "output_type": "stream",
          "name": "stdout",
          "text": [
            "\n",
            "Current test loss: 1.239406943321228\n",
            "Current test acc: 0.32894736528396606%\n",
            "\n",
            "Epoch: 178\n",
            "======\n",
            "\n",
            "Current training loss: 0.5584292411804199\n",
            "Current training acc: 0.9934210777282715%\n",
            "\n"
          ]
        },
        {
          "output_type": "stream",
          "name": "stderr",
          "text": [
            "\n",
            "\n",
            "  0%|          | 0/76 [00:00<?, ?it/s]\u001b[A\u001b[A\n",
            "\n",
            "100%|██████████| 76/76 [00:00<00:00, 562.36it/s]\n",
            " 99%|█████████▉| 179/180 [00:46<00:00,  3.82it/s]"
          ]
        },
        {
          "output_type": "stream",
          "name": "stdout",
          "text": [
            "\n",
            "Current test loss: 1.238804817199707\n",
            "Current test acc: 0.32894736528396606%\n",
            "\n",
            "Epoch: 179\n",
            "======\n",
            "\n",
            "Current training loss: 0.5584236979484558\n",
            "Current training acc: 0.9934210777282715%\n",
            "\n"
          ]
        },
        {
          "output_type": "stream",
          "name": "stderr",
          "text": [
            "\n",
            "\n",
            "  0%|          | 0/76 [00:00<?, ?it/s]\u001b[A\u001b[A\n",
            "\n",
            "100%|██████████| 76/76 [00:00<00:00, 621.84it/s]\n",
            "100%|██████████| 180/180 [00:46<00:00,  3.88it/s]"
          ]
        },
        {
          "output_type": "stream",
          "name": "stdout",
          "text": [
            "\n",
            "Current test loss: 1.2394609451293945\n",
            "Current test acc: 0.32894736528396606%\n",
            "\n"
          ]
        },
        {
          "output_type": "stream",
          "name": "stderr",
          "text": [
            "\n"
          ]
        }
      ]
    },
    {
      "cell_type": "code",
      "source": [
        "model_deep_insight_evaluation = eval_model(deep_in_model,test_loader_tab2img,loss_fn_deep, acc_deep, device) # IT will create a dictionary with data"
      ],
      "metadata": {
        "colab": {
          "base_uri": "https://localhost:8080/"
        },
        "id": "pYGPBp7evItg",
        "outputId": "ccc71a5a-8cdb-46f2-e86a-e5b1e6831a52"
      },
      "execution_count": 161,
      "outputs": [
        {
          "output_type": "stream",
          "name": "stderr",
          "text": [
            "100%|██████████| 76/76 [00:00<00:00, 666.17it/s]\n"
          ]
        }
      ]
    },
    {
      "cell_type": "code",
      "source": [
        "deep_insight_preds = torch.stack(model_deep_insight_evaluation[\"model_preds\"]).squeeze().argmax(dim=1) ## hmmm some weird issue, cause it's downloading "
      ],
      "metadata": {
        "id": "Pf_PuLzhvsdw"
      },
      "execution_count": 162,
      "outputs": []
    },
    {
      "cell_type": "code",
      "source": [
        "deep_insight_acc = model_deep_insight_evaluation[\"model_acc\"]; deep_insight_acc"
      ],
      "metadata": {
        "colab": {
          "base_uri": "https://localhost:8080/"
        },
        "id": "c5Z0hnjdw5Vt",
        "outputId": "823d24e2-a67d-4341-f5c8-8832dc001a7d"
      },
      "execution_count": 163,
      "outputs": [
        {
          "output_type": "execute_result",
          "data": {
            "text/plain": [
              "0.32894736528396606"
            ]
          },
          "metadata": {},
          "execution_count": 163
        }
      ]
    },
    {
      "cell_type": "code",
      "source": [
        "deep_insight_compare, deep_insight_score = check_score(main, deep_insight_preds.numpy()) "
      ],
      "metadata": {
        "colab": {
          "base_uri": "https://localhost:8080/"
        },
        "id": "evBNauEQ0Wts",
        "outputId": "1cdbe4fb-999b-4307-a58c-1f20a8909682"
      },
      "execution_count": 164,
      "outputs": [
        {
          "output_type": "stream",
          "name": "stderr",
          "text": [
            "/usr/local/lib/python3.7/dist-packages/ipykernel_launcher.py:8: SettingWithCopyWarning: \n",
            "A value is trying to be set on a copy of a slice from a DataFrame\n",
            "\n",
            "See the caveats in the documentation: https://pandas.pydata.org/pandas-docs/stable/user_guide/indexing.html#returning-a-view-versus-a-copy\n",
            "  \n",
            "/usr/local/lib/python3.7/dist-packages/ipykernel_launcher.py:14: SettingWithCopyWarning: \n",
            "A value is trying to be set on a copy of a slice from a DataFrame.\n",
            "Try using .loc[row_indexer,col_indexer] = value instead\n",
            "\n",
            "See the caveats in the documentation: https://pandas.pydata.org/pandas-docs/stable/user_guide/indexing.html#returning-a-view-versus-a-copy\n",
            "  \n"
          ]
        }
      ]
    },
    {
      "cell_type": "code",
      "source": [
        "deep_insight_score #Even though we are more then two times lower on accuracy, we are quite high in the terms of the betting odds summary. It seems to be very interesting..."
      ],
      "metadata": {
        "colab": {
          "base_uri": "https://localhost:8080/"
        },
        "id": "TWBZbj6l0xfB",
        "outputId": "fa14ebb9-8d18-496e-83cd-eca047c8d9c2"
      },
      "execution_count": 165,
      "outputs": [
        {
          "output_type": "execute_result",
          "data": {
            "text/plain": [
              "79.32"
            ]
          },
          "metadata": {},
          "execution_count": 165
        }
      ]
    },
    {
      "cell_type": "code",
      "source": [
        "# Let's analyze this predictions a bit.\n",
        "deep_insight_compare.describe()"
      ],
      "metadata": {
        "colab": {
          "base_uri": "https://localhost:8080/",
          "height": 300
        },
        "id": "ozv0WI6V1dVD",
        "outputId": "84e1d910-c7ff-44de-801c-1e6033cc9539"
      },
      "execution_count": 166,
      "outputs": [
        {
          "output_type": "execute_result",
          "data": {
            "text/plain": [
              "             FTR  predictions       AvgH       AvgA       AvgD  score_odds\n",
              "count  35.000000    35.000000  35.000000  35.000000  35.000000   35.000000\n",
              "mean    0.628571     0.628571   2.994857   6.190286   4.795429    2.266286\n",
              "std     0.731063     0.731063   2.486951   5.525477   1.500265    1.292720\n",
              "min     0.000000     0.000000   1.160000   1.260000   3.090000    1.160000\n",
              "25%     0.000000     0.000000   1.405000   2.320000   3.555000    1.385000\n",
              "50%     0.000000     0.000000   2.170000   3.590000   4.370000    1.760000\n",
              "75%     1.000000     1.000000   3.275000   7.870000   5.285000    2.705000\n",
              "max     2.000000     2.000000  11.190000  18.950000   8.180000    6.350000"
            ],
            "text/html": [
              "\n",
              "  <div id=\"df-03897b16-5ccf-4f49-9e29-71301684c3c9\">\n",
              "    <div class=\"colab-df-container\">\n",
              "      <div>\n",
              "<style scoped>\n",
              "    .dataframe tbody tr th:only-of-type {\n",
              "        vertical-align: middle;\n",
              "    }\n",
              "\n",
              "    .dataframe tbody tr th {\n",
              "        vertical-align: top;\n",
              "    }\n",
              "\n",
              "    .dataframe thead th {\n",
              "        text-align: right;\n",
              "    }\n",
              "</style>\n",
              "<table border=\"1\" class=\"dataframe\">\n",
              "  <thead>\n",
              "    <tr style=\"text-align: right;\">\n",
              "      <th></th>\n",
              "      <th>FTR</th>\n",
              "      <th>predictions</th>\n",
              "      <th>AvgH</th>\n",
              "      <th>AvgA</th>\n",
              "      <th>AvgD</th>\n",
              "      <th>score_odds</th>\n",
              "    </tr>\n",
              "  </thead>\n",
              "  <tbody>\n",
              "    <tr>\n",
              "      <th>count</th>\n",
              "      <td>35.000000</td>\n",
              "      <td>35.000000</td>\n",
              "      <td>35.000000</td>\n",
              "      <td>35.000000</td>\n",
              "      <td>35.000000</td>\n",
              "      <td>35.000000</td>\n",
              "    </tr>\n",
              "    <tr>\n",
              "      <th>mean</th>\n",
              "      <td>0.628571</td>\n",
              "      <td>0.628571</td>\n",
              "      <td>2.994857</td>\n",
              "      <td>6.190286</td>\n",
              "      <td>4.795429</td>\n",
              "      <td>2.266286</td>\n",
              "    </tr>\n",
              "    <tr>\n",
              "      <th>std</th>\n",
              "      <td>0.731063</td>\n",
              "      <td>0.731063</td>\n",
              "      <td>2.486951</td>\n",
              "      <td>5.525477</td>\n",
              "      <td>1.500265</td>\n",
              "      <td>1.292720</td>\n",
              "    </tr>\n",
              "    <tr>\n",
              "      <th>min</th>\n",
              "      <td>0.000000</td>\n",
              "      <td>0.000000</td>\n",
              "      <td>1.160000</td>\n",
              "      <td>1.260000</td>\n",
              "      <td>3.090000</td>\n",
              "      <td>1.160000</td>\n",
              "    </tr>\n",
              "    <tr>\n",
              "      <th>25%</th>\n",
              "      <td>0.000000</td>\n",
              "      <td>0.000000</td>\n",
              "      <td>1.405000</td>\n",
              "      <td>2.320000</td>\n",
              "      <td>3.555000</td>\n",
              "      <td>1.385000</td>\n",
              "    </tr>\n",
              "    <tr>\n",
              "      <th>50%</th>\n",
              "      <td>0.000000</td>\n",
              "      <td>0.000000</td>\n",
              "      <td>2.170000</td>\n",
              "      <td>3.590000</td>\n",
              "      <td>4.370000</td>\n",
              "      <td>1.760000</td>\n",
              "    </tr>\n",
              "    <tr>\n",
              "      <th>75%</th>\n",
              "      <td>1.000000</td>\n",
              "      <td>1.000000</td>\n",
              "      <td>3.275000</td>\n",
              "      <td>7.870000</td>\n",
              "      <td>5.285000</td>\n",
              "      <td>2.705000</td>\n",
              "    </tr>\n",
              "    <tr>\n",
              "      <th>max</th>\n",
              "      <td>2.000000</td>\n",
              "      <td>2.000000</td>\n",
              "      <td>11.190000</td>\n",
              "      <td>18.950000</td>\n",
              "      <td>8.180000</td>\n",
              "      <td>6.350000</td>\n",
              "    </tr>\n",
              "  </tbody>\n",
              "</table>\n",
              "</div>\n",
              "      <button class=\"colab-df-convert\" onclick=\"convertToInteractive('df-03897b16-5ccf-4f49-9e29-71301684c3c9')\"\n",
              "              title=\"Convert this dataframe to an interactive table.\"\n",
              "              style=\"display:none;\">\n",
              "        \n",
              "  <svg xmlns=\"http://www.w3.org/2000/svg\" height=\"24px\"viewBox=\"0 0 24 24\"\n",
              "       width=\"24px\">\n",
              "    <path d=\"M0 0h24v24H0V0z\" fill=\"none\"/>\n",
              "    <path d=\"M18.56 5.44l.94 2.06.94-2.06 2.06-.94-2.06-.94-.94-2.06-.94 2.06-2.06.94zm-11 1L8.5 8.5l.94-2.06 2.06-.94-2.06-.94L8.5 2.5l-.94 2.06-2.06.94zm10 10l.94 2.06.94-2.06 2.06-.94-2.06-.94-.94-2.06-.94 2.06-2.06.94z\"/><path d=\"M17.41 7.96l-1.37-1.37c-.4-.4-.92-.59-1.43-.59-.52 0-1.04.2-1.43.59L10.3 9.45l-7.72 7.72c-.78.78-.78 2.05 0 2.83L4 21.41c.39.39.9.59 1.41.59.51 0 1.02-.2 1.41-.59l7.78-7.78 2.81-2.81c.8-.78.8-2.07 0-2.86zM5.41 20L4 18.59l7.72-7.72 1.47 1.35L5.41 20z\"/>\n",
              "  </svg>\n",
              "      </button>\n",
              "      \n",
              "  <style>\n",
              "    .colab-df-container {\n",
              "      display:flex;\n",
              "      flex-wrap:wrap;\n",
              "      gap: 12px;\n",
              "    }\n",
              "\n",
              "    .colab-df-convert {\n",
              "      background-color: #E8F0FE;\n",
              "      border: none;\n",
              "      border-radius: 50%;\n",
              "      cursor: pointer;\n",
              "      display: none;\n",
              "      fill: #1967D2;\n",
              "      height: 32px;\n",
              "      padding: 0 0 0 0;\n",
              "      width: 32px;\n",
              "    }\n",
              "\n",
              "    .colab-df-convert:hover {\n",
              "      background-color: #E2EBFA;\n",
              "      box-shadow: 0px 1px 2px rgba(60, 64, 67, 0.3), 0px 1px 3px 1px rgba(60, 64, 67, 0.15);\n",
              "      fill: #174EA6;\n",
              "    }\n",
              "\n",
              "    [theme=dark] .colab-df-convert {\n",
              "      background-color: #3B4455;\n",
              "      fill: #D2E3FC;\n",
              "    }\n",
              "\n",
              "    [theme=dark] .colab-df-convert:hover {\n",
              "      background-color: #434B5C;\n",
              "      box-shadow: 0px 1px 3px 1px rgba(0, 0, 0, 0.15);\n",
              "      filter: drop-shadow(0px 1px 2px rgba(0, 0, 0, 0.3));\n",
              "      fill: #FFFFFF;\n",
              "    }\n",
              "  </style>\n",
              "\n",
              "      <script>\n",
              "        const buttonEl =\n",
              "          document.querySelector('#df-03897b16-5ccf-4f49-9e29-71301684c3c9 button.colab-df-convert');\n",
              "        buttonEl.style.display =\n",
              "          google.colab.kernel.accessAllowed ? 'block' : 'none';\n",
              "\n",
              "        async function convertToInteractive(key) {\n",
              "          const element = document.querySelector('#df-03897b16-5ccf-4f49-9e29-71301684c3c9');\n",
              "          const dataTable =\n",
              "            await google.colab.kernel.invokeFunction('convertToInteractive',\n",
              "                                                     [key], {});\n",
              "          if (!dataTable) return;\n",
              "\n",
              "          const docLinkHtml = 'Like what you see? Visit the ' +\n",
              "            '<a target=\"_blank\" href=https://colab.research.google.com/notebooks/data_table.ipynb>data table notebook</a>'\n",
              "            + ' to learn more about interactive tables.';\n",
              "          element.innerHTML = '';\n",
              "          dataTable['output_type'] = 'display_data';\n",
              "          await google.colab.output.renderOutput(dataTable, element);\n",
              "          const docLink = document.createElement('div');\n",
              "          docLink.innerHTML = docLinkHtml;\n",
              "          element.appendChild(docLink);\n",
              "        }\n",
              "      </script>\n",
              "    </div>\n",
              "  </div>\n",
              "  "
            ]
          },
          "metadata": {},
          "execution_count": 166
        }
      ]
    },
    {
      "cell_type": "code",
      "source": [
        "avg_odds_per_bet_di = deep_insight_compare.describe().loc[\"mean\"][\"score_odds\"]"
      ],
      "metadata": {
        "id": "VCkyReNs2Bua"
      },
      "execution_count": 167,
      "outputs": []
    },
    {
      "cell_type": "markdown",
      "source": [
        "# PyTorch Tab2Img / DeepInsight results\n",
        "Algorithm perfectly overfitted the data, but when casted upon the test data somehow predicted properly games with the highest avg odds...\n",
        "Even weirder is that I ran it a couple of times and it kept guessing properly those high odd games. The score was ranging from 68 to 86!"
      ],
      "metadata": {
        "id": "09ECmlTM2DRG"
      }
    },
    {
      "cell_type": "markdown",
      "source": [
        "# Summary\n",
        "\n",
        "The aim of this notebook was to compare four baseline models, and how far we are from beating the bookkeepers. Without tuning, with close to default hyperparams, we have the following output."
      ],
      "metadata": {
        "id": "oYUCrNGUbStX"
      }
    },
    {
      "cell_type": "code",
      "source": [
        "compare_dict = {\"TabNet\":{\"score\":score_tabnet,\n",
        "                        \"acc\":tabnet_accuracy,\n",
        "                        \"avg_odds\":avg_odds_per_bet_tabnet},\n",
        "              \"XGB\":{\"score\":score_xgb,\n",
        "                        \"acc\":xgboost_acc_test,\n",
        "                     \"avg_odds\":avg_odds_per_bet_xgb},\n",
        "              \"RandomForest\":{\"score\":score_rf,\n",
        "                        \"acc\":rf_acc,\n",
        "                        \"avg_odds\":avg_odds_per_bet_rf},\n",
        "                \"DeepInsight\":{\"score\":deep_insight_score,\n",
        "                        \"acc\":deep_insight_acc,\n",
        "                        \"avg_odds\":avg_odds_per_bet_di},\n",
        "                \"TargetValues\":{\"score\":76,\n",
        "                        \"acc\":round(1/sum_of_odds*100, 4)}}\n",
        "\n",
        "\n",
        "compare_df = pd.DataFrame.from_dict(compare_dict).T ; compare_df"
      ],
      "metadata": {
        "colab": {
          "base_uri": "https://localhost:8080/",
          "height": 206
        },
        "id": "WucwxDHzHi1K",
        "outputId": "b5f3242f-0369-4417-a65c-c1916b597ec5"
      },
      "execution_count": 169,
      "outputs": [
        {
          "output_type": "execute_result",
          "data": {
            "text/plain": [
              "              score        acc  avg_odds\n",
              "TabNet        86.10   0.592105  1.913333\n",
              "XGB           75.53   0.552632  1.798333\n",
              "RandomForest  73.40   0.539474  1.790244\n",
              "DeepInsight   79.32   0.328947  2.266286\n",
              "TargetValues  76.00  53.151900       NaN"
            ],
            "text/html": [
              "\n",
              "  <div id=\"df-0b9170ee-9c2a-4aba-9667-c51538004022\">\n",
              "    <div class=\"colab-df-container\">\n",
              "      <div>\n",
              "<style scoped>\n",
              "    .dataframe tbody tr th:only-of-type {\n",
              "        vertical-align: middle;\n",
              "    }\n",
              "\n",
              "    .dataframe tbody tr th {\n",
              "        vertical-align: top;\n",
              "    }\n",
              "\n",
              "    .dataframe thead th {\n",
              "        text-align: right;\n",
              "    }\n",
              "</style>\n",
              "<table border=\"1\" class=\"dataframe\">\n",
              "  <thead>\n",
              "    <tr style=\"text-align: right;\">\n",
              "      <th></th>\n",
              "      <th>score</th>\n",
              "      <th>acc</th>\n",
              "      <th>avg_odds</th>\n",
              "    </tr>\n",
              "  </thead>\n",
              "  <tbody>\n",
              "    <tr>\n",
              "      <th>TabNet</th>\n",
              "      <td>86.10</td>\n",
              "      <td>0.592105</td>\n",
              "      <td>1.913333</td>\n",
              "    </tr>\n",
              "    <tr>\n",
              "      <th>XGB</th>\n",
              "      <td>75.53</td>\n",
              "      <td>0.552632</td>\n",
              "      <td>1.798333</td>\n",
              "    </tr>\n",
              "    <tr>\n",
              "      <th>RandomForest</th>\n",
              "      <td>73.40</td>\n",
              "      <td>0.539474</td>\n",
              "      <td>1.790244</td>\n",
              "    </tr>\n",
              "    <tr>\n",
              "      <th>DeepInsight</th>\n",
              "      <td>79.32</td>\n",
              "      <td>0.328947</td>\n",
              "      <td>2.266286</td>\n",
              "    </tr>\n",
              "    <tr>\n",
              "      <th>TargetValues</th>\n",
              "      <td>76.00</td>\n",
              "      <td>53.151900</td>\n",
              "      <td>NaN</td>\n",
              "    </tr>\n",
              "  </tbody>\n",
              "</table>\n",
              "</div>\n",
              "      <button class=\"colab-df-convert\" onclick=\"convertToInteractive('df-0b9170ee-9c2a-4aba-9667-c51538004022')\"\n",
              "              title=\"Convert this dataframe to an interactive table.\"\n",
              "              style=\"display:none;\">\n",
              "        \n",
              "  <svg xmlns=\"http://www.w3.org/2000/svg\" height=\"24px\"viewBox=\"0 0 24 24\"\n",
              "       width=\"24px\">\n",
              "    <path d=\"M0 0h24v24H0V0z\" fill=\"none\"/>\n",
              "    <path d=\"M18.56 5.44l.94 2.06.94-2.06 2.06-.94-2.06-.94-.94-2.06-.94 2.06-2.06.94zm-11 1L8.5 8.5l.94-2.06 2.06-.94-2.06-.94L8.5 2.5l-.94 2.06-2.06.94zm10 10l.94 2.06.94-2.06 2.06-.94-2.06-.94-.94-2.06-.94 2.06-2.06.94z\"/><path d=\"M17.41 7.96l-1.37-1.37c-.4-.4-.92-.59-1.43-.59-.52 0-1.04.2-1.43.59L10.3 9.45l-7.72 7.72c-.78.78-.78 2.05 0 2.83L4 21.41c.39.39.9.59 1.41.59.51 0 1.02-.2 1.41-.59l7.78-7.78 2.81-2.81c.8-.78.8-2.07 0-2.86zM5.41 20L4 18.59l7.72-7.72 1.47 1.35L5.41 20z\"/>\n",
              "  </svg>\n",
              "      </button>\n",
              "      \n",
              "  <style>\n",
              "    .colab-df-container {\n",
              "      display:flex;\n",
              "      flex-wrap:wrap;\n",
              "      gap: 12px;\n",
              "    }\n",
              "\n",
              "    .colab-df-convert {\n",
              "      background-color: #E8F0FE;\n",
              "      border: none;\n",
              "      border-radius: 50%;\n",
              "      cursor: pointer;\n",
              "      display: none;\n",
              "      fill: #1967D2;\n",
              "      height: 32px;\n",
              "      padding: 0 0 0 0;\n",
              "      width: 32px;\n",
              "    }\n",
              "\n",
              "    .colab-df-convert:hover {\n",
              "      background-color: #E2EBFA;\n",
              "      box-shadow: 0px 1px 2px rgba(60, 64, 67, 0.3), 0px 1px 3px 1px rgba(60, 64, 67, 0.15);\n",
              "      fill: #174EA6;\n",
              "    }\n",
              "\n",
              "    [theme=dark] .colab-df-convert {\n",
              "      background-color: #3B4455;\n",
              "      fill: #D2E3FC;\n",
              "    }\n",
              "\n",
              "    [theme=dark] .colab-df-convert:hover {\n",
              "      background-color: #434B5C;\n",
              "      box-shadow: 0px 1px 3px 1px rgba(0, 0, 0, 0.15);\n",
              "      filter: drop-shadow(0px 1px 2px rgba(0, 0, 0, 0.3));\n",
              "      fill: #FFFFFF;\n",
              "    }\n",
              "  </style>\n",
              "\n",
              "      <script>\n",
              "        const buttonEl =\n",
              "          document.querySelector('#df-0b9170ee-9c2a-4aba-9667-c51538004022 button.colab-df-convert');\n",
              "        buttonEl.style.display =\n",
              "          google.colab.kernel.accessAllowed ? 'block' : 'none';\n",
              "\n",
              "        async function convertToInteractive(key) {\n",
              "          const element = document.querySelector('#df-0b9170ee-9c2a-4aba-9667-c51538004022');\n",
              "          const dataTable =\n",
              "            await google.colab.kernel.invokeFunction('convertToInteractive',\n",
              "                                                     [key], {});\n",
              "          if (!dataTable) return;\n",
              "\n",
              "          const docLinkHtml = 'Like what you see? Visit the ' +\n",
              "            '<a target=\"_blank\" href=https://colab.research.google.com/notebooks/data_table.ipynb>data table notebook</a>'\n",
              "            + ' to learn more about interactive tables.';\n",
              "          element.innerHTML = '';\n",
              "          dataTable['output_type'] = 'display_data';\n",
              "          await google.colab.output.renderOutput(dataTable, element);\n",
              "          const docLink = document.createElement('div');\n",
              "          docLink.innerHTML = docLinkHtml;\n",
              "          element.appendChild(docLink);\n",
              "        }\n",
              "      </script>\n",
              "    </div>\n",
              "  </div>\n",
              "  "
            ]
          },
          "metadata": {},
          "execution_count": 169
        }
      ]
    },
    {
      "cell_type": "markdown",
      "source": [
        "## TabNet we may consider already working Proof of Concept\n",
        "With baseline TabNet params we are close to guessing 2 out of 3 games, so it's a very good start. But there is absolutely something worthy consideration in this DeepInsight approach. Maybe upscaling, maybe adding some layers, maybe some data manipulation and transormations... \n",
        "\n",
        "Nevertheless - it was all about understanding the baseline, and here we go - the baseline is already working Proof of Concept!"
      ],
      "metadata": {
        "id": "x5OICtifvrYF"
      }
    },
    {
      "cell_type": "code",
      "source": [],
      "metadata": {
        "id": "j8Eps-Jw4KIR"
      },
      "execution_count": null,
      "outputs": []
    }
  ]
}
